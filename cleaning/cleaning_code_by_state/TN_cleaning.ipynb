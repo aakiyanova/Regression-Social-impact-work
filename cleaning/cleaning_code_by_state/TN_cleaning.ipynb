{
 "cells": [
  {
   "cell_type": "code",
   "execution_count": 1,
   "id": "talented-blogger",
   "metadata": {},
   "outputs": [],
   "source": [
    "import warnings\n",
    "warnings.filterwarnings('ignore')"
   ]
  },
  {
   "cell_type": "code",
   "execution_count": 2,
   "id": "everyday-emperor",
   "metadata": {},
   "outputs": [],
   "source": [
    "import pandas as pd\n",
    "import numpy as np"
   ]
  },
  {
   "cell_type": "code",
   "execution_count": 3,
   "id": "victorian-female",
   "metadata": {},
   "outputs": [],
   "source": [
    "abbr = 'TN'"
   ]
  },
  {
   "cell_type": "code",
   "execution_count": 4,
   "id": "painted-memorabilia",
   "metadata": {},
   "outputs": [],
   "source": [
    "file = 'tennessee2018.xlsx'"
   ]
  },
  {
   "cell_type": "markdown",
   "id": "compressed-hormone",
   "metadata": {},
   "source": [
    "Read in federal level data"
   ]
  },
  {
   "cell_type": "code",
   "execution_count": 5,
   "id": "honest-disclosure",
   "metadata": {},
   "outputs": [],
   "source": [
    "fiscal = pd.read_sas('../../data/fiscal2018', format = 'sas7bdat', encoding='iso-8859-1')"
   ]
  },
  {
   "cell_type": "markdown",
   "id": "bigger-yemen",
   "metadata": {},
   "source": [
    "Generate list of districts in the state in the federal data"
   ]
  },
  {
   "cell_type": "code",
   "execution_count": 66,
   "id": "arranged-commonwealth",
   "metadata": {},
   "outputs": [],
   "source": [
    "state_fiscal = fiscal[(fiscal['STABBR'] == abbr) & (fiscal['GSHI'] == '12')]"
   ]
  },
  {
   "cell_type": "code",
   "execution_count": 67,
   "id": "obvious-discovery",
   "metadata": {},
   "outputs": [
    {
     "data": {
      "text/plain": [
       "129"
      ]
     },
     "execution_count": 67,
     "metadata": {},
     "output_type": "execute_result"
    }
   ],
   "source": [
    "len(state_fiscal)"
   ]
  },
  {
   "cell_type": "markdown",
   "id": "republican-installation",
   "metadata": {},
   "source": [
    "Read in state level data"
   ]
  },
  {
   "cell_type": "code",
   "execution_count": 47,
   "id": "russian-value",
   "metadata": {},
   "outputs": [],
   "source": [
    "state_grads = pd.read_excel('../../data/state_data_raw/' + file, sheet_name='grad_rate')"
   ]
  },
  {
   "cell_type": "code",
   "execution_count": 48,
   "id": "proper-gentleman",
   "metadata": {},
   "outputs": [
    {
     "data": {
      "text/html": [
       "<div>\n",
       "<style scoped>\n",
       "    .dataframe tbody tr th:only-of-type {\n",
       "        vertical-align: middle;\n",
       "    }\n",
       "\n",
       "    .dataframe tbody tr th {\n",
       "        vertical-align: top;\n",
       "    }\n",
       "\n",
       "    .dataframe thead th {\n",
       "        text-align: right;\n",
       "    }\n",
       "</style>\n",
       "<table border=\"1\" class=\"dataframe\">\n",
       "  <thead>\n",
       "    <tr style=\"text-align: right;\">\n",
       "      <th></th>\n",
       "      <th>district_number</th>\n",
       "      <th>district_name</th>\n",
       "      <th>school_number</th>\n",
       "      <th>school_name</th>\n",
       "      <th>year</th>\n",
       "      <th>subgroup</th>\n",
       "      <th>denominator</th>\n",
       "      <th>grad_rate</th>\n",
       "      <th>grad_rate_previous</th>\n",
       "      <th>baseline_year</th>\n",
       "    </tr>\n",
       "  </thead>\n",
       "  <tbody>\n",
       "    <tr>\n",
       "      <th>0</th>\n",
       "      <td>0</td>\n",
       "      <td>State of Tennessee</td>\n",
       "      <td>0</td>\n",
       "      <td>NaN</td>\n",
       "      <td>2017</td>\n",
       "      <td>All Students</td>\n",
       "      <td>71505.0</td>\n",
       "      <td>89.1</td>\n",
       "      <td>88.5</td>\n",
       "      <td>2016.0</td>\n",
       "    </tr>\n",
       "    <tr>\n",
       "      <th>1</th>\n",
       "      <td>0</td>\n",
       "      <td>State of Tennessee</td>\n",
       "      <td>0</td>\n",
       "      <td>NaN</td>\n",
       "      <td>2017</td>\n",
       "      <td>Black/Hispanic/Native</td>\n",
       "      <td>22991.0</td>\n",
       "      <td>83.0</td>\n",
       "      <td>82.6</td>\n",
       "      <td>2016.0</td>\n",
       "    </tr>\n",
       "    <tr>\n",
       "      <th>2</th>\n",
       "      <td>0</td>\n",
       "      <td>State of Tennessee</td>\n",
       "      <td>0</td>\n",
       "      <td>NaN</td>\n",
       "      <td>2017</td>\n",
       "      <td>Economically Disadvantaged</td>\n",
       "      <td>23539.0</td>\n",
       "      <td>83.7</td>\n",
       "      <td>85.5</td>\n",
       "      <td>2016.0</td>\n",
       "    </tr>\n",
       "    <tr>\n",
       "      <th>3</th>\n",
       "      <td>0</td>\n",
       "      <td>State of Tennessee</td>\n",
       "      <td>0</td>\n",
       "      <td>NaN</td>\n",
       "      <td>2017</td>\n",
       "      <td>English Learners</td>\n",
       "      <td>2180.0</td>\n",
       "      <td>73.3</td>\n",
       "      <td>75.6</td>\n",
       "      <td>2016.0</td>\n",
       "    </tr>\n",
       "    <tr>\n",
       "      <th>4</th>\n",
       "      <td>0</td>\n",
       "      <td>State of Tennessee</td>\n",
       "      <td>0</td>\n",
       "      <td>NaN</td>\n",
       "      <td>2017</td>\n",
       "      <td>Foster</td>\n",
       "      <td>0.0</td>\n",
       "      <td>*</td>\n",
       "      <td>*</td>\n",
       "      <td>NaN</td>\n",
       "    </tr>\n",
       "  </tbody>\n",
       "</table>\n",
       "</div>"
      ],
      "text/plain": [
       "   district_number       district_name  school_number school_name  year  \\\n",
       "0                0  State of Tennessee              0         NaN  2017   \n",
       "1                0  State of Tennessee              0         NaN  2017   \n",
       "2                0  State of Tennessee              0         NaN  2017   \n",
       "3                0  State of Tennessee              0         NaN  2017   \n",
       "4                0  State of Tennessee              0         NaN  2017   \n",
       "\n",
       "                     subgroup  denominator grad_rate grad_rate_previous  \\\n",
       "0                All Students      71505.0      89.1               88.5   \n",
       "1       Black/Hispanic/Native      22991.0      83.0               82.6   \n",
       "2  Economically Disadvantaged      23539.0      83.7               85.5   \n",
       "3            English Learners       2180.0      73.3               75.6   \n",
       "4                      Foster          0.0         *                  *   \n",
       "\n",
       "   baseline_year  \n",
       "0         2016.0  \n",
       "1         2016.0  \n",
       "2         2016.0  \n",
       "3         2016.0  \n",
       "4            NaN  "
      ]
     },
     "execution_count": 48,
     "metadata": {},
     "output_type": "execute_result"
    }
   ],
   "source": [
    "state_grads.head()"
   ]
  },
  {
   "cell_type": "markdown",
   "id": "eight-poison",
   "metadata": {},
   "source": [
    "Reset columns."
   ]
  },
  {
   "cell_type": "code",
   "execution_count": 10,
   "id": "czech-default",
   "metadata": {},
   "outputs": [],
   "source": [
    "# state_grads.columns = state_grads.loc[0]\n",
    "# state_grads = state_grads.loc[1:]"
   ]
  },
  {
   "cell_type": "markdown",
   "id": "animal-medicine",
   "metadata": {},
   "source": [
    "Filter results."
   ]
  },
  {
   "cell_type": "code",
   "execution_count": 49,
   "id": "statewide-classic",
   "metadata": {},
   "outputs": [],
   "source": [
    "state_grads = state_grads[pd.isna(state_grads['school_name']) &\n",
    "                         (state_grads['subgroup'] == 'All Students')]"
   ]
  },
  {
   "cell_type": "code",
   "execution_count": 50,
   "id": "israeli-standing",
   "metadata": {},
   "outputs": [
    {
     "data": {
      "text/html": [
       "<div>\n",
       "<style scoped>\n",
       "    .dataframe tbody tr th:only-of-type {\n",
       "        vertical-align: middle;\n",
       "    }\n",
       "\n",
       "    .dataframe tbody tr th {\n",
       "        vertical-align: top;\n",
       "    }\n",
       "\n",
       "    .dataframe thead th {\n",
       "        text-align: right;\n",
       "    }\n",
       "</style>\n",
       "<table border=\"1\" class=\"dataframe\">\n",
       "  <thead>\n",
       "    <tr style=\"text-align: right;\">\n",
       "      <th></th>\n",
       "      <th>district_number</th>\n",
       "      <th>district_name</th>\n",
       "      <th>school_number</th>\n",
       "      <th>school_name</th>\n",
       "      <th>year</th>\n",
       "      <th>subgroup</th>\n",
       "      <th>denominator</th>\n",
       "      <th>grad_rate</th>\n",
       "      <th>grad_rate_previous</th>\n",
       "      <th>baseline_year</th>\n",
       "    </tr>\n",
       "  </thead>\n",
       "  <tbody>\n",
       "    <tr>\n",
       "      <th>0</th>\n",
       "      <td>0</td>\n",
       "      <td>State of Tennessee</td>\n",
       "      <td>0</td>\n",
       "      <td>NaN</td>\n",
       "      <td>2017</td>\n",
       "      <td>All Students</td>\n",
       "      <td>71505.0</td>\n",
       "      <td>89.1</td>\n",
       "      <td>88.5</td>\n",
       "      <td>2016.0</td>\n",
       "    </tr>\n",
       "    <tr>\n",
       "      <th>15</th>\n",
       "      <td>10</td>\n",
       "      <td>Anderson County Schools</td>\n",
       "      <td>0</td>\n",
       "      <td>NaN</td>\n",
       "      <td>2017</td>\n",
       "      <td>All Students</td>\n",
       "      <td>527.0</td>\n",
       "      <td>93.7</td>\n",
       "      <td>95.5</td>\n",
       "      <td>2016.0</td>\n",
       "    </tr>\n",
       "    <tr>\n",
       "      <th>272</th>\n",
       "      <td>11</td>\n",
       "      <td>Clinton City School District</td>\n",
       "      <td>0</td>\n",
       "      <td>NaN</td>\n",
       "      <td>2017</td>\n",
       "      <td>All Students</td>\n",
       "      <td>NaN</td>\n",
       "      <td>*</td>\n",
       "      <td>*</td>\n",
       "      <td>NaN</td>\n",
       "    </tr>\n",
       "    <tr>\n",
       "      <th>332</th>\n",
       "      <td>12</td>\n",
       "      <td>Oak Ridge City Schools</td>\n",
       "      <td>0</td>\n",
       "      <td>NaN</td>\n",
       "      <td>2017</td>\n",
       "      <td>All Students</td>\n",
       "      <td>332.0</td>\n",
       "      <td>89.5</td>\n",
       "      <td>88.3</td>\n",
       "      <td>2016.0</td>\n",
       "    </tr>\n",
       "    <tr>\n",
       "      <th>453</th>\n",
       "      <td>20</td>\n",
       "      <td>Bedford County Schools</td>\n",
       "      <td>0</td>\n",
       "      <td>NaN</td>\n",
       "      <td>2017</td>\n",
       "      <td>All Students</td>\n",
       "      <td>571.0</td>\n",
       "      <td>90.9</td>\n",
       "      <td>92.1</td>\n",
       "      <td>2016.0</td>\n",
       "    </tr>\n",
       "    <tr>\n",
       "      <th>...</th>\n",
       "      <td>...</td>\n",
       "      <td>...</td>\n",
       "      <td>...</td>\n",
       "      <td>...</td>\n",
       "      <td>...</td>\n",
       "      <td>...</td>\n",
       "      <td>...</td>\n",
       "      <td>...</td>\n",
       "      <td>...</td>\n",
       "      <td>...</td>\n",
       "    </tr>\n",
       "    <tr>\n",
       "      <th>28168</th>\n",
       "      <td>961</td>\n",
       "      <td>Alvin C York Institute</td>\n",
       "      <td>0</td>\n",
       "      <td>NaN</td>\n",
       "      <td>2017</td>\n",
       "      <td>All Students</td>\n",
       "      <td>143.0</td>\n",
       "      <td>93.0</td>\n",
       "      <td>92.9</td>\n",
       "      <td>2016.0</td>\n",
       "    </tr>\n",
       "    <tr>\n",
       "      <th>28199</th>\n",
       "      <td>963</td>\n",
       "      <td>Tennessee School for the Blind</td>\n",
       "      <td>0</td>\n",
       "      <td>NaN</td>\n",
       "      <td>2017</td>\n",
       "      <td>All Students</td>\n",
       "      <td>14.0</td>\n",
       "      <td>14.3</td>\n",
       "      <td>64.3</td>\n",
       "      <td>2016.0</td>\n",
       "    </tr>\n",
       "    <tr>\n",
       "      <th>28230</th>\n",
       "      <td>964</td>\n",
       "      <td>Tennessee School for the Deaf</td>\n",
       "      <td>0</td>\n",
       "      <td>NaN</td>\n",
       "      <td>2017</td>\n",
       "      <td>All Students</td>\n",
       "      <td>22.0</td>\n",
       "      <td>72.7</td>\n",
       "      <td>78.9</td>\n",
       "      <td>2016.0</td>\n",
       "    </tr>\n",
       "    <tr>\n",
       "      <th>28290</th>\n",
       "      <td>985</td>\n",
       "      <td>Achievement School District</td>\n",
       "      <td>0</td>\n",
       "      <td>NaN</td>\n",
       "      <td>2017</td>\n",
       "      <td>All Students</td>\n",
       "      <td>867.0</td>\n",
       "      <td>53.2</td>\n",
       "      <td>40.4</td>\n",
       "      <td>2016.0</td>\n",
       "    </tr>\n",
       "    <tr>\n",
       "      <th>28791</th>\n",
       "      <td>986</td>\n",
       "      <td>Tennessee State Board of Education</td>\n",
       "      <td>0</td>\n",
       "      <td>NaN</td>\n",
       "      <td>2017</td>\n",
       "      <td>All Students</td>\n",
       "      <td>NaN</td>\n",
       "      <td>*</td>\n",
       "      <td>*</td>\n",
       "      <td>NaN</td>\n",
       "    </tr>\n",
       "  </tbody>\n",
       "</table>\n",
       "<p>148 rows × 10 columns</p>\n",
       "</div>"
      ],
      "text/plain": [
       "       district_number                       district_name  school_number  \\\n",
       "0                    0                  State of Tennessee              0   \n",
       "15                  10             Anderson County Schools              0   \n",
       "272                 11        Clinton City School District              0   \n",
       "332                 12              Oak Ridge City Schools              0   \n",
       "453                 20              Bedford County Schools              0   \n",
       "...                ...                                 ...            ...   \n",
       "28168              961              Alvin C York Institute              0   \n",
       "28199              963      Tennessee School for the Blind              0   \n",
       "28230              964       Tennessee School for the Deaf              0   \n",
       "28290              985         Achievement School District              0   \n",
       "28791              986  Tennessee State Board of Education              0   \n",
       "\n",
       "      school_name  year      subgroup  denominator grad_rate  \\\n",
       "0             NaN  2017  All Students      71505.0      89.1   \n",
       "15            NaN  2017  All Students        527.0      93.7   \n",
       "272           NaN  2017  All Students          NaN         *   \n",
       "332           NaN  2017  All Students        332.0      89.5   \n",
       "453           NaN  2017  All Students        571.0      90.9   \n",
       "...           ...   ...           ...          ...       ...   \n",
       "28168         NaN  2017  All Students        143.0      93.0   \n",
       "28199         NaN  2017  All Students         14.0      14.3   \n",
       "28230         NaN  2017  All Students         22.0      72.7   \n",
       "28290         NaN  2017  All Students        867.0      53.2   \n",
       "28791         NaN  2017  All Students          NaN         *   \n",
       "\n",
       "      grad_rate_previous  baseline_year  \n",
       "0                   88.5         2016.0  \n",
       "15                  95.5         2016.0  \n",
       "272                    *            NaN  \n",
       "332                 88.3         2016.0  \n",
       "453                 92.1         2016.0  \n",
       "...                  ...            ...  \n",
       "28168               92.9         2016.0  \n",
       "28199               64.3         2016.0  \n",
       "28230               78.9         2016.0  \n",
       "28290               40.4         2016.0  \n",
       "28791                  *            NaN  \n",
       "\n",
       "[148 rows x 10 columns]"
      ]
     },
     "execution_count": 50,
     "metadata": {},
     "output_type": "execute_result"
    }
   ],
   "source": [
    "state_grads"
   ]
  },
  {
   "cell_type": "markdown",
   "id": "global-savannah",
   "metadata": {},
   "source": [
    "Select and rename columns."
   ]
  },
  {
   "cell_type": "code",
   "execution_count": 51,
   "id": "placed-penalty",
   "metadata": {},
   "outputs": [],
   "source": [
    "state_grads = state_grads[['district_name', \n",
    "                           'denominator',\n",
    "                           'grad_rate']]"
   ]
  },
  {
   "cell_type": "code",
   "execution_count": 52,
   "id": "greatest-finding",
   "metadata": {},
   "outputs": [],
   "source": [
    "state_grads.columns = ['District Name', 'Total', 'Graduation Rate']"
   ]
  },
  {
   "cell_type": "code",
   "execution_count": 53,
   "id": "oriental-finding",
   "metadata": {},
   "outputs": [
    {
     "name": "stdout",
     "output_type": "stream",
     "text": [
      "<class 'pandas.core.frame.DataFrame'>\n",
      "Int64Index: 148 entries, 0 to 28791\n",
      "Data columns (total 3 columns):\n",
      " #   Column           Non-Null Count  Dtype  \n",
      "---  ------           --------------  -----  \n",
      " 0   District Name    147 non-null    object \n",
      " 1   Total            132 non-null    float64\n",
      " 2   Graduation Rate  148 non-null    object \n",
      "dtypes: float64(1), object(2)\n",
      "memory usage: 4.6+ KB\n"
     ]
    }
   ],
   "source": [
    "state_grads.info()"
   ]
  },
  {
   "cell_type": "markdown",
   "id": "egyptian-arthritis",
   "metadata": {},
   "source": [
    "Convert data types."
   ]
  },
  {
   "cell_type": "code",
   "execution_count": 54,
   "id": "polyphonic-breeding",
   "metadata": {},
   "outputs": [],
   "source": [
    "state_grads.fillna('', inplace=True)"
   ]
  },
  {
   "cell_type": "code",
   "execution_count": 55,
   "id": "complex-reform",
   "metadata": {},
   "outputs": [],
   "source": [
    "state_grads['Graduation Rate'] = state_grads['Graduation Rate'].astype(str).str.replace('\\*', '')"
   ]
  },
  {
   "cell_type": "code",
   "execution_count": 56,
   "id": "apart-coaching",
   "metadata": {},
   "outputs": [],
   "source": [
    "state_grads['Graduation Rate'] = pd.to_numeric(state_grads['Graduation Rate']) / 100"
   ]
  },
  {
   "cell_type": "markdown",
   "id": "middle-screening",
   "metadata": {},
   "source": [
    "Check for matches and non-matches in the two lists. "
   ]
  },
  {
   "cell_type": "code",
   "execution_count": 19,
   "id": "sought-trainer",
   "metadata": {},
   "outputs": [],
   "source": [
    "# state_fiscal['NAME'] = state_fiscal['NAME'].astype(str).str.upper().str.strip()\n",
    "# state_grads['District Name'] = state_grads['District Name'].astype(str).str.upper().str.strip()"
   ]
  },
  {
   "cell_type": "code",
   "execution_count": 97,
   "id": "favorite-question",
   "metadata": {},
   "outputs": [],
   "source": [
    "state_grads['District Name'] = state_grads['District Name'].astype(str).str.replace(' City', '')\n",
    "state_grads['District Name'] = state_grads['District Name'].astype(str).str.replace(' Schools', '')\n",
    "state_grads['District Name'] = state_grads['District Name'].astype(str).str.replace(' School District', '')\n",
    "state_grads['District Name'] = state_grads['District Name'].astype(str).str.replace(' School System', '')\n",
    "state_grads['District Name'] = state_grads['District Name'].astype(str).str.replace(' Municipal', '')\n",
    "state_grads['District Name'] = state_grads['District Name'].astype(str).str.replace(' Special', '')\n",
    "\n",
    "state_fiscal['NAME'] = state_fiscal['NAME'].astype(str).str.replace(' City', '')\n",
    "state_fiscal['NAME'] = state_fiscal['NAME'].astype(str).str.replace(' Schools', '')\n",
    "state_fiscal['NAME'] = state_fiscal['NAME'].astype(str).str.replace(' School District', '')\n",
    "state_fiscal['NAME'] = state_fiscal['NAME'].astype(str).str.replace(' Municipal', '')"
   ]
  },
  {
   "cell_type": "code",
   "execution_count": 98,
   "id": "specific-particle",
   "metadata": {},
   "outputs": [
    {
     "data": {
      "text/plain": [
       "115"
      ]
     },
     "execution_count": 98,
     "metadata": {},
     "output_type": "execute_result"
    }
   ],
   "source": [
    "matches = [name for name in list(state_grads['District Name']) if name in list(state_fiscal['NAME'])]\n",
    "matches.sort()\n",
    "len(matches)"
   ]
  },
  {
   "cell_type": "code",
   "execution_count": 99,
   "id": "mathematical-tract",
   "metadata": {},
   "outputs": [
    {
     "data": {
      "text/plain": [
       "['',\n",
       " 'Alamo',\n",
       " 'Athens',\n",
       " 'Bells',\n",
       " 'Benton',\n",
       " 'Clarksville-Montgomery County',\n",
       " 'Clinton',\n",
       " 'Dayton School',\n",
       " 'Etowah School',\n",
       " 'Fayette County',\n",
       " 'Franklin',\n",
       " 'Gibson County',\n",
       " 'Hollow Rock-Bruceton',\n",
       " 'Huntingdon',\n",
       " 'Jackson-Madison County',\n",
       " 'Lakeland',\n",
       " 'Lebanon',\n",
       " 'Lexington',\n",
       " 'Lincoln County Department of Education',\n",
       " 'Manchester',\n",
       " 'Metro Nashville Public',\n",
       " 'Murfreesboro',\n",
       " 'Newport School',\n",
       " 'Paris',\n",
       " 'Richard Hardy Memorial School',\n",
       " 'Rogersville School',\n",
       " 'South Carroll County',\n",
       " 'State of Tennessee',\n",
       " 'Sweetwater',\n",
       " 'Tennessee School for the Blind',\n",
       " 'Tennessee State Board of Education',\n",
       " 'West Carroll',\n",
       " 'West Tennessee School for the Deaf']"
      ]
     },
     "execution_count": 99,
     "metadata": {},
     "output_type": "execute_result"
    }
   ],
   "source": [
    "A = [name for name in list(state_grads['District Name']) if name not in list(state_fiscal['NAME'])]\n",
    "A.sort()\n",
    "A"
   ]
  },
  {
   "cell_type": "code",
   "execution_count": 100,
   "id": "atlantic-protocol",
   "metadata": {},
   "outputs": [
    {
     "data": {
      "text/plain": [
       "['Benton County',\n",
       " 'Carroll County',\n",
       " 'Davidson County',\n",
       " 'Fayette County Public',\n",
       " 'Gibson Co Sp Dist',\n",
       " 'Hollow Rock - Bruceton',\n",
       " 'Huntingdon Special',\n",
       " 'Lincoln County',\n",
       " 'Madison County',\n",
       " 'Montgomery County',\n",
       " 'Richard',\n",
       " 'South Carroll',\n",
       " 'Tennessee School for Blind',\n",
       " 'West Carroll Sp Dist']"
      ]
     },
     "execution_count": 100,
     "metadata": {},
     "output_type": "execute_result"
    }
   ],
   "source": [
    "B = [name for name in list(state_fiscal['NAME']) if name not in list(state_grads['District Name'])]\n",
    "B.sort()\n",
    "B"
   ]
  },
  {
   "cell_type": "markdown",
   "id": "transparent-apache",
   "metadata": {},
   "source": [
    "Make any additional matches I can find."
   ]
  },
  {
   "cell_type": "code",
   "execution_count": 24,
   "id": "accessible-reserve",
   "metadata": {},
   "outputs": [],
   "source": [
    "state_fiscal_rename = {\n",
    "    'Benton County' : 'Benton',\n",
    "    'Gibson Co Sp Dist' : 'Gibson County',\n",
    "    'Hollow Rock - Bruceton',\n",
    "    'Huntingdon Special',\n",
    "    'Lincoln County',\n",
    "    'Madison County',\n",
    "    'Montgomery County',\n",
    "    'Richard',\n",
    "    'South Carroll',\n",
    "    'Tennessee School for Blind',\n",
    "    'West Carroll Sp Dist'\n",
    "}"
   ]
  },
  {
   "cell_type": "code",
   "execution_count": 25,
   "id": "weighted-avatar",
   "metadata": {},
   "outputs": [],
   "source": [
    "state_fiscal = state_fiscal.replace(state_fiscal_rename)"
   ]
  },
  {
   "cell_type": "markdown",
   "id": "selected-forward",
   "metadata": {},
   "source": [
    "Merge federal and state data, keeping only matches between the two. "
   ]
  },
  {
   "cell_type": "code",
   "execution_count": 26,
   "id": "welcome-portuguese",
   "metadata": {},
   "outputs": [],
   "source": [
    "state_grads_merged = pd.merge(state_fiscal, state_grads, how='inner', left_on='NAME', right_on='District Name')"
   ]
  },
  {
   "cell_type": "markdown",
   "id": "varying-rates",
   "metadata": {},
   "source": [
    "Save cleaned data. "
   ]
  },
  {
   "cell_type": "code",
   "execution_count": 27,
   "id": "featured-alaska",
   "metadata": {},
   "outputs": [],
   "source": [
    "state_grads_merged.to_csv('../../data/state_data_merged/' + abbr + '.csv', index=False)"
   ]
  }
 ],
 "metadata": {
  "kernelspec": {
   "display_name": "Python 3",
   "language": "python",
   "name": "python3"
  },
  "language_info": {
   "codemirror_mode": {
    "name": "ipython",
    "version": 3
   },
   "file_extension": ".py",
   "mimetype": "text/x-python",
   "name": "python",
   "nbconvert_exporter": "python",
   "pygments_lexer": "ipython3",
   "version": "3.7.9"
  }
 },
 "nbformat": 4,
 "nbformat_minor": 5
}
