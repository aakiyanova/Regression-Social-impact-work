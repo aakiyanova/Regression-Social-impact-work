{
 "cells": [
  {
   "cell_type": "code",
   "execution_count": 1,
   "id": "economic-program",
   "metadata": {},
   "outputs": [],
   "source": [
    "import pandas as pd\n",
    "import numpy as np\n",
    "from tabula import read_pdf"
   ]
  },
  {
   "cell_type": "markdown",
   "id": "upset-flight",
   "metadata": {},
   "source": [
    "Read in federal level data"
   ]
  },
  {
   "cell_type": "code",
   "execution_count": 2,
   "id": "chinese-uruguay",
   "metadata": {},
   "outputs": [],
   "source": [
    "fiscal = pd.read_sas('../../data/fiscal2018', format = 'sas7bdat', encoding='iso-8859-1')"
   ]
  },
  {
   "cell_type": "markdown",
   "id": "occupational-destination",
   "metadata": {},
   "source": [
    "Generate list of districts in the state in the federal data"
   ]
  },
  {
   "cell_type": "code",
   "execution_count": 3,
   "id": "secret-order",
   "metadata": {},
   "outputs": [],
   "source": [
    "fiscal_FL = fiscal[(fiscal['STNAME'] == 'Florida') & (fiscal['GSHI'] == '12')]"
   ]
  },
  {
   "cell_type": "code",
   "execution_count": 4,
   "id": "asian-christianity",
   "metadata": {},
   "outputs": [
    {
     "data": {
      "text/plain": [
       "77"
      ]
     },
     "execution_count": 4,
     "metadata": {},
     "output_type": "execute_result"
    }
   ],
   "source": [
    "len(fiscal_FL)"
   ]
  },
  {
   "cell_type": "code",
   "execution_count": 5,
   "id": "cardiovascular-millennium",
   "metadata": {},
   "outputs": [
    {
     "data": {
      "text/html": [
       "<div>\n",
       "<style scoped>\n",
       "    .dataframe tbody tr th:only-of-type {\n",
       "        vertical-align: middle;\n",
       "    }\n",
       "\n",
       "    .dataframe tbody tr th {\n",
       "        vertical-align: top;\n",
       "    }\n",
       "\n",
       "    .dataframe thead th {\n",
       "        text-align: right;\n",
       "    }\n",
       "</style>\n",
       "<table border=\"1\" class=\"dataframe\">\n",
       "  <thead>\n",
       "    <tr style=\"text-align: right;\">\n",
       "      <th></th>\n",
       "      <th>LEAID</th>\n",
       "      <th>CENSUSID</th>\n",
       "      <th>FIPST</th>\n",
       "      <th>CONUM</th>\n",
       "      <th>CSA</th>\n",
       "      <th>CBSA</th>\n",
       "      <th>NAME</th>\n",
       "      <th>STNAME</th>\n",
       "      <th>STABBR</th>\n",
       "      <th>SCHLEV</th>\n",
       "      <th>...</th>\n",
       "      <th>FL_66V</th>\n",
       "      <th>FL_W01</th>\n",
       "      <th>FL_W31</th>\n",
       "      <th>FL_W61</th>\n",
       "      <th>FL_V95</th>\n",
       "      <th>FL_V02</th>\n",
       "      <th>FL_K14</th>\n",
       "      <th>FL_CE1</th>\n",
       "      <th>FL_CE2</th>\n",
       "      <th>FL_CE3</th>\n",
       "    </tr>\n",
       "  </thead>\n",
       "  <tbody>\n",
       "    <tr>\n",
       "      <th>3016</th>\n",
       "      <td>1200002</td>\n",
       "      <td>N</td>\n",
       "      <td>12</td>\n",
       "      <td>12095</td>\n",
       "      <td>422</td>\n",
       "      <td>36740</td>\n",
       "      <td>FL VIRTUAL</td>\n",
       "      <td>Florida</td>\n",
       "      <td>FL</td>\n",
       "      <td>03</td>\n",
       "      <td>...</td>\n",
       "      <td>M</td>\n",
       "      <td>M</td>\n",
       "      <td>M</td>\n",
       "      <td>M</td>\n",
       "      <td>M</td>\n",
       "      <td>M</td>\n",
       "      <td>M</td>\n",
       "      <td>M</td>\n",
       "      <td>M</td>\n",
       "      <td>M</td>\n",
       "    </tr>\n",
       "    <tr>\n",
       "      <th>3018</th>\n",
       "      <td>1200030</td>\n",
       "      <td>10500100100000</td>\n",
       "      <td>12</td>\n",
       "      <td>12001</td>\n",
       "      <td>264</td>\n",
       "      <td>23540</td>\n",
       "      <td>ALACHUA</td>\n",
       "      <td>Florida</td>\n",
       "      <td>FL</td>\n",
       "      <td>03</td>\n",
       "      <td>...</td>\n",
       "      <td>R</td>\n",
       "      <td>R</td>\n",
       "      <td>R</td>\n",
       "      <td>R</td>\n",
       "      <td>R</td>\n",
       "      <td>R</td>\n",
       "      <td>R</td>\n",
       "      <td>R</td>\n",
       "      <td>R</td>\n",
       "      <td>R</td>\n",
       "    </tr>\n",
       "    <tr>\n",
       "      <th>3019</th>\n",
       "      <td>1200060</td>\n",
       "      <td>10500200100000</td>\n",
       "      <td>12</td>\n",
       "      <td>12003</td>\n",
       "      <td>300</td>\n",
       "      <td>27260</td>\n",
       "      <td>BAKER</td>\n",
       "      <td>Florida</td>\n",
       "      <td>FL</td>\n",
       "      <td>03</td>\n",
       "      <td>...</td>\n",
       "      <td>R</td>\n",
       "      <td>R</td>\n",
       "      <td>R</td>\n",
       "      <td>R</td>\n",
       "      <td>R</td>\n",
       "      <td>R</td>\n",
       "      <td>R</td>\n",
       "      <td>R</td>\n",
       "      <td>R</td>\n",
       "      <td>R</td>\n",
       "    </tr>\n",
       "    <tr>\n",
       "      <th>3020</th>\n",
       "      <td>1200080</td>\n",
       "      <td>N</td>\n",
       "      <td>12</td>\n",
       "      <td>12105</td>\n",
       "      <td>N</td>\n",
       "      <td>29460</td>\n",
       "      <td>LAKE WALES CHARTER SCHOOLS</td>\n",
       "      <td>Florida</td>\n",
       "      <td>FL</td>\n",
       "      <td>N</td>\n",
       "      <td>...</td>\n",
       "      <td>M</td>\n",
       "      <td>M</td>\n",
       "      <td>M</td>\n",
       "      <td>M</td>\n",
       "      <td>M</td>\n",
       "      <td>M</td>\n",
       "      <td>M</td>\n",
       "      <td>M</td>\n",
       "      <td>M</td>\n",
       "      <td>M</td>\n",
       "    </tr>\n",
       "    <tr>\n",
       "      <th>3021</th>\n",
       "      <td>1200081</td>\n",
       "      <td>N</td>\n",
       "      <td>12</td>\n",
       "      <td>12099</td>\n",
       "      <td>370</td>\n",
       "      <td>33100</td>\n",
       "      <td>SOUTH TECH ACADEMY</td>\n",
       "      <td>Florida</td>\n",
       "      <td>FL</td>\n",
       "      <td>N</td>\n",
       "      <td>...</td>\n",
       "      <td>M</td>\n",
       "      <td>M</td>\n",
       "      <td>M</td>\n",
       "      <td>M</td>\n",
       "      <td>M</td>\n",
       "      <td>M</td>\n",
       "      <td>M</td>\n",
       "      <td>M</td>\n",
       "      <td>M</td>\n",
       "      <td>M</td>\n",
       "    </tr>\n",
       "  </tbody>\n",
       "</table>\n",
       "<p>5 rows × 262 columns</p>\n",
       "</div>"
      ],
      "text/plain": [
       "        LEAID        CENSUSID FIPST  CONUM  CSA   CBSA  \\\n",
       "3016  1200002               N    12  12095  422  36740   \n",
       "3018  1200030  10500100100000    12  12001  264  23540   \n",
       "3019  1200060  10500200100000    12  12003  300  27260   \n",
       "3020  1200080               N    12  12105    N  29460   \n",
       "3021  1200081               N    12  12099  370  33100   \n",
       "\n",
       "                            NAME   STNAME STABBR SCHLEV  ... FL_66V FL_W01  \\\n",
       "3016                  FL VIRTUAL  Florida     FL     03  ...      M      M   \n",
       "3018                     ALACHUA  Florida     FL     03  ...      R      R   \n",
       "3019                       BAKER  Florida     FL     03  ...      R      R   \n",
       "3020  LAKE WALES CHARTER SCHOOLS  Florida     FL      N  ...      M      M   \n",
       "3021          SOUTH TECH ACADEMY  Florida     FL      N  ...      M      M   \n",
       "\n",
       "     FL_W31 FL_W61 FL_V95 FL_V02  FL_K14  FL_CE1  FL_CE2  FL_CE3  \n",
       "3016      M      M      M      M       M       M       M       M  \n",
       "3018      R      R      R      R       R       R       R       R  \n",
       "3019      R      R      R      R       R       R       R       R  \n",
       "3020      M      M      M      M       M       M       M       M  \n",
       "3021      M      M      M      M       M       M       M       M  \n",
       "\n",
       "[5 rows x 262 columns]"
      ]
     },
     "execution_count": 5,
     "metadata": {},
     "output_type": "execute_result"
    }
   ],
   "source": [
    "fiscal_FL.head()"
   ]
  },
  {
   "cell_type": "markdown",
   "id": "happy-sympathy",
   "metadata": {},
   "source": [
    "Read in state level data"
   ]
  },
  {
   "cell_type": "code",
   "execution_count": 6,
   "id": "intensive-appointment",
   "metadata": {},
   "outputs": [],
   "source": [
    "FL_pdf = read_pdf('../../data/state_data_raw/florida2018.pdf', pages=[3, 4])"
   ]
  },
  {
   "cell_type": "code",
   "execution_count": 7,
   "id": "german-spiritual",
   "metadata": {},
   "outputs": [],
   "source": [
    "FL = pd.concat((FL_pdf[1], FL_pdf[2]))"
   ]
  },
  {
   "cell_type": "code",
   "execution_count": 8,
   "id": "broad-fossil",
   "metadata": {},
   "outputs": [
    {
     "data": {
      "text/html": [
       "<div>\n",
       "<style scoped>\n",
       "    .dataframe tbody tr th:only-of-type {\n",
       "        vertical-align: middle;\n",
       "    }\n",
       "\n",
       "    .dataframe tbody tr th {\n",
       "        vertical-align: top;\n",
       "    }\n",
       "\n",
       "    .dataframe thead th {\n",
       "        text-align: right;\n",
       "    }\n",
       "</style>\n",
       "<table border=\"1\" class=\"dataframe\">\n",
       "  <thead>\n",
       "    <tr style=\"text-align: right;\">\n",
       "      <th></th>\n",
       "      <th>Unnamed: 0</th>\n",
       "      <th>District</th>\n",
       "      <th>2013-14</th>\n",
       "      <th>2014-15</th>\n",
       "      <th>2015-16</th>\n",
       "      <th>2016-17</th>\n",
       "      <th>2017-18</th>\n",
       "    </tr>\n",
       "  </thead>\n",
       "  <tbody>\n",
       "    <tr>\n",
       "      <th>0</th>\n",
       "      <td>NaN</td>\n",
       "      <td>FLORIDA</td>\n",
       "      <td>76.1%</td>\n",
       "      <td>77.9%</td>\n",
       "      <td>80.7%</td>\n",
       "      <td>82.3%</td>\n",
       "      <td>86.1%</td>\n",
       "    </tr>\n",
       "    <tr>\n",
       "      <th>1</th>\n",
       "      <td>1.0</td>\n",
       "      <td>Alachua</td>\n",
       "      <td>72.2%</td>\n",
       "      <td>74.3%</td>\n",
       "      <td>78.4%</td>\n",
       "      <td>82.7%</td>\n",
       "      <td>88.0%</td>\n",
       "    </tr>\n",
       "    <tr>\n",
       "      <th>2</th>\n",
       "      <td>2.0</td>\n",
       "      <td>Baker</td>\n",
       "      <td>75.2%</td>\n",
       "      <td>81.8%</td>\n",
       "      <td>79.4%</td>\n",
       "      <td>81.0%</td>\n",
       "      <td>75.5%</td>\n",
       "    </tr>\n",
       "    <tr>\n",
       "      <th>3</th>\n",
       "      <td>3.0</td>\n",
       "      <td>Bay</td>\n",
       "      <td>70.8%</td>\n",
       "      <td>70.6%</td>\n",
       "      <td>81.0%</td>\n",
       "      <td>78.0%</td>\n",
       "      <td>81.1%</td>\n",
       "    </tr>\n",
       "    <tr>\n",
       "      <th>4</th>\n",
       "      <td>4.0</td>\n",
       "      <td>Bradford</td>\n",
       "      <td>71.3%</td>\n",
       "      <td>76.9%</td>\n",
       "      <td>83.7%</td>\n",
       "      <td>78.9%</td>\n",
       "      <td>89.0%</td>\n",
       "    </tr>\n",
       "    <tr>\n",
       "      <th>...</th>\n",
       "      <td>...</td>\n",
       "      <td>...</td>\n",
       "      <td>...</td>\n",
       "      <td>...</td>\n",
       "      <td>...</td>\n",
       "      <td>...</td>\n",
       "      <td>...</td>\n",
       "    </tr>\n",
       "    <tr>\n",
       "      <th>34</th>\n",
       "      <td>71.0</td>\n",
       "      <td>FL Virtual</td>\n",
       "      <td>74.9%</td>\n",
       "      <td>70.9%</td>\n",
       "      <td>66.6%</td>\n",
       "      <td>67.3%</td>\n",
       "      <td>81.4%</td>\n",
       "    </tr>\n",
       "    <tr>\n",
       "      <th>35</th>\n",
       "      <td>72.0</td>\n",
       "      <td>FAU Lab School</td>\n",
       "      <td>100.0%</td>\n",
       "      <td>100.0%</td>\n",
       "      <td>100.0%</td>\n",
       "      <td>100.0%</td>\n",
       "      <td>100.0%</td>\n",
       "    </tr>\n",
       "    <tr>\n",
       "      <th>36</th>\n",
       "      <td>73.0</td>\n",
       "      <td>FSU Lab School</td>\n",
       "      <td>88.0%</td>\n",
       "      <td>97.1%</td>\n",
       "      <td>98.6%</td>\n",
       "      <td>98.7%</td>\n",
       "      <td>96.6%</td>\n",
       "    </tr>\n",
       "    <tr>\n",
       "      <th>37</th>\n",
       "      <td>74.0</td>\n",
       "      <td>FAMU Lab School</td>\n",
       "      <td>76.7%</td>\n",
       "      <td>97.1%</td>\n",
       "      <td>94.9%</td>\n",
       "      <td>89.3%</td>\n",
       "      <td>94.3%</td>\n",
       "    </tr>\n",
       "    <tr>\n",
       "      <th>38</th>\n",
       "      <td>75.0</td>\n",
       "      <td>UF Lab School</td>\n",
       "      <td>97.3%</td>\n",
       "      <td>97.3%</td>\n",
       "      <td>96.4%</td>\n",
       "      <td>98.2%</td>\n",
       "      <td>99.1%</td>\n",
       "    </tr>\n",
       "  </tbody>\n",
       "</table>\n",
       "<p>75 rows × 7 columns</p>\n",
       "</div>"
      ],
      "text/plain": [
       "    Unnamed: 0         District 2013-14 2014-15 2015-16 2016-17 2017-18\n",
       "0          NaN          FLORIDA   76.1%   77.9%   80.7%   82.3%   86.1%\n",
       "1          1.0          Alachua   72.2%   74.3%   78.4%   82.7%   88.0%\n",
       "2          2.0            Baker   75.2%   81.8%   79.4%   81.0%   75.5%\n",
       "3          3.0              Bay   70.8%   70.6%   81.0%   78.0%   81.1%\n",
       "4          4.0         Bradford   71.3%   76.9%   83.7%   78.9%   89.0%\n",
       "..         ...              ...     ...     ...     ...     ...     ...\n",
       "34        71.0       FL Virtual   74.9%   70.9%   66.6%   67.3%   81.4%\n",
       "35        72.0   FAU Lab School  100.0%  100.0%  100.0%  100.0%  100.0%\n",
       "36        73.0   FSU Lab School   88.0%   97.1%   98.6%   98.7%   96.6%\n",
       "37        74.0  FAMU Lab School   76.7%   97.1%   94.9%   89.3%   94.3%\n",
       "38        75.0    UF Lab School   97.3%   97.3%   96.4%   98.2%   99.1%\n",
       "\n",
       "[75 rows x 7 columns]"
      ]
     },
     "execution_count": 8,
     "metadata": {},
     "output_type": "execute_result"
    }
   ],
   "source": [
    "FL"
   ]
  },
  {
   "cell_type": "markdown",
   "id": "competitive-revision",
   "metadata": {},
   "source": [
    "Drop and rename columns."
   ]
  },
  {
   "cell_type": "code",
   "execution_count": 9,
   "id": "designing-sympathy",
   "metadata": {},
   "outputs": [],
   "source": [
    "FL['Total'] = np.full_like(FL['2017-18'], '')"
   ]
  },
  {
   "cell_type": "code",
   "execution_count": 10,
   "id": "entire-fourth",
   "metadata": {},
   "outputs": [],
   "source": [
    "FL = FL[['District', 'Total', '2017-18']]"
   ]
  },
  {
   "cell_type": "code",
   "execution_count": 11,
   "id": "sealed-entrepreneur",
   "metadata": {},
   "outputs": [],
   "source": [
    "FL.columns = ['District Name', 'Total', 'Graduation Rate']"
   ]
  },
  {
   "cell_type": "code",
   "execution_count": 12,
   "id": "distinguished-italic",
   "metadata": {},
   "outputs": [
    {
     "data": {
      "text/html": [
       "<div>\n",
       "<style scoped>\n",
       "    .dataframe tbody tr th:only-of-type {\n",
       "        vertical-align: middle;\n",
       "    }\n",
       "\n",
       "    .dataframe tbody tr th {\n",
       "        vertical-align: top;\n",
       "    }\n",
       "\n",
       "    .dataframe thead th {\n",
       "        text-align: right;\n",
       "    }\n",
       "</style>\n",
       "<table border=\"1\" class=\"dataframe\">\n",
       "  <thead>\n",
       "    <tr style=\"text-align: right;\">\n",
       "      <th></th>\n",
       "      <th>District Name</th>\n",
       "      <th>Total</th>\n",
       "      <th>Graduation Rate</th>\n",
       "    </tr>\n",
       "  </thead>\n",
       "  <tbody>\n",
       "    <tr>\n",
       "      <th>0</th>\n",
       "      <td>FLORIDA</td>\n",
       "      <td></td>\n",
       "      <td>86.1%</td>\n",
       "    </tr>\n",
       "    <tr>\n",
       "      <th>1</th>\n",
       "      <td>Alachua</td>\n",
       "      <td></td>\n",
       "      <td>88.0%</td>\n",
       "    </tr>\n",
       "    <tr>\n",
       "      <th>2</th>\n",
       "      <td>Baker</td>\n",
       "      <td></td>\n",
       "      <td>75.5%</td>\n",
       "    </tr>\n",
       "    <tr>\n",
       "      <th>3</th>\n",
       "      <td>Bay</td>\n",
       "      <td></td>\n",
       "      <td>81.1%</td>\n",
       "    </tr>\n",
       "    <tr>\n",
       "      <th>4</th>\n",
       "      <td>Bradford</td>\n",
       "      <td></td>\n",
       "      <td>89.0%</td>\n",
       "    </tr>\n",
       "    <tr>\n",
       "      <th>...</th>\n",
       "      <td>...</td>\n",
       "      <td>...</td>\n",
       "      <td>...</td>\n",
       "    </tr>\n",
       "    <tr>\n",
       "      <th>34</th>\n",
       "      <td>FL Virtual</td>\n",
       "      <td></td>\n",
       "      <td>81.4%</td>\n",
       "    </tr>\n",
       "    <tr>\n",
       "      <th>35</th>\n",
       "      <td>FAU Lab School</td>\n",
       "      <td></td>\n",
       "      <td>100.0%</td>\n",
       "    </tr>\n",
       "    <tr>\n",
       "      <th>36</th>\n",
       "      <td>FSU Lab School</td>\n",
       "      <td></td>\n",
       "      <td>96.6%</td>\n",
       "    </tr>\n",
       "    <tr>\n",
       "      <th>37</th>\n",
       "      <td>FAMU Lab School</td>\n",
       "      <td></td>\n",
       "      <td>94.3%</td>\n",
       "    </tr>\n",
       "    <tr>\n",
       "      <th>38</th>\n",
       "      <td>UF Lab School</td>\n",
       "      <td></td>\n",
       "      <td>99.1%</td>\n",
       "    </tr>\n",
       "  </tbody>\n",
       "</table>\n",
       "<p>75 rows × 3 columns</p>\n",
       "</div>"
      ],
      "text/plain": [
       "      District Name Total Graduation Rate\n",
       "0           FLORIDA                 86.1%\n",
       "1           Alachua                 88.0%\n",
       "2             Baker                 75.5%\n",
       "3               Bay                 81.1%\n",
       "4          Bradford                 89.0%\n",
       "..              ...   ...             ...\n",
       "34       FL Virtual                 81.4%\n",
       "35   FAU Lab School                100.0%\n",
       "36   FSU Lab School                 96.6%\n",
       "37  FAMU Lab School                 94.3%\n",
       "38    UF Lab School                 99.1%\n",
       "\n",
       "[75 rows x 3 columns]"
      ]
     },
     "execution_count": 12,
     "metadata": {},
     "output_type": "execute_result"
    }
   ],
   "source": [
    "FL"
   ]
  },
  {
   "cell_type": "code",
   "execution_count": 13,
   "id": "rolled-sequence",
   "metadata": {},
   "outputs": [
    {
     "name": "stdout",
     "output_type": "stream",
     "text": [
      "<class 'pandas.core.frame.DataFrame'>\n",
      "Int64Index: 75 entries, 0 to 38\n",
      "Data columns (total 3 columns):\n",
      " #   Column           Non-Null Count  Dtype \n",
      "---  ------           --------------  ----- \n",
      " 0   District Name    75 non-null     object\n",
      " 1   Total            75 non-null     object\n",
      " 2   Graduation Rate  75 non-null     object\n",
      "dtypes: object(3)\n",
      "memory usage: 2.3+ KB\n"
     ]
    }
   ],
   "source": [
    "FL.info()"
   ]
  },
  {
   "cell_type": "markdown",
   "id": "fuzzy-kennedy",
   "metadata": {},
   "source": [
    "Convert data types."
   ]
  },
  {
   "cell_type": "code",
   "execution_count": 14,
   "id": "level-massachusetts",
   "metadata": {},
   "outputs": [
    {
     "name": "stderr",
     "output_type": "stream",
     "text": [
      "/opt/anaconda3/envs/dsi/lib/python3.7/site-packages/ipykernel_launcher.py:1: SettingWithCopyWarning: \n",
      "A value is trying to be set on a copy of a slice from a DataFrame.\n",
      "Try using .loc[row_indexer,col_indexer] = value instead\n",
      "\n",
      "See the caveats in the documentation: https://pandas.pydata.org/pandas-docs/stable/user_guide/indexing.html#returning-a-view-versus-a-copy\n",
      "  \"\"\"Entry point for launching an IPython kernel.\n"
     ]
    }
   ],
   "source": [
    "FL['Graduation Rate'] = FL['Graduation Rate'].astype(str).str.replace('%', '')"
   ]
  },
  {
   "cell_type": "code",
   "execution_count": 15,
   "id": "preliminary-clerk",
   "metadata": {},
   "outputs": [
    {
     "name": "stderr",
     "output_type": "stream",
     "text": [
      "/opt/anaconda3/envs/dsi/lib/python3.7/site-packages/ipykernel_launcher.py:1: SettingWithCopyWarning: \n",
      "A value is trying to be set on a copy of a slice from a DataFrame.\n",
      "Try using .loc[row_indexer,col_indexer] = value instead\n",
      "\n",
      "See the caveats in the documentation: https://pandas.pydata.org/pandas-docs/stable/user_guide/indexing.html#returning-a-view-versus-a-copy\n",
      "  \"\"\"Entry point for launching an IPython kernel.\n",
      "/opt/anaconda3/envs/dsi/lib/python3.7/site-packages/ipykernel_launcher.py:2: SettingWithCopyWarning: \n",
      "A value is trying to be set on a copy of a slice from a DataFrame.\n",
      "Try using .loc[row_indexer,col_indexer] = value instead\n",
      "\n",
      "See the caveats in the documentation: https://pandas.pydata.org/pandas-docs/stable/user_guide/indexing.html#returning-a-view-versus-a-copy\n",
      "  \n"
     ]
    }
   ],
   "source": [
    "FL['Total'] = pd.to_numeric(FL['Total'])\n",
    "FL['Graduation Rate'] = pd.to_numeric(FL['Graduation Rate']) / 100"
   ]
  },
  {
   "cell_type": "markdown",
   "id": "favorite-mistake",
   "metadata": {},
   "source": [
    "Check for matches and non-matches in the two lists"
   ]
  },
  {
   "cell_type": "code",
   "execution_count": 16,
   "id": "removed-truck",
   "metadata": {},
   "outputs": [
    {
     "data": {
      "text/plain": [
       "68"
      ]
     },
     "execution_count": 16,
     "metadata": {},
     "output_type": "execute_result"
    }
   ],
   "source": [
    "Matches = [name for name in list(FL['District Name']) if name.lower() in [low.lower() for low in fiscal_FL['NAME']]]\n",
    "Matches.sort()\n",
    "len(Matches)"
   ]
  },
  {
   "cell_type": "code",
   "execution_count": 17,
   "id": "reverse-allergy",
   "metadata": {},
   "outputs": [
    {
     "data": {
      "text/plain": [
       "['FAMU Lab School',\n",
       " 'FAU Lab School',\n",
       " 'FLORIDA',\n",
       " 'FLORIDA',\n",
       " 'FSU Lab School',\n",
       " 'Miami-Dade',\n",
       " 'UF Lab School']"
      ]
     },
     "execution_count": 17,
     "metadata": {},
     "output_type": "execute_result"
    }
   ],
   "source": [
    "A = [name for name in list(FL['District Name']) if name.lower() not in [low.lower() for low in fiscal_FL['NAME']]]\n",
    "A.sort()\n",
    "A"
   ]
  },
  {
   "cell_type": "code",
   "execution_count": 18,
   "id": "charged-findings",
   "metadata": {},
   "outputs": [
    {
     "data": {
      "text/plain": [
       "['DADE',\n",
       " 'FAMU LAB SCH',\n",
       " 'FAU LAB SCH',\n",
       " 'FSU LAB SCH',\n",
       " 'LAKE WALES CHARTER SCHOOLS',\n",
       " 'SOUTH TECH ACADEMY',\n",
       " 'UF LAB SCH',\n",
       " 'UNITED CEREBRAL PALSY SYSTEM',\n",
       " 'WASH SPECIAL']"
      ]
     },
     "execution_count": 18,
     "metadata": {},
     "output_type": "execute_result"
    }
   ],
   "source": [
    "B = [name for name in list(fiscal_FL['NAME']) if name.lower() not in [low.lower() for low in FL['District Name']]]\n",
    "B.sort()\n",
    "B"
   ]
  },
  {
   "cell_type": "markdown",
   "id": "mineral-screening",
   "metadata": {},
   "source": [
    "Replace the names I can find matches for."
   ]
  },
  {
   "cell_type": "code",
   "execution_count": 19,
   "id": "controversial-experience",
   "metadata": {},
   "outputs": [],
   "source": [
    "FL_rename = {\n",
    "    'DADE' : 'Miami-Dade',\n",
    "    'FAMU LAB SCH' : 'FAMU Lab School',\n",
    "    'FAU LAB SCH' : 'FAU Lab School',\n",
    "    'FSU LAB SCH' : 'FSU Lab School',\n",
    "    'UF LAB SCH' : 'UF LAB SCH',\n",
    "}"
   ]
  },
  {
   "cell_type": "code",
   "execution_count": 20,
   "id": "alternative-helicopter",
   "metadata": {},
   "outputs": [],
   "source": [
    "fiscal_FL = fiscal_FL.replace(FL_rename)"
   ]
  },
  {
   "cell_type": "code",
   "execution_count": 21,
   "id": "assisted-jurisdiction",
   "metadata": {},
   "outputs": [
    {
     "name": "stderr",
     "output_type": "stream",
     "text": [
      "/opt/anaconda3/envs/dsi/lib/python3.7/site-packages/ipykernel_launcher.py:2: SettingWithCopyWarning: \n",
      "A value is trying to be set on a copy of a slice from a DataFrame.\n",
      "Try using .loc[row_indexer,col_indexer] = value instead\n",
      "\n",
      "See the caveats in the documentation: https://pandas.pydata.org/pandas-docs/stable/user_guide/indexing.html#returning-a-view-versus-a-copy\n",
      "  \n"
     ]
    }
   ],
   "source": [
    "fiscal_FL['NAME'] = fiscal_FL['NAME'].astype(str).str.upper()\n",
    "FL['District Name'] = FL['District Name'].astype(str).str.upper()"
   ]
  },
  {
   "cell_type": "markdown",
   "id": "wrong-dinner",
   "metadata": {},
   "source": [
    "Merge federal and state data, keeping only matches between the two. "
   ]
  },
  {
   "cell_type": "code",
   "execution_count": 22,
   "id": "absent-rally",
   "metadata": {},
   "outputs": [],
   "source": [
    "FL_merged = pd.merge(fiscal_FL, FL, how='inner', left_on='NAME', right_on='District Name')"
   ]
  },
  {
   "cell_type": "markdown",
   "id": "grateful-sandwich",
   "metadata": {},
   "source": [
    "Save cleaned data. "
   ]
  },
  {
   "cell_type": "code",
   "execution_count": 23,
   "id": "whole-cross",
   "metadata": {},
   "outputs": [],
   "source": [
    "FL_merged.to_csv('../../data/state_data_merged/FL.csv', index=False)"
   ]
  }
 ],
 "metadata": {
  "kernelspec": {
   "display_name": "Python 3",
   "language": "python",
   "name": "python3"
  },
  "language_info": {
   "codemirror_mode": {
    "name": "ipython",
    "version": 3
   },
   "file_extension": ".py",
   "mimetype": "text/x-python",
   "name": "python",
   "nbconvert_exporter": "python",
   "pygments_lexer": "ipython3",
   "version": "3.7.9"
  }
 },
 "nbformat": 4,
 "nbformat_minor": 5
}
