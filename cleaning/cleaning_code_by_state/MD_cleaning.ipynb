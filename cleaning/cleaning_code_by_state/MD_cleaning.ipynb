{
 "cells": [
  {
   "cell_type": "code",
   "execution_count": 23,
   "id": "indoor-casino",
   "metadata": {},
   "outputs": [],
   "source": [
    "import pandas as pd\n",
    "import numpy as np"
   ]
  },
  {
   "cell_type": "code",
   "execution_count": 24,
   "id": "confused-return",
   "metadata": {},
   "outputs": [],
   "source": [
    "abbr = 'MD'"
   ]
  },
  {
   "cell_type": "code",
   "execution_count": 30,
   "id": "partial-country",
   "metadata": {},
   "outputs": [],
   "source": [
    "file = 'maryland2018.csv'"
   ]
  },
  {
   "cell_type": "markdown",
   "id": "technological-sodium",
   "metadata": {},
   "source": [
    "Read in federal level data"
   ]
  },
  {
   "cell_type": "code",
   "execution_count": 26,
   "id": "future-beads",
   "metadata": {},
   "outputs": [],
   "source": [
    "fiscal = pd.read_sas('../../data/fiscal2018', format = 'sas7bdat', encoding='iso-8859-1')"
   ]
  },
  {
   "cell_type": "markdown",
   "id": "unknown-vanilla",
   "metadata": {},
   "source": [
    "Generate list of districts in the state in the federal data"
   ]
  },
  {
   "cell_type": "code",
   "execution_count": 27,
   "id": "portuguese-class",
   "metadata": {},
   "outputs": [],
   "source": [
    "state_fiscal = fiscal[(fiscal['STABBR'] == abbr) & (fiscal['GSHI'] == '12')]"
   ]
  },
  {
   "cell_type": "code",
   "execution_count": 28,
   "id": "convertible-calgary",
   "metadata": {},
   "outputs": [
    {
     "data": {
      "text/plain": [
       "25"
      ]
     },
     "execution_count": 28,
     "metadata": {},
     "output_type": "execute_result"
    }
   ],
   "source": [
    "len(state_fiscal)"
   ]
  },
  {
   "cell_type": "code",
   "execution_count": 29,
   "id": "single-overall",
   "metadata": {},
   "outputs": [
    {
     "data": {
      "text/html": [
       "<div>\n",
       "<style scoped>\n",
       "    .dataframe tbody tr th:only-of-type {\n",
       "        vertical-align: middle;\n",
       "    }\n",
       "\n",
       "    .dataframe tbody tr th {\n",
       "        vertical-align: top;\n",
       "    }\n",
       "\n",
       "    .dataframe thead th {\n",
       "        text-align: right;\n",
       "    }\n",
       "</style>\n",
       "<table border=\"1\" class=\"dataframe\">\n",
       "  <thead>\n",
       "    <tr style=\"text-align: right;\">\n",
       "      <th></th>\n",
       "      <th>LEAID</th>\n",
       "      <th>CENSUSID</th>\n",
       "      <th>FIPST</th>\n",
       "      <th>CONUM</th>\n",
       "      <th>CSA</th>\n",
       "      <th>CBSA</th>\n",
       "      <th>NAME</th>\n",
       "      <th>STNAME</th>\n",
       "      <th>STABBR</th>\n",
       "      <th>SCHLEV</th>\n",
       "      <th>...</th>\n",
       "      <th>FL_66V</th>\n",
       "      <th>FL_W01</th>\n",
       "      <th>FL_W31</th>\n",
       "      <th>FL_W61</th>\n",
       "      <th>FL_V95</th>\n",
       "      <th>FL_V02</th>\n",
       "      <th>FL_K14</th>\n",
       "      <th>FL_CE1</th>\n",
       "      <th>FL_CE2</th>\n",
       "      <th>FL_CE3</th>\n",
       "    </tr>\n",
       "  </thead>\n",
       "  <tbody>\n",
       "    <tr>\n",
       "      <th>6333</th>\n",
       "      <td>2400027</td>\n",
       "      <td>N</td>\n",
       "      <td>24</td>\n",
       "      <td>24510</td>\n",
       "      <td>548</td>\n",
       "      <td>12580</td>\n",
       "      <td>SEED School of Maryland</td>\n",
       "      <td>Maryland</td>\n",
       "      <td>MD</td>\n",
       "      <td>03</td>\n",
       "      <td>...</td>\n",
       "      <td>N</td>\n",
       "      <td>N</td>\n",
       "      <td>N</td>\n",
       "      <td>N</td>\n",
       "      <td>N</td>\n",
       "      <td>N</td>\n",
       "      <td>N</td>\n",
       "      <td>N</td>\n",
       "      <td>N</td>\n",
       "      <td>N</td>\n",
       "    </tr>\n",
       "    <tr>\n",
       "      <th>6334</th>\n",
       "      <td>2400030</td>\n",
       "      <td>21100100130100</td>\n",
       "      <td>24</td>\n",
       "      <td>24001</td>\n",
       "      <td>N</td>\n",
       "      <td>19060</td>\n",
       "      <td>Allegany County Public Schools</td>\n",
       "      <td>Maryland</td>\n",
       "      <td>MD</td>\n",
       "      <td>03</td>\n",
       "      <td>...</td>\n",
       "      <td>R</td>\n",
       "      <td>R</td>\n",
       "      <td>R</td>\n",
       "      <td>R</td>\n",
       "      <td>R</td>\n",
       "      <td>R</td>\n",
       "      <td>R</td>\n",
       "      <td>R</td>\n",
       "      <td>R</td>\n",
       "      <td>M</td>\n",
       "    </tr>\n",
       "    <tr>\n",
       "      <th>6335</th>\n",
       "      <td>2400060</td>\n",
       "      <td>21100200230100</td>\n",
       "      <td>24</td>\n",
       "      <td>24003</td>\n",
       "      <td>548</td>\n",
       "      <td>12580</td>\n",
       "      <td>Anne Arundel County Public Schools</td>\n",
       "      <td>Maryland</td>\n",
       "      <td>MD</td>\n",
       "      <td>03</td>\n",
       "      <td>...</td>\n",
       "      <td>R</td>\n",
       "      <td>R</td>\n",
       "      <td>R</td>\n",
       "      <td>R</td>\n",
       "      <td>R</td>\n",
       "      <td>R</td>\n",
       "      <td>R</td>\n",
       "      <td>R</td>\n",
       "      <td>R</td>\n",
       "      <td>M</td>\n",
       "    </tr>\n",
       "    <tr>\n",
       "      <th>6336</th>\n",
       "      <td>2400090</td>\n",
       "      <td>21200400130100</td>\n",
       "      <td>24</td>\n",
       "      <td>24510</td>\n",
       "      <td>548</td>\n",
       "      <td>12580</td>\n",
       "      <td>Baltimore City Public Schools</td>\n",
       "      <td>Maryland</td>\n",
       "      <td>MD</td>\n",
       "      <td>03</td>\n",
       "      <td>...</td>\n",
       "      <td>R</td>\n",
       "      <td>R</td>\n",
       "      <td>R</td>\n",
       "      <td>R</td>\n",
       "      <td>R</td>\n",
       "      <td>R</td>\n",
       "      <td>R</td>\n",
       "      <td>R</td>\n",
       "      <td>R</td>\n",
       "      <td>M</td>\n",
       "    </tr>\n",
       "    <tr>\n",
       "      <th>6337</th>\n",
       "      <td>2400120</td>\n",
       "      <td>21100300330100</td>\n",
       "      <td>24</td>\n",
       "      <td>24005</td>\n",
       "      <td>548</td>\n",
       "      <td>12580</td>\n",
       "      <td>Baltimore County Public Schools</td>\n",
       "      <td>Maryland</td>\n",
       "      <td>MD</td>\n",
       "      <td>03</td>\n",
       "      <td>...</td>\n",
       "      <td>R</td>\n",
       "      <td>R</td>\n",
       "      <td>R</td>\n",
       "      <td>R</td>\n",
       "      <td>R</td>\n",
       "      <td>R</td>\n",
       "      <td>R</td>\n",
       "      <td>R</td>\n",
       "      <td>R</td>\n",
       "      <td>M</td>\n",
       "    </tr>\n",
       "  </tbody>\n",
       "</table>\n",
       "<p>5 rows × 262 columns</p>\n",
       "</div>"
      ],
      "text/plain": [
       "        LEAID        CENSUSID FIPST  CONUM  CSA   CBSA  \\\n",
       "6333  2400027               N    24  24510  548  12580   \n",
       "6334  2400030  21100100130100    24  24001    N  19060   \n",
       "6335  2400060  21100200230100    24  24003  548  12580   \n",
       "6336  2400090  21200400130100    24  24510  548  12580   \n",
       "6337  2400120  21100300330100    24  24005  548  12580   \n",
       "\n",
       "                                    NAME    STNAME STABBR SCHLEV  ... FL_66V  \\\n",
       "6333             SEED School of Maryland  Maryland     MD     03  ...      N   \n",
       "6334      Allegany County Public Schools  Maryland     MD     03  ...      R   \n",
       "6335  Anne Arundel County Public Schools  Maryland     MD     03  ...      R   \n",
       "6336       Baltimore City Public Schools  Maryland     MD     03  ...      R   \n",
       "6337     Baltimore County Public Schools  Maryland     MD     03  ...      R   \n",
       "\n",
       "     FL_W01 FL_W31 FL_W61 FL_V95 FL_V02  FL_K14  FL_CE1  FL_CE2  FL_CE3  \n",
       "6333      N      N      N      N      N       N       N       N       N  \n",
       "6334      R      R      R      R      R       R       R       R       M  \n",
       "6335      R      R      R      R      R       R       R       R       M  \n",
       "6336      R      R      R      R      R       R       R       R       M  \n",
       "6337      R      R      R      R      R       R       R       R       M  \n",
       "\n",
       "[5 rows x 262 columns]"
      ]
     },
     "execution_count": 29,
     "metadata": {},
     "output_type": "execute_result"
    }
   ],
   "source": [
    "state_fiscal.head()"
   ]
  },
  {
   "cell_type": "markdown",
   "id": "arbitrary-happiness",
   "metadata": {},
   "source": [
    "Read in state level data"
   ]
  },
  {
   "cell_type": "code",
   "execution_count": 33,
   "id": "virtual-dividend",
   "metadata": {},
   "outputs": [],
   "source": [
    "state_grads = pd.read_csv('../../data/state_data_raw/' + file)"
   ]
  },
  {
   "cell_type": "code",
   "execution_count": 34,
   "id": "bizarre-worry",
   "metadata": {},
   "outputs": [
    {
     "data": {
      "text/html": [
       "<div>\n",
       "<style scoped>\n",
       "    .dataframe tbody tr th:only-of-type {\n",
       "        vertical-align: middle;\n",
       "    }\n",
       "\n",
       "    .dataframe tbody tr th {\n",
       "        vertical-align: top;\n",
       "    }\n",
       "\n",
       "    .dataframe thead th {\n",
       "        text-align: right;\n",
       "    }\n",
       "</style>\n",
       "<table border=\"1\" class=\"dataframe\">\n",
       "  <thead>\n",
       "    <tr style=\"text-align: right;\">\n",
       "      <th></th>\n",
       "      <th>Academic Year</th>\n",
       "      <th>LSS Number</th>\n",
       "      <th>LSS Name</th>\n",
       "      <th>School Number</th>\n",
       "      <th>School Name</th>\n",
       "      <th>Cohort</th>\n",
       "      <th>Grad Rate</th>\n",
       "      <th>Diplomas Earned</th>\n",
       "      <th>Adjusted Cohort Count</th>\n",
       "      <th>Create Date</th>\n",
       "    </tr>\n",
       "  </thead>\n",
       "  <tbody>\n",
       "    <tr>\n",
       "      <th>0</th>\n",
       "      <td>2018</td>\n",
       "      <td>01</td>\n",
       "      <td>Allegany</td>\n",
       "      <td>0405</td>\n",
       "      <td>Fort Hill High</td>\n",
       "      <td>5-year adjusted cohort</td>\n",
       "      <td>82.80</td>\n",
       "      <td>154</td>\n",
       "      <td>186</td>\n",
       "      <td>20200117</td>\n",
       "    </tr>\n",
       "    <tr>\n",
       "      <th>1</th>\n",
       "      <td>2018</td>\n",
       "      <td>01</td>\n",
       "      <td>Allegany</td>\n",
       "      <td>0405</td>\n",
       "      <td>Fort Hill High</td>\n",
       "      <td>4-year adjusted cohort</td>\n",
       "      <td>82.61</td>\n",
       "      <td>152</td>\n",
       "      <td>184</td>\n",
       "      <td>20200117</td>\n",
       "    </tr>\n",
       "    <tr>\n",
       "      <th>2</th>\n",
       "      <td>2018</td>\n",
       "      <td>01</td>\n",
       "      <td>Allegany</td>\n",
       "      <td>0405</td>\n",
       "      <td>Fort Hill High</td>\n",
       "      <td>3-year adjusted cohort</td>\n",
       "      <td>&lt;= 5.00</td>\n",
       "      <td>*</td>\n",
       "      <td>182</td>\n",
       "      <td>20200117</td>\n",
       "    </tr>\n",
       "    <tr>\n",
       "      <th>3</th>\n",
       "      <td>2018</td>\n",
       "      <td>01</td>\n",
       "      <td>Allegany</td>\n",
       "      <td>0601</td>\n",
       "      <td>Center for Career &amp; Technical Education</td>\n",
       "      <td>5-year adjusted cohort</td>\n",
       "      <td>&gt;= 95.00</td>\n",
       "      <td>*</td>\n",
       "      <td>123</td>\n",
       "      <td>20200117</td>\n",
       "    </tr>\n",
       "    <tr>\n",
       "      <th>4</th>\n",
       "      <td>2018</td>\n",
       "      <td>01</td>\n",
       "      <td>Allegany</td>\n",
       "      <td>0601</td>\n",
       "      <td>Center for Career &amp; Technical Education</td>\n",
       "      <td>4-year adjusted cohort</td>\n",
       "      <td>92.86</td>\n",
       "      <td>117</td>\n",
       "      <td>126</td>\n",
       "      <td>20200117</td>\n",
       "    </tr>\n",
       "  </tbody>\n",
       "</table>\n",
       "</div>"
      ],
      "text/plain": [
       "   Academic Year LSS Number  LSS Name School Number  \\\n",
       "0           2018         01  Allegany          0405   \n",
       "1           2018         01  Allegany          0405   \n",
       "2           2018         01  Allegany          0405   \n",
       "3           2018         01  Allegany          0601   \n",
       "4           2018         01  Allegany          0601   \n",
       "\n",
       "                               School Name                  Cohort Grad Rate  \\\n",
       "0                           Fort Hill High  5-year adjusted cohort     82.80   \n",
       "1                           Fort Hill High  4-year adjusted cohort     82.61   \n",
       "2                           Fort Hill High  3-year adjusted cohort   <= 5.00   \n",
       "3  Center for Career & Technical Education  5-year adjusted cohort  >= 95.00   \n",
       "4  Center for Career & Technical Education  4-year adjusted cohort     92.86   \n",
       "\n",
       "  Diplomas Earned Adjusted Cohort Count  Create Date  \n",
       "0             154                   186     20200117  \n",
       "1             152                   184     20200117  \n",
       "2               *                   182     20200117  \n",
       "3               *                   123     20200117  \n",
       "4             117                   126     20200117  "
      ]
     },
     "execution_count": 34,
     "metadata": {},
     "output_type": "execute_result"
    }
   ],
   "source": [
    "state_grads.head()"
   ]
  },
  {
   "cell_type": "markdown",
   "id": "representative-station",
   "metadata": {},
   "source": [
    "Filter results."
   ]
  },
  {
   "cell_type": "code",
   "execution_count": 35,
   "id": "rising-actor",
   "metadata": {},
   "outputs": [],
   "source": [
    "state_grads = state_grads[(state_grads['School Number'] == 'A') &\n",
    "                         (state_grads['Cohort'] == '4-year adjusted cohort')]"
   ]
  },
  {
   "cell_type": "code",
   "execution_count": 37,
   "id": "vital-roads",
   "metadata": {},
   "outputs": [
    {
     "name": "stdout",
     "output_type": "stream",
     "text": [
      "<class 'pandas.core.frame.DataFrame'>\n",
      "Int64Index: 26 entries, 13 to 867\n",
      "Data columns (total 10 columns):\n",
      " #   Column                 Non-Null Count  Dtype \n",
      "---  ------                 --------------  ----- \n",
      " 0   Academic Year          26 non-null     int64 \n",
      " 1   LSS Number             26 non-null     object\n",
      " 2   LSS Name               26 non-null     object\n",
      " 3   School Number          26 non-null     object\n",
      " 4   School Name            26 non-null     object\n",
      " 5   Cohort                 26 non-null     object\n",
      " 6   Grad Rate              26 non-null     object\n",
      " 7   Diplomas Earned        26 non-null     object\n",
      " 8   Adjusted Cohort Count  26 non-null     object\n",
      " 9   Create Date            26 non-null     int64 \n",
      "dtypes: int64(2), object(8)\n",
      "memory usage: 2.2+ KB\n"
     ]
    }
   ],
   "source": [
    "state_grads.info()"
   ]
  },
  {
   "cell_type": "markdown",
   "id": "neural-ranking",
   "metadata": {},
   "source": [
    "Select and rename columns."
   ]
  },
  {
   "cell_type": "code",
   "execution_count": 38,
   "id": "reasonable-collins",
   "metadata": {},
   "outputs": [],
   "source": [
    "state_grads = state_grads[['LSS Name', 'Adjusted Cohort Count', 'Grad Rate']]"
   ]
  },
  {
   "cell_type": "code",
   "execution_count": 39,
   "id": "distinguished-temperature",
   "metadata": {},
   "outputs": [],
   "source": [
    "state_grads.columns = ['District Name', 'Total', 'Graduation Rate']"
   ]
  },
  {
   "cell_type": "code",
   "execution_count": 45,
   "id": "marked-tuner",
   "metadata": {},
   "outputs": [
    {
     "data": {
      "text/html": [
       "<div>\n",
       "<style scoped>\n",
       "    .dataframe tbody tr th:only-of-type {\n",
       "        vertical-align: middle;\n",
       "    }\n",
       "\n",
       "    .dataframe tbody tr th {\n",
       "        vertical-align: top;\n",
       "    }\n",
       "\n",
       "    .dataframe thead th {\n",
       "        text-align: right;\n",
       "    }\n",
       "</style>\n",
       "<table border=\"1\" class=\"dataframe\">\n",
       "  <thead>\n",
       "    <tr style=\"text-align: right;\">\n",
       "      <th></th>\n",
       "      <th>District Name</th>\n",
       "      <th>Total</th>\n",
       "      <th>Graduation Rate</th>\n",
       "    </tr>\n",
       "  </thead>\n",
       "  <tbody>\n",
       "    <tr>\n",
       "      <th>13</th>\n",
       "      <td>Allegany</td>\n",
       "      <td>687</td>\n",
       "      <td>90.39</td>\n",
       "    </tr>\n",
       "    <tr>\n",
       "      <th>70</th>\n",
       "      <td>Anne Arundel</td>\n",
       "      <td>5757</td>\n",
       "      <td>89.20</td>\n",
       "    </tr>\n",
       "    <tr>\n",
       "      <th>172</th>\n",
       "      <td>Baltimore County</td>\n",
       "      <td>7916</td>\n",
       "      <td>89.16</td>\n",
       "    </tr>\n",
       "    <tr>\n",
       "      <th>193</th>\n",
       "      <td>Calvert</td>\n",
       "      <td>1304</td>\n",
       "      <td>93.94</td>\n",
       "    </tr>\n",
       "    <tr>\n",
       "      <th>202</th>\n",
       "      <td>Caroline</td>\n",
       "      <td>389</td>\n",
       "      <td>88.69</td>\n",
       "    </tr>\n",
       "    <tr>\n",
       "      <th>...</th>\n",
       "      <td>...</td>\n",
       "      <td>...</td>\n",
       "      <td>...</td>\n",
       "    </tr>\n",
       "    <tr>\n",
       "      <th>723</th>\n",
       "      <td>Wicomico</td>\n",
       "      <td>1049</td>\n",
       "      <td>83.22</td>\n",
       "    </tr>\n",
       "    <tr>\n",
       "      <th>738</th>\n",
       "      <td>Worcester</td>\n",
       "      <td>482</td>\n",
       "      <td>92.53</td>\n",
       "    </tr>\n",
       "    <tr>\n",
       "      <th>858</th>\n",
       "      <td>Baltimore City</td>\n",
       "      <td>5195</td>\n",
       "      <td>72.18</td>\n",
       "    </tr>\n",
       "    <tr>\n",
       "      <th>864</th>\n",
       "      <td>SEED</td>\n",
       "      <td>34</td>\n",
       "      <td>88.24</td>\n",
       "    </tr>\n",
       "    <tr>\n",
       "      <th>867</th>\n",
       "      <td>All Public Schools</td>\n",
       "      <td>65089</td>\n",
       "      <td>87.12</td>\n",
       "    </tr>\n",
       "  </tbody>\n",
       "</table>\n",
       "<p>26 rows × 3 columns</p>\n",
       "</div>"
      ],
      "text/plain": [
       "          District Name  Total Graduation Rate\n",
       "13             Allegany    687           90.39\n",
       "70         Anne Arundel   5757           89.20\n",
       "172    Baltimore County   7916           89.16\n",
       "193             Calvert   1304           93.94\n",
       "202            Caroline    389           88.69\n",
       "..                  ...    ...             ...\n",
       "723            Wicomico   1049           83.22\n",
       "738           Worcester    482           92.53\n",
       "858      Baltimore City   5195           72.18\n",
       "864                SEED     34           88.24\n",
       "867  All Public Schools  65089           87.12\n",
       "\n",
       "[26 rows x 3 columns]"
      ]
     },
     "execution_count": 45,
     "metadata": {},
     "output_type": "execute_result"
    }
   ],
   "source": [
    "state_grads"
   ]
  },
  {
   "cell_type": "markdown",
   "id": "brave-democracy",
   "metadata": {},
   "source": [
    "Convert data types."
   ]
  },
  {
   "cell_type": "code",
   "execution_count": 48,
   "id": "invisible-crisis",
   "metadata": {},
   "outputs": [
    {
     "name": "stderr",
     "output_type": "stream",
     "text": [
      "/opt/anaconda3/envs/dsi/lib/python3.7/site-packages/ipykernel_launcher.py:1: SettingWithCopyWarning: \n",
      "A value is trying to be set on a copy of a slice from a DataFrame.\n",
      "Try using .loc[row_indexer,col_indexer] = value instead\n",
      "\n",
      "See the caveats in the documentation: https://pandas.pydata.org/pandas-docs/stable/user_guide/indexing.html#returning-a-view-versus-a-copy\n",
      "  \"\"\"Entry point for launching an IPython kernel.\n"
     ]
    }
   ],
   "source": [
    "state_grads['Graduation Rate'] = state_grads['Graduation Rate'].astype(str).str.replace('>= ', '')"
   ]
  },
  {
   "cell_type": "code",
   "execution_count": 49,
   "id": "crucial-effectiveness",
   "metadata": {},
   "outputs": [
    {
     "name": "stderr",
     "output_type": "stream",
     "text": [
      "/opt/anaconda3/envs/dsi/lib/python3.7/site-packages/ipykernel_launcher.py:1: SettingWithCopyWarning: \n",
      "A value is trying to be set on a copy of a slice from a DataFrame.\n",
      "Try using .loc[row_indexer,col_indexer] = value instead\n",
      "\n",
      "See the caveats in the documentation: https://pandas.pydata.org/pandas-docs/stable/user_guide/indexing.html#returning-a-view-versus-a-copy\n",
      "  \"\"\"Entry point for launching an IPython kernel.\n",
      "/opt/anaconda3/envs/dsi/lib/python3.7/site-packages/ipykernel_launcher.py:2: SettingWithCopyWarning: \n",
      "A value is trying to be set on a copy of a slice from a DataFrame.\n",
      "Try using .loc[row_indexer,col_indexer] = value instead\n",
      "\n",
      "See the caveats in the documentation: https://pandas.pydata.org/pandas-docs/stable/user_guide/indexing.html#returning-a-view-versus-a-copy\n",
      "  \n"
     ]
    }
   ],
   "source": [
    "state_grads['Total'] = pd.to_numeric(state_grads['Total'])\n",
    "state_grads['Graduation Rate'] = pd.to_numeric(state_grads['Graduation Rate']) / 100"
   ]
  },
  {
   "cell_type": "markdown",
   "id": "hungarian-taste",
   "metadata": {},
   "source": [
    "Check for matches and non-matches in the two lists"
   ]
  },
  {
   "cell_type": "code",
   "execution_count": 57,
   "id": "coordinate-cylinder",
   "metadata": {},
   "outputs": [
    {
     "name": "stderr",
     "output_type": "stream",
     "text": [
      "/opt/anaconda3/envs/dsi/lib/python3.7/site-packages/ipykernel_launcher.py:1: SettingWithCopyWarning: \n",
      "A value is trying to be set on a copy of a slice from a DataFrame.\n",
      "Try using .loc[row_indexer,col_indexer] = value instead\n",
      "\n",
      "See the caveats in the documentation: https://pandas.pydata.org/pandas-docs/stable/user_guide/indexing.html#returning-a-view-versus-a-copy\n",
      "  \"\"\"Entry point for launching an IPython kernel.\n"
     ]
    }
   ],
   "source": [
    "state_fiscal['NAME'] = state_fiscal['NAME'].astype(str).str.replace(' County Public Schools', '')"
   ]
  },
  {
   "cell_type": "code",
   "execution_count": 58,
   "id": "piano-brunei",
   "metadata": {},
   "outputs": [
    {
     "data": {
      "text/plain": [
       "['Allegany',\n",
       " 'Anne Arundel',\n",
       " 'Calvert',\n",
       " 'Caroline',\n",
       " 'Carroll',\n",
       " 'Cecil',\n",
       " 'Charles',\n",
       " 'Dorchester',\n",
       " 'Frederick',\n",
       " 'Garrett',\n",
       " 'Harford',\n",
       " 'Howard',\n",
       " 'Kent',\n",
       " 'Montgomery',\n",
       " \"Prince George's\",\n",
       " \"Queen Anne's\",\n",
       " 'Somerset',\n",
       " 'Talbot',\n",
       " 'Wicomico',\n",
       " 'Worcester']"
      ]
     },
     "execution_count": 58,
     "metadata": {},
     "output_type": "execute_result"
    }
   ],
   "source": [
    "Matches = [name for name in list(state_grads['District Name']) if name in list(state_fiscal['NAME'])]\n",
    "Matches.sort()\n",
    "Matches"
   ]
  },
  {
   "cell_type": "code",
   "execution_count": 59,
   "id": "jewish-suicide",
   "metadata": {},
   "outputs": [
    {
     "data": {
      "text/plain": [
       "['All Public Schools',\n",
       " 'Baltimore City',\n",
       " 'Baltimore County',\n",
       " 'SEED',\n",
       " \"Saint Mary's\",\n",
       " 'Washington']"
      ]
     },
     "execution_count": 59,
     "metadata": {},
     "output_type": "execute_result"
    }
   ],
   "source": [
    "A = [name for name in list(state_grads['District Name']) if name not in list(state_fiscal['NAME'])]\n",
    "A.sort()\n",
    "A"
   ]
  },
  {
   "cell_type": "code",
   "execution_count": 60,
   "id": "hundred-joseph",
   "metadata": {},
   "outputs": [
    {
     "data": {
      "text/plain": [
       "['Baltimore',\n",
       " 'Baltimore City Public Schools',\n",
       " 'SEED School of Maryland',\n",
       " \"St. Mary's\",\n",
       " 'Washingtion']"
      ]
     },
     "execution_count": 60,
     "metadata": {},
     "output_type": "execute_result"
    }
   ],
   "source": [
    "B = [name for name in list(state_fiscal['NAME']) if name not in list(state_grads['District Name'])]\n",
    "B.sort()\n",
    "B"
   ]
  },
  {
   "cell_type": "markdown",
   "id": "closed-triumph",
   "metadata": {},
   "source": [
    "Rename the remaining samples I can find matches for."
   ]
  },
  {
   "cell_type": "code",
   "execution_count": 61,
   "id": "united-burke",
   "metadata": {},
   "outputs": [],
   "source": [
    "state_fiscal_rename = {\n",
    "    'Baltimore' : 'Baltimore County',\n",
    "    'Baltimore City Public Schools' : 'Baltimore City',\n",
    "    'SEED School of Maryland' : 'SEED',\n",
    "    \"St. Mary's\" : \"Saint Mary's\",\n",
    "    'Washingtion' : 'Washington'\n",
    "}"
   ]
  },
  {
   "cell_type": "code",
   "execution_count": null,
   "id": "former-inflation",
   "metadata": {},
   "outputs": [],
   "source": [
    "stat"
   ]
  },
  {
   "cell_type": "markdown",
   "id": "naked-selection",
   "metadata": {},
   "source": [
    "Merge federal and state data, keeping only matches between the two. "
   ]
  },
  {
   "cell_type": "code",
   "execution_count": 21,
   "id": "acute-russell",
   "metadata": {},
   "outputs": [],
   "source": [
    "state_grads_merged = pd.merge(state_fiscal, state_grads, how='inner', left_on='NAME', right_on='District Name')"
   ]
  },
  {
   "cell_type": "markdown",
   "id": "processed-bunny",
   "metadata": {},
   "source": [
    "Save cleaned data. "
   ]
  },
  {
   "cell_type": "code",
   "execution_count": 22,
   "id": "excellent-maldives",
   "metadata": {},
   "outputs": [],
   "source": [
    "state_grads_merged.to_csv('../../data/state_data_merged/' + abbr + '.csv', index=False)"
   ]
  }
 ],
 "metadata": {
  "kernelspec": {
   "display_name": "Python 3",
   "language": "python",
   "name": "python3"
  },
  "language_info": {
   "codemirror_mode": {
    "name": "ipython",
    "version": 3
   },
   "file_extension": ".py",
   "mimetype": "text/x-python",
   "name": "python",
   "nbconvert_exporter": "python",
   "pygments_lexer": "ipython3",
   "version": "3.7.9"
  }
 },
 "nbformat": 4,
 "nbformat_minor": 5
}
