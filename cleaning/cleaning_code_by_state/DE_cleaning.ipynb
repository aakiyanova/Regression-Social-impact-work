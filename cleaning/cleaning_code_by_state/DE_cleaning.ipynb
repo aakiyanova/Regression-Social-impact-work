{
 "cells": [
  {
   "cell_type": "code",
   "execution_count": 1,
   "id": "instant-latitude",
   "metadata": {},
   "outputs": [],
   "source": [
    "import pandas as pd\n",
    "import numpy as np\n",
    "from tabula import read_pdf"
   ]
  },
  {
   "cell_type": "markdown",
   "id": "prime-today",
   "metadata": {},
   "source": [
    "Read in federal level data"
   ]
  },
  {
   "cell_type": "code",
   "execution_count": 2,
   "id": "lasting-furniture",
   "metadata": {},
   "outputs": [],
   "source": [
    "fiscal = pd.read_sas('../../data/fiscal2018', format = 'sas7bdat', encoding='iso-8859-1')"
   ]
  },
  {
   "cell_type": "markdown",
   "id": "cubic-cabin",
   "metadata": {},
   "source": [
    "Generate list of districts in the state in the federal data"
   ]
  },
  {
   "cell_type": "code",
   "execution_count": 3,
   "id": "cooperative-michigan",
   "metadata": {},
   "outputs": [],
   "source": [
    "fiscal_DE = fiscal[(fiscal['STNAME'] == 'Delaware') & (fiscal['GSHI'] == '12')]"
   ]
  },
  {
   "cell_type": "code",
   "execution_count": 4,
   "id": "retired-convertible",
   "metadata": {},
   "outputs": [
    {
     "data": {
      "text/plain": [
       "27"
      ]
     },
     "execution_count": 4,
     "metadata": {},
     "output_type": "execute_result"
    }
   ],
   "source": [
    "len(fiscal_DE)"
   ]
  },
  {
   "cell_type": "code",
   "execution_count": 5,
   "id": "fitted-seven",
   "metadata": {},
   "outputs": [
    {
     "data": {
      "text/html": [
       "<div>\n",
       "<style scoped>\n",
       "    .dataframe tbody tr th:only-of-type {\n",
       "        vertical-align: middle;\n",
       "    }\n",
       "\n",
       "    .dataframe tbody tr th {\n",
       "        vertical-align: top;\n",
       "    }\n",
       "\n",
       "    .dataframe thead th {\n",
       "        text-align: right;\n",
       "    }\n",
       "</style>\n",
       "<table border=\"1\" class=\"dataframe\">\n",
       "  <thead>\n",
       "    <tr style=\"text-align: right;\">\n",
       "      <th></th>\n",
       "      <th>LEAID</th>\n",
       "      <th>CENSUSID</th>\n",
       "      <th>FIPST</th>\n",
       "      <th>CONUM</th>\n",
       "      <th>CSA</th>\n",
       "      <th>CBSA</th>\n",
       "      <th>NAME</th>\n",
       "      <th>STNAME</th>\n",
       "      <th>STABBR</th>\n",
       "      <th>SCHLEV</th>\n",
       "      <th>...</th>\n",
       "      <th>FL_66V</th>\n",
       "      <th>FL_W01</th>\n",
       "      <th>FL_W31</th>\n",
       "      <th>FL_W61</th>\n",
       "      <th>FL_V95</th>\n",
       "      <th>FL_V02</th>\n",
       "      <th>FL_K14</th>\n",
       "      <th>FL_CE1</th>\n",
       "      <th>FL_CE2</th>\n",
       "      <th>FL_CE3</th>\n",
       "    </tr>\n",
       "  </thead>\n",
       "  <tbody>\n",
       "    <tr>\n",
       "      <th>2895</th>\n",
       "      <td>1000004</td>\n",
       "      <td>N</td>\n",
       "      <td>10</td>\n",
       "      <td>10003</td>\n",
       "      <td>428</td>\n",
       "      <td>37980</td>\n",
       "      <td>Charter School of Wilmington</td>\n",
       "      <td>Delaware</td>\n",
       "      <td>DE</td>\n",
       "      <td>02</td>\n",
       "      <td>...</td>\n",
       "      <td>R</td>\n",
       "      <td>M</td>\n",
       "      <td>M</td>\n",
       "      <td>M</td>\n",
       "      <td>R</td>\n",
       "      <td>R</td>\n",
       "      <td>M</td>\n",
       "      <td>R</td>\n",
       "      <td>R</td>\n",
       "      <td>R</td>\n",
       "    </tr>\n",
       "    <tr>\n",
       "      <th>2896</th>\n",
       "      <td>1000005</td>\n",
       "      <td>N</td>\n",
       "      <td>10</td>\n",
       "      <td>10001</td>\n",
       "      <td>428</td>\n",
       "      <td>20100</td>\n",
       "      <td>Positive Outcomes Charter School</td>\n",
       "      <td>Delaware</td>\n",
       "      <td>DE</td>\n",
       "      <td>02</td>\n",
       "      <td>...</td>\n",
       "      <td>R</td>\n",
       "      <td>M</td>\n",
       "      <td>M</td>\n",
       "      <td>M</td>\n",
       "      <td>R</td>\n",
       "      <td>R</td>\n",
       "      <td>M</td>\n",
       "      <td>I</td>\n",
       "      <td>R</td>\n",
       "      <td>R</td>\n",
       "    </tr>\n",
       "    <tr>\n",
       "      <th>2900</th>\n",
       "      <td>1000011</td>\n",
       "      <td>N</td>\n",
       "      <td>10</td>\n",
       "      <td>10005</td>\n",
       "      <td>N</td>\n",
       "      <td>41540</td>\n",
       "      <td>Sussex Academy</td>\n",
       "      <td>Delaware</td>\n",
       "      <td>DE</td>\n",
       "      <td>03</td>\n",
       "      <td>...</td>\n",
       "      <td>R</td>\n",
       "      <td>M</td>\n",
       "      <td>M</td>\n",
       "      <td>M</td>\n",
       "      <td>R</td>\n",
       "      <td>R</td>\n",
       "      <td>M</td>\n",
       "      <td>R</td>\n",
       "      <td>R</td>\n",
       "      <td>R</td>\n",
       "    </tr>\n",
       "    <tr>\n",
       "      <th>2902</th>\n",
       "      <td>1000015</td>\n",
       "      <td>N</td>\n",
       "      <td>10</td>\n",
       "      <td>10003</td>\n",
       "      <td>428</td>\n",
       "      <td>37980</td>\n",
       "      <td>Newark Charter School</td>\n",
       "      <td>Delaware</td>\n",
       "      <td>DE</td>\n",
       "      <td>03</td>\n",
       "      <td>...</td>\n",
       "      <td>R</td>\n",
       "      <td>M</td>\n",
       "      <td>M</td>\n",
       "      <td>M</td>\n",
       "      <td>R</td>\n",
       "      <td>R</td>\n",
       "      <td>M</td>\n",
       "      <td>R</td>\n",
       "      <td>R</td>\n",
       "      <td>R</td>\n",
       "    </tr>\n",
       "    <tr>\n",
       "      <th>2903</th>\n",
       "      <td>1000016</td>\n",
       "      <td>N</td>\n",
       "      <td>10</td>\n",
       "      <td>10003</td>\n",
       "      <td>428</td>\n",
       "      <td>37980</td>\n",
       "      <td>Delaware Military Academy</td>\n",
       "      <td>Delaware</td>\n",
       "      <td>DE</td>\n",
       "      <td>02</td>\n",
       "      <td>...</td>\n",
       "      <td>R</td>\n",
       "      <td>M</td>\n",
       "      <td>M</td>\n",
       "      <td>M</td>\n",
       "      <td>R</td>\n",
       "      <td>R</td>\n",
       "      <td>M</td>\n",
       "      <td>R</td>\n",
       "      <td>R</td>\n",
       "      <td>R</td>\n",
       "    </tr>\n",
       "  </tbody>\n",
       "</table>\n",
       "<p>5 rows × 262 columns</p>\n",
       "</div>"
      ],
      "text/plain": [
       "        LEAID CENSUSID FIPST  CONUM  CSA   CBSA  \\\n",
       "2895  1000004        N    10  10003  428  37980   \n",
       "2896  1000005        N    10  10001  428  20100   \n",
       "2900  1000011        N    10  10005    N  41540   \n",
       "2902  1000015        N    10  10003  428  37980   \n",
       "2903  1000016        N    10  10003  428  37980   \n",
       "\n",
       "                                  NAME    STNAME STABBR SCHLEV  ... FL_66V  \\\n",
       "2895      Charter School of Wilmington  Delaware     DE     02  ...      R   \n",
       "2896  Positive Outcomes Charter School  Delaware     DE     02  ...      R   \n",
       "2900                    Sussex Academy  Delaware     DE     03  ...      R   \n",
       "2902             Newark Charter School  Delaware     DE     03  ...      R   \n",
       "2903         Delaware Military Academy  Delaware     DE     02  ...      R   \n",
       "\n",
       "     FL_W01 FL_W31 FL_W61 FL_V95 FL_V02  FL_K14  FL_CE1  FL_CE2  FL_CE3  \n",
       "2895      M      M      M      R      R       M       R       R       R  \n",
       "2896      M      M      M      R      R       M       I       R       R  \n",
       "2900      M      M      M      R      R       M       R       R       R  \n",
       "2902      M      M      M      R      R       M       R       R       R  \n",
       "2903      M      M      M      R      R       M       R       R       R  \n",
       "\n",
       "[5 rows x 262 columns]"
      ]
     },
     "execution_count": 5,
     "metadata": {},
     "output_type": "execute_result"
    }
   ],
   "source": [
    "fiscal_DE.head()"
   ]
  },
  {
   "cell_type": "markdown",
   "id": "speaking-familiar",
   "metadata": {},
   "source": [
    "Read in state level data"
   ]
  },
  {
   "cell_type": "code",
   "execution_count": 6,
   "id": "identical-buying",
   "metadata": {},
   "outputs": [],
   "source": [
    "DE_pdf = read_pdf('../../data/state_data_raw/delaware2018.pdf', pages=5)\n",
    "DE = DE_pdf[0]"
   ]
  },
  {
   "cell_type": "code",
   "execution_count": 7,
   "id": "southern-beauty",
   "metadata": {},
   "outputs": [
    {
     "data": {
      "text/html": [
       "<div>\n",
       "<style scoped>\n",
       "    .dataframe tbody tr th:only-of-type {\n",
       "        vertical-align: middle;\n",
       "    }\n",
       "\n",
       "    .dataframe tbody tr th {\n",
       "        vertical-align: top;\n",
       "    }\n",
       "\n",
       "    .dataframe thead th {\n",
       "        text-align: right;\n",
       "    }\n",
       "</style>\n",
       "<table border=\"1\" class=\"dataframe\">\n",
       "  <thead>\n",
       "    <tr style=\"text-align: right;\">\n",
       "      <th></th>\n",
       "      <th>District/Charter</th>\n",
       "      <th>2016</th>\n",
       "      <th>2017</th>\n",
       "      <th>2018</th>\n",
       "    </tr>\n",
       "  </thead>\n",
       "  <tbody>\n",
       "    <tr>\n",
       "      <th>0</th>\n",
       "      <td>Appoquinimink School District</td>\n",
       "      <td>89.82%</td>\n",
       "      <td>94.61%</td>\n",
       "      <td>&gt;95.00%</td>\n",
       "    </tr>\n",
       "    <tr>\n",
       "      <th>1</th>\n",
       "      <td>Brandywine School District</td>\n",
       "      <td>89.68%</td>\n",
       "      <td>84.81%</td>\n",
       "      <td>84.99%</td>\n",
       "    </tr>\n",
       "    <tr>\n",
       "      <th>2</th>\n",
       "      <td>Caesar Rodney School District</td>\n",
       "      <td>84.82%</td>\n",
       "      <td>89.46%</td>\n",
       "      <td>91.37%</td>\n",
       "    </tr>\n",
       "    <tr>\n",
       "      <th>3</th>\n",
       "      <td>Cape Henlopen School District</td>\n",
       "      <td>88.85%</td>\n",
       "      <td>87.35%</td>\n",
       "      <td>91.01%</td>\n",
       "    </tr>\n",
       "    <tr>\n",
       "      <th>4</th>\n",
       "      <td>Capital School District</td>\n",
       "      <td>80.71%</td>\n",
       "      <td>84.41%</td>\n",
       "      <td>77.08%</td>\n",
       "    </tr>\n",
       "    <tr>\n",
       "      <th>5</th>\n",
       "      <td>Christina School District</td>\n",
       "      <td>69.39%</td>\n",
       "      <td>69.51%</td>\n",
       "      <td>72.73%</td>\n",
       "    </tr>\n",
       "    <tr>\n",
       "      <th>6</th>\n",
       "      <td>Colonial School District</td>\n",
       "      <td>70.20%</td>\n",
       "      <td>79.85%</td>\n",
       "      <td>79.18%</td>\n",
       "    </tr>\n",
       "    <tr>\n",
       "      <th>7</th>\n",
       "      <td>Delaware Academy of Public Safety and Security</td>\n",
       "      <td>81.63%</td>\n",
       "      <td>80.70%</td>\n",
       "      <td>84.31%</td>\n",
       "    </tr>\n",
       "    <tr>\n",
       "      <th>8</th>\n",
       "      <td>Delmar School District</td>\n",
       "      <td>82.24%</td>\n",
       "      <td>91.08%</td>\n",
       "      <td>92.36%</td>\n",
       "    </tr>\n",
       "    <tr>\n",
       "      <th>9</th>\n",
       "      <td>Design Thinking Academy</td>\n",
       "      <td>N/A</td>\n",
       "      <td>N/A</td>\n",
       "      <td>86.54%</td>\n",
       "    </tr>\n",
       "  </tbody>\n",
       "</table>\n",
       "</div>"
      ],
      "text/plain": [
       "                                 District/Charter    2016    2017     2018\n",
       "0                   Appoquinimink School District  89.82%  94.61%  >95.00%\n",
       "1                      Brandywine School District  89.68%  84.81%   84.99%\n",
       "2                   Caesar Rodney School District  84.82%  89.46%   91.37%\n",
       "3                   Cape Henlopen School District  88.85%  87.35%   91.01%\n",
       "4                         Capital School District  80.71%  84.41%   77.08%\n",
       "5                       Christina School District  69.39%  69.51%   72.73%\n",
       "6                        Colonial School District  70.20%  79.85%   79.18%\n",
       "7  Delaware Academy of Public Safety and Security  81.63%  80.70%   84.31%\n",
       "8                          Delmar School District  82.24%  91.08%   92.36%\n",
       "9                         Design Thinking Academy     N/A     N/A   86.54%"
      ]
     },
     "execution_count": 7,
     "metadata": {},
     "output_type": "execute_result"
    }
   ],
   "source": [
    "DE.head(10)"
   ]
  },
  {
   "cell_type": "markdown",
   "id": "demanding-jamaica",
   "metadata": {},
   "source": [
    "Drop and rename columns."
   ]
  },
  {
   "cell_type": "code",
   "execution_count": 8,
   "id": "vertical-smell",
   "metadata": {},
   "outputs": [],
   "source": [
    "DE['Total'] = np.full_like(DE['2018'], '')"
   ]
  },
  {
   "cell_type": "code",
   "execution_count": 9,
   "id": "atlantic-communications",
   "metadata": {},
   "outputs": [],
   "source": [
    "DE = DE[['District/Charter', 'Total', '2018']]"
   ]
  },
  {
   "cell_type": "code",
   "execution_count": 10,
   "id": "tested-memorial",
   "metadata": {},
   "outputs": [],
   "source": [
    "DE.columns = ['District Name', 'Total', 'Graduation Rate']"
   ]
  },
  {
   "cell_type": "code",
   "execution_count": 11,
   "id": "weekly-richardson",
   "metadata": {},
   "outputs": [
    {
     "data": {
      "text/html": [
       "<div>\n",
       "<style scoped>\n",
       "    .dataframe tbody tr th:only-of-type {\n",
       "        vertical-align: middle;\n",
       "    }\n",
       "\n",
       "    .dataframe tbody tr th {\n",
       "        vertical-align: top;\n",
       "    }\n",
       "\n",
       "    .dataframe thead th {\n",
       "        text-align: right;\n",
       "    }\n",
       "</style>\n",
       "<table border=\"1\" class=\"dataframe\">\n",
       "  <thead>\n",
       "    <tr style=\"text-align: right;\">\n",
       "      <th></th>\n",
       "      <th>District Name</th>\n",
       "      <th>Total</th>\n",
       "      <th>Graduation Rate</th>\n",
       "    </tr>\n",
       "  </thead>\n",
       "  <tbody>\n",
       "    <tr>\n",
       "      <th>0</th>\n",
       "      <td>Appoquinimink School District</td>\n",
       "      <td></td>\n",
       "      <td>&gt;95.00%</td>\n",
       "    </tr>\n",
       "    <tr>\n",
       "      <th>1</th>\n",
       "      <td>Brandywine School District</td>\n",
       "      <td></td>\n",
       "      <td>84.99%</td>\n",
       "    </tr>\n",
       "    <tr>\n",
       "      <th>2</th>\n",
       "      <td>Caesar Rodney School District</td>\n",
       "      <td></td>\n",
       "      <td>91.37%</td>\n",
       "    </tr>\n",
       "    <tr>\n",
       "      <th>3</th>\n",
       "      <td>Cape Henlopen School District</td>\n",
       "      <td></td>\n",
       "      <td>91.01%</td>\n",
       "    </tr>\n",
       "    <tr>\n",
       "      <th>4</th>\n",
       "      <td>Capital School District</td>\n",
       "      <td></td>\n",
       "      <td>77.08%</td>\n",
       "    </tr>\n",
       "    <tr>\n",
       "      <th>5</th>\n",
       "      <td>Christina School District</td>\n",
       "      <td></td>\n",
       "      <td>72.73%</td>\n",
       "    </tr>\n",
       "    <tr>\n",
       "      <th>6</th>\n",
       "      <td>Colonial School District</td>\n",
       "      <td></td>\n",
       "      <td>79.18%</td>\n",
       "    </tr>\n",
       "    <tr>\n",
       "      <th>7</th>\n",
       "      <td>Delaware Academy of Public Safety and Security</td>\n",
       "      <td></td>\n",
       "      <td>84.31%</td>\n",
       "    </tr>\n",
       "    <tr>\n",
       "      <th>8</th>\n",
       "      <td>Delmar School District</td>\n",
       "      <td></td>\n",
       "      <td>92.36%</td>\n",
       "    </tr>\n",
       "    <tr>\n",
       "      <th>9</th>\n",
       "      <td>Design Thinking Academy</td>\n",
       "      <td></td>\n",
       "      <td>86.54%</td>\n",
       "    </tr>\n",
       "    <tr>\n",
       "      <th>10</th>\n",
       "      <td>Early College High School at Del State</td>\n",
       "      <td></td>\n",
       "      <td>87.84%</td>\n",
       "    </tr>\n",
       "    <tr>\n",
       "      <th>11</th>\n",
       "      <td>First State Military Academy</td>\n",
       "      <td></td>\n",
       "      <td>75.00%</td>\n",
       "    </tr>\n",
       "    <tr>\n",
       "      <th>12</th>\n",
       "      <td>Indian River School District</td>\n",
       "      <td></td>\n",
       "      <td>88.40%</td>\n",
       "    </tr>\n",
       "    <tr>\n",
       "      <th>13</th>\n",
       "      <td>Lake Forest School District</td>\n",
       "      <td></td>\n",
       "      <td>83.33%</td>\n",
       "    </tr>\n",
       "    <tr>\n",
       "      <th>14</th>\n",
       "      <td>Laurel School District</td>\n",
       "      <td></td>\n",
       "      <td>86.40%</td>\n",
       "    </tr>\n",
       "    <tr>\n",
       "      <th>15</th>\n",
       "      <td>Milford School District</td>\n",
       "      <td></td>\n",
       "      <td>87.39%</td>\n",
       "    </tr>\n",
       "    <tr>\n",
       "      <th>16</th>\n",
       "      <td>MOT Charter School</td>\n",
       "      <td></td>\n",
       "      <td>&gt;95.00%</td>\n",
       "    </tr>\n",
       "    <tr>\n",
       "      <th>17</th>\n",
       "      <td>New Castle County Vocational-Technical School</td>\n",
       "      <td></td>\n",
       "      <td>94.75%</td>\n",
       "    </tr>\n",
       "    <tr>\n",
       "      <th>18</th>\n",
       "      <td>Newark Charter School</td>\n",
       "      <td></td>\n",
       "      <td>&gt;95.00%</td>\n",
       "    </tr>\n",
       "    <tr>\n",
       "      <th>19</th>\n",
       "      <td>POLYTECH School District</td>\n",
       "      <td></td>\n",
       "      <td>&gt;95.00%</td>\n",
       "    </tr>\n",
       "    <tr>\n",
       "      <th>20</th>\n",
       "      <td>Positive Outcomes Charter School</td>\n",
       "      <td></td>\n",
       "      <td>70.37%</td>\n",
       "    </tr>\n",
       "    <tr>\n",
       "      <th>21</th>\n",
       "      <td>Red Clay Consolidated School District\\r(includ...</td>\n",
       "      <td></td>\n",
       "      <td>89.61%</td>\n",
       "    </tr>\n",
       "    <tr>\n",
       "      <th>22</th>\n",
       "      <td>Seaford School District</td>\n",
       "      <td></td>\n",
       "      <td>74.24%</td>\n",
       "    </tr>\n",
       "    <tr>\n",
       "      <th>23</th>\n",
       "      <td>Smyrna School District</td>\n",
       "      <td></td>\n",
       "      <td>92.80%</td>\n",
       "    </tr>\n",
       "    <tr>\n",
       "      <th>24</th>\n",
       "      <td>Sussex Academy</td>\n",
       "      <td></td>\n",
       "      <td>&gt;95.00%</td>\n",
       "    </tr>\n",
       "    <tr>\n",
       "      <th>25</th>\n",
       "      <td>Sussex Technical School District</td>\n",
       "      <td></td>\n",
       "      <td>&gt;95.00%</td>\n",
       "    </tr>\n",
       "    <tr>\n",
       "      <th>26</th>\n",
       "      <td>Woodbridge School District</td>\n",
       "      <td></td>\n",
       "      <td>80.95%</td>\n",
       "    </tr>\n",
       "  </tbody>\n",
       "</table>\n",
       "</div>"
      ],
      "text/plain": [
       "                                        District Name Total Graduation Rate\n",
       "0                       Appoquinimink School District               >95.00%\n",
       "1                          Brandywine School District                84.99%\n",
       "2                       Caesar Rodney School District                91.37%\n",
       "3                       Cape Henlopen School District                91.01%\n",
       "4                             Capital School District                77.08%\n",
       "5                           Christina School District                72.73%\n",
       "6                            Colonial School District                79.18%\n",
       "7      Delaware Academy of Public Safety and Security                84.31%\n",
       "8                              Delmar School District                92.36%\n",
       "9                             Design Thinking Academy                86.54%\n",
       "10             Early College High School at Del State                87.84%\n",
       "11                       First State Military Academy                75.00%\n",
       "12                       Indian River School District                88.40%\n",
       "13                        Lake Forest School District                83.33%\n",
       "14                             Laurel School District                86.40%\n",
       "15                            Milford School District                87.39%\n",
       "16                                 MOT Charter School               >95.00%\n",
       "17      New Castle County Vocational-Technical School                94.75%\n",
       "18                              Newark Charter School               >95.00%\n",
       "19                           POLYTECH School District               >95.00%\n",
       "20                   Positive Outcomes Charter School                70.37%\n",
       "21  Red Clay Consolidated School District\\r(includ...                89.61%\n",
       "22                            Seaford School District                74.24%\n",
       "23                             Smyrna School District                92.80%\n",
       "24                                     Sussex Academy               >95.00%\n",
       "25                   Sussex Technical School District               >95.00%\n",
       "26                         Woodbridge School District                80.95%"
      ]
     },
     "execution_count": 11,
     "metadata": {},
     "output_type": "execute_result"
    }
   ],
   "source": [
    "DE"
   ]
  },
  {
   "cell_type": "code",
   "execution_count": 12,
   "id": "informational-warrior",
   "metadata": {},
   "outputs": [
    {
     "name": "stdout",
     "output_type": "stream",
     "text": [
      "<class 'pandas.core.frame.DataFrame'>\n",
      "RangeIndex: 27 entries, 0 to 26\n",
      "Data columns (total 3 columns):\n",
      " #   Column           Non-Null Count  Dtype \n",
      "---  ------           --------------  ----- \n",
      " 0   District Name    27 non-null     object\n",
      " 1   Total            27 non-null     object\n",
      " 2   Graduation Rate  27 non-null     object\n",
      "dtypes: object(3)\n",
      "memory usage: 776.0+ bytes\n"
     ]
    }
   ],
   "source": [
    "DE.info()"
   ]
  },
  {
   "cell_type": "markdown",
   "id": "indie-privacy",
   "metadata": {},
   "source": [
    "Convert data types."
   ]
  },
  {
   "cell_type": "code",
   "execution_count": 13,
   "id": "corresponding-spank",
   "metadata": {},
   "outputs": [
    {
     "name": "stderr",
     "output_type": "stream",
     "text": [
      "/opt/anaconda3/envs/dsi/lib/python3.7/site-packages/ipykernel_launcher.py:1: SettingWithCopyWarning: \n",
      "A value is trying to be set on a copy of a slice from a DataFrame.\n",
      "Try using .loc[row_indexer,col_indexer] = value instead\n",
      "\n",
      "See the caveats in the documentation: https://pandas.pydata.org/pandas-docs/stable/user_guide/indexing.html#returning-a-view-versus-a-copy\n",
      "  \"\"\"Entry point for launching an IPython kernel.\n",
      "/opt/anaconda3/envs/dsi/lib/python3.7/site-packages/ipykernel_launcher.py:2: SettingWithCopyWarning: \n",
      "A value is trying to be set on a copy of a slice from a DataFrame.\n",
      "Try using .loc[row_indexer,col_indexer] = value instead\n",
      "\n",
      "See the caveats in the documentation: https://pandas.pydata.org/pandas-docs/stable/user_guide/indexing.html#returning-a-view-versus-a-copy\n",
      "  \n"
     ]
    }
   ],
   "source": [
    "DE['Graduation Rate'] = DE['Graduation Rate'].astype(str).str.replace('>', '')\n",
    "DE['Graduation Rate'] = DE['Graduation Rate'].astype(str).str.replace('%', '')"
   ]
  },
  {
   "cell_type": "code",
   "execution_count": 14,
   "id": "failing-radical",
   "metadata": {},
   "outputs": [
    {
     "name": "stderr",
     "output_type": "stream",
     "text": [
      "/opt/anaconda3/envs/dsi/lib/python3.7/site-packages/ipykernel_launcher.py:1: SettingWithCopyWarning: \n",
      "A value is trying to be set on a copy of a slice from a DataFrame.\n",
      "Try using .loc[row_indexer,col_indexer] = value instead\n",
      "\n",
      "See the caveats in the documentation: https://pandas.pydata.org/pandas-docs/stable/user_guide/indexing.html#returning-a-view-versus-a-copy\n",
      "  \"\"\"Entry point for launching an IPython kernel.\n",
      "/opt/anaconda3/envs/dsi/lib/python3.7/site-packages/ipykernel_launcher.py:2: SettingWithCopyWarning: \n",
      "A value is trying to be set on a copy of a slice from a DataFrame.\n",
      "Try using .loc[row_indexer,col_indexer] = value instead\n",
      "\n",
      "See the caveats in the documentation: https://pandas.pydata.org/pandas-docs/stable/user_guide/indexing.html#returning-a-view-versus-a-copy\n",
      "  \n"
     ]
    }
   ],
   "source": [
    "DE['Total'] = pd.to_numeric(DE['Total'])\n",
    "DE['Graduation Rate'] = pd.to_numeric(DE['Graduation Rate']) / 100"
   ]
  },
  {
   "cell_type": "markdown",
   "id": "likely-occurrence",
   "metadata": {},
   "source": [
    "Check for matches and non-matches in the two lists"
   ]
  },
  {
   "cell_type": "code",
   "execution_count": 15,
   "id": "another-catch",
   "metadata": {},
   "outputs": [
    {
     "data": {
      "text/plain": [
       "['Appoquinimink School District',\n",
       " 'Brandywine School District',\n",
       " 'Caesar Rodney School District',\n",
       " 'Cape Henlopen School District',\n",
       " 'Capital School District',\n",
       " 'Christina School District',\n",
       " 'Colonial School District',\n",
       " 'Delaware Academy of Public Safety and Security',\n",
       " 'Delmar School District',\n",
       " 'Indian River School District',\n",
       " 'Lake Forest School District',\n",
       " 'Laurel School District',\n",
       " 'Milford School District',\n",
       " 'Newark Charter School',\n",
       " 'POLYTECH School District',\n",
       " 'Positive Outcomes Charter School',\n",
       " 'Seaford School District',\n",
       " 'Smyrna School District',\n",
       " 'Sussex Academy',\n",
       " 'Sussex Technical School District',\n",
       " 'Woodbridge School District']"
      ]
     },
     "execution_count": 15,
     "metadata": {},
     "output_type": "execute_result"
    }
   ],
   "source": [
    "Matches = [name for name in list(DE['District Name']) if name.lower() in [low.lower() for low in fiscal_DE['NAME']]]\n",
    "Matches.sort()\n",
    "Matches"
   ]
  },
  {
   "cell_type": "code",
   "execution_count": 16,
   "id": "boolean-ultimate",
   "metadata": {},
   "outputs": [
    {
     "data": {
      "text/plain": [
       "['Design Thinking Academy',\n",
       " 'Early College High School at Del State',\n",
       " 'First State Military Academy',\n",
       " 'MOT Charter School',\n",
       " 'New Castle County Vocational-Technical School',\n",
       " 'Red Clay Consolidated School District\\r(includes Charter School of Wilmington and Delaware Military Academy)']"
      ]
     },
     "execution_count": 16,
     "metadata": {},
     "output_type": "execute_result"
    }
   ],
   "source": [
    "A = [name for name in list(DE['District Name']) if name.lower() not in [low.lower() for low in fiscal_DE['NAME']]]\n",
    "A.sort()\n",
    "A"
   ]
  },
  {
   "cell_type": "code",
   "execution_count": 17,
   "id": "deadly-queensland",
   "metadata": {},
   "outputs": [
    {
     "data": {
      "text/plain": [
       "['Charter School of Wilmington',\n",
       " 'Delaware Design-Lab High School',\n",
       " 'Delaware Military Academy',\n",
       " 'Early College High School at Delaware State University',\n",
       " 'New Castle County Vocational-Technical School District',\n",
       " 'Red Clay Consolidated School District']"
      ]
     },
     "execution_count": 17,
     "metadata": {},
     "output_type": "execute_result"
    }
   ],
   "source": [
    "B = [name for name in list(fiscal_DE['NAME']) if name.lower() not in [low.lower() for low in DE['District Name']]]\n",
    "B.sort()\n",
    "B"
   ]
  },
  {
   "cell_type": "markdown",
   "id": "economic-checkout",
   "metadata": {},
   "source": [
    "Replace the names I can find matches for."
   ]
  },
  {
   "cell_type": "code",
   "execution_count": 18,
   "id": "limited-specialist",
   "metadata": {},
   "outputs": [],
   "source": [
    "DE_rename = {\n",
    "    'Design Thinking Academy' : 'Delaware Design-Lab High School',\n",
    "    'Early College High School at Del State' : 'Early College High School at Delaware State University',\n",
    "    'First State Military Academy' : 'Delaware Military Academy',\n",
    "    'New Castle County Vocational-Technical School' : 'New Castle County Vocational-Technical School District',\n",
    "    'Red Clay Consolidated School District\\r(includes Charter School of Wilmington and Delaware Military Academy)' : 'Red Clay Consolidated School District'\n",
    "}"
   ]
  },
  {
   "cell_type": "code",
   "execution_count": 19,
   "id": "characteristic-headline",
   "metadata": {},
   "outputs": [],
   "source": [
    "DE = DE.replace(DE_rename)"
   ]
  },
  {
   "cell_type": "markdown",
   "id": "threatened-context",
   "metadata": {},
   "source": [
    "Merge federal and state data, keeping only matches between the two. "
   ]
  },
  {
   "cell_type": "code",
   "execution_count": 20,
   "id": "french-mortality",
   "metadata": {},
   "outputs": [],
   "source": [
    "DE_merged = pd.merge(fiscal_DE, DE, how='inner', left_on='NAME', right_on='District Name')"
   ]
  },
  {
   "cell_type": "markdown",
   "id": "ceramic-pointer",
   "metadata": {},
   "source": [
    "Save cleaned data. "
   ]
  },
  {
   "cell_type": "code",
   "execution_count": 21,
   "id": "useful-likelihood",
   "metadata": {},
   "outputs": [],
   "source": [
    "DE_merged.to_csv('../../data/state_data_merged/DE.csv', index=False)"
   ]
  }
 ],
 "metadata": {
  "kernelspec": {
   "display_name": "Python 3",
   "language": "python",
   "name": "python3"
  },
  "language_info": {
   "codemirror_mode": {
    "name": "ipython",
    "version": 3
   },
   "file_extension": ".py",
   "mimetype": "text/x-python",
   "name": "python",
   "nbconvert_exporter": "python",
   "pygments_lexer": "ipython3",
   "version": "3.7.9"
  }
 },
 "nbformat": 4,
 "nbformat_minor": 5
}
