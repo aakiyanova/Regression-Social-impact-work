{
 "cells": [
  {
   "cell_type": "code",
   "execution_count": 25,
   "id": "freelance-event",
   "metadata": {},
   "outputs": [],
   "source": [
    "import pandas as pd\n",
    "import numpy as np"
   ]
  },
  {
   "cell_type": "code",
   "execution_count": 26,
   "id": "taken-acrobat",
   "metadata": {},
   "outputs": [],
   "source": [
    "abbr = 'NE'"
   ]
  },
  {
   "cell_type": "code",
   "execution_count": 27,
   "id": "generous-darwin",
   "metadata": {},
   "outputs": [],
   "source": [
    "file = 'nebraska2018.csv'"
   ]
  },
  {
   "cell_type": "markdown",
   "id": "orange-johnston",
   "metadata": {},
   "source": [
    "Read in federal level data"
   ]
  },
  {
   "cell_type": "code",
   "execution_count": 28,
   "id": "round-authentication",
   "metadata": {},
   "outputs": [],
   "source": [
    "fiscal = pd.read_sas('../../data/fiscal2018', format = 'sas7bdat', encoding='iso-8859-1')"
   ]
  },
  {
   "cell_type": "markdown",
   "id": "primary-layer",
   "metadata": {},
   "source": [
    "Generate list of districts in the state in the federal data"
   ]
  },
  {
   "cell_type": "code",
   "execution_count": 29,
   "id": "patent-physics",
   "metadata": {},
   "outputs": [],
   "source": [
    "state_fiscal = fiscal[(fiscal['STABBR'] == abbr) & (fiscal['GSHI'] == '12')]"
   ]
  },
  {
   "cell_type": "code",
   "execution_count": 30,
   "id": "severe-customer",
   "metadata": {},
   "outputs": [
    {
     "data": {
      "text/plain": [
       "255"
      ]
     },
     "execution_count": 30,
     "metadata": {},
     "output_type": "execute_result"
    }
   ],
   "source": [
    "len(state_fiscal)"
   ]
  },
  {
   "cell_type": "code",
   "execution_count": 31,
   "id": "burning-roman",
   "metadata": {},
   "outputs": [
    {
     "data": {
      "text/html": [
       "<div>\n",
       "<style scoped>\n",
       "    .dataframe tbody tr th:only-of-type {\n",
       "        vertical-align: middle;\n",
       "    }\n",
       "\n",
       "    .dataframe tbody tr th {\n",
       "        vertical-align: top;\n",
       "    }\n",
       "\n",
       "    .dataframe thead th {\n",
       "        text-align: right;\n",
       "    }\n",
       "</style>\n",
       "<table border=\"1\" class=\"dataframe\">\n",
       "  <thead>\n",
       "    <tr style=\"text-align: right;\">\n",
       "      <th></th>\n",
       "      <th>LEAID</th>\n",
       "      <th>CENSUSID</th>\n",
       "      <th>FIPST</th>\n",
       "      <th>CONUM</th>\n",
       "      <th>CSA</th>\n",
       "      <th>CBSA</th>\n",
       "      <th>NAME</th>\n",
       "      <th>STNAME</th>\n",
       "      <th>STABBR</th>\n",
       "      <th>SCHLEV</th>\n",
       "      <th>...</th>\n",
       "      <th>FL_66V</th>\n",
       "      <th>FL_W01</th>\n",
       "      <th>FL_W31</th>\n",
       "      <th>FL_W61</th>\n",
       "      <th>FL_V95</th>\n",
       "      <th>FL_V02</th>\n",
       "      <th>FL_K14</th>\n",
       "      <th>FL_CE1</th>\n",
       "      <th>FL_CE2</th>\n",
       "      <th>FL_CE3</th>\n",
       "    </tr>\n",
       "  </thead>\n",
       "  <tbody>\n",
       "    <tr>\n",
       "      <th>9514</th>\n",
       "      <td>3100002</td>\n",
       "      <td>28501206800000</td>\n",
       "      <td>31</td>\n",
       "      <td>31023</td>\n",
       "      <td>N</td>\n",
       "      <td>N</td>\n",
       "      <td>DAVID CITY PUBLIC SCHOOLS</td>\n",
       "      <td>Nebraska</td>\n",
       "      <td>NE</td>\n",
       "      <td>03</td>\n",
       "      <td>...</td>\n",
       "      <td>R</td>\n",
       "      <td>R</td>\n",
       "      <td>R</td>\n",
       "      <td>R</td>\n",
       "      <td>M</td>\n",
       "      <td>M</td>\n",
       "      <td>M</td>\n",
       "      <td>M</td>\n",
       "      <td>M</td>\n",
       "      <td>M</td>\n",
       "    </tr>\n",
       "    <tr>\n",
       "      <th>9515</th>\n",
       "      <td>3100003</td>\n",
       "      <td>28501280100000</td>\n",
       "      <td>31</td>\n",
       "      <td>31023</td>\n",
       "      <td>N</td>\n",
       "      <td>N</td>\n",
       "      <td>EAST BUTLER PUBLIC SCHOOLS</td>\n",
       "      <td>Nebraska</td>\n",
       "      <td>NE</td>\n",
       "      <td>03</td>\n",
       "      <td>...</td>\n",
       "      <td>R</td>\n",
       "      <td>R</td>\n",
       "      <td>R</td>\n",
       "      <td>R</td>\n",
       "      <td>M</td>\n",
       "      <td>M</td>\n",
       "      <td>M</td>\n",
       "      <td>M</td>\n",
       "      <td>M</td>\n",
       "      <td>M</td>\n",
       "    </tr>\n",
       "    <tr>\n",
       "      <th>9516</th>\n",
       "      <td>3100004</td>\n",
       "      <td>28501403800000</td>\n",
       "      <td>31</td>\n",
       "      <td>31027</td>\n",
       "      <td>N</td>\n",
       "      <td>N</td>\n",
       "      <td>LAUREL-CONCORD-COLERIDGE SCHOOL</td>\n",
       "      <td>Nebraska</td>\n",
       "      <td>NE</td>\n",
       "      <td>03</td>\n",
       "      <td>...</td>\n",
       "      <td>R</td>\n",
       "      <td>R</td>\n",
       "      <td>R</td>\n",
       "      <td>R</td>\n",
       "      <td>M</td>\n",
       "      <td>M</td>\n",
       "      <td>M</td>\n",
       "      <td>M</td>\n",
       "      <td>M</td>\n",
       "      <td>M</td>\n",
       "    </tr>\n",
       "    <tr>\n",
       "      <th>9517</th>\n",
       "      <td>3100006</td>\n",
       "      <td>28502006600000</td>\n",
       "      <td>31</td>\n",
       "      <td>31039</td>\n",
       "      <td>N</td>\n",
       "      <td>N</td>\n",
       "      <td>WEST POINT PUBLIC SCHOOLS</td>\n",
       "      <td>Nebraska</td>\n",
       "      <td>NE</td>\n",
       "      <td>03</td>\n",
       "      <td>...</td>\n",
       "      <td>R</td>\n",
       "      <td>R</td>\n",
       "      <td>R</td>\n",
       "      <td>R</td>\n",
       "      <td>M</td>\n",
       "      <td>M</td>\n",
       "      <td>M</td>\n",
       "      <td>M</td>\n",
       "      <td>M</td>\n",
       "      <td>M</td>\n",
       "    </tr>\n",
       "    <tr>\n",
       "      <th>9518</th>\n",
       "      <td>3100008</td>\n",
       "      <td>28502006700000</td>\n",
       "      <td>31</td>\n",
       "      <td>31039</td>\n",
       "      <td>N</td>\n",
       "      <td>N</td>\n",
       "      <td>WISNER-PILGER PUBLIC SCHOOLS</td>\n",
       "      <td>Nebraska</td>\n",
       "      <td>NE</td>\n",
       "      <td>03</td>\n",
       "      <td>...</td>\n",
       "      <td>R</td>\n",
       "      <td>R</td>\n",
       "      <td>R</td>\n",
       "      <td>R</td>\n",
       "      <td>M</td>\n",
       "      <td>M</td>\n",
       "      <td>M</td>\n",
       "      <td>M</td>\n",
       "      <td>M</td>\n",
       "      <td>M</td>\n",
       "    </tr>\n",
       "  </tbody>\n",
       "</table>\n",
       "<p>5 rows × 262 columns</p>\n",
       "</div>"
      ],
      "text/plain": [
       "        LEAID        CENSUSID FIPST  CONUM CSA CBSA  \\\n",
       "9514  3100002  28501206800000    31  31023   N    N   \n",
       "9515  3100003  28501280100000    31  31023   N    N   \n",
       "9516  3100004  28501403800000    31  31027   N    N   \n",
       "9517  3100006  28502006600000    31  31039   N    N   \n",
       "9518  3100008  28502006700000    31  31039   N    N   \n",
       "\n",
       "                                 NAME    STNAME STABBR SCHLEV  ... FL_66V  \\\n",
       "9514        DAVID CITY PUBLIC SCHOOLS  Nebraska     NE     03  ...      R   \n",
       "9515       EAST BUTLER PUBLIC SCHOOLS  Nebraska     NE     03  ...      R   \n",
       "9516  LAUREL-CONCORD-COLERIDGE SCHOOL  Nebraska     NE     03  ...      R   \n",
       "9517        WEST POINT PUBLIC SCHOOLS  Nebraska     NE     03  ...      R   \n",
       "9518     WISNER-PILGER PUBLIC SCHOOLS  Nebraska     NE     03  ...      R   \n",
       "\n",
       "     FL_W01 FL_W31 FL_W61 FL_V95 FL_V02  FL_K14  FL_CE1  FL_CE2  FL_CE3  \n",
       "9514      R      R      R      M      M       M       M       M       M  \n",
       "9515      R      R      R      M      M       M       M       M       M  \n",
       "9516      R      R      R      M      M       M       M       M       M  \n",
       "9517      R      R      R      M      M       M       M       M       M  \n",
       "9518      R      R      R      M      M       M       M       M       M  \n",
       "\n",
       "[5 rows x 262 columns]"
      ]
     },
     "execution_count": 31,
     "metadata": {},
     "output_type": "execute_result"
    }
   ],
   "source": [
    "state_fiscal.head()"
   ]
  },
  {
   "cell_type": "markdown",
   "id": "juvenile-norwegian",
   "metadata": {},
   "source": [
    "Read in state level data"
   ]
  },
  {
   "cell_type": "code",
   "execution_count": 54,
   "id": "brutal-welcome",
   "metadata": {},
   "outputs": [],
   "source": [
    "state_grads = pd.read_csv('../../data/state_data_raw/' + file)"
   ]
  },
  {
   "cell_type": "code",
   "execution_count": 55,
   "id": "differential-police",
   "metadata": {},
   "outputs": [
    {
     "name": "stdout",
     "output_type": "stream",
     "text": [
      "<class 'pandas.core.frame.DataFrame'>\n",
      "RangeIndex: 139371 entries, 0 to 139370\n",
      "Data columns (total 12 columns):\n",
      " #   Column             Non-Null Count   Dtype  \n",
      "---  ------             --------------   -----  \n",
      " 0   Type               139371 non-null  object \n",
      " 1   School Year        139371 non-null  int64  \n",
      " 2   County             139371 non-null  int64  \n",
      " 3   District           139371 non-null  int64  \n",
      " 4   School             139371 non-null  int64  \n",
      " 5   Agency Name        139371 non-null  object \n",
      " 6   Graduation Cohort  139371 non-null  int64  \n",
      " 7   Cohort Year        139371 non-null  int64  \n",
      " 8   Description        139371 non-null  object \n",
      " 9   Graduation Count   139371 non-null  int64  \n",
      " 10  Graduation Pct     139371 non-null  float64\n",
      " 11  DataAsOf           139371 non-null  object \n",
      "dtypes: float64(1), int64(7), object(4)\n",
      "memory usage: 12.8+ MB\n"
     ]
    }
   ],
   "source": [
    "state_grads.info()"
   ]
  },
  {
   "cell_type": "code",
   "execution_count": 56,
   "id": "potential-reproduction",
   "metadata": {},
   "outputs": [
    {
     "data": {
      "text/html": [
       "<div>\n",
       "<style scoped>\n",
       "    .dataframe tbody tr th:only-of-type {\n",
       "        vertical-align: middle;\n",
       "    }\n",
       "\n",
       "    .dataframe tbody tr th {\n",
       "        vertical-align: top;\n",
       "    }\n",
       "\n",
       "    .dataframe thead th {\n",
       "        text-align: right;\n",
       "    }\n",
       "</style>\n",
       "<table border=\"1\" class=\"dataframe\">\n",
       "  <thead>\n",
       "    <tr style=\"text-align: right;\">\n",
       "      <th></th>\n",
       "      <th>Type</th>\n",
       "      <th>School Year</th>\n",
       "      <th>County</th>\n",
       "      <th>District</th>\n",
       "      <th>School</th>\n",
       "      <th>Agency Name</th>\n",
       "      <th>Graduation Cohort</th>\n",
       "      <th>Cohort Year</th>\n",
       "      <th>Description</th>\n",
       "      <th>Graduation Count</th>\n",
       "      <th>Graduation Pct</th>\n",
       "      <th>DataAsOf</th>\n",
       "    </tr>\n",
       "  </thead>\n",
       "  <tbody>\n",
       "    <tr>\n",
       "      <th>0</th>\n",
       "      <td>ST</td>\n",
       "      <td>20172018</td>\n",
       "      <td>0</td>\n",
       "      <td>0</td>\n",
       "      <td>0</td>\n",
       "      <td>STATE OF NEBRASKA</td>\n",
       "      <td>2018</td>\n",
       "      <td>4</td>\n",
       "      <td>All students</td>\n",
       "      <td>20503</td>\n",
       "      <td>0.89</td>\n",
       "      <td>2018-12-13 00:00:00.000</td>\n",
       "    </tr>\n",
       "    <tr>\n",
       "      <th>1</th>\n",
       "      <td>ST</td>\n",
       "      <td>20172018</td>\n",
       "      <td>0</td>\n",
       "      <td>0</td>\n",
       "      <td>0</td>\n",
       "      <td>STATE OF NEBRASKA</td>\n",
       "      <td>2018</td>\n",
       "      <td>4</td>\n",
       "      <td>Male</td>\n",
       "      <td>10312</td>\n",
       "      <td>0.86</td>\n",
       "      <td>2018-12-13 00:00:00.000</td>\n",
       "    </tr>\n",
       "    <tr>\n",
       "      <th>2</th>\n",
       "      <td>ST</td>\n",
       "      <td>20172018</td>\n",
       "      <td>0</td>\n",
       "      <td>0</td>\n",
       "      <td>0</td>\n",
       "      <td>STATE OF NEBRASKA</td>\n",
       "      <td>2018</td>\n",
       "      <td>4</td>\n",
       "      <td>Female</td>\n",
       "      <td>10191</td>\n",
       "      <td>0.91</td>\n",
       "      <td>2018-12-13 00:00:00.000</td>\n",
       "    </tr>\n",
       "    <tr>\n",
       "      <th>3</th>\n",
       "      <td>ST</td>\n",
       "      <td>20172018</td>\n",
       "      <td>0</td>\n",
       "      <td>0</td>\n",
       "      <td>0</td>\n",
       "      <td>STATE OF NEBRASKA</td>\n",
       "      <td>2018</td>\n",
       "      <td>4</td>\n",
       "      <td>Students eligible for free and reduced lunch</td>\n",
       "      <td>7269</td>\n",
       "      <td>0.81</td>\n",
       "      <td>2018-12-13 00:00:00.000</td>\n",
       "    </tr>\n",
       "    <tr>\n",
       "      <th>4</th>\n",
       "      <td>ST</td>\n",
       "      <td>20172018</td>\n",
       "      <td>0</td>\n",
       "      <td>0</td>\n",
       "      <td>0</td>\n",
       "      <td>STATE OF NEBRASKA</td>\n",
       "      <td>2018</td>\n",
       "      <td>4</td>\n",
       "      <td>Special Education Students</td>\n",
       "      <td>1815</td>\n",
       "      <td>0.69</td>\n",
       "      <td>2018-12-13 00:00:00.000</td>\n",
       "    </tr>\n",
       "    <tr>\n",
       "      <th>...</th>\n",
       "      <td>...</td>\n",
       "      <td>...</td>\n",
       "      <td>...</td>\n",
       "      <td>...</td>\n",
       "      <td>...</td>\n",
       "      <td>...</td>\n",
       "      <td>...</td>\n",
       "      <td>...</td>\n",
       "      <td>...</td>\n",
       "      <td>...</td>\n",
       "      <td>...</td>\n",
       "      <td>...</td>\n",
       "    </tr>\n",
       "    <tr>\n",
       "      <th>139366</th>\n",
       "      <td>SC</td>\n",
       "      <td>20132014</td>\n",
       "      <td>93</td>\n",
       "      <td>96</td>\n",
       "      <td>1</td>\n",
       "      <td>HEARTLAND COMMUNITY HIGH SCH</td>\n",
       "      <td>2011</td>\n",
       "      <td>7</td>\n",
       "      <td>Ethnic7 - Asian</td>\n",
       "      <td>-1</td>\n",
       "      <td>-1.00</td>\n",
       "      <td>2015-08-11 00:00:00.000</td>\n",
       "    </tr>\n",
       "    <tr>\n",
       "      <th>139367</th>\n",
       "      <td>SC</td>\n",
       "      <td>20132014</td>\n",
       "      <td>93</td>\n",
       "      <td>96</td>\n",
       "      <td>1</td>\n",
       "      <td>HEARTLAND COMMUNITY HIGH SCH</td>\n",
       "      <td>2011</td>\n",
       "      <td>7</td>\n",
       "      <td>Ethnic7 - Black or African American</td>\n",
       "      <td>-1</td>\n",
       "      <td>-1.00</td>\n",
       "      <td>2015-08-11 00:00:00.000</td>\n",
       "    </tr>\n",
       "    <tr>\n",
       "      <th>139368</th>\n",
       "      <td>SC</td>\n",
       "      <td>20132014</td>\n",
       "      <td>93</td>\n",
       "      <td>96</td>\n",
       "      <td>1</td>\n",
       "      <td>HEARTLAND COMMUNITY HIGH SCH</td>\n",
       "      <td>2011</td>\n",
       "      <td>7</td>\n",
       "      <td>Ethnic7 - Native Hawaiian or Other Pacific Isl...</td>\n",
       "      <td>-1</td>\n",
       "      <td>-1.00</td>\n",
       "      <td>2015-08-11 00:00:00.000</td>\n",
       "    </tr>\n",
       "    <tr>\n",
       "      <th>139369</th>\n",
       "      <td>SC</td>\n",
       "      <td>20132014</td>\n",
       "      <td>93</td>\n",
       "      <td>96</td>\n",
       "      <td>1</td>\n",
       "      <td>HEARTLAND COMMUNITY HIGH SCH</td>\n",
       "      <td>2011</td>\n",
       "      <td>7</td>\n",
       "      <td>Ethnic7 - White</td>\n",
       "      <td>29</td>\n",
       "      <td>0.94</td>\n",
       "      <td>2015-08-11 00:00:00.000</td>\n",
       "    </tr>\n",
       "    <tr>\n",
       "      <th>139370</th>\n",
       "      <td>SC</td>\n",
       "      <td>20132014</td>\n",
       "      <td>93</td>\n",
       "      <td>96</td>\n",
       "      <td>1</td>\n",
       "      <td>HEARTLAND COMMUNITY HIGH SCH</td>\n",
       "      <td>2011</td>\n",
       "      <td>7</td>\n",
       "      <td>Ethnic7 - Two or More Races</td>\n",
       "      <td>-1</td>\n",
       "      <td>-1.00</td>\n",
       "      <td>2015-08-11 00:00:00.000</td>\n",
       "    </tr>\n",
       "  </tbody>\n",
       "</table>\n",
       "<p>139371 rows × 12 columns</p>\n",
       "</div>"
      ],
      "text/plain": [
       "       Type  School Year  County  District  School  \\\n",
       "0        ST     20172018       0         0       0   \n",
       "1        ST     20172018       0         0       0   \n",
       "2        ST     20172018       0         0       0   \n",
       "3        ST     20172018       0         0       0   \n",
       "4        ST     20172018       0         0       0   \n",
       "...     ...          ...     ...       ...     ...   \n",
       "139366   SC     20132014      93        96       1   \n",
       "139367   SC     20132014      93        96       1   \n",
       "139368   SC     20132014      93        96       1   \n",
       "139369   SC     20132014      93        96       1   \n",
       "139370   SC     20132014      93        96       1   \n",
       "\n",
       "                         Agency Name  Graduation Cohort  Cohort Year  \\\n",
       "0                  STATE OF NEBRASKA               2018            4   \n",
       "1                  STATE OF NEBRASKA               2018            4   \n",
       "2                  STATE OF NEBRASKA               2018            4   \n",
       "3                  STATE OF NEBRASKA               2018            4   \n",
       "4                  STATE OF NEBRASKA               2018            4   \n",
       "...                              ...                ...          ...   \n",
       "139366  HEARTLAND COMMUNITY HIGH SCH               2011            7   \n",
       "139367  HEARTLAND COMMUNITY HIGH SCH               2011            7   \n",
       "139368  HEARTLAND COMMUNITY HIGH SCH               2011            7   \n",
       "139369  HEARTLAND COMMUNITY HIGH SCH               2011            7   \n",
       "139370  HEARTLAND COMMUNITY HIGH SCH               2011            7   \n",
       "\n",
       "                                              Description  Graduation Count  \\\n",
       "0                                            All students             20503   \n",
       "1                                                    Male             10312   \n",
       "2                                                  Female             10191   \n",
       "3            Students eligible for free and reduced lunch              7269   \n",
       "4                              Special Education Students              1815   \n",
       "...                                                   ...               ...   \n",
       "139366                                    Ethnic7 - Asian                -1   \n",
       "139367                Ethnic7 - Black or African American                -1   \n",
       "139368  Ethnic7 - Native Hawaiian or Other Pacific Isl...                -1   \n",
       "139369                                    Ethnic7 - White                29   \n",
       "139370                        Ethnic7 - Two or More Races                -1   \n",
       "\n",
       "        Graduation Pct                 DataAsOf  \n",
       "0                 0.89  2018-12-13 00:00:00.000  \n",
       "1                 0.86  2018-12-13 00:00:00.000  \n",
       "2                 0.91  2018-12-13 00:00:00.000  \n",
       "3                 0.81  2018-12-13 00:00:00.000  \n",
       "4                 0.69  2018-12-13 00:00:00.000  \n",
       "...                ...                      ...  \n",
       "139366           -1.00  2015-08-11 00:00:00.000  \n",
       "139367           -1.00  2015-08-11 00:00:00.000  \n",
       "139368           -1.00  2015-08-11 00:00:00.000  \n",
       "139369            0.94  2015-08-11 00:00:00.000  \n",
       "139370           -1.00  2015-08-11 00:00:00.000  \n",
       "\n",
       "[139371 rows x 12 columns]"
      ]
     },
     "execution_count": 56,
     "metadata": {},
     "output_type": "execute_result"
    }
   ],
   "source": [
    "state_grads"
   ]
  },
  {
   "cell_type": "markdown",
   "id": "stylish-culture",
   "metadata": {},
   "source": [
    "Filter results."
   ]
  },
  {
   "cell_type": "code",
   "execution_count": 57,
   "id": "tight-maine",
   "metadata": {},
   "outputs": [],
   "source": [
    "state_grads = state_grads[(state_grads['Type'] == 'DI') &\n",
    "                         (state_grads['Graduation Cohort'] == 2018) &\n",
    "                         (state_grads['Cohort Year'] == 4) &\n",
    "                         (state_grads['Description'] == 'All students')]"
   ]
  },
  {
   "cell_type": "markdown",
   "id": "worldwide-expert",
   "metadata": {},
   "source": [
    "Select and rename columns."
   ]
  },
  {
   "cell_type": "code",
   "execution_count": 59,
   "id": "consecutive-juvenile",
   "metadata": {},
   "outputs": [
    {
     "name": "stderr",
     "output_type": "stream",
     "text": [
      "/opt/anaconda3/envs/dsi/lib/python3.7/site-packages/ipykernel_launcher.py:3: SettingWithCopyWarning: \n",
      "A value is trying to be set on a copy of a slice from a DataFrame.\n",
      "Try using .loc[row_indexer,col_indexer] = value instead\n",
      "\n",
      "See the caveats in the documentation: https://pandas.pydata.org/pandas-docs/stable/user_guide/indexing.html#returning-a-view-versus-a-copy\n",
      "  This is separate from the ipykernel package so we can avoid doing imports until\n"
     ]
    }
   ],
   "source": [
    "state_grads['Total'] = np.where(state_grads['Graduation Pct'] == -1, \n",
    "                                np.nan, \n",
    "                                np.round((1. / state_grads['Graduation Pct']) * state_grads['Graduation Count']))"
   ]
  },
  {
   "cell_type": "code",
   "execution_count": 61,
   "id": "digital-potter",
   "metadata": {},
   "outputs": [],
   "source": [
    "state_grads = state_grads[['Agency Name', 'Total', 'Graduation Pct']]"
   ]
  },
  {
   "cell_type": "code",
   "execution_count": 62,
   "id": "embedded-society",
   "metadata": {},
   "outputs": [],
   "source": [
    "state_grads.columns = ['District Name', 'Total', 'Graduation Rate']"
   ]
  },
  {
   "cell_type": "code",
   "execution_count": 63,
   "id": "dimensional-found",
   "metadata": {},
   "outputs": [
    {
     "data": {
      "text/html": [
       "<div>\n",
       "<style scoped>\n",
       "    .dataframe tbody tr th:only-of-type {\n",
       "        vertical-align: middle;\n",
       "    }\n",
       "\n",
       "    .dataframe tbody tr th {\n",
       "        vertical-align: top;\n",
       "    }\n",
       "\n",
       "    .dataframe thead th {\n",
       "        text-align: right;\n",
       "    }\n",
       "</style>\n",
       "<table border=\"1\" class=\"dataframe\">\n",
       "  <thead>\n",
       "    <tr style=\"text-align: right;\">\n",
       "      <th></th>\n",
       "      <th>District Name</th>\n",
       "      <th>Total</th>\n",
       "      <th>Graduation Rate</th>\n",
       "    </tr>\n",
       "  </thead>\n",
       "  <tbody>\n",
       "    <tr>\n",
       "      <th>272</th>\n",
       "      <td>KENESAW PUBLIC SCHOOLS</td>\n",
       "      <td>24.0</td>\n",
       "      <td>1.00</td>\n",
       "    </tr>\n",
       "    <tr>\n",
       "      <th>816</th>\n",
       "      <td>HASTINGS PUBLIC SCHOOLS</td>\n",
       "      <td>279.0</td>\n",
       "      <td>0.82</td>\n",
       "    </tr>\n",
       "    <tr>\n",
       "      <th>1360</th>\n",
       "      <td>ADAMS CENTRAL PUBLIC SCHOOLS</td>\n",
       "      <td>73.0</td>\n",
       "      <td>1.00</td>\n",
       "    </tr>\n",
       "    <tr>\n",
       "      <th>1904</th>\n",
       "      <td>SILVER LAKE PUBLIC SCHOOLS</td>\n",
       "      <td>11.0</td>\n",
       "      <td>1.00</td>\n",
       "    </tr>\n",
       "    <tr>\n",
       "      <th>2448</th>\n",
       "      <td>NELIGH-OAKDALE SCHOOLS</td>\n",
       "      <td>26.0</td>\n",
       "      <td>0.92</td>\n",
       "    </tr>\n",
       "    <tr>\n",
       "      <th>...</th>\n",
       "      <td>...</td>\n",
       "      <td>...</td>\n",
       "      <td>...</td>\n",
       "    </tr>\n",
       "    <tr>\n",
       "      <th>136651</th>\n",
       "      <td>BLUE HILL PUBLIC SCHOOLS</td>\n",
       "      <td>26.0</td>\n",
       "      <td>1.00</td>\n",
       "    </tr>\n",
       "    <tr>\n",
       "      <th>137195</th>\n",
       "      <td>WHEELER CENTRAL SCHOOLS</td>\n",
       "      <td>10.0</td>\n",
       "      <td>1.00</td>\n",
       "    </tr>\n",
       "    <tr>\n",
       "      <th>137739</th>\n",
       "      <td>YORK PUBLIC SCHOOLS</td>\n",
       "      <td>121.0</td>\n",
       "      <td>0.98</td>\n",
       "    </tr>\n",
       "    <tr>\n",
       "      <th>138283</th>\n",
       "      <td>MC COOL JUNCTION PUBLIC SCHS</td>\n",
       "      <td>21.0</td>\n",
       "      <td>1.00</td>\n",
       "    </tr>\n",
       "    <tr>\n",
       "      <th>138827</th>\n",
       "      <td>HEARTLAND COMMUNITY SCHOOLS</td>\n",
       "      <td>22.0</td>\n",
       "      <td>1.00</td>\n",
       "    </tr>\n",
       "  </tbody>\n",
       "</table>\n",
       "<p>249 rows × 3 columns</p>\n",
       "</div>"
      ],
      "text/plain": [
       "                       District Name  Total  Graduation Rate\n",
       "272           KENESAW PUBLIC SCHOOLS   24.0             1.00\n",
       "816          HASTINGS PUBLIC SCHOOLS  279.0             0.82\n",
       "1360    ADAMS CENTRAL PUBLIC SCHOOLS   73.0             1.00\n",
       "1904      SILVER LAKE PUBLIC SCHOOLS   11.0             1.00\n",
       "2448          NELIGH-OAKDALE SCHOOLS   26.0             0.92\n",
       "...                              ...    ...              ...\n",
       "136651      BLUE HILL PUBLIC SCHOOLS   26.0             1.00\n",
       "137195       WHEELER CENTRAL SCHOOLS   10.0             1.00\n",
       "137739           YORK PUBLIC SCHOOLS  121.0             0.98\n",
       "138283  MC COOL JUNCTION PUBLIC SCHS   21.0             1.00\n",
       "138827   HEARTLAND COMMUNITY SCHOOLS   22.0             1.00\n",
       "\n",
       "[249 rows x 3 columns]"
      ]
     },
     "execution_count": 63,
     "metadata": {},
     "output_type": "execute_result"
    }
   ],
   "source": [
    "state_grads"
   ]
  },
  {
   "cell_type": "markdown",
   "id": "developmental-alpha",
   "metadata": {},
   "source": [
    "Convert data types."
   ]
  },
  {
   "cell_type": "code",
   "execution_count": 64,
   "id": "furnished-chemical",
   "metadata": {},
   "outputs": [],
   "source": [
    "state_grads = state_grads.replace(-1, '')"
   ]
  },
  {
   "cell_type": "code",
   "execution_count": 65,
   "id": "nervous-client",
   "metadata": {},
   "outputs": [],
   "source": [
    "state_grads['Total'] = pd.to_numeric(state_grads['Total'])\n",
    "state_grads['Graduation Rate'] = pd.to_numeric(state_grads['Graduation Rate'])"
   ]
  },
  {
   "cell_type": "markdown",
   "id": "religious-mobility",
   "metadata": {},
   "source": [
    "Check for matches and non-matches in the two lists. "
   ]
  },
  {
   "cell_type": "code",
   "execution_count": 16,
   "id": "colored-wells",
   "metadata": {},
   "outputs": [],
   "source": [
    "# state_grads['District Name'] = state_grads['District Name'].astype(str).str.upper()\n",
    "# state_fiscal['NAME'] = state_fiscal['NAME'].astype(str).str.upper()"
   ]
  },
  {
   "cell_type": "code",
   "execution_count": 17,
   "id": "bottom-worry",
   "metadata": {},
   "outputs": [],
   "source": [
    "# state_fiscal['NAME'] = state_fiscal['NAME'].astype(str).str.replace('.', '')\n",
    "# state_fiscal['NAME'] = state_fiscal['NAME'].astype(str).str.replace(',', '')\n",
    "# state_fiscal['NAME'] = state_fiscal['NAME'].astype(str).str.replace(' DISTRICT', '')\n",
    "# state_fiscal['NAME'] = state_fiscal['NAME'].astype(str).str.replace(' DIST', '')\n",
    "# state_fiscal['NAME'] = state_fiscal['NAME'].astype(str).str.replace(' PUBLIC', '')\n",
    "# state_fiscal['NAME'] = state_fiscal['NAME'].astype(str).str.replace(' SCHOOLS', '')\n",
    "# state_fiscal['NAME'] = state_fiscal['NAME'].astype(str).str.replace(' SCHOOL', '')\n",
    "\n",
    "# state_grads['District Name'] = state_grads['District Name'].astype(str).str.replace('.', '')\n",
    "# state_grads['District Name'] = state_grads['District Name'].astype(str).str.replace(',', '')\n",
    "# state_grads['District Name'] = state_grads['District Name'].astype(str).str.replace(' DISTRICT', '')\n",
    "# state_grads['District Name'] = state_grads['District Name'].astype(str).str.replace(' DIST', '')\n",
    "# state_grads['District Name'] = state_grads['District Name'].astype(str).str.replace(' PUBLIC', '')\n",
    "# state_grads['District Name'] = state_grads['District Name'].astype(str).str.replace(' SCHOOLS', '')\n",
    "# state_grads['District Name'] = state_grads['District Name'].astype(str).str.replace(' SCHOOL', '')"
   ]
  },
  {
   "cell_type": "code",
   "execution_count": 67,
   "id": "retired-wrong",
   "metadata": {},
   "outputs": [
    {
     "data": {
      "text/plain": [
       "249"
      ]
     },
     "execution_count": 67,
     "metadata": {},
     "output_type": "execute_result"
    }
   ],
   "source": [
    "matches = [name for name in list(state_grads['District Name']) if name in list(state_fiscal['NAME'])]\n",
    "matches.sort()\n",
    "len(matches)"
   ]
  },
  {
   "cell_type": "code",
   "execution_count": 68,
   "id": "fatty-mouse",
   "metadata": {},
   "outputs": [
    {
     "data": {
      "text/plain": [
       "[]"
      ]
     },
     "execution_count": 68,
     "metadata": {},
     "output_type": "execute_result"
    }
   ],
   "source": [
    "A = [name for name in list(state_grads['District Name']) if name not in list(state_fiscal['NAME'])]\n",
    "A.sort()\n",
    "A"
   ]
  },
  {
   "cell_type": "code",
   "execution_count": 69,
   "id": "special-aspect",
   "metadata": {},
   "outputs": [
    {
     "data": {
      "text/plain": [
       "['EDUCATIONAL SERVICE UNIT 02',\n",
       " 'EDUCATIONAL SERVICE UNIT 03',\n",
       " 'EDUCATIONAL SERVICE UNIT 04',\n",
       " 'EDUCATIONAL SERVICE UNIT 08',\n",
       " 'EDUCATIONAL SERVICE UNIT 09',\n",
       " 'EDUCATIONAL SERVICE UNIT 13']"
      ]
     },
     "execution_count": 69,
     "metadata": {},
     "output_type": "execute_result"
    }
   ],
   "source": [
    "B = [name for name in list(state_fiscal['NAME']) if name not in list(state_grads['District Name'])]\n",
    "B.sort()\n",
    "B"
   ]
  },
  {
   "cell_type": "markdown",
   "id": "arbitrary-psychology",
   "metadata": {},
   "source": [
    "No remaining matches I can find. "
   ]
  },
  {
   "cell_type": "code",
   "execution_count": 21,
   "id": "confident-mason",
   "metadata": {},
   "outputs": [],
   "source": [
    "#state_fiscal_rename = {}"
   ]
  },
  {
   "cell_type": "code",
   "execution_count": 22,
   "id": "effective-chick",
   "metadata": {},
   "outputs": [],
   "source": [
    "#state_fiscal = state_fiscal.replace(state_fiscal_rename)"
   ]
  },
  {
   "cell_type": "markdown",
   "id": "proved-guidance",
   "metadata": {},
   "source": [
    "Merge federal and state data, keeping only matches between the two. "
   ]
  },
  {
   "cell_type": "code",
   "execution_count": 23,
   "id": "disabled-forward",
   "metadata": {},
   "outputs": [],
   "source": [
    "state_grads_merged = pd.merge(state_fiscal, state_grads, how='inner', left_on='NAME', right_on='District Name')"
   ]
  },
  {
   "cell_type": "markdown",
   "id": "alpha-beauty",
   "metadata": {},
   "source": [
    "Save cleaned data. "
   ]
  },
  {
   "cell_type": "code",
   "execution_count": 24,
   "id": "distant-adjustment",
   "metadata": {},
   "outputs": [],
   "source": [
    "state_grads_merged.to_csv('../../data/state_data_merged/' + abbr + '.csv', index=False)"
   ]
  }
 ],
 "metadata": {
  "kernelspec": {
   "display_name": "Python 3",
   "language": "python",
   "name": "python3"
  },
  "language_info": {
   "codemirror_mode": {
    "name": "ipython",
    "version": 3
   },
   "file_extension": ".py",
   "mimetype": "text/x-python",
   "name": "python",
   "nbconvert_exporter": "python",
   "pygments_lexer": "ipython3",
   "version": "3.7.9"
  }
 },
 "nbformat": 4,
 "nbformat_minor": 5
}
