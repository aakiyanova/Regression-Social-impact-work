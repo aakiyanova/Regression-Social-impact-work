{
 "cells": [
  {
   "cell_type": "code",
   "execution_count": 1,
   "id": "configured-rehabilitation",
   "metadata": {},
   "outputs": [],
   "source": [
    "import warnings\n",
    "warnings.filterwarnings('ignore')"
   ]
  },
  {
   "cell_type": "code",
   "execution_count": 2,
   "id": "excess-comparison",
   "metadata": {},
   "outputs": [],
   "source": [
    "import pandas as pd\n",
    "import numpy as np"
   ]
  },
  {
   "cell_type": "code",
   "execution_count": 3,
   "id": "outer-ultimate",
   "metadata": {},
   "outputs": [],
   "source": [
    "abbr = 'ND'"
   ]
  },
  {
   "cell_type": "code",
   "execution_count": 4,
   "id": "congressional-stand",
   "metadata": {},
   "outputs": [],
   "source": [
    "file = 'north_dakota.xlsx'"
   ]
  },
  {
   "cell_type": "markdown",
   "id": "german-stick",
   "metadata": {},
   "source": [
    "Read in federal level data"
   ]
  },
  {
   "cell_type": "code",
   "execution_count": 5,
   "id": "eligible-sequence",
   "metadata": {},
   "outputs": [],
   "source": [
    "fiscal = pd.read_sas('../../data/fiscal2018', format = 'sas7bdat', encoding='iso-8859-1')"
   ]
  },
  {
   "cell_type": "markdown",
   "id": "encouraging-villa",
   "metadata": {},
   "source": [
    "Generate list of districts in the state in the federal data"
   ]
  },
  {
   "cell_type": "code",
   "execution_count": 6,
   "id": "connected-surrey",
   "metadata": {},
   "outputs": [],
   "source": [
    "state_fiscal = fiscal[(fiscal['STABBR'] == abbr) & (fiscal['GSHI'] == '12')]"
   ]
  },
  {
   "cell_type": "code",
   "execution_count": 7,
   "id": "numerical-visiting",
   "metadata": {},
   "outputs": [
    {
     "data": {
      "text/plain": [
       "148"
      ]
     },
     "execution_count": 7,
     "metadata": {},
     "output_type": "execute_result"
    }
   ],
   "source": [
    "len(state_fiscal)"
   ]
  },
  {
   "cell_type": "markdown",
   "id": "searching-pregnancy",
   "metadata": {},
   "source": [
    "Read in state level data"
   ]
  },
  {
   "cell_type": "code",
   "execution_count": 11,
   "id": "acceptable-investigator",
   "metadata": {},
   "outputs": [],
   "source": [
    "state_grads = pd.read_excel('../../data/state_data_raw/' + file, sheet_name='2017-2018')"
   ]
  },
  {
   "cell_type": "code",
   "execution_count": 12,
   "id": "reverse-discipline",
   "metadata": {},
   "outputs": [
    {
     "data": {
      "text/html": [
       "<div>\n",
       "<style scoped>\n",
       "    .dataframe tbody tr th:only-of-type {\n",
       "        vertical-align: middle;\n",
       "    }\n",
       "\n",
       "    .dataframe tbody tr th {\n",
       "        vertical-align: top;\n",
       "    }\n",
       "\n",
       "    .dataframe thead th {\n",
       "        text-align: right;\n",
       "    }\n",
       "</style>\n",
       "<table border=\"1\" class=\"dataframe\">\n",
       "  <thead>\n",
       "    <tr style=\"text-align: right;\">\n",
       "      <th></th>\n",
       "      <th>Academic_Year</th>\n",
       "      <th>Entity_Level</th>\n",
       "      <th>District_ID</th>\n",
       "      <th>District_Name</th>\n",
       "      <th>Subgroup_Desc</th>\n",
       "      <th>Student_Count</th>\n",
       "      <th>Graduate_Count</th>\n",
       "      <th>Traditional_Graduation_Rate</th>\n",
       "    </tr>\n",
       "  </thead>\n",
       "  <tbody>\n",
       "    <tr>\n",
       "      <th>0</th>\n",
       "      <td>2017-2018</td>\n",
       "      <td>District</td>\n",
       "      <td>27002</td>\n",
       "      <td>Alexander 2</td>\n",
       "      <td>All</td>\n",
       "      <td>10</td>\n",
       "      <td>8</td>\n",
       "      <td>0.8</td>\n",
       "    </tr>\n",
       "    <tr>\n",
       "      <th>1</th>\n",
       "      <td>2017-2018</td>\n",
       "      <td>District</td>\n",
       "      <td>27002</td>\n",
       "      <td>Alexander 2</td>\n",
       "      <td>Asian American</td>\n",
       "      <td>i</td>\n",
       "      <td>i</td>\n",
       "      <td>i</td>\n",
       "    </tr>\n",
       "    <tr>\n",
       "      <th>2</th>\n",
       "      <td>2017-2018</td>\n",
       "      <td>District</td>\n",
       "      <td>27002</td>\n",
       "      <td>Alexander 2</td>\n",
       "      <td>Black</td>\n",
       "      <td>i</td>\n",
       "      <td>i</td>\n",
       "      <td>i</td>\n",
       "    </tr>\n",
       "    <tr>\n",
       "      <th>3</th>\n",
       "      <td>2017-2018</td>\n",
       "      <td>District</td>\n",
       "      <td>27002</td>\n",
       "      <td>Alexander 2</td>\n",
       "      <td>Current English Learner</td>\n",
       "      <td>i</td>\n",
       "      <td>i</td>\n",
       "      <td>i</td>\n",
       "    </tr>\n",
       "    <tr>\n",
       "      <th>4</th>\n",
       "      <td>2017-2018</td>\n",
       "      <td>District</td>\n",
       "      <td>27002</td>\n",
       "      <td>Alexander 2</td>\n",
       "      <td>English Learner</td>\n",
       "      <td>i</td>\n",
       "      <td>i</td>\n",
       "      <td>i</td>\n",
       "    </tr>\n",
       "    <tr>\n",
       "      <th>...</th>\n",
       "      <td>...</td>\n",
       "      <td>...</td>\n",
       "      <td>...</td>\n",
       "      <td>...</td>\n",
       "      <td>...</td>\n",
       "      <td>...</td>\n",
       "      <td>...</td>\n",
       "      <td>...</td>\n",
       "    </tr>\n",
       "    <tr>\n",
       "      <th>2686</th>\n",
       "      <td>2017-2018</td>\n",
       "      <td>District</td>\n",
       "      <td>39042</td>\n",
       "      <td>Wyndmere 42</td>\n",
       "      <td>Mobile Student</td>\n",
       "      <td>i</td>\n",
       "      <td>i</td>\n",
       "      <td>i</td>\n",
       "    </tr>\n",
       "    <tr>\n",
       "      <th>2687</th>\n",
       "      <td>2017-2018</td>\n",
       "      <td>District</td>\n",
       "      <td>39042</td>\n",
       "      <td>Wyndmere 42</td>\n",
       "      <td>Native American</td>\n",
       "      <td>i</td>\n",
       "      <td>i</td>\n",
       "      <td>i</td>\n",
       "    </tr>\n",
       "    <tr>\n",
       "      <th>2688</th>\n",
       "      <td>2017-2018</td>\n",
       "      <td>District</td>\n",
       "      <td>39042</td>\n",
       "      <td>Wyndmere 42</td>\n",
       "      <td>Native Hawaiian or Pacific Islander</td>\n",
       "      <td>i</td>\n",
       "      <td>i</td>\n",
       "      <td>i</td>\n",
       "    </tr>\n",
       "    <tr>\n",
       "      <th>2689</th>\n",
       "      <td>2017-2018</td>\n",
       "      <td>District</td>\n",
       "      <td>39042</td>\n",
       "      <td>Wyndmere 42</td>\n",
       "      <td>Two or More Races</td>\n",
       "      <td>i</td>\n",
       "      <td>i</td>\n",
       "      <td>i</td>\n",
       "    </tr>\n",
       "    <tr>\n",
       "      <th>2690</th>\n",
       "      <td>2017-2018</td>\n",
       "      <td>District</td>\n",
       "      <td>39042</td>\n",
       "      <td>Wyndmere 42</td>\n",
       "      <td>White</td>\n",
       "      <td>13</td>\n",
       "      <td>13</td>\n",
       "      <td>1</td>\n",
       "    </tr>\n",
       "  </tbody>\n",
       "</table>\n",
       "<p>2691 rows × 8 columns</p>\n",
       "</div>"
      ],
      "text/plain": [
       "     Academic_Year Entity_Level  District_ID District_Name  \\\n",
       "0        2017-2018     District        27002   Alexander 2   \n",
       "1        2017-2018     District        27002   Alexander 2   \n",
       "2        2017-2018     District        27002   Alexander 2   \n",
       "3        2017-2018     District        27002   Alexander 2   \n",
       "4        2017-2018     District        27002   Alexander 2   \n",
       "...            ...          ...          ...           ...   \n",
       "2686     2017-2018     District        39042   Wyndmere 42   \n",
       "2687     2017-2018     District        39042   Wyndmere 42   \n",
       "2688     2017-2018     District        39042   Wyndmere 42   \n",
       "2689     2017-2018     District        39042   Wyndmere 42   \n",
       "2690     2017-2018     District        39042   Wyndmere 42   \n",
       "\n",
       "                            Subgroup_Desc Student_Count Graduate_Count  \\\n",
       "0                                     All            10              8   \n",
       "1                          Asian American             i              i   \n",
       "2                                   Black             i              i   \n",
       "3                 Current English Learner             i              i   \n",
       "4                         English Learner             i              i   \n",
       "...                                   ...           ...            ...   \n",
       "2686                       Mobile Student             i              i   \n",
       "2687                      Native American             i              i   \n",
       "2688  Native Hawaiian or Pacific Islander             i              i   \n",
       "2689                    Two or More Races             i              i   \n",
       "2690                                White            13             13   \n",
       "\n",
       "     Traditional_Graduation_Rate  \n",
       "0                            0.8  \n",
       "1                              i  \n",
       "2                              i  \n",
       "3                              i  \n",
       "4                              i  \n",
       "...                          ...  \n",
       "2686                           i  \n",
       "2687                           i  \n",
       "2688                           i  \n",
       "2689                           i  \n",
       "2690                           1  \n",
       "\n",
       "[2691 rows x 8 columns]"
      ]
     },
     "execution_count": 12,
     "metadata": {},
     "output_type": "execute_result"
    }
   ],
   "source": [
    "state_grads"
   ]
  },
  {
   "cell_type": "markdown",
   "id": "viral-syndrome",
   "metadata": {},
   "source": [
    "Filter results."
   ]
  },
  {
   "cell_type": "code",
   "execution_count": 13,
   "id": "developing-operator",
   "metadata": {},
   "outputs": [],
   "source": [
    "state_grads = state_grads[(state_grads['Entity_Level'] == 'District') &\n",
    "                         (state_grads['Subgroup_Desc'] == 'All')]"
   ]
  },
  {
   "cell_type": "code",
   "execution_count": 14,
   "id": "tender-merchant",
   "metadata": {},
   "outputs": [
    {
     "data": {
      "text/html": [
       "<div>\n",
       "<style scoped>\n",
       "    .dataframe tbody tr th:only-of-type {\n",
       "        vertical-align: middle;\n",
       "    }\n",
       "\n",
       "    .dataframe tbody tr th {\n",
       "        vertical-align: top;\n",
       "    }\n",
       "\n",
       "    .dataframe thead th {\n",
       "        text-align: right;\n",
       "    }\n",
       "</style>\n",
       "<table border=\"1\" class=\"dataframe\">\n",
       "  <thead>\n",
       "    <tr style=\"text-align: right;\">\n",
       "      <th></th>\n",
       "      <th>Academic_Year</th>\n",
       "      <th>Entity_Level</th>\n",
       "      <th>District_ID</th>\n",
       "      <th>District_Name</th>\n",
       "      <th>Subgroup_Desc</th>\n",
       "      <th>Student_Count</th>\n",
       "      <th>Graduate_Count</th>\n",
       "      <th>Traditional_Graduation_Rate</th>\n",
       "    </tr>\n",
       "  </thead>\n",
       "  <tbody>\n",
       "    <tr>\n",
       "      <th>0</th>\n",
       "      <td>2017-2018</td>\n",
       "      <td>District</td>\n",
       "      <td>27002</td>\n",
       "      <td>Alexander 2</td>\n",
       "      <td>All</td>\n",
       "      <td>10</td>\n",
       "      <td>8</td>\n",
       "      <td>0.800</td>\n",
       "    </tr>\n",
       "    <tr>\n",
       "      <th>23</th>\n",
       "      <td>2017-2018</td>\n",
       "      <td>District</td>\n",
       "      <td>2007</td>\n",
       "      <td>Barnes County North 7</td>\n",
       "      <td>All</td>\n",
       "      <td>15</td>\n",
       "      <td>13</td>\n",
       "      <td>0.867</td>\n",
       "    </tr>\n",
       "    <tr>\n",
       "      <th>46</th>\n",
       "      <td>2017-2018</td>\n",
       "      <td>District</td>\n",
       "      <td>17003</td>\n",
       "      <td>Beach 3</td>\n",
       "      <td>All</td>\n",
       "      <td>27</td>\n",
       "      <td>21</td>\n",
       "      <td>0.778</td>\n",
       "    </tr>\n",
       "    <tr>\n",
       "      <th>69</th>\n",
       "      <td>2017-2018</td>\n",
       "      <td>District</td>\n",
       "      <td>40007</td>\n",
       "      <td>Belcourt 7</td>\n",
       "      <td>All</td>\n",
       "      <td>120</td>\n",
       "      <td>105</td>\n",
       "      <td>0.875</td>\n",
       "    </tr>\n",
       "    <tr>\n",
       "      <th>92</th>\n",
       "      <td>2017-2018</td>\n",
       "      <td>District</td>\n",
       "      <td>45013</td>\n",
       "      <td>Belfield 13</td>\n",
       "      <td>All</td>\n",
       "      <td>16</td>\n",
       "      <td>16</td>\n",
       "      <td>1</td>\n",
       "    </tr>\n",
       "    <tr>\n",
       "      <th>...</th>\n",
       "      <td>...</td>\n",
       "      <td>...</td>\n",
       "      <td>...</td>\n",
       "      <td>...</td>\n",
       "      <td>...</td>\n",
       "      <td>...</td>\n",
       "      <td>...</td>\n",
       "      <td>...</td>\n",
       "    </tr>\n",
       "    <tr>\n",
       "      <th>2576</th>\n",
       "      <td>2017-2018</td>\n",
       "      <td>District</td>\n",
       "      <td>28085</td>\n",
       "      <td>White Shield 85</td>\n",
       "      <td>All</td>\n",
       "      <td>12</td>\n",
       "      <td>10</td>\n",
       "      <td>0.833</td>\n",
       "    </tr>\n",
       "    <tr>\n",
       "      <th>2599</th>\n",
       "      <td>2017-2018</td>\n",
       "      <td>District</td>\n",
       "      <td>53001</td>\n",
       "      <td>Williston 1</td>\n",
       "      <td>All</td>\n",
       "      <td>295</td>\n",
       "      <td>241</td>\n",
       "      <td>0.817</td>\n",
       "    </tr>\n",
       "    <tr>\n",
       "      <th>2622</th>\n",
       "      <td>2017-2018</td>\n",
       "      <td>District</td>\n",
       "      <td>28001</td>\n",
       "      <td>Wilton 1</td>\n",
       "      <td>All</td>\n",
       "      <td>18</td>\n",
       "      <td>17</td>\n",
       "      <td>0.944</td>\n",
       "    </tr>\n",
       "    <tr>\n",
       "      <th>2645</th>\n",
       "      <td>2017-2018</td>\n",
       "      <td>District</td>\n",
       "      <td>26019</td>\n",
       "      <td>Wishek 19</td>\n",
       "      <td>All</td>\n",
       "      <td>11</td>\n",
       "      <td>11</td>\n",
       "      <td>1</td>\n",
       "    </tr>\n",
       "    <tr>\n",
       "      <th>2668</th>\n",
       "      <td>2017-2018</td>\n",
       "      <td>District</td>\n",
       "      <td>39042</td>\n",
       "      <td>Wyndmere 42</td>\n",
       "      <td>All</td>\n",
       "      <td>15</td>\n",
       "      <td>15</td>\n",
       "      <td>1</td>\n",
       "    </tr>\n",
       "  </tbody>\n",
       "</table>\n",
       "<p>117 rows × 8 columns</p>\n",
       "</div>"
      ],
      "text/plain": [
       "     Academic_Year Entity_Level  District_ID          District_Name  \\\n",
       "0        2017-2018     District        27002            Alexander 2   \n",
       "23       2017-2018     District         2007  Barnes County North 7   \n",
       "46       2017-2018     District        17003                Beach 3   \n",
       "69       2017-2018     District        40007             Belcourt 7   \n",
       "92       2017-2018     District        45013            Belfield 13   \n",
       "...            ...          ...          ...                    ...   \n",
       "2576     2017-2018     District        28085        White Shield 85   \n",
       "2599     2017-2018     District        53001            Williston 1   \n",
       "2622     2017-2018     District        28001               Wilton 1   \n",
       "2645     2017-2018     District        26019              Wishek 19   \n",
       "2668     2017-2018     District        39042            Wyndmere 42   \n",
       "\n",
       "     Subgroup_Desc Student_Count Graduate_Count Traditional_Graduation_Rate  \n",
       "0              All            10              8                       0.800  \n",
       "23             All            15             13                       0.867  \n",
       "46             All            27             21                       0.778  \n",
       "69             All           120            105                       0.875  \n",
       "92             All            16             16                           1  \n",
       "...            ...           ...            ...                         ...  \n",
       "2576           All            12             10                       0.833  \n",
       "2599           All           295            241                       0.817  \n",
       "2622           All            18             17                       0.944  \n",
       "2645           All            11             11                           1  \n",
       "2668           All            15             15                           1  \n",
       "\n",
       "[117 rows x 8 columns]"
      ]
     },
     "execution_count": 14,
     "metadata": {},
     "output_type": "execute_result"
    }
   ],
   "source": [
    "state_grads"
   ]
  },
  {
   "cell_type": "markdown",
   "id": "optical-hawaii",
   "metadata": {},
   "source": [
    "Select and rename columns."
   ]
  },
  {
   "cell_type": "code",
   "execution_count": 15,
   "id": "immediate-bullet",
   "metadata": {},
   "outputs": [],
   "source": [
    "state_grads = state_grads[['District_Name', 'Student_Count', 'Traditional_Graduation_Rate']]"
   ]
  },
  {
   "cell_type": "code",
   "execution_count": 16,
   "id": "after-summary",
   "metadata": {},
   "outputs": [],
   "source": [
    "state_grads.columns = ['District Name', 'Total', 'Graduation Rate']"
   ]
  },
  {
   "cell_type": "code",
   "execution_count": 17,
   "id": "whole-publisher",
   "metadata": {},
   "outputs": [
    {
     "name": "stdout",
     "output_type": "stream",
     "text": [
      "<class 'pandas.core.frame.DataFrame'>\n",
      "Int64Index: 117 entries, 0 to 2668\n",
      "Data columns (total 3 columns):\n",
      " #   Column           Non-Null Count  Dtype \n",
      "---  ------           --------------  ----- \n",
      " 0   District Name    117 non-null    object\n",
      " 1   Total            117 non-null    object\n",
      " 2   Graduation Rate  117 non-null    object\n",
      "dtypes: object(3)\n",
      "memory usage: 3.7+ KB\n"
     ]
    }
   ],
   "source": [
    "state_grads.info()"
   ]
  },
  {
   "cell_type": "markdown",
   "id": "military-sunrise",
   "metadata": {},
   "source": [
    "Convert data types."
   ]
  },
  {
   "cell_type": "code",
   "execution_count": 18,
   "id": "solid-dominant",
   "metadata": {},
   "outputs": [],
   "source": [
    "state_grads['Total'] = state_grads['Total'].astype(str).str.replace('i', '')\n",
    "state_grads['Graduation Rate'] = state_grads['Graduation Rate'].astype(str).str.replace('i', '')"
   ]
  },
  {
   "cell_type": "code",
   "execution_count": 19,
   "id": "invalid-census",
   "metadata": {},
   "outputs": [],
   "source": [
    "state_grads['Total'] = pd.to_numeric(state_grads['Total'])\n",
    "state_grads['Graduation Rate'] = pd.to_numeric(state_grads['Graduation Rate'])"
   ]
  },
  {
   "cell_type": "markdown",
   "id": "deluxe-dispute",
   "metadata": {},
   "source": [
    "Check for matches and non-matches in the two lists. "
   ]
  },
  {
   "cell_type": "code",
   "execution_count": 55,
   "id": "interim-rouge",
   "metadata": {},
   "outputs": [],
   "source": [
    "state_fiscal['NAME'] = state_fiscal['NAME'].astype(str).str.upper().str.strip()\n",
    "state_grads['District Name'] = state_grads['District Name'].astype(str).str.upper().str.strip()"
   ]
  },
  {
   "cell_type": "code",
   "execution_count": 19,
   "id": "tropical-doubt",
   "metadata": {
    "jupyter": {
     "source_hidden": true
    }
   },
   "outputs": [],
   "source": [
    "# state_grads['District Name'] = state_grads['District Name'].astype(str).str.replace(' SCHOOL DISTRICT', '')\n",
    "# state_grads['District Name'] = state_grads['District Name'].astype(str).str.replace('SCH DIST', 'SCHOOL DISTRICT')\n",
    "# state_grads['District Name'] = state_grads['District Name'].astype(str).str.replace(' CS', ' CHARTER SCHOOL')\n",
    "# state_grads['District Name'] = state_grads['District Name'].astype(str).str.replace(r'\\sHIGH\\sSCHOOL$', '')\n",
    "# state_grads['District Name'] = state_grads['District Name'].astype(str).str.replace(r'\\sSCHOOL$', '')\n",
    "# state_grads['District Name'] = state_grads['District Name'].astype(str).str.replace(' PUBLIC SCHOOLS', '')\n",
    "# state_grads['District Name'] = state_grads['District Name'].astype(str).str.replace(' CO ', ' COUNTY ')\n",
    "# state_grads['District Name'] = state_grads['District Name'].astype(str).str.replace(' BORO', '')\n",
    "# state_grads['District Name'] = state_grads['District Name'].astype(str).str.replace(' CITY', '')\n",
    "# state_grads['District Name'] = state_grads['District Name'].astype(str).str.replace('TWP', 'TOWNSHIP')\n",
    "# state_grads['District Name'] = state_grads['District Name'].astype(str).str.replace(r'\\sREG(\\s|$)', ' REGIONAL ')\n",
    "# state_grads['District Name'] = state_grads['District Name'].astype(str).str.replace(r'\\sTOWN$', '')\n",
    "# state_grads['District Name'] = state_grads['District Name'].astype(str).str.replace(r'\\sTOWNSHIP$', '')\n",
    "# state_grads['District Name'] = state_grads['District Name'].astype(str).str.replace(r'\\sBORO$', '')\n",
    "# state_grads['District Name'] = state_grads['District Name'].astype(str).str.replace(r'\\sPUBLIC$', '')\n",
    "# state_grads['District Name'] = state_grads['District Name'].astype(str).str.replace('H.S DIST.', '')\n",
    "# state_grads['District Name'] = state_grads['District Name'].astype(str).str.replace(r'^N\\s', 'NORTH ')\n",
    "# state_grads['District Name'] = state_grads['District Name'].astype(str).str.replace(r'^W\\s', 'WEST ')\n",
    "# state_grads['District Name'] = state_grads['District Name'].astype(str).str.replace(\"’\", \"'\")\n",
    "# state_grads['District Name'] = state_grads['District Name'].astype(str).str.replace(' REGIONAL', '')\n",
    "\n",
    "# state_grads['District Name'] = state_grads['District Name'].astype(str).str.strip()\n",
    "\n",
    "# state_fiscal['NAME'] = state_fiscal['NAME'].astype(str).str.replace(' BOARD OF EDUCATION', '')\n",
    "# state_fiscal['NAME'] = state_fiscal['NAME'].astype(str).str.replace(' VOCATIONAL TECHNICAL', ' VOCATIONAL')\n",
    "# state_fiscal['NAME'] = state_fiscal['NAME'].astype(str).str.replace(' CITY', '')\n",
    "# state_fiscal['NAME'] = state_fiscal['NAME'].astype(str).str.replace(' PUBLIC SCHOOLS', '')\n",
    "# state_fiscal['NAME'] = state_fiscal['NAME'].astype(str).str.replace(' PUBLIC', '')\n",
    "# state_fiscal['NAME'] = state_fiscal['NAME'].astype(str).str.replace(' SCHOOL DISTRICT', '')\n",
    "# state_fiscal['NAME'] = state_fiscal['NAME'].astype(str).str.replace(r'\\sHIGH\\sSCHOOL$', '')\n",
    "# state_fiscal['NAME'] = state_fiscal['NAME'].astype(str).str.replace(r'\\sSCHOOL$', '')\n",
    "# state_fiscal['NAME'] = state_fiscal['NAME'].astype(str).str.replace(r'\\sTOWNSHIP$', '')\n",
    "# state_fiscal['NAME'] = state_fiscal['NAME'].astype(str).str.replace(r'\\sTOWN$', '')\n",
    "# state_fiscal['NAME'] = state_fiscal['NAME'].astype(str).str.replace(r'\\sBOROUGH$', '')\n",
    "# state_fiscal['NAME'] = state_fiscal['NAME'].astype(str).str.replace(r'\\sBORO$', '')\n",
    "# state_fiscal['NAME'] = state_fiscal['NAME'].astype(str).str.replace(r'\\sDISTRICT$', '')\n",
    "# state_fiscal['NAME'] = state_fiscal['NAME'].astype(str).str.replace('VOCATIONAL AND TECHNICAL', 'VOCATIONAL')\n",
    "# state_fiscal['NAME'] = state_fiscal['NAME'].astype(str).str.replace('VOCATIONAL-TECHNICAL', 'VOCATIONAL')\n",
    "# state_fiscal['NAME'] = state_fiscal['NAME'].astype(str).str.replace('TECHNICAL', 'VOCATIONAL')\n",
    "# state_fiscal['NAME'] = state_fiscal['NAME'].astype(str).str.replace('INSTITUTE OF TECHNOLOGY', 'VOCATIONAL')\n",
    "# state_fiscal['NAME'] = state_fiscal['NAME'].astype(str).str.replace('SCHOOLS OF TECHNOLOGY', 'VOCATIONAL')\n",
    "# state_fiscal['NAME'] = state_fiscal['NAME'].astype(str).str.replace(r'\\sHIGH$', '')\n",
    "# state_fiscal['NAME'] = state_fiscal['NAME'].astype(str).str.replace(' REGIONAL', '')\n",
    "\n",
    "# state_fiscal['NAME'] = state_fiscal['NAME'].astype(str).str.strip()"
   ]
  },
  {
   "cell_type": "code",
   "execution_count": 56,
   "id": "romance-colors",
   "metadata": {},
   "outputs": [
    {
     "data": {
      "text/plain": [
       "678"
      ]
     },
     "execution_count": 56,
     "metadata": {},
     "output_type": "execute_result"
    }
   ],
   "source": [
    "matches = [name for name in list(state_grads['District Name']) if name in list(state_fiscal['NAME'])]\n",
    "matches.sort()\n",
    "len(matches)"
   ]
  },
  {
   "cell_type": "code",
   "execution_count": 57,
   "id": "rolled-plate",
   "metadata": {},
   "outputs": [
    {
     "data": {
      "text/plain": [
       "['KIRYAS JOEL VILLAGE UNION FREE SCHOOL DISTRICT',\n",
       " 'THE ENLARGED CITY SCHOOL DISTRICT OF THE CITY OF SARATOGA SPRINGS']"
      ]
     },
     "execution_count": 57,
     "metadata": {},
     "output_type": "execute_result"
    }
   ],
   "source": [
    "A = [name for name in list(state_grads['District Name']) if name not in list(state_fiscal['NAME'])]\n",
    "A.sort()\n",
    "A"
   ]
  },
  {
   "cell_type": "code",
   "execution_count": 54,
   "id": "ancient-performance",
   "metadata": {},
   "outputs": [
    {
     "data": {
      "text/plain": [
       "['ACHIEVEMENT FIRST CROWN HEIGHTS CHARTER SCHOOL',\n",
       " 'ACHIEVEMENT FIRST EAST NEW YORK CHARTER SCHOOL',\n",
       " 'ACHIEVEMENT FIRST ENDEAVOR CHARTER SCHOOL',\n",
       " 'ACHIEVEMENT FIRST-BUSHWICK CHARTER SCHOOL',\n",
       " 'ALBANY LEADERSHIP CHARTER HIGH SCHOOL FOR GIRLS',\n",
       " 'ALBANY-SCHOHARIE-SCHENECTADY-SARATOGA BOCES',\n",
       " 'BRONX LIGHTHOUSE CHARTER SCHOOL',\n",
       " 'BRONX PREPARATORY CHARTER SCHOOL',\n",
       " 'BROOKLYN EMERGING LEADERS ACADEMY CHARTER SCHOOL',\n",
       " 'BROOKLYN PROSPECT CHARTER SCHOOL-CSD 15',\n",
       " 'BROOME STREET ACADEMY CHARTER HIGH SCHOOL',\n",
       " 'BROOME-DELAWARE-TIOGA BOCES',\n",
       " 'BUFFALO ACADEMY OF SCIENCE CHARTER SCHOOL',\n",
       " 'CATTARAUGUS-ALLEGANY-ERIE-WYOMING BOCES',\n",
       " 'CAYUGA-ONONDAGA BOCES',\n",
       " 'CHARTER SCHOOL FOR APPLIED TECHNOLOGIES',\n",
       " 'CLINTON-ESSEX-WARREN-WASHINGTON BOCES',\n",
       " 'CONEY ISLAND PREPARATORY PUBLIC CHARTER SCHOOL',\n",
       " 'DELAWARE-CHENANGO-MADISON-OTSEGO BOCES',\n",
       " 'DEMOCRACY PREP HARLEM CHARTER SCHOOL',\n",
       " 'DEMOCRACY PREPARATORY CHARTER SCHOOL',\n",
       " 'DR RICHARD IZQUIERDO HEALTH AND SCIENCE CHARTER SCHOOL',\n",
       " 'DUTCHESS BOCES',\n",
       " 'EASTERN SUFFOLK BOCES',\n",
       " 'EQUALITY CHARTER SCHOOL',\n",
       " 'ERIE 1 BOCES',\n",
       " 'ERIE 2-CHAUTAUQUA-CATTARAUGUS BOCES',\n",
       " 'EXCELLENCE GIRLS CHARTER SCHOOL',\n",
       " 'FRANKLIN-ESSEX-HAMILTON BOCES',\n",
       " 'GENESEE VALLEY BOCES',\n",
       " 'GLOBAL CONCEPTS CHARTER SCHOOL',\n",
       " 'GREEN TECH HIGH CHARTER SCHOOL',\n",
       " 'HAMILTON-FULTON-MONTGOMERY BOCES',\n",
       " \"HARLEM CHILDREN'S ZONE PROMISE ACADEMY CHARTER SCHOOL\",\n",
       " \"HARLEM CHILDREN'S ZONE PROMISE ACADEMY II CHARTER SCHOOL\",\n",
       " 'HARLEM VILLAGE ACADEMY CHARTER SCHOOL',\n",
       " 'HARLEM VILLAGE ACADEMY LEADERSHIP CHARTER SCHOOL',\n",
       " 'HEALTH SCIENCES CHARTER SCHOOL',\n",
       " 'HERKIMER-FULTON-HAMILTON-OTSEGO BOCES',\n",
       " 'HYDE LEADERSHIP CHARTER SCHOOL',\n",
       " 'INTERNATIONAL LEADERSHIP CHARTER SCHOOL',\n",
       " 'INWOOD ACADEMY FOR LEADERSHIP CHARTER SCHOOL',\n",
       " 'JEFFERSON-LEWIS-HAMILTON-HERKIMER-ONEIDA BOCES',\n",
       " 'JOHN V LINDSAY WILDCAT ACADEMY CHARTER SCHOOL',\n",
       " 'JOHN W LAVELLE PREPARATORY CHARTER SCHOOL',\n",
       " 'KIPP ACADEMY CHARTER SCHOOL',\n",
       " 'KIPP ALWAYS MENTALLY PREPARED CHARTER SCHOOL',\n",
       " 'KIPP INFINITY CHARTER SCHOOL',\n",
       " 'KIPP NYC WASHINGTON HEIGHTS ACADEMY CHARTER SCHOOL',\n",
       " 'KIPP STAR COLLEGE PREP CHARTER',\n",
       " 'LEADERSHIP PREPARATORY BEDFORD STUYVESANT CHARTER SCHOOL',\n",
       " 'LEADERSHIP PREPARATORY OCEAN HILL CHARTER SCHOOL',\n",
       " 'MADISON-ONEIDA BOCES',\n",
       " 'MATH ENGINEERING AND SCIENCE ACADEMY CHARTER HIGH SCHOOL',\n",
       " 'MONROE 1 BOCES',\n",
       " 'MONROE 2-ORLEANS BOCES',\n",
       " 'NASSAU BOCES',\n",
       " 'NEW DAWN CHARTER HIGH SCHOOL',\n",
       " 'NEW HEIGHTS ACADEMY CHARTER SCHOOL',\n",
       " 'NEW ROOTS CHARTER SCHOOL',\n",
       " 'NEW VENTURES CHARTER SCHOOL',\n",
       " 'NEW VISIONS AIM CHARTER HIGH SCHOOL I',\n",
       " 'NEW VISIONS AIM CHARTER HIGH SCHOOL II',\n",
       " 'NEW VISIONS CHARTER HIGH SCHOOL FOR HUMANITIES II',\n",
       " 'NEW VISIONS CHARTER HIGH SCHOOL FOR THE HUMANITIES',\n",
       " 'NEW VISIONS CHARTER HIGH SCHOOL FOR THE HUMANITIES III',\n",
       " 'NEW VISIONS CHARTER HS-ADV MATH/SCIE',\n",
       " 'NEW VISIONS CHTR HS-ADV MA/SCI II',\n",
       " 'NEW VISIONS CHTR HS-ADV MA/SCI III',\n",
       " 'NEW YORK STATE OFFICE MENTAL HEALTH (OMH)',\n",
       " 'NEW YORK STATE OFFICE OF CHILDREN AND FAMILY SERVICES (OCFS)',\n",
       " 'NEW YORK STATE SCHOOL FOR THE BLIND',\n",
       " 'NEW YORK STATE SCHOOL FOR THE DEAF',\n",
       " 'NEWBURGH PREPARATORY CHARTER HIGH SCHOOL',\n",
       " 'NORTHSIDE CHARTER HIGH SCHOOL',\n",
       " \"NYC CHANCELLOR'S OFFICE\",\n",
       " 'NYC CHARTER HS - AECI',\n",
       " 'NYC SPECIAL SCHOOLS - DISTRICT 75',\n",
       " 'ONEIDA-HERKIMER-MADISON BOCES',\n",
       " 'ONONDAGA-CORTLAND-MADISON BOCES',\n",
       " 'ONTARIO-SENECA-YATES-CAYUGA-WAYNE BOCES',\n",
       " 'OPPORTUNITY CHARTER SCHOOL',\n",
       " 'ORACLE CHARTER SCHOOL',\n",
       " 'ORANGE-ULSTER BOCES',\n",
       " 'ORLEANS-NIAGARA BOCES',\n",
       " 'OSWEGO BOCES',\n",
       " 'OTSEGO-DELAWARE-SCHOHARIE-GREENE BOCES',\n",
       " 'PUTNAM-WESTCHESTER BOCES',\n",
       " 'RENAISSANCE CHARTER SCHOOL',\n",
       " 'RENSAISSANCE CHARTER HIGH SCHOOL FOR INNOVATION',\n",
       " 'RENSSELAER-COLUMBIA-GREENE BOCES',\n",
       " 'ROCHESTER ACADEMY CHARTER SCHOOL',\n",
       " 'ROCKLAND BOCES',\n",
       " 'SAINT LAWRENCE-LEWIS BOCES',\n",
       " 'SARATOGA SPRINGS CITY SD',\n",
       " 'SCHUYLER-STEUBEN-CHEMUNG-TIOGA-ALLEGANY BOCES',\n",
       " 'SUCCESS ACADEMY CHARTER SCHOOL-HARLEM 1',\n",
       " 'SUFFERN CENTRAL SCHOOL DISTRICT',\n",
       " 'SULLIVAN BOCES',\n",
       " 'SUMMIT ACADEMY CHARTER SCHOOL',\n",
       " 'SYRACUSE ACADEMY OF SCIENCE CHARTER SCHOOL',\n",
       " 'TAPESTRY CHARTER SCHOOL',\n",
       " 'TOMPKINS-SENECA-TIOGA BOCES',\n",
       " 'TRUE NORTH ROCHESTER PREPARATORY CHARTER SCHOOL',\n",
       " 'UFT CHARTER SCHOOL',\n",
       " 'ULSTER BOCES',\n",
       " 'UNIVERSITY PREP CHARTER HIGH SCHOOL',\n",
       " 'UNIVERSITY PREPARATORY CHARTER SCHOOL FOR YOUNG MEN',\n",
       " 'URBAN DOVE TEAM CHARTER SCHOOL',\n",
       " 'UTICA ACADEMY OF SCIENCE CHARTER SCHOOL',\n",
       " 'VERTUS CHARTER SCHOOL',\n",
       " 'WASHINGTON-SARATOGA-WARREN-HAMILTON-ESSEX BOCES',\n",
       " 'WESTCHESTER BOCES',\n",
       " 'WESTERN NEW YORK MARITIME CHARTER SCHOOL',\n",
       " 'WESTERN SUFFOLK BOCES',\n",
       " 'WILLIAMSBURG CHARTER HIGH SCHOOL',\n",
       " \"YOUNG WOMEN'S COLLEGE PREP CHARTER SCHOOL OF ROCHESTER\"]"
      ]
     },
     "execution_count": 54,
     "metadata": {},
     "output_type": "execute_result"
    }
   ],
   "source": [
    "B = [name for name in list(state_fiscal['NAME']) if name not in list(state_grads['District Name'])]\n",
    "B.sort()\n",
    "B"
   ]
  },
  {
   "cell_type": "markdown",
   "id": "theoretical-lawyer",
   "metadata": {},
   "source": [
    "Match any remaining samples I can find."
   ]
  },
  {
   "cell_type": "code",
   "execution_count": 23,
   "id": "selected-receipt",
   "metadata": {},
   "outputs": [],
   "source": [
    "state_fiscal_rename = {\n",
    "    'SARATOGA SPRINGS CITY SD' : 'THE ENLARGED CITY SCHOOL DISTRICT OF THE CITY OF SARATOGA SPRINGS'\n",
    "}"
   ]
  },
  {
   "cell_type": "code",
   "execution_count": 24,
   "id": "practical-principal",
   "metadata": {},
   "outputs": [],
   "source": [
    "#state_fiscal = state_fiscal.replace(state_fiscal_rename)"
   ]
  },
  {
   "cell_type": "markdown",
   "id": "exposed-keeping",
   "metadata": {},
   "source": [
    "Merge federal and state data, keeping only matches between the two. "
   ]
  },
  {
   "cell_type": "code",
   "execution_count": 25,
   "id": "unexpected-grace",
   "metadata": {},
   "outputs": [],
   "source": [
    "state_grads_merged = pd.merge(state_fiscal, state_grads, how='inner', left_on='NAME', right_on='District Name')"
   ]
  },
  {
   "cell_type": "markdown",
   "id": "innovative-collective",
   "metadata": {},
   "source": [
    "Save cleaned data. "
   ]
  },
  {
   "cell_type": "code",
   "execution_count": 26,
   "id": "south-cattle",
   "metadata": {},
   "outputs": [],
   "source": [
    "state_grads_merged.to_csv('../../data/state_data_merged/' + abbr + '.csv', index=False)"
   ]
  }
 ],
 "metadata": {
  "kernelspec": {
   "display_name": "Python 3",
   "language": "python",
   "name": "python3"
  },
  "language_info": {
   "codemirror_mode": {
    "name": "ipython",
    "version": 3
   },
   "file_extension": ".py",
   "mimetype": "text/x-python",
   "name": "python",
   "nbconvert_exporter": "python",
   "pygments_lexer": "ipython3",
   "version": "3.7.9"
  }
 },
 "nbformat": 4,
 "nbformat_minor": 5
}
