{
 "cells": [
  {
   "cell_type": "code",
   "execution_count": null,
   "id": "south-community",
   "metadata": {},
   "outputs": [],
   "source": [
    "import warnings\n",
    "warnings.filterwarnings('ignore')"
   ]
  },
  {
   "cell_type": "code",
   "execution_count": 2,
   "id": "national-darkness",
   "metadata": {},
   "outputs": [],
   "source": [
    "import pandas as pd\n",
    "import numpy as np"
   ]
  },
  {
   "cell_type": "code",
   "execution_count": 3,
   "id": "reverse-accessory",
   "metadata": {},
   "outputs": [],
   "source": [
    "abbr = 'WY'"
   ]
  },
  {
   "cell_type": "code",
   "execution_count": 4,
   "id": "opponent-slope",
   "metadata": {},
   "outputs": [],
   "source": [
    "file = 'wyoming2018.csv'"
   ]
  },
  {
   "cell_type": "markdown",
   "id": "fifteen-reverse",
   "metadata": {},
   "source": [
    "Read in federal level data"
   ]
  },
  {
   "cell_type": "code",
   "execution_count": 5,
   "id": "expressed-senior",
   "metadata": {},
   "outputs": [],
   "source": [
    "fiscal = pd.read_sas('../../data/fiscal2018', format = 'sas7bdat', encoding='iso-8859-1')"
   ]
  },
  {
   "cell_type": "markdown",
   "id": "dangerous-holocaust",
   "metadata": {},
   "source": [
    "Generate list of districts in the state in the federal data"
   ]
  },
  {
   "cell_type": "code",
   "execution_count": 6,
   "id": "similar-antenna",
   "metadata": {},
   "outputs": [],
   "source": [
    "state_fiscal = fiscal[(fiscal['STABBR'] == abbr) & (fiscal['GSHI'] == '12')]"
   ]
  },
  {
   "cell_type": "code",
   "execution_count": 7,
   "id": "contained-cutting",
   "metadata": {},
   "outputs": [
    {
     "data": {
      "text/plain": [
       "60"
      ]
     },
     "execution_count": 7,
     "metadata": {},
     "output_type": "execute_result"
    }
   ],
   "source": [
    "len(state_fiscal)"
   ]
  },
  {
   "cell_type": "code",
   "execution_count": 8,
   "id": "fitting-surprise",
   "metadata": {},
   "outputs": [
    {
     "data": {
      "text/html": [
       "<div>\n",
       "<style scoped>\n",
       "    .dataframe tbody tr th:only-of-type {\n",
       "        vertical-align: middle;\n",
       "    }\n",
       "\n",
       "    .dataframe tbody tr th {\n",
       "        vertical-align: top;\n",
       "    }\n",
       "\n",
       "    .dataframe thead th {\n",
       "        text-align: right;\n",
       "    }\n",
       "</style>\n",
       "<table border=\"1\" class=\"dataframe\">\n",
       "  <thead>\n",
       "    <tr style=\"text-align: right;\">\n",
       "      <th></th>\n",
       "      <th>LEAID</th>\n",
       "      <th>CENSUSID</th>\n",
       "      <th>FIPST</th>\n",
       "      <th>CONUM</th>\n",
       "      <th>CSA</th>\n",
       "      <th>CBSA</th>\n",
       "      <th>NAME</th>\n",
       "      <th>STNAME</th>\n",
       "      <th>STABBR</th>\n",
       "      <th>SCHLEV</th>\n",
       "      <th>...</th>\n",
       "      <th>FL_66V</th>\n",
       "      <th>FL_W01</th>\n",
       "      <th>FL_W31</th>\n",
       "      <th>FL_W61</th>\n",
       "      <th>FL_V95</th>\n",
       "      <th>FL_V02</th>\n",
       "      <th>FL_K14</th>\n",
       "      <th>FL_CE1</th>\n",
       "      <th>FL_CE2</th>\n",
       "      <th>FL_CE3</th>\n",
       "    </tr>\n",
       "  </thead>\n",
       "  <tbody>\n",
       "    <tr>\n",
       "      <th>18652</th>\n",
       "      <td>5600005</td>\n",
       "      <td>N</td>\n",
       "      <td>56</td>\n",
       "      <td>56021</td>\n",
       "      <td>N</td>\n",
       "      <td>16940</td>\n",
       "      <td>Wyoming Department of Health</td>\n",
       "      <td>Wyoming</td>\n",
       "      <td>WY</td>\n",
       "      <td>N</td>\n",
       "      <td>...</td>\n",
       "      <td>N</td>\n",
       "      <td>N</td>\n",
       "      <td>N</td>\n",
       "      <td>N</td>\n",
       "      <td>N</td>\n",
       "      <td>N</td>\n",
       "      <td>N</td>\n",
       "      <td>N</td>\n",
       "      <td>N</td>\n",
       "      <td>N</td>\n",
       "    </tr>\n",
       "    <tr>\n",
       "      <th>18653</th>\n",
       "      <td>5600009</td>\n",
       "      <td>N</td>\n",
       "      <td>56</td>\n",
       "      <td>56001</td>\n",
       "      <td>N</td>\n",
       "      <td>29660</td>\n",
       "      <td>Cathedral Home for Children - Administration O...</td>\n",
       "      <td>Wyoming</td>\n",
       "      <td>WY</td>\n",
       "      <td>02</td>\n",
       "      <td>...</td>\n",
       "      <td>N</td>\n",
       "      <td>N</td>\n",
       "      <td>N</td>\n",
       "      <td>N</td>\n",
       "      <td>N</td>\n",
       "      <td>N</td>\n",
       "      <td>N</td>\n",
       "      <td>N</td>\n",
       "      <td>N</td>\n",
       "      <td>N</td>\n",
       "    </tr>\n",
       "    <tr>\n",
       "      <th>18654</th>\n",
       "      <td>5600010</td>\n",
       "      <td>N</td>\n",
       "      <td>56</td>\n",
       "      <td>56015</td>\n",
       "      <td>N</td>\n",
       "      <td>N</td>\n",
       "      <td>Saint Joseph's Children's Home - Administratio...</td>\n",
       "      <td>Wyoming</td>\n",
       "      <td>WY</td>\n",
       "      <td>03</td>\n",
       "      <td>...</td>\n",
       "      <td>N</td>\n",
       "      <td>N</td>\n",
       "      <td>N</td>\n",
       "      <td>N</td>\n",
       "      <td>N</td>\n",
       "      <td>N</td>\n",
       "      <td>N</td>\n",
       "      <td>N</td>\n",
       "      <td>N</td>\n",
       "      <td>N</td>\n",
       "    </tr>\n",
       "    <tr>\n",
       "      <th>18656</th>\n",
       "      <td>5600014</td>\n",
       "      <td>N</td>\n",
       "      <td>56</td>\n",
       "      <td>56033</td>\n",
       "      <td>N</td>\n",
       "      <td>43260</td>\n",
       "      <td>Normative Services - Administration Office</td>\n",
       "      <td>Wyoming</td>\n",
       "      <td>WY</td>\n",
       "      <td>02</td>\n",
       "      <td>...</td>\n",
       "      <td>N</td>\n",
       "      <td>N</td>\n",
       "      <td>N</td>\n",
       "      <td>N</td>\n",
       "      <td>N</td>\n",
       "      <td>N</td>\n",
       "      <td>N</td>\n",
       "      <td>N</td>\n",
       "      <td>N</td>\n",
       "      <td>N</td>\n",
       "    </tr>\n",
       "    <tr>\n",
       "      <th>18657</th>\n",
       "      <td>5600015</td>\n",
       "      <td>N</td>\n",
       "      <td>56</td>\n",
       "      <td>56039</td>\n",
       "      <td>N</td>\n",
       "      <td>27220</td>\n",
       "      <td>Red Top Meadows - Administration Office</td>\n",
       "      <td>Wyoming</td>\n",
       "      <td>WY</td>\n",
       "      <td>03</td>\n",
       "      <td>...</td>\n",
       "      <td>N</td>\n",
       "      <td>N</td>\n",
       "      <td>N</td>\n",
       "      <td>N</td>\n",
       "      <td>N</td>\n",
       "      <td>N</td>\n",
       "      <td>N</td>\n",
       "      <td>N</td>\n",
       "      <td>N</td>\n",
       "      <td>N</td>\n",
       "    </tr>\n",
       "  </tbody>\n",
       "</table>\n",
       "<p>5 rows × 262 columns</p>\n",
       "</div>"
      ],
      "text/plain": [
       "         LEAID CENSUSID FIPST  CONUM CSA   CBSA  \\\n",
       "18652  5600005        N    56  56021   N  16940   \n",
       "18653  5600009        N    56  56001   N  29660   \n",
       "18654  5600010        N    56  56015   N      N   \n",
       "18656  5600014        N    56  56033   N  43260   \n",
       "18657  5600015        N    56  56039   N  27220   \n",
       "\n",
       "                                                    NAME   STNAME STABBR  \\\n",
       "18652                       Wyoming Department of Health  Wyoming     WY   \n",
       "18653  Cathedral Home for Children - Administration O...  Wyoming     WY   \n",
       "18654  Saint Joseph's Children's Home - Administratio...  Wyoming     WY   \n",
       "18656         Normative Services - Administration Office  Wyoming     WY   \n",
       "18657            Red Top Meadows - Administration Office  Wyoming     WY   \n",
       "\n",
       "      SCHLEV  ... FL_66V FL_W01 FL_W31 FL_W61 FL_V95 FL_V02  FL_K14  FL_CE1  \\\n",
       "18652      N  ...      N      N      N      N      N      N       N       N   \n",
       "18653     02  ...      N      N      N      N      N      N       N       N   \n",
       "18654     03  ...      N      N      N      N      N      N       N       N   \n",
       "18656     02  ...      N      N      N      N      N      N       N       N   \n",
       "18657     03  ...      N      N      N      N      N      N       N       N   \n",
       "\n",
       "       FL_CE2  FL_CE3  \n",
       "18652       N       N  \n",
       "18653       N       N  \n",
       "18654       N       N  \n",
       "18656       N       N  \n",
       "18657       N       N  \n",
       "\n",
       "[5 rows x 262 columns]"
      ]
     },
     "execution_count": 8,
     "metadata": {},
     "output_type": "execute_result"
    }
   ],
   "source": [
    "state_fiscal.head()"
   ]
  },
  {
   "cell_type": "markdown",
   "id": "unnecessary-tours",
   "metadata": {},
   "source": [
    "Read in state level data"
   ]
  },
  {
   "cell_type": "code",
   "execution_count": 9,
   "id": "seasonal-feelings",
   "metadata": {},
   "outputs": [],
   "source": [
    "state_grads = pd.read_csv('../../data/state_data_raw/' + file)"
   ]
  },
  {
   "cell_type": "code",
   "execution_count": 10,
   "id": "substantial-hacker",
   "metadata": {},
   "outputs": [
    {
     "data": {
      "text/html": [
       "<div>\n",
       "<style scoped>\n",
       "    .dataframe tbody tr th:only-of-type {\n",
       "        vertical-align: middle;\n",
       "    }\n",
       "\n",
       "    .dataframe tbody tr th {\n",
       "        vertical-align: top;\n",
       "    }\n",
       "\n",
       "    .dataframe thead th {\n",
       "        text-align: right;\n",
       "    }\n",
       "</style>\n",
       "<table border=\"1\" class=\"dataframe\">\n",
       "  <thead>\n",
       "    <tr style=\"text-align: right;\">\n",
       "      <th></th>\n",
       "      <th>DistrictId</th>\n",
       "      <th>DistrictName</th>\n",
       "      <th>ReportingCategory</th>\n",
       "      <th>GradRateType</th>\n",
       "      <th>SchoolYear</th>\n",
       "      <th>total_exiters</th>\n",
       "      <th>graduates</th>\n",
       "      <th>graduation_rate</th>\n",
       "    </tr>\n",
       "  </thead>\n",
       "  <tbody>\n",
       "    <tr>\n",
       "      <th>0</th>\n",
       "      <td>101000</td>\n",
       "      <td>Albany #1</td>\n",
       "      <td>All Students</td>\n",
       "      <td>4 Year</td>\n",
       "      <td>2017-18</td>\n",
       "      <td>284</td>\n",
       "      <td>234</td>\n",
       "      <td>82.4%</td>\n",
       "    </tr>\n",
       "    <tr>\n",
       "      <th>1</th>\n",
       "      <td>201000</td>\n",
       "      <td>Big Horn #1</td>\n",
       "      <td>All Students</td>\n",
       "      <td>4 Year</td>\n",
       "      <td>2017-18</td>\n",
       "      <td>156</td>\n",
       "      <td>78</td>\n",
       "      <td>50.0%</td>\n",
       "    </tr>\n",
       "    <tr>\n",
       "      <th>2</th>\n",
       "      <td>202000</td>\n",
       "      <td>Big Horn #2</td>\n",
       "      <td>All Students</td>\n",
       "      <td>4 Year</td>\n",
       "      <td>2017-18</td>\n",
       "      <td>57</td>\n",
       "      <td>54</td>\n",
       "      <td>94.7%</td>\n",
       "    </tr>\n",
       "    <tr>\n",
       "      <th>3</th>\n",
       "      <td>203000</td>\n",
       "      <td>Big Horn #3</td>\n",
       "      <td>All Students</td>\n",
       "      <td>4 Year</td>\n",
       "      <td>2017-18</td>\n",
       "      <td>44</td>\n",
       "      <td>40</td>\n",
       "      <td>90.9%</td>\n",
       "    </tr>\n",
       "    <tr>\n",
       "      <th>4</th>\n",
       "      <td>204000</td>\n",
       "      <td>Big Horn #4</td>\n",
       "      <td>All Students</td>\n",
       "      <td>4 Year</td>\n",
       "      <td>2017-18</td>\n",
       "      <td>23</td>\n",
       "      <td>21</td>\n",
       "      <td>91.3%</td>\n",
       "    </tr>\n",
       "  </tbody>\n",
       "</table>\n",
       "</div>"
      ],
      "text/plain": [
       "   DistrictId DistrictName ReportingCategory GradRateType SchoolYear  \\\n",
       "0      101000    Albany #1      All Students       4 Year    2017-18   \n",
       "1      201000  Big Horn #1      All Students       4 Year    2017-18   \n",
       "2      202000  Big Horn #2      All Students       4 Year    2017-18   \n",
       "3      203000  Big Horn #3      All Students       4 Year    2017-18   \n",
       "4      204000  Big Horn #4      All Students       4 Year    2017-18   \n",
       "\n",
       "   total_exiters  graduates graduation_rate  \n",
       "0            284        234           82.4%  \n",
       "1            156         78           50.0%  \n",
       "2             57         54           94.7%  \n",
       "3             44         40           90.9%  \n",
       "4             23         21           91.3%  "
      ]
     },
     "execution_count": 10,
     "metadata": {},
     "output_type": "execute_result"
    }
   ],
   "source": [
    "state_grads.head()"
   ]
  },
  {
   "cell_type": "markdown",
   "id": "capable-fetish",
   "metadata": {},
   "source": [
    "Reset columns."
   ]
  },
  {
   "cell_type": "markdown",
   "id": "indian-safety",
   "metadata": {},
   "source": [
    "Filter results."
   ]
  },
  {
   "cell_type": "code",
   "execution_count": 11,
   "id": "established-charles",
   "metadata": {},
   "outputs": [],
   "source": [
    "# state_grads = state_grads[(state_grads['SCHOOL_NAME'] == '[Districtwide]') &\n",
    "#                          (state_grads['GROUP_BY_VALUE'] == 'All Students') &\n",
    "#                          (state_grads['TIMEFRAME'] == '4-Year rate') &\n",
    "#                          (state_grads['COMPLETION_STATUS'] == 'Completed - Regular High School Diploma')]"
   ]
  },
  {
   "cell_type": "markdown",
   "id": "lesser-interest",
   "metadata": {},
   "source": [
    "Select and rename columns."
   ]
  },
  {
   "cell_type": "code",
   "execution_count": 12,
   "id": "floppy-henry",
   "metadata": {},
   "outputs": [],
   "source": [
    "state_grads = state_grads[['DistrictName', \n",
    "                           'total_exiters',\n",
    "                           'graduation_rate']]"
   ]
  },
  {
   "cell_type": "code",
   "execution_count": 13,
   "id": "shared-amendment",
   "metadata": {},
   "outputs": [],
   "source": [
    "state_grads.columns = ['District Name', 'Total', 'Graduation Rate']"
   ]
  },
  {
   "cell_type": "code",
   "execution_count": 14,
   "id": "increased-hypothesis",
   "metadata": {},
   "outputs": [
    {
     "name": "stdout",
     "output_type": "stream",
     "text": [
      "<class 'pandas.core.frame.DataFrame'>\n",
      "RangeIndex: 48 entries, 0 to 47\n",
      "Data columns (total 3 columns):\n",
      " #   Column           Non-Null Count  Dtype \n",
      "---  ------           --------------  ----- \n",
      " 0   District Name    48 non-null     object\n",
      " 1   Total            48 non-null     int64 \n",
      " 2   Graduation Rate  48 non-null     object\n",
      "dtypes: int64(1), object(2)\n",
      "memory usage: 1.2+ KB\n"
     ]
    }
   ],
   "source": [
    "state_grads.info()"
   ]
  },
  {
   "cell_type": "markdown",
   "id": "authorized-louisiana",
   "metadata": {},
   "source": [
    "Convert data types."
   ]
  },
  {
   "cell_type": "code",
   "execution_count": 15,
   "id": "premier-memory",
   "metadata": {},
   "outputs": [],
   "source": [
    "# state_grads['Total'] = state_grads['Total'].astype(str).str.replace('<', '')\n",
    "state_grads['Graduation Rate'] = state_grads['Graduation Rate'].astype(str).str.replace('%', '')"
   ]
  },
  {
   "cell_type": "code",
   "execution_count": 16,
   "id": "constant-friday",
   "metadata": {},
   "outputs": [],
   "source": [
    "state_grads['Graduation Rate'] = pd.to_numeric(state_grads['Graduation Rate']) / 100."
   ]
  },
  {
   "cell_type": "markdown",
   "id": "damaged-matter",
   "metadata": {},
   "source": [
    "Check for matches and non-matches in the two lists. "
   ]
  },
  {
   "cell_type": "code",
   "execution_count": 17,
   "id": "current-mexico",
   "metadata": {},
   "outputs": [],
   "source": [
    "# state_fiscal['NAME'] = state_fiscal['NAME'].astype(str).str.upper().str.strip()\n",
    "# state_grads['District Name'] = state_grads['District Name'].astype(str).str.upper().str.strip()"
   ]
  },
  {
   "cell_type": "code",
   "execution_count": 18,
   "id": "integrated-potential",
   "metadata": {},
   "outputs": [],
   "source": [
    "# state_grads['District Name'] = state_grads['District Name'].astype(str).str.replace(r'\\sSu$', '')\n",
    "# state_grads['District Name'] = state_grads['District Name'].astype(str).str.replace(r'\\sSd$', '')\n",
    "\n",
    "# state_fiscal['NAME'] = state_fiscal['NAME'].astype(str).str.replace(' School District', '')\n",
    "# state_fiscal['NAME'] = state_fiscal['NAME'].astype(str).str.replace(' Agency', '')"
   ]
  },
  {
   "cell_type": "code",
   "execution_count": 19,
   "id": "occupied-softball",
   "metadata": {},
   "outputs": [
    {
     "data": {
      "text/plain": [
       "0"
      ]
     },
     "execution_count": 19,
     "metadata": {},
     "output_type": "execute_result"
    }
   ],
   "source": [
    "matches = [name for name in list(state_grads['District Name']) if name in list(state_fiscal['NAME'])]\n",
    "matches.sort()\n",
    "len(matches)"
   ]
  },
  {
   "cell_type": "code",
   "execution_count": 20,
   "id": "latter-duration",
   "metadata": {},
   "outputs": [
    {
     "data": {
      "text/plain": [
       "['Albany #1',\n",
       " 'Big Horn #1',\n",
       " 'Big Horn #2',\n",
       " 'Big Horn #3',\n",
       " 'Big Horn #4',\n",
       " 'Campbell #1',\n",
       " 'Carbon #1',\n",
       " 'Carbon #2',\n",
       " 'Converse #1',\n",
       " 'Converse #2',\n",
       " 'Crook #1',\n",
       " 'Fremont #1',\n",
       " 'Fremont #14',\n",
       " 'Fremont #2',\n",
       " 'Fremont #21',\n",
       " 'Fremont #24',\n",
       " 'Fremont #25',\n",
       " 'Fremont #38',\n",
       " 'Fremont #6',\n",
       " 'Goshen #1',\n",
       " 'Hot Springs #1',\n",
       " 'Johnson #1',\n",
       " 'Laramie #1',\n",
       " 'Laramie #2',\n",
       " 'Lincoln #1',\n",
       " 'Lincoln #2',\n",
       " 'Natrona #1',\n",
       " 'Niobrara #1',\n",
       " 'Park #1',\n",
       " 'Park #16',\n",
       " 'Park #6',\n",
       " 'Platte #1',\n",
       " 'Platte #2',\n",
       " 'Sheridan #1',\n",
       " 'Sheridan #2',\n",
       " 'Sheridan #3',\n",
       " 'Sublette #1',\n",
       " 'Sublette #9',\n",
       " 'Sweetwater #1',\n",
       " 'Sweetwater #2',\n",
       " 'Teton #1',\n",
       " 'Uinta #1',\n",
       " 'Uinta #4',\n",
       " 'Uinta #6',\n",
       " 'Washakie #1',\n",
       " 'Washakie #2',\n",
       " 'Weston #1',\n",
       " 'Weston #7']"
      ]
     },
     "execution_count": 20,
     "metadata": {},
     "output_type": "execute_result"
    }
   ],
   "source": [
    "A = [name for name in list(state_grads['District Name']) if name not in list(state_fiscal['NAME'])]\n",
    "A.sort()\n",
    "A"
   ]
  },
  {
   "cell_type": "code",
   "execution_count": 21,
   "id": "downtown-series",
   "metadata": {},
   "outputs": [
    {
     "data": {
      "text/plain": [
       "['Albany County School District #1',\n",
       " 'Big Horn County School District #1',\n",
       " 'Big Horn County School District #2',\n",
       " 'Big Horn County School District #3',\n",
       " 'Big Horn County School District #4',\n",
       " 'Campbell County School District #1',\n",
       " 'Carbon County School District #1',\n",
       " 'Carbon County School District #2',\n",
       " 'Cathedral Home for Children - Administration Office',\n",
       " 'Converse County School District #1',\n",
       " 'Converse County School District #2',\n",
       " 'Crook County School District #1',\n",
       " 'Fremont County School District # 1',\n",
       " 'Fremont County School District # 2',\n",
       " 'Fremont County School District # 6',\n",
       " 'Fremont County School District #14',\n",
       " 'Fremont County School District #21',\n",
       " 'Fremont County School District #24',\n",
       " 'Fremont County School District #25',\n",
       " 'Fremont County School District #38',\n",
       " 'Goshen County School District #1',\n",
       " 'Hot Springs County School District #1',\n",
       " 'Johnson County School District #1',\n",
       " 'Laramie County School District #1',\n",
       " 'Laramie County School District #2',\n",
       " 'Lincoln County School District #1',\n",
       " 'Lincoln County School District #2',\n",
       " 'Natrona County School District #1',\n",
       " 'Niobrara County School District #1',\n",
       " 'Normative Services - Administration Office',\n",
       " 'Northeast Wyoming BOCES',\n",
       " 'Northwest Wyoming BOCES',\n",
       " 'Park County School District # 1',\n",
       " 'Park County School District # 6',\n",
       " 'Park County School District #16',\n",
       " 'Platte County School District #1',\n",
       " 'Platte County School District #2',\n",
       " 'Red Top Meadows - Administration Office',\n",
       " 'Region V BOCES',\n",
       " \"Saint Joseph's Children's Home - Administration Office\",\n",
       " \"Saint Stephen's Indian School Admin Office\",\n",
       " 'Sheridan County School District #1',\n",
       " 'Sheridan County School District #2',\n",
       " 'Sheridan County School District #3',\n",
       " 'Sublette County School District #1',\n",
       " 'Sublette County School District #9',\n",
       " 'Sweetwater County School District #1',\n",
       " 'Sweetwater County School District #2',\n",
       " 'Teton County School District #1',\n",
       " 'Uinta County School District #1',\n",
       " 'Uinta County School District #4',\n",
       " 'Uinta County School District #6',\n",
       " 'Washakie County School District #1',\n",
       " 'Washakie County School District #2',\n",
       " 'Weston County School District #1',\n",
       " 'Weston County School District #7',\n",
       " 'Wyoming Behavioral Institute - Administration Office',\n",
       " 'Wyoming Department of Family Services',\n",
       " 'Wyoming Department of Health',\n",
       " 'Youth Emergency Services Inc. - Administration Office']"
      ]
     },
     "execution_count": 21,
     "metadata": {},
     "output_type": "execute_result"
    }
   ],
   "source": [
    "B = [name for name in list(state_fiscal['NAME']) if name not in list(state_grads['District Name'])]\n",
    "B.sort()\n",
    "B"
   ]
  },
  {
   "cell_type": "markdown",
   "id": "social-designation",
   "metadata": {},
   "source": [
    "No additional matches to be made."
   ]
  },
  {
   "cell_type": "code",
   "execution_count": 22,
   "id": "acute-occupation",
   "metadata": {},
   "outputs": [],
   "source": [
    "# state_fiscal_rename = {}"
   ]
  },
  {
   "cell_type": "code",
   "execution_count": 23,
   "id": "thorough-naples",
   "metadata": {},
   "outputs": [],
   "source": [
    "# state_fiscal = state_fiscal.replace(state_fiscal_rename)"
   ]
  },
  {
   "cell_type": "markdown",
   "id": "radical-family",
   "metadata": {},
   "source": [
    "Merge federal and state data, keeping only matches between the two. "
   ]
  },
  {
   "cell_type": "code",
   "execution_count": 24,
   "id": "approximate-boating",
   "metadata": {},
   "outputs": [],
   "source": [
    "state_grads_merged = pd.merge(state_fiscal, state_grads, how='inner', left_on='NAME', right_on='District Name')"
   ]
  },
  {
   "cell_type": "markdown",
   "id": "foster-banana",
   "metadata": {},
   "source": [
    "Save cleaned data. "
   ]
  },
  {
   "cell_type": "code",
   "execution_count": 25,
   "id": "otherwise-oriental",
   "metadata": {},
   "outputs": [],
   "source": [
    "state_grads_merged.to_csv('../../data/state_data_merged/' + abbr + '.csv', index=False)"
   ]
  }
 ],
 "metadata": {
  "kernelspec": {
   "display_name": "Python 3",
   "language": "python",
   "name": "python3"
  },
  "language_info": {
   "codemirror_mode": {
    "name": "ipython",
    "version": 3
   },
   "file_extension": ".py",
   "mimetype": "text/x-python",
   "name": "python",
   "nbconvert_exporter": "python",
   "pygments_lexer": "ipython3",
   "version": "3.7.9"
  }
 },
 "nbformat": 4,
 "nbformat_minor": 5
}
