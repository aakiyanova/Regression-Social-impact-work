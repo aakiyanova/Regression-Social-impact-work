{
 "cells": [
  {
   "cell_type": "code",
   "execution_count": 1,
   "id": "artificial-infrastructure",
   "metadata": {},
   "outputs": [],
   "source": [
    "import warnings\n",
    "warnings.filterwarnings('ignore')"
   ]
  },
  {
   "cell_type": "code",
   "execution_count": 2,
   "id": "hydraulic-adolescent",
   "metadata": {},
   "outputs": [],
   "source": [
    "import pandas as pd\n",
    "import numpy as np"
   ]
  },
  {
   "cell_type": "code",
   "execution_count": 3,
   "id": "requested-thickness",
   "metadata": {},
   "outputs": [],
   "source": [
    "abbr = 'VT'"
   ]
  },
  {
   "cell_type": "code",
   "execution_count": 4,
   "id": "optional-philippines",
   "metadata": {},
   "outputs": [],
   "source": [
    "file = 'vermont.csv'"
   ]
  },
  {
   "cell_type": "markdown",
   "id": "laden-chocolate",
   "metadata": {},
   "source": [
    "Read in federal level data"
   ]
  },
  {
   "cell_type": "code",
   "execution_count": 5,
   "id": "arbitrary-bubble",
   "metadata": {},
   "outputs": [],
   "source": [
    "fiscal = pd.read_sas('../../data/fiscal2018', format = 'sas7bdat', encoding='iso-8859-1')"
   ]
  },
  {
   "cell_type": "markdown",
   "id": "blank-governor",
   "metadata": {},
   "source": [
    "Generate list of districts in the state in the federal data"
   ]
  },
  {
   "cell_type": "code",
   "execution_count": 6,
   "id": "polished-spank",
   "metadata": {},
   "outputs": [],
   "source": [
    "state_fiscal = fiscal[(fiscal['STABBR'] == abbr)]"
   ]
  },
  {
   "cell_type": "code",
   "execution_count": 7,
   "id": "vocal-queen",
   "metadata": {},
   "outputs": [
    {
     "data": {
      "text/plain": [
       "353"
      ]
     },
     "execution_count": 7,
     "metadata": {},
     "output_type": "execute_result"
    }
   ],
   "source": [
    "len(state_fiscal)"
   ]
  },
  {
   "cell_type": "markdown",
   "id": "unlimited-restoration",
   "metadata": {},
   "source": [
    "Read in state level data"
   ]
  },
  {
   "cell_type": "code",
   "execution_count": 8,
   "id": "established-performance",
   "metadata": {},
   "outputs": [],
   "source": [
    "state_grads = pd.read_csv('../../data/state_data_raw/' + file)"
   ]
  },
  {
   "cell_type": "markdown",
   "id": "proved-democrat",
   "metadata": {},
   "source": [
    "Reset columns."
   ]
  },
  {
   "cell_type": "markdown",
   "id": "swedish-night",
   "metadata": {},
   "source": [
    "Filter results."
   ]
  },
  {
   "cell_type": "code",
   "execution_count": 9,
   "id": "fluid-bride",
   "metadata": {},
   "outputs": [],
   "source": [
    "state_grads = state_grads[(state_grads['Info_Group'] == 'Graduation Rate') &\n",
    "                         (state_grads['Info_Label'] == 'Four-year') &\n",
    "                         (state_grads['ORG_TYPE'] == 'SU/SD') & \n",
    "                         (state_grads['SY'] == 2018)]"
   ]
  },
  {
   "cell_type": "markdown",
   "id": "ecological-charge",
   "metadata": {},
   "source": [
    "Select and rename columns."
   ]
  },
  {
   "cell_type": "code",
   "execution_count": 10,
   "id": "spare-picture",
   "metadata": {},
   "outputs": [],
   "source": [
    "state_grads['Total'] = np.full_like(state_grads['Info_Group'], '')"
   ]
  },
  {
   "cell_type": "code",
   "execution_count": 11,
   "id": "contrary-ceremony",
   "metadata": {},
   "outputs": [],
   "source": [
    "state_grads = state_grads[['ORG_GROUP', \n",
    "                           'Total',\n",
    "                           'Info_School']]"
   ]
  },
  {
   "cell_type": "code",
   "execution_count": 12,
   "id": "ongoing-peripheral",
   "metadata": {},
   "outputs": [],
   "source": [
    "state_grads.columns = ['District Name', 'Total', 'Graduation Rate']"
   ]
  },
  {
   "cell_type": "code",
   "execution_count": 13,
   "id": "every-tamil",
   "metadata": {},
   "outputs": [
    {
     "name": "stdout",
     "output_type": "stream",
     "text": [
      "<class 'pandas.core.frame.DataFrame'>\n",
      "Int64Index: 57 entries, 48123 to 48515\n",
      "Data columns (total 3 columns):\n",
      " #   Column           Non-Null Count  Dtype  \n",
      "---  ------           --------------  -----  \n",
      " 0   District Name    57 non-null     object \n",
      " 1   Total            57 non-null     object \n",
      " 2   Graduation Rate  57 non-null     float64\n",
      "dtypes: float64(1), object(2)\n",
      "memory usage: 1.8+ KB\n"
     ]
    }
   ],
   "source": [
    "state_grads.info()"
   ]
  },
  {
   "cell_type": "markdown",
   "id": "structured-demonstration",
   "metadata": {},
   "source": [
    "Convert data types."
   ]
  },
  {
   "cell_type": "code",
   "execution_count": 14,
   "id": "moral-cotton",
   "metadata": {},
   "outputs": [],
   "source": [
    "# state_grads['Graduation Rate'] = state_grads['Graduation Rate'].astype(str).str.replace('%', '')\n",
    "# state_grads['Graduation Rate'] = state_grads['Graduation Rate'].astype(str).str.replace('>=', '')\n",
    "# state_grads['Graduation Rate'] = state_grads['Graduation Rate'].astype(str).str.replace('<', '')"
   ]
  },
  {
   "cell_type": "code",
   "execution_count": 15,
   "id": "efficient-plumbing",
   "metadata": {},
   "outputs": [],
   "source": [
    "state_grads['Total'] = pd.to_numeric(state_grads['Total'])\n",
    "state_grads['Graduation Rate'] = pd.to_numeric(state_grads['Graduation Rate'])"
   ]
  },
  {
   "cell_type": "markdown",
   "id": "smoking-toddler",
   "metadata": {},
   "source": [
    "Check for matches and non-matches in the two lists. "
   ]
  },
  {
   "cell_type": "code",
   "execution_count": 16,
   "id": "transsexual-chicago",
   "metadata": {},
   "outputs": [],
   "source": [
    "state_fiscal['NAME'] = state_fiscal['NAME'].astype(str).str.upper().str.strip()\n",
    "state_grads['District Name'] = state_grads['District Name'].astype(str).str.upper().str.strip()"
   ]
  },
  {
   "cell_type": "code",
   "execution_count": 17,
   "id": "foster-maldives",
   "metadata": {},
   "outputs": [],
   "source": [
    "# state_grads['District Name'] = state_grads['District Name'].astype(str).str.replace(r'\\sSU$', '')\n",
    "# state_grads['District Name'] = state_grads['District Name'].astype(str).str.replace(r'\\sSD$', '')\n",
    "\n",
    "state_fiscal['NAME'] = state_fiscal['NAME'].astype(str).str.replace(' UNIFIED SCHOOL DISTRICT', '')\n",
    "state_fiscal['NAME'] = state_fiscal['NAME'].astype(str).str.replace(' SCHOOL DISTRICT', '')\n",
    "state_fiscal['NAME'] = state_fiscal['NAME'].astype(str).str.replace(' SUPERVISORY UNION', ' SU')\n",
    "state_fiscal['NAME'] = state_fiscal['NAME'].astype(str).str.replace(' SUPERVISORY DISTRICT', ' SD')"
   ]
  },
  {
   "cell_type": "code",
   "execution_count": 18,
   "id": "significant-assault",
   "metadata": {},
   "outputs": [
    {
     "data": {
      "text/plain": [
       "['ADDISON CENTRAL SU',\n",
       " 'ADDISON NORTHEAST SU',\n",
       " 'ADDISON NORTHWEST SU',\n",
       " 'ADDISON RUTLAND SU',\n",
       " 'BARRE SU',\n",
       " 'BATTENKILL VALLEY SU',\n",
       " 'BENNINGTON RUTLAND SU',\n",
       " 'BLUE MOUNTAIN SD',\n",
       " 'BURLINGTON SD',\n",
       " 'CALEDONIA CENTRAL SU',\n",
       " 'CALEDONIA NORTH SU',\n",
       " 'CHAMPLAIN VALLEY SD',\n",
       " 'CHITTENDEN EAST SU',\n",
       " 'COLCHESTER SD',\n",
       " 'ESSEX CALEDONIA SU',\n",
       " 'ESSEX NORTH SU',\n",
       " 'ESSEX-WESTFORD SD',\n",
       " 'FRANKLIN NORTHEAST SU',\n",
       " 'FRANKLIN NORTHWEST SU',\n",
       " 'FRANKLIN WEST SU',\n",
       " 'GRAND ISLE SU',\n",
       " 'HARTFORD SD',\n",
       " 'HARWOOD UNIFIED UNION SD',\n",
       " 'LAMOILLE NORTH SU',\n",
       " 'LAMOILLE SOUTH SU',\n",
       " 'MAPLE RUN SD',\n",
       " 'MILL RIVER UNIFIED UNION SD',\n",
       " 'MILTON SD',\n",
       " 'MONTPELIER SD',\n",
       " 'NORTH COUNTRY SU',\n",
       " 'ORANGE EAST SU',\n",
       " 'ORANGE NORTH SU',\n",
       " 'ORANGE SOUTHWEST SU',\n",
       " 'ORLEANS CENTRAL SU',\n",
       " 'ORLEANS SOUTHWEST SU',\n",
       " 'RIVENDELL INTERSTATE SD',\n",
       " 'RUTLAND CENTRAL SU',\n",
       " 'RUTLAND CITY SD',\n",
       " 'RUTLAND NORTHEAST SU',\n",
       " 'RUTLAND SOUTHWEST SU',\n",
       " 'SOUTH BURLINGTON SD',\n",
       " 'SOUTHWEST VERMONT SU',\n",
       " 'SPRINGFIELD SD',\n",
       " 'TWO RIVERS SU',\n",
       " 'WASHINGTON CENTRAL SU',\n",
       " 'WASHINGTON NORTHEAST SU',\n",
       " 'WASHINGTON SOUTH SU',\n",
       " 'WHITE RIVER VALLEY SU',\n",
       " 'WINDHAM CENTRAL SU',\n",
       " 'WINDHAM NORTHEAST SU',\n",
       " 'WINDHAM SOUTHEAST SU',\n",
       " 'WINDHAM SOUTHWEST SU',\n",
       " 'WINDSOR CENTRAL SU',\n",
       " 'WINDSOR SOUTHEAST SU',\n",
       " 'WINOOSKI SD']"
      ]
     },
     "execution_count": 18,
     "metadata": {},
     "output_type": "execute_result"
    }
   ],
   "source": [
    "matches = [name for name in list(state_grads['District Name']) if name in list(state_fiscal['NAME'])]\n",
    "matches.sort()\n",
    "matches"
   ]
  },
  {
   "cell_type": "code",
   "execution_count": 19,
   "id": "residential-vegetarian",
   "metadata": {},
   "outputs": [
    {
     "data": {
      "text/plain": [
       "['SAU 70', 'ST JOHNSBURY SD']"
      ]
     },
     "execution_count": 19,
     "metadata": {},
     "output_type": "execute_result"
    }
   ],
   "source": [
    "A = [name for name in list(state_grads['District Name']) if name not in list(state_fiscal['NAME'])]\n",
    "A.sort()\n",
    "A"
   ]
  },
  {
   "cell_type": "code",
   "execution_count": 20,
   "id": "familiar-governor",
   "metadata": {},
   "outputs": [
    {
     "data": {
      "text/plain": [
       "['ADDISON',\n",
       " 'ADDISON CENTRAL',\n",
       " 'ADDISON NORTHWEST',\n",
       " 'ALBANY',\n",
       " 'ALBURG',\n",
       " 'ANDOVER',\n",
       " 'ARLINGTON',\n",
       " 'ATHENS',\n",
       " 'ATHENS/GRAFTON CONTRACT',\n",
       " 'AVERILL',\n",
       " 'AVERYS GORE',\n",
       " 'BAKERSFIELD',\n",
       " 'BALTIMORE',\n",
       " 'BARNARD',\n",
       " 'BARNET',\n",
       " 'BARRE CITY',\n",
       " 'BARRE TOWN',\n",
       " 'BARSTOW',\n",
       " 'BARTON INCORPORATED',\n",
       " 'BELLOWS FALLS UHSD #27',\n",
       " 'BELLOWS FREE ACADEMY UHSD #48',\n",
       " 'BELVIDERE',\n",
       " 'BENNINGTON INCORPORATED',\n",
       " 'BENSON',\n",
       " 'BERKSHIRE',\n",
       " 'BERLIN',\n",
       " 'BETHEL',\n",
       " 'BLACK RIVER USD #39',\n",
       " 'BLOOMFIELD',\n",
       " 'BLUE MOUNTAIN USD #21',\n",
       " 'BRADFORD INCORPORATED',\n",
       " 'BRAINTREE',\n",
       " 'BRATTLEBORO',\n",
       " 'BRATTLEBORO UHSD #6',\n",
       " 'BRIDGEWATER',\n",
       " 'BRIDGEWATER/POMFRET JOINT CONTRACT',\n",
       " 'BRIDPORT',\n",
       " 'BRIGHTON',\n",
       " 'BRISTOL',\n",
       " 'BROOKFIELD',\n",
       " 'BROOKLINE',\n",
       " 'BROOKLINE/NEWFANE JOINT SCHOOL CONTRACT',\n",
       " 'BROWNINGTON',\n",
       " 'BRUNSWICK',\n",
       " 'BUELS GORE',\n",
       " 'BURKE',\n",
       " 'BURLINGTON',\n",
       " 'CABOT',\n",
       " 'CALAIS',\n",
       " 'CAMBRIDGE',\n",
       " 'CANAAN',\n",
       " 'CASTLETON',\n",
       " 'CASTLETON-HUBBARDTON USD #42',\n",
       " 'CAVENDISH',\n",
       " 'CHAMPLAIN VALLEY',\n",
       " 'CHAMPLAIN VALLEY UHSD #15',\n",
       " 'CHARLESTON',\n",
       " 'CHARLOTTE',\n",
       " 'CHELSEA',\n",
       " 'CHESTER',\n",
       " 'CHESTER-ANDOVER USD #29',\n",
       " 'CHITTENDEN CENTRAL SU',\n",
       " 'COLCHESTER',\n",
       " 'CONCORD',\n",
       " 'CORWALL',\n",
       " 'COVENTRY',\n",
       " 'CRAFTSBURY',\n",
       " 'CURRIER MEMORIAL USD #23',\n",
       " 'DANBY',\n",
       " 'DANVILLE',\n",
       " 'DEPARTMENT OF CORRECTIONS',\n",
       " 'DERBY',\n",
       " 'DORSET',\n",
       " 'DOVER',\n",
       " 'DUMMERSTON',\n",
       " 'DUXBURY',\n",
       " 'DUXBURY/WATERBURY UNION #45',\n",
       " 'EAST HAVEN',\n",
       " 'EAST MONTPELIER',\n",
       " 'EDEN',\n",
       " 'ELMORE MORRISTOWN',\n",
       " 'ENOSBURGH TOWN',\n",
       " 'ESSEX COMMUNITY EDUCATION CENTER',\n",
       " 'ESSEX JUNCTION INCORPORATED',\n",
       " 'ESSEX TOWN',\n",
       " 'ESSEX TOWN SD',\n",
       " 'ESSEX-WESTFORD EDUCATIONAL COMMUNITY',\n",
       " 'FAIR HAVEN',\n",
       " 'FAIR HAVEN UHSD #16',\n",
       " 'FAIRFAX',\n",
       " 'FAIRFIELD',\n",
       " 'FAYSTON',\n",
       " 'FERDINAND',\n",
       " 'FERRISBURG',\n",
       " 'FLETCHER',\n",
       " 'FRANKLIN',\n",
       " 'GEORGIA',\n",
       " 'GLASTENBURY',\n",
       " 'GLOVER',\n",
       " 'GRAFTON',\n",
       " 'GRANBY',\n",
       " 'GRAND ISLE',\n",
       " 'GRANVILLE',\n",
       " 'GREEN MOUNTAIN UHSD #35',\n",
       " 'GREENSBORO',\n",
       " 'GUILDHALL',\n",
       " 'GUILFORD',\n",
       " 'HALIFAX',\n",
       " 'HANCOCK',\n",
       " 'HARDWICK',\n",
       " 'HARTFORD',\n",
       " 'HARTLAND',\n",
       " 'HARWOOD',\n",
       " 'HARWOOD UHSD #19',\n",
       " 'HAZEN UHSD #26',\n",
       " 'HIGHGATE',\n",
       " 'HINESBURG',\n",
       " 'HOLLAND',\n",
       " 'HUBBARDTON',\n",
       " 'HUNTINGTON',\n",
       " 'HYDE PARK',\n",
       " 'IRA',\n",
       " 'IRASBURG',\n",
       " 'ISLE LA MOTTE',\n",
       " 'JAMAICA',\n",
       " 'JAY',\n",
       " 'JAY/WESTFIELD JOINT ELEMENTARY',\n",
       " 'JOHNSON',\n",
       " 'KIRBY',\n",
       " 'LAKE REGION UHSD #24',\n",
       " 'LAKEVIEW USD #43',\n",
       " 'LAMOILLE NORTH MODIFIED USD #058A',\n",
       " 'LAMOILLE NORTH MODIFIED USD #058B',\n",
       " 'LAMOILLE UHSD #18',\n",
       " 'LANDGROVE',\n",
       " 'LELAND AND GRAY UHSD #34',\n",
       " 'LEMINGTON',\n",
       " 'LEWIS',\n",
       " 'LINCOLN',\n",
       " 'LONDONDERRY',\n",
       " 'LOWELL',\n",
       " 'LUDLOW',\n",
       " 'LUNENBURG',\n",
       " 'LYNDON',\n",
       " 'MAIDSTONE',\n",
       " 'MANCHESTER',\n",
       " 'MAPLE RUN',\n",
       " 'MARLBORO',\n",
       " 'MIDDLEBURY INCORPORATED',\n",
       " 'MIDDLEBURY UHSD #3',\n",
       " 'MIDDLESEX',\n",
       " 'MIDDLETOWN SPRINGS',\n",
       " 'MILL RIVER',\n",
       " 'MILLERS RUN USD #37',\n",
       " 'MILTON INCORPORATED',\n",
       " 'MISSISQUOI VALLEY UHSD #7',\n",
       " 'MONKTON',\n",
       " 'MONTGOMERY',\n",
       " 'MONTPELIER',\n",
       " 'MORETOWN',\n",
       " 'MORGAN',\n",
       " 'MOUNT ABRAHAM UHSD #28',\n",
       " 'MOUNT ANTHONY UHSD #14',\n",
       " 'MOUNT HOLLY',\n",
       " 'MOUNT MANSFIELD MODIFIED USD #401A',\n",
       " 'MOUNT MANSFIELD MODIFIED USD #401B',\n",
       " 'MOUNT TABOR',\n",
       " 'MOUNTAIN TOWNS REGIONAL EDUCATION DISTRICT USD #301',\n",
       " 'NEW HAVEN',\n",
       " 'NEWARK',\n",
       " 'NEWBURY',\n",
       " 'NEWFANE',\n",
       " 'NEWPORT CITY',\n",
       " 'NEWPORT TOWN',\n",
       " 'NORTH BENNINGTON INCORPORATED',\n",
       " 'NORTH COUNTRY JUNIOR UHSD #22',\n",
       " 'NORTH COUNTRY SENIOR UHSD #22',\n",
       " 'NORTH HERO',\n",
       " 'NORTHEAST KINGDOM LEARNING SERVICES',\n",
       " 'NORTHFIELD',\n",
       " 'NORTON',\n",
       " 'NORWICH',\n",
       " 'ORANGE',\n",
       " 'ORANGE SOUTHWEST',\n",
       " 'ORLEANS INCORPORATED',\n",
       " 'ORWELL',\n",
       " 'OTTER VALLEY',\n",
       " 'OXBOW UHSD #30',\n",
       " 'PANTON',\n",
       " 'PATRICIA HANNAFORD CAREER CENTER',\n",
       " 'PAWLET',\n",
       " 'PEACHAM',\n",
       " 'PERU',\n",
       " 'PITTSFIELD',\n",
       " 'PLYMOUTH',\n",
       " 'POMFRET',\n",
       " 'POULTNEY',\n",
       " 'POWNAL',\n",
       " 'PROCTOR',\n",
       " 'PUTNEY',\n",
       " 'RANDOLPH',\n",
       " 'RANDOLPH UHSD #2',\n",
       " 'READING',\n",
       " 'READSBORO',\n",
       " 'RICHFORD',\n",
       " 'RIPTON',\n",
       " 'RIVENDELL INTERSTATE',\n",
       " 'RIVER VALLEY TECHNICAL CENTER',\n",
       " 'ROCHESTER',\n",
       " 'ROCKINGHAM',\n",
       " 'ROXBURY',\n",
       " 'ROYALTON',\n",
       " 'RUPERT',\n",
       " 'RUTLAND CITY',\n",
       " 'RUTLAND TOWN',\n",
       " 'SAINT ALBANS CITY',\n",
       " 'SAINT ALBANS TOWN',\n",
       " 'SAINT GEORGE',\n",
       " 'SAINT JOHNSBURY',\n",
       " 'SAINT JOHNSBURY SD',\n",
       " 'SALISBURY',\n",
       " 'SANDGATE',\n",
       " 'SCHOOL ADMINISTRATIVE UNIT #70',\n",
       " 'SEARSBURG',\n",
       " 'SHAFTSBURY',\n",
       " 'SHARON',\n",
       " 'SHELBURNE',\n",
       " 'SHELDON',\n",
       " 'SHERBURNE TOWN',\n",
       " 'SHOREHAM',\n",
       " 'SOMERSET',\n",
       " 'SOUTH BURLINGTON',\n",
       " 'SOUTH HERO',\n",
       " 'SOUTHWEST VERMONT CAREER DEVELOPMENT CENTER',\n",
       " 'SPAULDING UHSD #41',\n",
       " 'SPRINGFIELD',\n",
       " 'STAMFORD',\n",
       " 'STANNARD',\n",
       " 'STARKSBORO',\n",
       " 'STOCKBRIDGE',\n",
       " 'STOWE',\n",
       " 'STRAFFORD',\n",
       " 'STRATTON',\n",
       " 'SUNDERLAND',\n",
       " 'SUTTON',\n",
       " 'SWANTON',\n",
       " 'THETFORD',\n",
       " 'TOWNSHEND',\n",
       " 'TROY',\n",
       " 'TUNBRIDGE',\n",
       " 'TWINFIELD USD #33',\n",
       " 'UHSD #32',\n",
       " 'UNION #47',\n",
       " 'UNIVERSITY OF VERMONT',\n",
       " 'VERGENNES',\n",
       " 'VERGENNES UESD #44',\n",
       " 'VERGENNES UHSD #5',\n",
       " 'VERNON',\n",
       " 'VICTORY',\n",
       " 'WAITS RIVER VALLEY USD #36',\n",
       " 'WAITSFIELD',\n",
       " 'WALDEN',\n",
       " 'WALTHAM',\n",
       " 'WARDSBORO',\n",
       " 'WARNERS GRANT',\n",
       " 'WARREN',\n",
       " 'WARRENS GRANT',\n",
       " 'WASHINGTON',\n",
       " 'WATERBURY',\n",
       " 'WATERFORD',\n",
       " 'WATERVILLE',\n",
       " 'WEATHERSFIELD',\n",
       " 'WELLS',\n",
       " 'WEST HAVEN',\n",
       " 'WEST RUTLAND',\n",
       " 'WEST WINDSOR',\n",
       " 'WESTFIELD',\n",
       " 'WESTFORD',\n",
       " 'WESTMINSTER',\n",
       " 'WESTMORE',\n",
       " 'WESTON',\n",
       " 'WEYBRIDGE',\n",
       " 'WHITINGHAM',\n",
       " 'WHITINGHAM/WILMINGTON JOINT',\n",
       " 'WILLIAMSTOWN',\n",
       " 'WILLISTON',\n",
       " 'WILMINGTON',\n",
       " 'WINDHAM',\n",
       " 'WINDSOR',\n",
       " 'WINHALL',\n",
       " 'WINOOSKI',\n",
       " 'WOLCOTT',\n",
       " 'WOODBURY',\n",
       " 'WOODFORD',\n",
       " 'WOODSIDE JUVENILE REHABILITATION CENTER',\n",
       " 'WOODSTOCK',\n",
       " 'WOODSTOCK UHSD #4',\n",
       " 'WORCESTER']"
      ]
     },
     "execution_count": 20,
     "metadata": {},
     "output_type": "execute_result"
    }
   ],
   "source": [
    "B = [name for name in list(state_fiscal['NAME']) if name not in list(state_grads['District Name'])]\n",
    "B.sort()\n",
    "B"
   ]
  },
  {
   "cell_type": "markdown",
   "id": "exciting-functionality",
   "metadata": {},
   "source": [
    "Make any additional matches I can find."
   ]
  },
  {
   "cell_type": "code",
   "execution_count": 21,
   "id": "differential-israeli",
   "metadata": {},
   "outputs": [],
   "source": [
    "state_fiscal_rename = {\n",
    "    'SCHOOL ADMINISTRATIVE UNIT #70' : 'SAU 70',\n",
    "    'SAINT JOHNSBURY SD' : 'ST JOHNSBURY SD'\n",
    "}"
   ]
  },
  {
   "cell_type": "code",
   "execution_count": 22,
   "id": "honey-chicago",
   "metadata": {},
   "outputs": [],
   "source": [
    "state_fiscal = state_fiscal.replace(state_fiscal_rename)"
   ]
  },
  {
   "cell_type": "markdown",
   "id": "wireless-riding",
   "metadata": {},
   "source": [
    "Merge federal and state data, keeping only matches between the two. "
   ]
  },
  {
   "cell_type": "code",
   "execution_count": 23,
   "id": "pressing-christianity",
   "metadata": {},
   "outputs": [],
   "source": [
    "state_grads_merged = pd.merge(state_fiscal, state_grads, how='inner', left_on='NAME', right_on='District Name')"
   ]
  },
  {
   "cell_type": "markdown",
   "id": "retained-crest",
   "metadata": {},
   "source": [
    "Save cleaned data. "
   ]
  },
  {
   "cell_type": "code",
   "execution_count": 24,
   "id": "filled-fruit",
   "metadata": {},
   "outputs": [],
   "source": [
    "state_grads_merged.to_csv('../../data/state_data_merged/' + abbr + '.csv', index=False)"
   ]
  }
 ],
 "metadata": {
  "kernelspec": {
   "display_name": "Python 3",
   "language": "python",
   "name": "python3"
  },
  "language_info": {
   "codemirror_mode": {
    "name": "ipython",
    "version": 3
   },
   "file_extension": ".py",
   "mimetype": "text/x-python",
   "name": "python",
   "nbconvert_exporter": "python",
   "pygments_lexer": "ipython3",
   "version": "3.7.9"
  }
 },
 "nbformat": 4,
 "nbformat_minor": 5
}
