{
 "cells": [
  {
   "cell_type": "code",
   "execution_count": 1,
   "id": "specific-velvet",
   "metadata": {},
   "outputs": [],
   "source": [
    "import warnings\n",
    "warnings.filterwarnings('ignore')"
   ]
  },
  {
   "cell_type": "code",
   "execution_count": 2,
   "id": "private-attendance",
   "metadata": {},
   "outputs": [],
   "source": [
    "import pandas as pd\n",
    "import numpy as np"
   ]
  },
  {
   "cell_type": "code",
   "execution_count": 3,
   "id": "roman-butterfly",
   "metadata": {},
   "outputs": [],
   "source": [
    "abbr = 'OH'"
   ]
  },
  {
   "cell_type": "code",
   "execution_count": 4,
   "id": "offensive-friday",
   "metadata": {},
   "outputs": [],
   "source": [
    "file = 'ohio2018.xlsx'"
   ]
  },
  {
   "cell_type": "markdown",
   "id": "varying-encyclopedia",
   "metadata": {},
   "source": [
    "Read in federal level data"
   ]
  },
  {
   "cell_type": "code",
   "execution_count": 5,
   "id": "systematic-tuition",
   "metadata": {},
   "outputs": [],
   "source": [
    "fiscal = pd.read_sas('../../data/fiscal2018', format = 'sas7bdat', encoding='iso-8859-1')"
   ]
  },
  {
   "cell_type": "markdown",
   "id": "oriental-implementation",
   "metadata": {},
   "source": [
    "Generate list of districts in the state in the federal data"
   ]
  },
  {
   "cell_type": "code",
   "execution_count": 6,
   "id": "pointed-airline",
   "metadata": {},
   "outputs": [],
   "source": [
    "state_fiscal = fiscal[(fiscal['STABBR'] == abbr) & (fiscal['GSHI'] == '12')]"
   ]
  },
  {
   "cell_type": "code",
   "execution_count": 7,
   "id": "regular-blair",
   "metadata": {},
   "outputs": [
    {
     "data": {
      "text/plain": [
       "800"
      ]
     },
     "execution_count": 7,
     "metadata": {},
     "output_type": "execute_result"
    }
   ],
   "source": [
    "len(state_fiscal)"
   ]
  },
  {
   "cell_type": "markdown",
   "id": "continuous-pattern",
   "metadata": {},
   "source": [
    "Read in state level data"
   ]
  },
  {
   "cell_type": "code",
   "execution_count": 13,
   "id": "later-greenhouse",
   "metadata": {},
   "outputs": [],
   "source": [
    "state_grads = pd.read_excel('../../data/state_data_raw/' + file, sheet_name='Four-Year Graduation')"
   ]
  },
  {
   "cell_type": "code",
   "execution_count": 41,
   "id": "pressed-diagnosis",
   "metadata": {},
   "outputs": [
    {
     "data": {
      "text/html": [
       "<div>\n",
       "<style scoped>\n",
       "    .dataframe tbody tr th:only-of-type {\n",
       "        vertical-align: middle;\n",
       "    }\n",
       "\n",
       "    .dataframe tbody tr th {\n",
       "        vertical-align: top;\n",
       "    }\n",
       "\n",
       "    .dataframe thead th {\n",
       "        text-align: right;\n",
       "    }\n",
       "</style>\n",
       "<table border=\"1\" class=\"dataframe\">\n",
       "  <thead>\n",
       "    <tr style=\"text-align: right;\">\n",
       "      <th></th>\n",
       "      <th>District Name</th>\n",
       "      <th>Total</th>\n",
       "      <th>Graduation Rate</th>\n",
       "    </tr>\n",
       "  </thead>\n",
       "  <tbody>\n",
       "    <tr>\n",
       "      <th>0</th>\n",
       "      <td>Manchester Local</td>\n",
       "      <td>65.0</td>\n",
       "      <td>0.985</td>\n",
       "    </tr>\n",
       "    <tr>\n",
       "      <th>1</th>\n",
       "      <td>Akron City</td>\n",
       "      <td>1551.0</td>\n",
       "      <td>0.798</td>\n",
       "    </tr>\n",
       "    <tr>\n",
       "      <th>2</th>\n",
       "      <td>Alliance City</td>\n",
       "      <td>238.0</td>\n",
       "      <td>0.866</td>\n",
       "    </tr>\n",
       "    <tr>\n",
       "      <th>3</th>\n",
       "      <td>Ashland City</td>\n",
       "      <td>272.0</td>\n",
       "      <td>0.919</td>\n",
       "    </tr>\n",
       "    <tr>\n",
       "      <th>4</th>\n",
       "      <td>Ashtabula Area City</td>\n",
       "      <td>264.0</td>\n",
       "      <td>0.788</td>\n",
       "    </tr>\n",
       "    <tr>\n",
       "      <th>...</th>\n",
       "      <td>...</td>\n",
       "      <td>...</td>\n",
       "      <td>...</td>\n",
       "    </tr>\n",
       "    <tr>\n",
       "      <th>603</th>\n",
       "      <td>Adams County Ohio Valley Local</td>\n",
       "      <td>313.0</td>\n",
       "      <td>0.895</td>\n",
       "    </tr>\n",
       "    <tr>\n",
       "      <th>604</th>\n",
       "      <td>Gallia County Local</td>\n",
       "      <td>187.0</td>\n",
       "      <td>0.813</td>\n",
       "    </tr>\n",
       "    <tr>\n",
       "      <th>605</th>\n",
       "      <td>East Guernsey Local</td>\n",
       "      <td>95.0</td>\n",
       "      <td>0.937</td>\n",
       "    </tr>\n",
       "    <tr>\n",
       "      <th>606</th>\n",
       "      <td>Tri-County North Local</td>\n",
       "      <td>76.0</td>\n",
       "      <td>0.947</td>\n",
       "    </tr>\n",
       "    <tr>\n",
       "      <th>607</th>\n",
       "      <td>Monroe Local</td>\n",
       "      <td>178.0</td>\n",
       "      <td>0.949</td>\n",
       "    </tr>\n",
       "  </tbody>\n",
       "</table>\n",
       "<p>608 rows × 3 columns</p>\n",
       "</div>"
      ],
      "text/plain": [
       "                      District Name   Total  Graduation Rate\n",
       "0                  Manchester Local    65.0            0.985\n",
       "1                        Akron City  1551.0            0.798\n",
       "2                     Alliance City   238.0            0.866\n",
       "3                      Ashland City   272.0            0.919\n",
       "4               Ashtabula Area City   264.0            0.788\n",
       "..                              ...     ...              ...\n",
       "603  Adams County Ohio Valley Local   313.0            0.895\n",
       "604             Gallia County Local   187.0            0.813\n",
       "605             East Guernsey Local    95.0            0.937\n",
       "606          Tri-County North Local    76.0            0.947\n",
       "607                    Monroe Local   178.0            0.949\n",
       "\n",
       "[608 rows x 3 columns]"
      ]
     },
     "execution_count": 41,
     "metadata": {},
     "output_type": "execute_result"
    }
   ],
   "source": [
    "state_grads"
   ]
  },
  {
   "cell_type": "markdown",
   "id": "creative-custom",
   "metadata": {},
   "source": [
    "Filter results."
   ]
  },
  {
   "cell_type": "code",
   "execution_count": 13,
   "id": "organic-dating",
   "metadata": {},
   "outputs": [],
   "source": [
    "# state_grads = state_grads[(state_grads['Entity_Level'] == 'District') &\n",
    "#                          (state_grads['Subgroup_Desc'] == 'All')]"
   ]
  },
  {
   "cell_type": "markdown",
   "id": "enclosed-personal",
   "metadata": {},
   "source": [
    "Select and rename columns."
   ]
  },
  {
   "cell_type": "code",
   "execution_count": 15,
   "id": "latest-closing",
   "metadata": {},
   "outputs": [],
   "source": [
    "state_grads = state_grads[['District Name', \n",
    "                           'Four Year Graduation Rate Denominator - Class of 2018', \n",
    "                           'Four Year Graduation Rate - Class of 2018']]"
   ]
  },
  {
   "cell_type": "code",
   "execution_count": 16,
   "id": "eligible-weight",
   "metadata": {},
   "outputs": [],
   "source": [
    "state_grads.columns = ['District Name', 'Total', 'Graduation Rate']"
   ]
  },
  {
   "cell_type": "code",
   "execution_count": 17,
   "id": "human-september",
   "metadata": {},
   "outputs": [
    {
     "name": "stdout",
     "output_type": "stream",
     "text": [
      "<class 'pandas.core.frame.DataFrame'>\n",
      "RangeIndex: 608 entries, 0 to 607\n",
      "Data columns (total 3 columns):\n",
      " #   Column           Non-Null Count  Dtype \n",
      "---  ------           --------------  ----- \n",
      " 0   District Name    608 non-null    object\n",
      " 1   Total            608 non-null    object\n",
      " 2   Graduation Rate  608 non-null    object\n",
      "dtypes: object(3)\n",
      "memory usage: 14.4+ KB\n"
     ]
    }
   ],
   "source": [
    "state_grads.info()"
   ]
  },
  {
   "cell_type": "markdown",
   "id": "quiet-highland",
   "metadata": {},
   "source": [
    "Convert data types."
   ]
  },
  {
   "cell_type": "code",
   "execution_count": 27,
   "id": "passive-wrong",
   "metadata": {},
   "outputs": [],
   "source": [
    "state_grads['Total'] = state_grads['Total'].astype(str).str.replace('< 10', '')\n",
    "state_grads['Total'] = state_grads['Total'].astype(str).str.replace('NC', '')\n",
    "state_grads['Total'] = state_grads['Total'].astype(str).str.replace('nan', '')\n",
    "\n",
    "state_grads['Graduation Rate'] = state_grads['Graduation Rate'].astype(str).str.replace('NC', '')"
   ]
  },
  {
   "cell_type": "code",
   "execution_count": 28,
   "id": "sharp-survival",
   "metadata": {},
   "outputs": [],
   "source": [
    "state_grads['Total'] = pd.to_numeric(state_grads['Total'])\n",
    "state_grads['Graduation Rate'] = pd.to_numeric(state_grads['Graduation Rate']) / 100"
   ]
  },
  {
   "cell_type": "markdown",
   "id": "tropical-submission",
   "metadata": {},
   "source": [
    "Check for matches and non-matches in the two lists. "
   ]
  },
  {
   "cell_type": "code",
   "execution_count": 22,
   "id": "based-syndication",
   "metadata": {},
   "outputs": [],
   "source": [
    "# state_fiscal['NAME'] = state_fiscal['NAME'].astype(str).str.upper().str.strip()\n",
    "# state_grads['District Name'] = state_grads['District Name'].astype(str).str.upper().str.strip()"
   ]
  },
  {
   "cell_type": "code",
   "execution_count": 19,
   "id": "pursuant-newcastle",
   "metadata": {
    "jupyter": {
     "source_hidden": true
    }
   },
   "outputs": [],
   "source": [
    "# state_grads['District Name'] = state_grads['District Name'].astype(str).str.replace(' SCHOOL DISTRICT', '')\n",
    "# state_grads['District Name'] = state_grads['District Name'].astype(str).str.replace('SCH DIST', 'SCHOOL DISTRICT')\n",
    "# state_grads['District Name'] = state_grads['District Name'].astype(str).str.replace(' CS', ' CHARTER SCHOOL')\n",
    "# state_grads['District Name'] = state_grads['District Name'].astype(str).str.replace(r'\\sHIGH\\sSCHOOL$', '')\n",
    "# state_grads['District Name'] = state_grads['District Name'].astype(str).str.replace(r'\\sSCHOOL$', '')\n",
    "# state_grads['District Name'] = state_grads['District Name'].astype(str).str.replace(' PUBLIC SCHOOLS', '')\n",
    "# state_grads['District Name'] = state_grads['District Name'].astype(str).str.replace(' CO ', ' COUNTY ')\n",
    "# state_grads['District Name'] = state_grads['District Name'].astype(str).str.replace(' BORO', '')\n",
    "# state_grads['District Name'] = state_grads['District Name'].astype(str).str.replace(' CITY', '')\n",
    "# state_grads['District Name'] = state_grads['District Name'].astype(str).str.replace('TWP', 'TOWNSHIP')\n",
    "# state_grads['District Name'] = state_grads['District Name'].astype(str).str.replace(r'\\sREG(\\s|$)', ' REGIONAL ')\n",
    "# state_grads['District Name'] = state_grads['District Name'].astype(str).str.replace(r'\\sTOWN$', '')\n",
    "# state_grads['District Name'] = state_grads['District Name'].astype(str).str.replace(r'\\sTOWNSHIP$', '')\n",
    "# state_grads['District Name'] = state_grads['District Name'].astype(str).str.replace(r'\\sBORO$', '')\n",
    "# state_grads['District Name'] = state_grads['District Name'].astype(str).str.replace(r'\\sPUBLIC$', '')\n",
    "# state_grads['District Name'] = state_grads['District Name'].astype(str).str.replace('H.S DIST.', '')\n",
    "# state_grads['District Name'] = state_grads['District Name'].astype(str).str.replace(r'^N\\s', 'NORTH ')\n",
    "# state_grads['District Name'] = state_grads['District Name'].astype(str).str.replace(r'^W\\s', 'WEST ')\n",
    "# state_grads['District Name'] = state_grads['District Name'].astype(str).str.replace(\"’\", \"'\")\n",
    "# state_grads['District Name'] = state_grads['District Name'].astype(str).str.replace(' REGIONAL', '')\n",
    "\n",
    "# state_grads['District Name'] = state_grads['District Name'].astype(str).str.strip()\n",
    "\n",
    "# state_fiscal['NAME'] = state_fiscal['NAME'].astype(str).str.replace(' BOARD OF EDUCATION', '')\n",
    "# state_fiscal['NAME'] = state_fiscal['NAME'].astype(str).str.replace(' VOCATIONAL TECHNICAL', ' VOCATIONAL')\n",
    "# state_fiscal['NAME'] = state_fiscal['NAME'].astype(str).str.replace(' CITY', '')\n",
    "# state_fiscal['NAME'] = state_fiscal['NAME'].astype(str).str.replace(' PUBLIC SCHOOLS', '')\n",
    "# state_fiscal['NAME'] = state_fiscal['NAME'].astype(str).str.replace(' PUBLIC', '')\n",
    "# state_fiscal['NAME'] = state_fiscal['NAME'].astype(str).str.replace(' SCHOOL DISTRICT', '')\n",
    "# state_fiscal['NAME'] = state_fiscal['NAME'].astype(str).str.replace(r'\\sHIGH\\sSCHOOL$', '')\n",
    "# state_fiscal['NAME'] = state_fiscal['NAME'].astype(str).str.replace(r'\\sSCHOOL$', '')\n",
    "# state_fiscal['NAME'] = state_fiscal['NAME'].astype(str).str.replace(r'\\sTOWNSHIP$', '')\n",
    "# state_fiscal['NAME'] = state_fiscal['NAME'].astype(str).str.replace(r'\\sTOWN$', '')\n",
    "# state_fiscal['NAME'] = state_fiscal['NAME'].astype(str).str.replace(r'\\sBOROUGH$', '')\n",
    "# state_fiscal['NAME'] = state_fiscal['NAME'].astype(str).str.replace(r'\\sBORO$', '')\n",
    "# state_fiscal['NAME'] = state_fiscal['NAME'].astype(str).str.replace(r'\\sDISTRICT$', '')\n",
    "# state_fiscal['NAME'] = state_fiscal['NAME'].astype(str).str.replace('VOCATIONAL AND TECHNICAL', 'VOCATIONAL')\n",
    "# state_fiscal['NAME'] = state_fiscal['NAME'].astype(str).str.replace('VOCATIONAL-TECHNICAL', 'VOCATIONAL')\n",
    "# state_fiscal['NAME'] = state_fiscal['NAME'].astype(str).str.replace('TECHNICAL', 'VOCATIONAL')\n",
    "# state_fiscal['NAME'] = state_fiscal['NAME'].astype(str).str.replace('INSTITUTE OF TECHNOLOGY', 'VOCATIONAL')\n",
    "# state_fiscal['NAME'] = state_fiscal['NAME'].astype(str).str.replace('SCHOOLS OF TECHNOLOGY', 'VOCATIONAL')\n",
    "# state_fiscal['NAME'] = state_fiscal['NAME'].astype(str).str.replace(r'\\sHIGH$', '')\n",
    "# state_fiscal['NAME'] = state_fiscal['NAME'].astype(str).str.replace(' REGIONAL', '')\n",
    "\n",
    "# state_fiscal['NAME'] = state_fiscal['NAME'].astype(str).str.strip()"
   ]
  },
  {
   "cell_type": "code",
   "execution_count": 32,
   "id": "emotional-headline",
   "metadata": {},
   "outputs": [
    {
     "data": {
      "text/plain": [
       "606"
      ]
     },
     "execution_count": 32,
     "metadata": {},
     "output_type": "execute_result"
    }
   ],
   "source": [
    "matches = [name for name in list(state_grads['District Name']) if name in list(state_fiscal['NAME'])]\n",
    "matches.sort()\n",
    "len(matches)"
   ]
  },
  {
   "cell_type": "code",
   "execution_count": 33,
   "id": "divided-customer",
   "metadata": {},
   "outputs": [
    {
     "data": {
      "text/plain": [
       "['Cincinnati Public Schools', 'Ironton City School District']"
      ]
     },
     "execution_count": 33,
     "metadata": {},
     "output_type": "execute_result"
    }
   ],
   "source": [
    "A = [name for name in list(state_grads['District Name']) if name not in list(state_fiscal['NAME'])]\n",
    "A.sort()\n",
    "A"
   ]
  },
  {
   "cell_type": "code",
   "execution_count": 34,
   "id": "noted-charleston",
   "metadata": {
    "collapsed": true,
    "jupyter": {
     "outputs_hidden": true
    }
   },
   "outputs": [
    {
     "data": {
      "text/plain": [
       "['Academy for Urban Scholars Youngstown',\n",
       " 'Achieve Career Preparatory Academy',\n",
       " 'Akron Digital Academy',\n",
       " 'Albert Einstein Academy for Letters Arts and Sciences-Ohio',\n",
       " 'Alternative Education Academy',\n",
       " 'Apollo',\n",
       " 'Arts & College Preparatory Academy',\n",
       " 'Ashland County Community Academy',\n",
       " 'Ashland County-West Holmes',\n",
       " 'Ashtabula County Technical and Career Center',\n",
       " 'Auburn',\n",
       " 'Auglaize County Educational Academy',\n",
       " 'Autism Model School',\n",
       " 'Beacon Hill Academy',\n",
       " 'Belmont-Harrison',\n",
       " 'Bio-Med Science Academy STEM School',\n",
       " 'Bridges Community Academy',\n",
       " 'Brookwood Academy',\n",
       " 'Buckeye',\n",
       " 'Buckeye On-Line School for Success',\n",
       " 'Buckeye United School District',\n",
       " 'Butler Technology & Career Development Schools',\n",
       " 'Canton Harbor High School',\n",
       " 'Capital High School',\n",
       " 'Career and Technology Educational Centers',\n",
       " 'Central High School',\n",
       " 'Charles School at Ohio Dominican University',\n",
       " 'Cincinnati City',\n",
       " 'Cincinnati College Preparatory Academy',\n",
       " 'Cincinnati Learning Schools',\n",
       " 'Cincinnati Technology Academy',\n",
       " 'Cleveland Academy for Scholarship Technology and Leadership',\n",
       " 'Cleveland Preparatory Academy',\n",
       " 'Cliff Park High School',\n",
       " 'College Corner Local',\n",
       " 'Columbiana County',\n",
       " 'Columbus Arts & Technology Academy',\n",
       " 'Constellation Schools: Parma Community',\n",
       " 'Coshocton County',\n",
       " 'Coshocton Opportunity School',\n",
       " 'Cuyahoga Valley Career Center',\n",
       " 'Dayton Business Technology High School',\n",
       " 'Dayton Early College Academy Inc',\n",
       " 'Dayton Regional STEM School',\n",
       " 'Delaware Area Career Center',\n",
       " 'Dohn Community',\n",
       " 'EHOVE Career Center',\n",
       " 'Eagle Learning Center',\n",
       " 'Early College Academy',\n",
       " 'Eastland-Fairfield Career/Tech',\n",
       " 'Electronic Classroom Of Tomorrow',\n",
       " 'Everest High School',\n",
       " 'Fairborn Digital Academy',\n",
       " 'Findlay Digital Academy',\n",
       " 'Flex High School',\n",
       " 'Focus Learning Academy of Southeastern Columbus',\n",
       " 'Focus Learning Academy of Southwest Columbus',\n",
       " 'Focus North High School',\n",
       " 'Four County Career Center',\n",
       " 'Foxfire High School',\n",
       " 'Franklin Local Community School',\n",
       " 'Franklinton Preparatory Academy',\n",
       " 'Frederick Douglass Reclamation Academy',\n",
       " 'Gallia-Jackson-Vinton',\n",
       " 'George V. Voinovich Reclamation Academy',\n",
       " 'Glass City Academy',\n",
       " 'Global Impact STEM Academy',\n",
       " 'Goal Digital Academy',\n",
       " 'Graham School The',\n",
       " 'Great Oaks Career Campuses',\n",
       " 'Greater Ohio Virtual School',\n",
       " 'Greene County Vocational School District',\n",
       " 'Hardin Community School',\n",
       " 'Hope Academy for Autism',\n",
       " 'Horizon Science Acad Cleveland',\n",
       " 'Horizon Science Academy Columbus',\n",
       " 'Horizon Science Academy Dayton High School',\n",
       " 'Horizon Science Academy Lorain',\n",
       " 'Horizon Science Academy Toledo',\n",
       " 'Insight School of Ohio',\n",
       " 'Interactive Media & Construction (IMAC)',\n",
       " 'Invictus High School',\n",
       " 'Ironton City',\n",
       " 'Jefferson County',\n",
       " 'Knox County JVSD',\n",
       " 'Lake Erie International High School',\n",
       " 'Lakeland Academy Community School',\n",
       " 'Lakewood City Academy',\n",
       " 'Lawrence County',\n",
       " 'Liberty High School',\n",
       " 'Liberty Preparatory School',\n",
       " 'Life Skills Center Of Toledo',\n",
       " 'Life Skills Center of Columbus North',\n",
       " 'Life Skills Center of Columbus Southeast',\n",
       " 'Life Skills Center of Dayton',\n",
       " 'Life Skills Center of Elyria',\n",
       " 'Life Skills Center of North Akron',\n",
       " 'Life Skills Ctr Of Cincinnati',\n",
       " 'Life Skills Ctr Of Youngstown',\n",
       " 'Life Skills High School of Cleveland',\n",
       " 'Life Skills Of Northeast Ohio',\n",
       " 'Lighthouse Community Sch Inc',\n",
       " 'Lorain County JVS',\n",
       " 'Lorain K-12 Digital Academy',\n",
       " 'Mahoning Co Career & Tech Ctr',\n",
       " 'Mahoning County High School',\n",
       " 'Mahoning Unlimited Classroom',\n",
       " 'Maplewood Career Center',\n",
       " 'Maritime Academy of Toledo The',\n",
       " 'Marshall High School',\n",
       " 'Mason Run High School',\n",
       " 'Massillon Digital Academy Inc',\n",
       " 'Medina County Joint Vocational School District',\n",
       " 'Metro Early College High School',\n",
       " 'Miami Valley Career Tech',\n",
       " 'Miamisburg Secondary Academy',\n",
       " 'Mid-East Career and Technology Centers',\n",
       " 'Mound Street Military Careers Academy',\n",
       " 'Mount Auburn International Academy',\n",
       " 'New Day Academy Boarding & Day School',\n",
       " 'Newark Digital Academy',\n",
       " 'North Central Academy',\n",
       " 'Northeast Ohio College Preparatory School',\n",
       " 'Oakstone Community School',\n",
       " 'Ohio Connections Academy Inc',\n",
       " 'Ohio Construction Academy',\n",
       " 'Ohio Hi-Point Career Center',\n",
       " 'Ohio School For The Blind',\n",
       " 'Ohio School For The Deaf',\n",
       " 'Ohio Virtual Academy',\n",
       " 'Old Brook High School',\n",
       " 'Patriot Preparatory Academy',\n",
       " 'Penta Career Center - District',\n",
       " 'Phoenix Academy Community School',\n",
       " 'Pickaway-Ross County JVSD',\n",
       " 'Pike County Area',\n",
       " 'Pioneer Career & Technology',\n",
       " 'Polaris',\n",
       " 'Polly Fox Academy Community School',\n",
       " 'Portage Lakes',\n",
       " 'Promise Academy',\n",
       " 'Quaker Digital Academy',\n",
       " 'Regent High School',\n",
       " 'Rittman Academy',\n",
       " 'River Gate High School',\n",
       " 'Road to Success Academy',\n",
       " 'Rushmore Academy',\n",
       " 'Schnee Learning Center',\n",
       " 'Scioto County Career Technical Center',\n",
       " 'Sciotoville',\n",
       " 'Southern Hills',\n",
       " 'Springfield-Clark County',\n",
       " 'Stark College and Career High School',\n",
       " 'Stark County Area',\n",
       " 'Steel Academy',\n",
       " 'Summit Academy - Toledo',\n",
       " 'Summit Academy Alternative LearnersWarren Middle & Secondary',\n",
       " 'Summit Academy Community School-Parma',\n",
       " 'Summit Academy School - Lorain',\n",
       " 'Summit Academy Secondary - Akron',\n",
       " 'Summit Academy Secondary - Canton',\n",
       " 'Summit Academy Secondary - Youngstown',\n",
       " 'Summit Academy Secondary School - Middletown',\n",
       " 'Summit Academy Transition High School Dayton',\n",
       " 'Summit Academy Transition High School-Cincinnati',\n",
       " 'Summit Academy Transition High School-Columbus',\n",
       " 'T2 Honors Academy',\n",
       " 'TRECA Digital Academy',\n",
       " 'The Academy for Urban Scholars',\n",
       " 'The Autism Academy Of Learning',\n",
       " 'The Capella Institute',\n",
       " 'Toledo School For The Arts',\n",
       " 'Tolles Career & Technical Center',\n",
       " 'Tomorrow Center',\n",
       " 'Townsend North Community School',\n",
       " 'Towpath Trail High School',\n",
       " 'Tri-County Career Center',\n",
       " 'Tri-Rivers',\n",
       " 'Trumbull Career & Tech Ctr',\n",
       " 'U S Grant',\n",
       " 'Upper Valley Career Center',\n",
       " 'Urban Early College Network',\n",
       " 'Utica Shale Academy of Ohio',\n",
       " 'Vanguard-Sentinel Career & Technology Centers',\n",
       " 'Vantage Career Center',\n",
       " 'Warren County Vocational School',\n",
       " 'Washington County Career Center',\n",
       " 'Wayne County JVSD',\n",
       " 'West Central Learning Academy II',\n",
       " 'Westwood Preparatory Academy',\n",
       " 'Wildwood Environmental Academy',\n",
       " 'Youthbuild Columbus Community',\n",
       " 'Zanesville Community School',\n",
       " 'Zenith Academy']"
      ]
     },
     "execution_count": 34,
     "metadata": {},
     "output_type": "execute_result"
    }
   ],
   "source": [
    "B = [name for name in list(state_fiscal['NAME']) if name not in list(state_grads['District Name'])]\n",
    "B.sort()\n",
    "B"
   ]
  },
  {
   "cell_type": "markdown",
   "id": "distant-mississippi",
   "metadata": {},
   "source": [
    "Make any additional matches I can find."
   ]
  },
  {
   "cell_type": "code",
   "execution_count": 35,
   "id": "matched-luxembourg",
   "metadata": {},
   "outputs": [],
   "source": [
    "state_fiscal_rename = {\n",
    "    'Cincinnati City' : 'Cincinnati Public Schools',\n",
    "    'Ironton City' : 'Ironton City School District'\n",
    "}"
   ]
  },
  {
   "cell_type": "code",
   "execution_count": 36,
   "id": "mechanical-heart",
   "metadata": {},
   "outputs": [],
   "source": [
    "state_fiscal = state_fiscal.replace(state_fiscal_rename)"
   ]
  },
  {
   "cell_type": "markdown",
   "id": "through-double",
   "metadata": {},
   "source": [
    "Merge federal and state data, keeping only matches between the two. "
   ]
  },
  {
   "cell_type": "code",
   "execution_count": 37,
   "id": "northern-workshop",
   "metadata": {},
   "outputs": [],
   "source": [
    "state_grads_merged = pd.merge(state_fiscal, state_grads, how='inner', left_on='NAME', right_on='District Name')"
   ]
  },
  {
   "cell_type": "markdown",
   "id": "hollywood-drawing",
   "metadata": {},
   "source": [
    "Save cleaned data. "
   ]
  },
  {
   "cell_type": "code",
   "execution_count": 30,
   "id": "union-access",
   "metadata": {},
   "outputs": [],
   "source": [
    "state_grads_merged.to_csv('../../data/state_data_merged/' + abbr + '.csv', index=False)"
   ]
  }
 ],
 "metadata": {
  "kernelspec": {
   "display_name": "Python 3",
   "language": "python",
   "name": "python3"
  },
  "language_info": {
   "codemirror_mode": {
    "name": "ipython",
    "version": 3
   },
   "file_extension": ".py",
   "mimetype": "text/x-python",
   "name": "python",
   "nbconvert_exporter": "python",
   "pygments_lexer": "ipython3",
   "version": "3.7.9"
  }
 },
 "nbformat": 4,
 "nbformat_minor": 5
}
