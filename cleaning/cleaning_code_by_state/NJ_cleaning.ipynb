{
 "cells": [
  {
   "cell_type": "code",
   "execution_count": 1,
   "id": "paperback-colombia",
   "metadata": {},
   "outputs": [],
   "source": [
    "import pandas as pd\n",
    "import numpy as np"
   ]
  },
  {
   "cell_type": "code",
   "execution_count": 2,
   "id": "focal-maximum",
   "metadata": {},
   "outputs": [],
   "source": [
    "abbr = 'NJ'"
   ]
  },
  {
   "cell_type": "code",
   "execution_count": 3,
   "id": "constant-brunswick",
   "metadata": {},
   "outputs": [],
   "source": [
    "file = 'new_jersey2018.xlsx'"
   ]
  },
  {
   "cell_type": "markdown",
   "id": "brutal-string",
   "metadata": {},
   "source": [
    "Read in federal level data"
   ]
  },
  {
   "cell_type": "code",
   "execution_count": 4,
   "id": "humanitarian-belly",
   "metadata": {},
   "outputs": [],
   "source": [
    "fiscal = pd.read_sas('../../data/fiscal2018', format = 'sas7bdat', encoding='iso-8859-1')"
   ]
  },
  {
   "cell_type": "markdown",
   "id": "minute-newcastle",
   "metadata": {},
   "source": [
    "Generate list of districts in the state in the federal data"
   ]
  },
  {
   "cell_type": "code",
   "execution_count": 5,
   "id": "numeric-description",
   "metadata": {},
   "outputs": [],
   "source": [
    "state_fiscal = fiscal[(fiscal['STABBR'] == abbr) & (fiscal['GSHI'] == '12')]"
   ]
  },
  {
   "cell_type": "code",
   "execution_count": 6,
   "id": "million-turkey",
   "metadata": {},
   "outputs": [
    {
     "data": {
      "text/plain": [
       "334"
      ]
     },
     "execution_count": 6,
     "metadata": {},
     "output_type": "execute_result"
    }
   ],
   "source": [
    "len(state_fiscal)"
   ]
  },
  {
   "cell_type": "markdown",
   "id": "partial-disney",
   "metadata": {},
   "source": [
    "Read in state level data"
   ]
  },
  {
   "cell_type": "code",
   "execution_count": 7,
   "id": "operational-yemen",
   "metadata": {},
   "outputs": [],
   "source": [
    "state_grads = pd.read_excel('../../data/state_data_raw/' + file)"
   ]
  },
  {
   "cell_type": "markdown",
   "id": "weird-swimming",
   "metadata": {},
   "source": [
    "Reset columns."
   ]
  },
  {
   "cell_type": "code",
   "execution_count": 8,
   "id": "essential-watch",
   "metadata": {},
   "outputs": [],
   "source": [
    "state_grads.columns = state_grads.iloc[2]\n",
    "state_grads = state_grads.iloc[3:]"
   ]
  },
  {
   "cell_type": "markdown",
   "id": "enhanced-assistant",
   "metadata": {},
   "source": [
    "Filter results."
   ]
  },
  {
   "cell_type": "code",
   "execution_count": 9,
   "id": "clean-longer",
   "metadata": {},
   "outputs": [],
   "source": [
    "state_grads = state_grads[(state_grads['School Name'] == 'District Total') &\n",
    "                         (state_grads['Subgroup'] == 'Districtwide')]"
   ]
  },
  {
   "cell_type": "markdown",
   "id": "partial-huntington",
   "metadata": {},
   "source": [
    "Select and rename columns."
   ]
  },
  {
   "cell_type": "code",
   "execution_count": 10,
   "id": "polar-compatibility",
   "metadata": {},
   "outputs": [],
   "source": [
    "state_grads = state_grads[['District Name', 'Four Year Adjusted Cohort Count', 'Four Year Graduation Rate']]"
   ]
  },
  {
   "cell_type": "code",
   "execution_count": 11,
   "id": "international-logistics",
   "metadata": {},
   "outputs": [],
   "source": [
    "state_grads.columns = ['District Name', 'Total', 'Graduation Rate']"
   ]
  },
  {
   "cell_type": "markdown",
   "id": "parental-picture",
   "metadata": {},
   "source": [
    "Convert data types."
   ]
  },
  {
   "cell_type": "code",
   "execution_count": 12,
   "id": "nonprofit-beads",
   "metadata": {},
   "outputs": [],
   "source": [
    "state_grads['Total'] = pd.to_numeric(state_grads['Total'])\n",
    "state_grads['Graduation Rate'] = pd.to_numeric(state_grads['Graduation Rate']) / 100"
   ]
  },
  {
   "cell_type": "markdown",
   "id": "orange-positive",
   "metadata": {},
   "source": [
    "Check for matches and non-matches in the two lists. "
   ]
  },
  {
   "cell_type": "code",
   "execution_count": 13,
   "id": "lyric-smooth",
   "metadata": {},
   "outputs": [
    {
     "name": "stderr",
     "output_type": "stream",
     "text": [
      "/opt/anaconda3/envs/dsi/lib/python3.7/site-packages/ipykernel_launcher.py:1: SettingWithCopyWarning: \n",
      "A value is trying to be set on a copy of a slice from a DataFrame.\n",
      "Try using .loc[row_indexer,col_indexer] = value instead\n",
      "\n",
      "See the caveats in the documentation: https://pandas.pydata.org/pandas-docs/stable/user_guide/indexing.html#returning-a-view-versus-a-copy\n",
      "  \"\"\"Entry point for launching an IPython kernel.\n"
     ]
    }
   ],
   "source": [
    "state_fiscal['NAME'] = state_fiscal['NAME'].astype(str).str.upper()\n",
    "state_grads['District Name'] = state_grads['District Name'].astype(str).str.upper()"
   ]
  },
  {
   "cell_type": "code",
   "execution_count": 14,
   "id": "loving-witch",
   "metadata": {},
   "outputs": [
    {
     "name": "stderr",
     "output_type": "stream",
     "text": [
      "/opt/anaconda3/envs/dsi/lib/python3.7/site-packages/ipykernel_launcher.py:4: FutureWarning: The default value of regex will change from True to False in a future version.\n",
      "  after removing the cwd from sys.path.\n",
      "/opt/anaconda3/envs/dsi/lib/python3.7/site-packages/ipykernel_launcher.py:5: FutureWarning: The default value of regex will change from True to False in a future version.\n",
      "  \"\"\"\n",
      "/opt/anaconda3/envs/dsi/lib/python3.7/site-packages/ipykernel_launcher.py:11: FutureWarning: The default value of regex will change from True to False in a future version.\n",
      "  # This is added back by InteractiveShellApp.init_path()\n",
      "/opt/anaconda3/envs/dsi/lib/python3.7/site-packages/ipykernel_launcher.py:12: FutureWarning: The default value of regex will change from True to False in a future version.\n",
      "  if sys.path[0] == '':\n",
      "/opt/anaconda3/envs/dsi/lib/python3.7/site-packages/ipykernel_launcher.py:13: FutureWarning: The default value of regex will change from True to False in a future version.\n",
      "  del sys.path[0]\n",
      "/opt/anaconda3/envs/dsi/lib/python3.7/site-packages/ipykernel_launcher.py:14: FutureWarning: The default value of regex will change from True to False in a future version.\n",
      "  \n",
      "/opt/anaconda3/envs/dsi/lib/python3.7/site-packages/ipykernel_launcher.py:15: FutureWarning: The default value of regex will change from True to False in a future version.\n",
      "  from ipykernel import kernelapp as app\n",
      "/opt/anaconda3/envs/dsi/lib/python3.7/site-packages/ipykernel_launcher.py:16: FutureWarning: The default value of regex will change from True to False in a future version.\n",
      "  app.launch_new_instance()\n",
      "/opt/anaconda3/envs/dsi/lib/python3.7/site-packages/ipykernel_launcher.py:17: FutureWarning: The default value of regex will change from True to False in a future version.\n",
      "/opt/anaconda3/envs/dsi/lib/python3.7/site-packages/ipykernel_launcher.py:18: FutureWarning: The default value of regex will change from True to False in a future version.\n",
      "/opt/anaconda3/envs/dsi/lib/python3.7/site-packages/ipykernel_launcher.py:24: SettingWithCopyWarning: \n",
      "A value is trying to be set on a copy of a slice from a DataFrame.\n",
      "Try using .loc[row_indexer,col_indexer] = value instead\n",
      "\n",
      "See the caveats in the documentation: https://pandas.pydata.org/pandas-docs/stable/user_guide/indexing.html#returning-a-view-versus-a-copy\n",
      "/opt/anaconda3/envs/dsi/lib/python3.7/site-packages/ipykernel_launcher.py:25: SettingWithCopyWarning: \n",
      "A value is trying to be set on a copy of a slice from a DataFrame.\n",
      "Try using .loc[row_indexer,col_indexer] = value instead\n",
      "\n",
      "See the caveats in the documentation: https://pandas.pydata.org/pandas-docs/stable/user_guide/indexing.html#returning-a-view-versus-a-copy\n",
      "/opt/anaconda3/envs/dsi/lib/python3.7/site-packages/ipykernel_launcher.py:26: SettingWithCopyWarning: \n",
      "A value is trying to be set on a copy of a slice from a DataFrame.\n",
      "Try using .loc[row_indexer,col_indexer] = value instead\n",
      "\n",
      "See the caveats in the documentation: https://pandas.pydata.org/pandas-docs/stable/user_guide/indexing.html#returning-a-view-versus-a-copy\n",
      "/opt/anaconda3/envs/dsi/lib/python3.7/site-packages/ipykernel_launcher.py:27: SettingWithCopyWarning: \n",
      "A value is trying to be set on a copy of a slice from a DataFrame.\n",
      "Try using .loc[row_indexer,col_indexer] = value instead\n",
      "\n",
      "See the caveats in the documentation: https://pandas.pydata.org/pandas-docs/stable/user_guide/indexing.html#returning-a-view-versus-a-copy\n",
      "/opt/anaconda3/envs/dsi/lib/python3.7/site-packages/ipykernel_launcher.py:28: SettingWithCopyWarning: \n",
      "A value is trying to be set on a copy of a slice from a DataFrame.\n",
      "Try using .loc[row_indexer,col_indexer] = value instead\n",
      "\n",
      "See the caveats in the documentation: https://pandas.pydata.org/pandas-docs/stable/user_guide/indexing.html#returning-a-view-versus-a-copy\n",
      "/opt/anaconda3/envs/dsi/lib/python3.7/site-packages/ipykernel_launcher.py:29: SettingWithCopyWarning: \n",
      "A value is trying to be set on a copy of a slice from a DataFrame.\n",
      "Try using .loc[row_indexer,col_indexer] = value instead\n",
      "\n",
      "See the caveats in the documentation: https://pandas.pydata.org/pandas-docs/stable/user_guide/indexing.html#returning-a-view-versus-a-copy\n",
      "/opt/anaconda3/envs/dsi/lib/python3.7/site-packages/ipykernel_launcher.py:30: FutureWarning: The default value of regex will change from True to False in a future version.\n",
      "/opt/anaconda3/envs/dsi/lib/python3.7/site-packages/ipykernel_launcher.py:30: SettingWithCopyWarning: \n",
      "A value is trying to be set on a copy of a slice from a DataFrame.\n",
      "Try using .loc[row_indexer,col_indexer] = value instead\n",
      "\n",
      "See the caveats in the documentation: https://pandas.pydata.org/pandas-docs/stable/user_guide/indexing.html#returning-a-view-versus-a-copy\n",
      "/opt/anaconda3/envs/dsi/lib/python3.7/site-packages/ipykernel_launcher.py:31: FutureWarning: The default value of regex will change from True to False in a future version.\n",
      "/opt/anaconda3/envs/dsi/lib/python3.7/site-packages/ipykernel_launcher.py:31: SettingWithCopyWarning: \n",
      "A value is trying to be set on a copy of a slice from a DataFrame.\n",
      "Try using .loc[row_indexer,col_indexer] = value instead\n",
      "\n",
      "See the caveats in the documentation: https://pandas.pydata.org/pandas-docs/stable/user_guide/indexing.html#returning-a-view-versus-a-copy\n",
      "/opt/anaconda3/envs/dsi/lib/python3.7/site-packages/ipykernel_launcher.py:32: FutureWarning: The default value of regex will change from True to False in a future version.\n",
      "/opt/anaconda3/envs/dsi/lib/python3.7/site-packages/ipykernel_launcher.py:32: SettingWithCopyWarning: \n",
      "A value is trying to be set on a copy of a slice from a DataFrame.\n",
      "Try using .loc[row_indexer,col_indexer] = value instead\n",
      "\n",
      "See the caveats in the documentation: https://pandas.pydata.org/pandas-docs/stable/user_guide/indexing.html#returning-a-view-versus-a-copy\n",
      "/opt/anaconda3/envs/dsi/lib/python3.7/site-packages/ipykernel_launcher.py:33: FutureWarning: The default value of regex will change from True to False in a future version.\n",
      "/opt/anaconda3/envs/dsi/lib/python3.7/site-packages/ipykernel_launcher.py:33: SettingWithCopyWarning: \n",
      "A value is trying to be set on a copy of a slice from a DataFrame.\n",
      "Try using .loc[row_indexer,col_indexer] = value instead\n",
      "\n",
      "See the caveats in the documentation: https://pandas.pydata.org/pandas-docs/stable/user_guide/indexing.html#returning-a-view-versus-a-copy\n",
      "/opt/anaconda3/envs/dsi/lib/python3.7/site-packages/ipykernel_launcher.py:34: FutureWarning: The default value of regex will change from True to False in a future version.\n",
      "/opt/anaconda3/envs/dsi/lib/python3.7/site-packages/ipykernel_launcher.py:34: SettingWithCopyWarning: \n",
      "A value is trying to be set on a copy of a slice from a DataFrame.\n",
      "Try using .loc[row_indexer,col_indexer] = value instead\n",
      "\n",
      "See the caveats in the documentation: https://pandas.pydata.org/pandas-docs/stable/user_guide/indexing.html#returning-a-view-versus-a-copy\n",
      "/opt/anaconda3/envs/dsi/lib/python3.7/site-packages/ipykernel_launcher.py:35: FutureWarning: The default value of regex will change from True to False in a future version.\n",
      "/opt/anaconda3/envs/dsi/lib/python3.7/site-packages/ipykernel_launcher.py:35: SettingWithCopyWarning: \n",
      "A value is trying to be set on a copy of a slice from a DataFrame.\n",
      "Try using .loc[row_indexer,col_indexer] = value instead\n",
      "\n",
      "See the caveats in the documentation: https://pandas.pydata.org/pandas-docs/stable/user_guide/indexing.html#returning-a-view-versus-a-copy\n",
      "/opt/anaconda3/envs/dsi/lib/python3.7/site-packages/ipykernel_launcher.py:36: FutureWarning: The default value of regex will change from True to False in a future version.\n",
      "/opt/anaconda3/envs/dsi/lib/python3.7/site-packages/ipykernel_launcher.py:36: SettingWithCopyWarning: \n",
      "A value is trying to be set on a copy of a slice from a DataFrame.\n",
      "Try using .loc[row_indexer,col_indexer] = value instead\n",
      "\n",
      "See the caveats in the documentation: https://pandas.pydata.org/pandas-docs/stable/user_guide/indexing.html#returning-a-view-versus-a-copy\n",
      "/opt/anaconda3/envs/dsi/lib/python3.7/site-packages/ipykernel_launcher.py:37: SettingWithCopyWarning: \n",
      "A value is trying to be set on a copy of a slice from a DataFrame.\n",
      "Try using .loc[row_indexer,col_indexer] = value instead\n",
      "\n",
      "See the caveats in the documentation: https://pandas.pydata.org/pandas-docs/stable/user_guide/indexing.html#returning-a-view-versus-a-copy\n",
      "/opt/anaconda3/envs/dsi/lib/python3.7/site-packages/ipykernel_launcher.py:38: SettingWithCopyWarning: \n",
      "A value is trying to be set on a copy of a slice from a DataFrame.\n",
      "Try using .loc[row_indexer,col_indexer] = value instead\n",
      "\n",
      "See the caveats in the documentation: https://pandas.pydata.org/pandas-docs/stable/user_guide/indexing.html#returning-a-view-versus-a-copy\n",
      "/opt/anaconda3/envs/dsi/lib/python3.7/site-packages/ipykernel_launcher.py:39: SettingWithCopyWarning: \n",
      "A value is trying to be set on a copy of a slice from a DataFrame.\n",
      "Try using .loc[row_indexer,col_indexer] = value instead\n",
      "\n",
      "See the caveats in the documentation: https://pandas.pydata.org/pandas-docs/stable/user_guide/indexing.html#returning-a-view-versus-a-copy\n",
      "/opt/anaconda3/envs/dsi/lib/python3.7/site-packages/ipykernel_launcher.py:40: SettingWithCopyWarning: \n",
      "A value is trying to be set on a copy of a slice from a DataFrame.\n",
      "Try using .loc[row_indexer,col_indexer] = value instead\n",
      "\n",
      "See the caveats in the documentation: https://pandas.pydata.org/pandas-docs/stable/user_guide/indexing.html#returning-a-view-versus-a-copy\n",
      "/opt/anaconda3/envs/dsi/lib/python3.7/site-packages/ipykernel_launcher.py:41: SettingWithCopyWarning: \n",
      "A value is trying to be set on a copy of a slice from a DataFrame.\n",
      "Try using .loc[row_indexer,col_indexer] = value instead\n",
      "\n",
      "See the caveats in the documentation: https://pandas.pydata.org/pandas-docs/stable/user_guide/indexing.html#returning-a-view-versus-a-copy\n",
      "/opt/anaconda3/envs/dsi/lib/python3.7/site-packages/ipykernel_launcher.py:42: FutureWarning: The default value of regex will change from True to False in a future version.\n",
      "/opt/anaconda3/envs/dsi/lib/python3.7/site-packages/ipykernel_launcher.py:42: SettingWithCopyWarning: \n",
      "A value is trying to be set on a copy of a slice from a DataFrame.\n",
      "Try using .loc[row_indexer,col_indexer] = value instead\n",
      "\n",
      "See the caveats in the documentation: https://pandas.pydata.org/pandas-docs/stable/user_guide/indexing.html#returning-a-view-versus-a-copy\n",
      "/opt/anaconda3/envs/dsi/lib/python3.7/site-packages/ipykernel_launcher.py:43: SettingWithCopyWarning: \n",
      "A value is trying to be set on a copy of a slice from a DataFrame.\n",
      "Try using .loc[row_indexer,col_indexer] = value instead\n",
      "\n",
      "See the caveats in the documentation: https://pandas.pydata.org/pandas-docs/stable/user_guide/indexing.html#returning-a-view-versus-a-copy\n",
      "/opt/anaconda3/envs/dsi/lib/python3.7/site-packages/ipykernel_launcher.py:45: SettingWithCopyWarning: \n",
      "A value is trying to be set on a copy of a slice from a DataFrame.\n",
      "Try using .loc[row_indexer,col_indexer] = value instead\n",
      "\n",
      "See the caveats in the documentation: https://pandas.pydata.org/pandas-docs/stable/user_guide/indexing.html#returning-a-view-versus-a-copy\n"
     ]
    }
   ],
   "source": [
    "state_grads['District Name'] = state_grads['District Name'].astype(str).str.replace(' SCHOOL DISTRICT', '')\n",
    "state_grads['District Name'] = state_grads['District Name'].astype(str).str.replace('SCH DIST', 'SCHOOL DISTRICT')\n",
    "state_grads['District Name'] = state_grads['District Name'].astype(str).str.replace(' CS', ' CHARTER SCHOOL')\n",
    "state_grads['District Name'] = state_grads['District Name'].astype(str).str.replace(r'\\sHIGH\\sSCHOOL$', '')\n",
    "state_grads['District Name'] = state_grads['District Name'].astype(str).str.replace(r'\\sSCHOOL$', '')\n",
    "state_grads['District Name'] = state_grads['District Name'].astype(str).str.replace(' PUBLIC SCHOOLS', '')\n",
    "state_grads['District Name'] = state_grads['District Name'].astype(str).str.replace(' CO ', ' COUNTY ')\n",
    "state_grads['District Name'] = state_grads['District Name'].astype(str).str.replace(' BORO', '')\n",
    "state_grads['District Name'] = state_grads['District Name'].astype(str).str.replace(' CITY', '')\n",
    "state_grads['District Name'] = state_grads['District Name'].astype(str).str.replace('TWP', 'TOWNSHIP')\n",
    "state_grads['District Name'] = state_grads['District Name'].astype(str).str.replace(r'\\sREG(\\s|$)', ' REGIONAL ')\n",
    "state_grads['District Name'] = state_grads['District Name'].astype(str).str.replace(r'\\sTOWN$', '')\n",
    "state_grads['District Name'] = state_grads['District Name'].astype(str).str.replace(r'\\sTOWNSHIP$', '')\n",
    "state_grads['District Name'] = state_grads['District Name'].astype(str).str.replace(r'\\sBORO$', '')\n",
    "state_grads['District Name'] = state_grads['District Name'].astype(str).str.replace(r'\\sPUBLIC$', '')\n",
    "state_grads['District Name'] = state_grads['District Name'].astype(str).str.replace('H.S DIST.', '')\n",
    "state_grads['District Name'] = state_grads['District Name'].astype(str).str.replace(r'^N\\s', 'NORTH ')\n",
    "state_grads['District Name'] = state_grads['District Name'].astype(str).str.replace(r'^W\\s', 'WEST ')\n",
    "state_grads['District Name'] = state_grads['District Name'].astype(str).str.replace(\"’\", \"'\")\n",
    "state_grads['District Name'] = state_grads['District Name'].astype(str).str.replace(' REGIONAL', '')\n",
    "\n",
    "state_grads['District Name'] = state_grads['District Name'].astype(str).str.strip()\n",
    "\n",
    "state_fiscal['NAME'] = state_fiscal['NAME'].astype(str).str.replace(' BOARD OF EDUCATION', '')\n",
    "state_fiscal['NAME'] = state_fiscal['NAME'].astype(str).str.replace(' VOCATIONAL TECHNICAL', ' VOCATIONAL')\n",
    "state_fiscal['NAME'] = state_fiscal['NAME'].astype(str).str.replace(' CITY', '')\n",
    "state_fiscal['NAME'] = state_fiscal['NAME'].astype(str).str.replace(' PUBLIC SCHOOLS', '')\n",
    "state_fiscal['NAME'] = state_fiscal['NAME'].astype(str).str.replace(' PUBLIC', '')\n",
    "state_fiscal['NAME'] = state_fiscal['NAME'].astype(str).str.replace(' SCHOOL DISTRICT', '')\n",
    "state_fiscal['NAME'] = state_fiscal['NAME'].astype(str).str.replace(r'\\sHIGH\\sSCHOOL$', '')\n",
    "state_fiscal['NAME'] = state_fiscal['NAME'].astype(str).str.replace(r'\\sSCHOOL$', '')\n",
    "state_fiscal['NAME'] = state_fiscal['NAME'].astype(str).str.replace(r'\\sTOWNSHIP$', '')\n",
    "state_fiscal['NAME'] = state_fiscal['NAME'].astype(str).str.replace(r'\\sTOWN$', '')\n",
    "state_fiscal['NAME'] = state_fiscal['NAME'].astype(str).str.replace(r'\\sBOROUGH$', '')\n",
    "state_fiscal['NAME'] = state_fiscal['NAME'].astype(str).str.replace(r'\\sBORO$', '')\n",
    "state_fiscal['NAME'] = state_fiscal['NAME'].astype(str).str.replace(r'\\sDISTRICT$', '')\n",
    "state_fiscal['NAME'] = state_fiscal['NAME'].astype(str).str.replace('VOCATIONAL AND TECHNICAL', 'VOCATIONAL')\n",
    "state_fiscal['NAME'] = state_fiscal['NAME'].astype(str).str.replace('VOCATIONAL-TECHNICAL', 'VOCATIONAL')\n",
    "state_fiscal['NAME'] = state_fiscal['NAME'].astype(str).str.replace('TECHNICAL', 'VOCATIONAL')\n",
    "state_fiscal['NAME'] = state_fiscal['NAME'].astype(str).str.replace('INSTITUTE OF TECHNOLOGY', 'VOCATIONAL')\n",
    "state_fiscal['NAME'] = state_fiscal['NAME'].astype(str).str.replace('SCHOOLS OF TECHNOLOGY', 'VOCATIONAL')\n",
    "state_fiscal['NAME'] = state_fiscal['NAME'].astype(str).str.replace(r'\\sHIGH$', '')\n",
    "state_fiscal['NAME'] = state_fiscal['NAME'].astype(str).str.replace(' REGIONAL', '')\n",
    "\n",
    "state_fiscal['NAME'] = state_fiscal['NAME'].astype(str).str.strip()"
   ]
  },
  {
   "cell_type": "code",
   "execution_count": 15,
   "id": "straight-bedroom",
   "metadata": {},
   "outputs": [
    {
     "data": {
      "text/plain": [
       "289"
      ]
     },
     "execution_count": 15,
     "metadata": {},
     "output_type": "execute_result"
    }
   ],
   "source": [
    "matches = [name for name in list(state_grads['District Name']) if name in list(state_fiscal['NAME'])]\n",
    "matches.sort()\n",
    "len(matches)"
   ]
  },
  {
   "cell_type": "code",
   "execution_count": 16,
   "id": "studied-embassy",
   "metadata": {},
   "outputs": [
    {
     "data": {
      "text/plain": [
       "['AUDUBON',\n",
       " 'BERGEN ARTS AND SCIENCES CHARTER',\n",
       " 'CHARTER~TECH',\n",
       " 'CITY OF ORANGE',\n",
       " 'ESSEX COUNTY VOC-TECH',\n",
       " 'LODIUGH',\n",
       " 'M E T S CHARTER',\n",
       " 'MERCER COUNTY VOCATIONAL',\n",
       " 'NORTH HUNT/VOORHEES',\n",
       " 'NORTHERN BURLINGTON',\n",
       " 'PASSAIC COUNTY VOCATIONAL',\n",
       " 'PASSAIC VALLEY',\n",
       " 'PATERSON CHARTER SCHOOL FOR SCI/TECH',\n",
       " 'PENNS GRV-CARNEYS PT',\n",
       " 'RAMAPO-INDIAN HILL',\n",
       " 'RIDGEWOOD VILLAGE',\n",
       " 'SOMERSET COUNTY VOCATIONAL',\n",
       " 'STERLING HIGH SCHOOL DIST',\n",
       " 'UNION COUNTY TEAMS CHARTER']"
      ]
     },
     "execution_count": 16,
     "metadata": {},
     "output_type": "execute_result"
    }
   ],
   "source": [
    "A = [name for name in list(state_grads['District Name']) if name not in list(state_fiscal['NAME'])]\n",
    "A.sort()\n",
    "A"
   ]
  },
  {
   "cell_type": "code",
   "execution_count": 17,
   "id": "powerful-armstrong",
   "metadata": {},
   "outputs": [
    {
     "data": {
      "text/plain": [
       "['AREA VOCATIONAL SCHOOLS OF MERCER COUNTY',\n",
       " 'ATLANTIC COUNTY SPECIAL SERVICES',\n",
       " 'AUDUBON SCHOOL DISRICT',\n",
       " 'BAYSHORE JOINTURE COMMISSION',\n",
       " 'BERGEN ARTS AND SCIENCE CHARTER',\n",
       " 'BERGEN COUNTY SPECIAL SERVICES',\n",
       " 'BURLINGTON COUNTY SPECIAL SERVICES',\n",
       " 'CAPE MAY COUNTY SPECIAL SERVICES',\n",
       " 'CHARTERTECH HIGH SCHOOL FOR THE PERFORMING ARTS',\n",
       " 'CUMBERLAND COUNTY BOARD OF VOCATIONAL ED',\n",
       " 'EDUCATIONAL SERVICES COMMISSION OF MORRIS COUNTY',\n",
       " 'EDUCATIONAL SERVICES COMMISSION OF NEW JERSEY',\n",
       " 'ESSEX COUNTY VOCATIONAL',\n",
       " 'ESSEX EDUCATIONAL SERVICES COMMISSION',\n",
       " 'GLOUCESTER COUNTY SPECIAL SERVICES',\n",
       " 'HUNTERDON COUNTY EDUCATIONAL SERVICES COMMISSION',\n",
       " 'HUNTERDON COUNTY VOCATIONAL',\n",
       " 'LODI',\n",
       " 'M.E.T.S. CHARTER',\n",
       " 'MARIE H. KATZENBACH SCHOOL FOR THE DEAF',\n",
       " 'MERCER COUNTY SPECIAL SERVICES',\n",
       " 'MONMOUTH-OCEAN EDUCATIONAL SERVICES COMMISSION',\n",
       " 'MORRIS-UNION JOINTURE COMMISSON',\n",
       " 'NORTH HUNTERDON-VOORHEES',\n",
       " 'NORTHERN BURLINGTON COUNTY',\n",
       " 'NORTHERN REGION EDUCATIONAL SERVICES COMMISSION',\n",
       " 'OFFICE OF EDUCATION DEPARTMENT OF CHILDREN AND FAMILIES',\n",
       " 'OFFICE OF EDUCATION JUVENILE JUSTICE COMMISSION',\n",
       " 'OFFICE OF EDUCATIONAL SERVICES DEPARTMENT OF CORRECTIONS',\n",
       " 'ORANGE',\n",
       " 'PASSAIC VALLEY HIGH #1',\n",
       " 'PASSSAIC COUNTY VOCATIONAL',\n",
       " 'PATERSON CHARTER SCHOOL FOR SCIENCE AND TECHNOLOGY',\n",
       " 'PENNS GROVE-CARNEYS POINT',\n",
       " 'RAMAPO INDIAN HILLS',\n",
       " 'RIDGEWOOD',\n",
       " 'SALEM COUNTY SPECIAL SERVICES',\n",
       " 'SOMERSET COUNTY EDUCATIONAL SERVICES COMMISSION',\n",
       " 'SOMERSET COUNTY VOCATIONAL SCHOOLS',\n",
       " 'SOUTH  BERGEN JOINTURE COMMISSION',\n",
       " 'STERLING',\n",
       " 'SUSSEX COUNTY EDUCATIONAL SERVICES COMMISSION SCHOOL DISTRIC',\n",
       " 'TOWNSHIP OF OCEAN',\n",
       " 'TOWNSHIP OF UNION',\n",
       " 'UNION COUNTY EDUCATIONAL SERVICES COMMISSION',\n",
       " 'UNION COUNTY TEAMS CHARTER SCHOOL-HIGH SCHOOL/COLLEGE LA',\n",
       " 'WARREN COUNTY SPECIAL SERVICES']"
      ]
     },
     "execution_count": 17,
     "metadata": {},
     "output_type": "execute_result"
    }
   ],
   "source": [
    "B = [name for name in list(state_fiscal['NAME']) if name not in list(state_grads['District Name'])]\n",
    "B.sort()\n",
    "B"
   ]
  },
  {
   "cell_type": "markdown",
   "id": "indie-constraint",
   "metadata": {},
   "source": [
    "Match remaining samples I can find."
   ]
  },
  {
   "cell_type": "code",
   "execution_count": 18,
   "id": "valued-gateway",
   "metadata": {},
   "outputs": [],
   "source": [
    "state_fiscal_rename = {\n",
    "    'AUDUBON SCHOOL DISRICT' : 'AUDUBON',\n",
    "    'BERGEN ARTS AND SCIENCE CHARTER' : 'BERGEN ARTS AND SCIENCES CHARTER',\n",
    "    'CAPE MAY COUNTY VOCATIONAL HIGH' :  'CAPE MAY COUNTY VOCATIONAL',\n",
    "    'CARLSTADT-EAST RUTHERFORD REGIONAL' : 'CARLSTADT-EAST RUTHERFORD',\n",
    "    'CHARTERTECH HIGH SCHOOL FOR THE PERFORMING ARTS' : 'CHARTER~TECH',\n",
    "    'ORANGE' : 'CITY OF ORANGE',\n",
    "    'ESSEX COUNTY VOCATIONAL' : 'ESSEX COUNTY VOC-TECH',\n",
    "    'LODI' : 'LODIUGH',\n",
    "    'M.E.T.S. CHARTER' : 'M E T S CHARTER',\n",
    "    'NORTH HUNTERDON-VOORHEES REGIONAL' : 'NORTH HUNT/VOORHEES REGIONAL',\n",
    "    'NORTHERN BURLINGTON COUNTY REGIONAL' : 'NORTHERN BURLINGTON REGIONAL',\n",
    "    'PASSSAIC COUNTY VOCATIONAL' : 'PASSAIC COUNTY VOCATIONAL',\n",
    "    'PASSAIC VALLEY REGIONAL HIGH #1' : 'PASSAIC VALLEY REGIONAL',\n",
    "    'PATERSON CHARTER SCHOOL FOR SCIENCE AND TECHNOLOGY' : 'PATERSON CHARTER SCHOOL FOR SCI/TECH',\n",
    "    'PENNS GROVE-CARNEYS POINT REGIONAL' : 'PENNS GRV-CARNEYS PT REGIONAL',\n",
    "    'RAMAPO INDIAN HILLS REGIONAL' : 'RAMAPO-INDIAN HILL REGIONAL',\n",
    "    'RIDGEWOOD' : 'RIDGEWOOD VILLAGE',\n",
    "    'SCOTCH PLAINS-FANWOOD' : 'SCOTCH PLAINS-FANWOOD REGIONAL',\n",
    "    'SOMERSET COUNTY VOCATIONAL SCHOOLS' : 'SOMERSET COUNTY VOCATIONAL',\n",
    "    'STERLING REGIONAL' : 'STERLING HIGH SCHOOL DIST',\n",
    "    'UNION COUNTY TEAMS CHARTER SCHOOL-HIGH SCHOOL/COLLEGE LA' : 'UNION COUNTY TEAMS CHARTER'\n",
    "}"
   ]
  },
  {
   "cell_type": "code",
   "execution_count": 19,
   "id": "tribal-spyware",
   "metadata": {},
   "outputs": [],
   "source": [
    "state_fiscal = state_fiscal.replace(state_fiscal_rename)"
   ]
  },
  {
   "cell_type": "markdown",
   "id": "talented-maine",
   "metadata": {},
   "source": [
    "Merge federal and state data, keeping only matches between the two. "
   ]
  },
  {
   "cell_type": "code",
   "execution_count": 20,
   "id": "blind-climate",
   "metadata": {},
   "outputs": [],
   "source": [
    "state_grads_merged = pd.merge(state_fiscal, state_grads, how='inner', left_on='NAME', right_on='District Name')"
   ]
  },
  {
   "cell_type": "markdown",
   "id": "latter-logan",
   "metadata": {},
   "source": [
    "Save cleaned data. "
   ]
  },
  {
   "cell_type": "code",
   "execution_count": 21,
   "id": "medieval-bunny",
   "metadata": {},
   "outputs": [],
   "source": [
    "state_grads_merged.to_csv('../../data/state_data_merged/' + abbr + '.csv', index=False)"
   ]
  }
 ],
 "metadata": {
  "kernelspec": {
   "display_name": "Python 3",
   "language": "python",
   "name": "python3"
  },
  "language_info": {
   "codemirror_mode": {
    "name": "ipython",
    "version": 3
   },
   "file_extension": ".py",
   "mimetype": "text/x-python",
   "name": "python",
   "nbconvert_exporter": "python",
   "pygments_lexer": "ipython3",
   "version": "3.7.9"
  }
 },
 "nbformat": 4,
 "nbformat_minor": 5
}
