{
 "cells": [
  {
   "cell_type": "code",
   "execution_count": 1,
   "id": "convinced-multiple",
   "metadata": {},
   "outputs": [],
   "source": [
    "import warnings\n",
    "warnings.filterwarnings('ignore')"
   ]
  },
  {
   "cell_type": "code",
   "execution_count": 2,
   "id": "leading-jesus",
   "metadata": {},
   "outputs": [],
   "source": [
    "import pandas as pd\n",
    "import numpy as np"
   ]
  },
  {
   "cell_type": "code",
   "execution_count": 3,
   "id": "vertical-writer",
   "metadata": {},
   "outputs": [],
   "source": [
    "abbr = 'RI'"
   ]
  },
  {
   "cell_type": "code",
   "execution_count": 4,
   "id": "auburn-scientist",
   "metadata": {},
   "outputs": [],
   "source": [
    "file = 'rhode_island2018.xls'"
   ]
  },
  {
   "cell_type": "markdown",
   "id": "lovely-frontier",
   "metadata": {},
   "source": [
    "Read in federal level data"
   ]
  },
  {
   "cell_type": "code",
   "execution_count": 5,
   "id": "authorized-speaking",
   "metadata": {},
   "outputs": [],
   "source": [
    "fiscal = pd.read_sas('../../data/fiscal2018', format = 'sas7bdat', encoding='iso-8859-1')"
   ]
  },
  {
   "cell_type": "markdown",
   "id": "hourly-conservative",
   "metadata": {},
   "source": [
    "Generate list of districts in the state in the federal data"
   ]
  },
  {
   "cell_type": "code",
   "execution_count": 6,
   "id": "neural-numbers",
   "metadata": {},
   "outputs": [],
   "source": [
    "state_fiscal = fiscal[(fiscal['STABBR'] == abbr) & (fiscal['GSHI'] == '12')]"
   ]
  },
  {
   "cell_type": "code",
   "execution_count": 7,
   "id": "bronze-playlist",
   "metadata": {},
   "outputs": [
    {
     "data": {
      "text/plain": [
       "47"
      ]
     },
     "execution_count": 7,
     "metadata": {},
     "output_type": "execute_result"
    }
   ],
   "source": [
    "len(state_fiscal)"
   ]
  },
  {
   "cell_type": "markdown",
   "id": "accompanied-firmware",
   "metadata": {},
   "source": [
    "Read in state level data"
   ]
  },
  {
   "cell_type": "code",
   "execution_count": 8,
   "id": "speaking-large",
   "metadata": {},
   "outputs": [],
   "source": [
    "state_grads = pd.read_excel('../../data/state_data_raw/' + file, sheet_name='districts')"
   ]
  },
  {
   "cell_type": "code",
   "execution_count": 9,
   "id": "sublime-palestine",
   "metadata": {},
   "outputs": [
    {
     "data": {
      "text/html": [
       "<div>\n",
       "<style scoped>\n",
       "    .dataframe tbody tr th:only-of-type {\n",
       "        vertical-align: middle;\n",
       "    }\n",
       "\n",
       "    .dataframe tbody tr th {\n",
       "        vertical-align: top;\n",
       "    }\n",
       "\n",
       "    .dataframe thead th {\n",
       "        text-align: right;\n",
       "    }\n",
       "</style>\n",
       "<table border=\"1\" class=\"dataframe\">\n",
       "  <thead>\n",
       "    <tr style=\"text-align: right;\">\n",
       "      <th></th>\n",
       "      <th>distcode</th>\n",
       "      <th>distname</th>\n",
       "      <th>nclbCAT</th>\n",
       "      <th>cohortN</th>\n",
       "      <th>cGradrate</th>\n",
       "      <th>cDroprate</th>\n",
       "      <th>cGEDrate</th>\n",
       "      <th>cRetrate</th>\n",
       "    </tr>\n",
       "  </thead>\n",
       "  <tbody>\n",
       "    <tr>\n",
       "      <th>0</th>\n",
       "      <td>1</td>\n",
       "      <td>Barrington</td>\n",
       "      <td></td>\n",
       "      <td>294</td>\n",
       "      <td>96.938776</td>\n",
       "      <td>0.680272</td>\n",
       "      <td>0</td>\n",
       "      <td>2.380952</td>\n",
       "    </tr>\n",
       "    <tr>\n",
       "      <th>1</th>\n",
       "      <td>1</td>\n",
       "      <td>Barrington</td>\n",
       "      <td>AM7</td>\n",
       "      <td>1</td>\n",
       "      <td>*</td>\n",
       "      <td>*</td>\n",
       "      <td>*</td>\n",
       "      <td>*</td>\n",
       "    </tr>\n",
       "    <tr>\n",
       "      <th>2</th>\n",
       "      <td>1</td>\n",
       "      <td>Barrington</td>\n",
       "      <td>AS7</td>\n",
       "      <td>6</td>\n",
       "      <td>*</td>\n",
       "      <td>*</td>\n",
       "      <td>*</td>\n",
       "      <td>*</td>\n",
       "    </tr>\n",
       "    <tr>\n",
       "      <th>3</th>\n",
       "      <td>1</td>\n",
       "      <td>Barrington</td>\n",
       "      <td>BL7</td>\n",
       "      <td>3</td>\n",
       "      <td>*</td>\n",
       "      <td>*</td>\n",
       "      <td>*</td>\n",
       "      <td>*</td>\n",
       "    </tr>\n",
       "    <tr>\n",
       "      <th>4</th>\n",
       "      <td>1</td>\n",
       "      <td>Barrington</td>\n",
       "      <td>HI7</td>\n",
       "      <td>6</td>\n",
       "      <td>*</td>\n",
       "      <td>*</td>\n",
       "      <td>*</td>\n",
       "      <td>*</td>\n",
       "    </tr>\n",
       "  </tbody>\n",
       "</table>\n",
       "</div>"
      ],
      "text/plain": [
       "   distcode    distname nclbCAT  cohortN  cGradrate cDroprate cGEDrate  \\\n",
       "0         1  Barrington              294  96.938776  0.680272        0   \n",
       "1         1  Barrington     AM7        1          *         *        *   \n",
       "2         1  Barrington     AS7        6          *         *        *   \n",
       "3         1  Barrington     BL7        3          *         *        *   \n",
       "4         1  Barrington     HI7        6          *         *        *   \n",
       "\n",
       "   cRetrate  \n",
       "0  2.380952  \n",
       "1         *  \n",
       "2         *  \n",
       "3         *  \n",
       "4         *  "
      ]
     },
     "execution_count": 9,
     "metadata": {},
     "output_type": "execute_result"
    }
   ],
   "source": [
    "state_grads.head()"
   ]
  },
  {
   "cell_type": "markdown",
   "id": "taken-rotation",
   "metadata": {},
   "source": [
    "Filter results."
   ]
  },
  {
   "cell_type": "code",
   "execution_count": 10,
   "id": "immune-banana",
   "metadata": {},
   "outputs": [],
   "source": [
    "state_grads = state_grads[(state_grads['nclbCAT'] == ' ')]"
   ]
  },
  {
   "cell_type": "markdown",
   "id": "confused-indian",
   "metadata": {},
   "source": [
    "Select and rename columns."
   ]
  },
  {
   "cell_type": "code",
   "execution_count": 11,
   "id": "comic-finance",
   "metadata": {},
   "outputs": [],
   "source": [
    "state_grads = state_grads[['distname', \n",
    "                           'cohortN', \n",
    "                           'cGradrate']]"
   ]
  },
  {
   "cell_type": "code",
   "execution_count": 12,
   "id": "mental-arnold",
   "metadata": {},
   "outputs": [],
   "source": [
    "state_grads.columns = ['District Name', 'Total', 'Graduation Rate']"
   ]
  },
  {
   "cell_type": "code",
   "execution_count": 13,
   "id": "settled-truck",
   "metadata": {},
   "outputs": [
    {
     "name": "stdout",
     "output_type": "stream",
     "text": [
      "<class 'pandas.core.frame.DataFrame'>\n",
      "Int64Index: 47 entries, 0 to 893\n",
      "Data columns (total 3 columns):\n",
      " #   Column           Non-Null Count  Dtype \n",
      "---  ------           --------------  ----- \n",
      " 0   District Name    47 non-null     object\n",
      " 1   Total            47 non-null     int64 \n",
      " 2   Graduation Rate  47 non-null     object\n",
      "dtypes: int64(1), object(2)\n",
      "memory usage: 1.5+ KB\n"
     ]
    }
   ],
   "source": [
    "state_grads.info()"
   ]
  },
  {
   "cell_type": "markdown",
   "id": "contained-disclaimer",
   "metadata": {},
   "source": [
    "Convert data types."
   ]
  },
  {
   "cell_type": "code",
   "execution_count": 14,
   "id": "noble-sheep",
   "metadata": {},
   "outputs": [],
   "source": [
    "state_grads['Graduation Rate'] = state_grads['Graduation Rate'].astype(str).str.replace('\\*', '')"
   ]
  },
  {
   "cell_type": "code",
   "execution_count": 15,
   "id": "strategic-principle",
   "metadata": {},
   "outputs": [],
   "source": [
    "state_grads['District Name'] = state_grads['District Name'].astype(str)\n",
    "state_grads['Total'] = pd.to_numeric(state_grads['Total'])\n",
    "state_grads['Graduation Rate'] = pd.to_numeric(state_grads['Graduation Rate']) / 100."
   ]
  },
  {
   "cell_type": "markdown",
   "id": "greatest-restaurant",
   "metadata": {},
   "source": [
    "Check for matches and non-matches in the two lists. "
   ]
  },
  {
   "cell_type": "code",
   "execution_count": 16,
   "id": "increased-cradle",
   "metadata": {},
   "outputs": [],
   "source": [
    "# state_fiscal['NAME'] = state_fiscal['NAME'].astype(str).str.upper().str.strip()\n",
    "# state_grads['District Name'] = state_grads['District Name'].astype(str).str.upper().str.strip()"
   ]
  },
  {
   "cell_type": "code",
   "execution_count": 17,
   "id": "guilty-analysis",
   "metadata": {},
   "outputs": [],
   "source": [
    "# state_grads['District Name'] = state_grads['District Name'].astype(str).str.replace(' SCHOOL DISTRICT', '')\n",
    "# state_grads['District Name'] = state_grads['District Name'].astype(str).str.replace('SCH DIST', 'SCHOOL DISTRICT')\n",
    "# state_grads['District Name'] = state_grads['District Name'].astype(str).str.replace(' CS', ' CHARTER SCHOOL')\n",
    "# state_grads['District Name'] = state_grads['District Name'].astype(str).str.replace(r'\\sHIGH\\sSCHOOL$', '')\n",
    "# state_grads['District Name'] = state_grads['District Name'].astype(str).str.replace(r'\\sSCHOOL$', '')\n",
    "# state_grads['District Name'] = state_grads['District Name'].astype(str).str.replace(' PUBLIC SCHOOLS', '')\n",
    "# state_grads['District Name'] = state_grads['District Name'].astype(str).str.replace(' CO ', ' COUNTY ')\n",
    "# state_grads['District Name'] = state_grads['District Name'].astype(str).str.replace(' BORO', '')\n",
    "# state_grads['District Name'] = state_grads['District Name'].astype(str).str.replace(' CITY', '')\n",
    "# state_grads['District Name'] = state_grads['District Name'].astype(str).str.replace('TWP', 'TOWNSHIP')\n",
    "# state_grads['District Name'] = state_grads['District Name'].astype(str).str.replace(r'\\sREG(\\s|$)', ' REGIONAL ')\n",
    "# state_grads['District Name'] = state_grads['District Name'].astype(str).str.replace(r'\\sTOWN$', '')\n",
    "# state_grads['District Name'] = state_grads['District Name'].astype(str).str.replace(r'\\sTOWNSHIP$', '')\n",
    "# state_grads['District Name'] = state_grads['District Name'].astype(str).str.replace(r'\\sBORO$', '')\n",
    "# state_grads['District Name'] = state_grads['District Name'].astype(str).str.replace(r'\\sPUBLIC$', '')\n",
    "# state_grads['District Name'] = state_grads['District Name'].astype(str).str.replace('H.S DIST.', '')\n",
    "# state_grads['District Name'] = state_grads['District Name'].astype(str).str.replace(r'^N\\s', 'NORTH ')\n",
    "# state_grads['District Name'] = state_grads['District Name'].astype(str).str.replace(r'^W\\s', 'WEST ')\n",
    "# state_grads['District Name'] = state_grads['District Name'].astype(str).str.replace(\"’\", \"'\")\n",
    "# state_grads['District Name'] = state_grads['District Name'].astype(str).str.replace(' REGIONAL', '')\n",
    "\n",
    "# state_grads['District Name'] = state_grads['District Name'].astype(str).str.strip()\n",
    "\n",
    "# state_fiscal['NAME'] = state_fiscal['NAME'].astype(str).str.replace(' BOARD OF EDUCATION', '')\n",
    "# state_fiscal['NAME'] = state_fiscal['NAME'].astype(str).str.replace(' VOCATIONAL TECHNICAL', ' VOCATIONAL')\n",
    "# state_fiscal['NAME'] = state_fiscal['NAME'].astype(str).str.replace(' CITY', '')\n",
    "# state_fiscal['NAME'] = state_fiscal['NAME'].astype(str).str.replace(' PUBLIC SCHOOLS', '')\n",
    "# state_fiscal['NAME'] = state_fiscal['NAME'].astype(str).str.replace(' PUBLIC', '')\n",
    "# state_fiscal['NAME'] = state_fiscal['NAME'].astype(str).str.replace(' SCHOOL DISTRICT', '')\n",
    "# state_fiscal['NAME'] = state_fiscal['NAME'].astype(str).str.replace(r'\\sHIGH\\sSCHOOL$', '')\n",
    "# state_fiscal['NAME'] = state_fiscal['NAME'].astype(str).str.replace(r'\\sSCHOOL$', '')\n",
    "# state_fiscal['NAME'] = state_fiscal['NAME'].astype(str).str.replace(r'\\sTOWNSHIP$', '')\n",
    "# state_fiscal['NAME'] = state_fiscal['NAME'].astype(str).str.replace(r'\\sTOWN$', '')\n",
    "# state_fiscal['NAME'] = state_fiscal['NAME'].astype(str).str.replace(r'\\sBOROUGH$', '')\n",
    "# state_fiscal['NAME'] = state_fiscal['NAME'].astype(str).str.replace(r'\\sBORO$', '')\n",
    "# state_fiscal['NAME'] = state_fiscal['NAME'].astype(str).str.replace(r'\\sDISTRICT$', '')\n",
    "# state_fiscal['NAME'] = state_fiscal['NAME'].astype(str).str.replace('VOCATIONAL AND TECHNICAL', 'VOCATIONAL')\n",
    "# state_fiscal['NAME'] = state_fiscal['NAME'].astype(str).str.replace('VOCATIONAL-TECHNICAL', 'VOCATIONAL')\n",
    "# state_fiscal['NAME'] = state_fiscal['NAME'].astype(str).str.replace('TECHNICAL', 'VOCATIONAL')\n",
    "# state_fiscal['NAME'] = state_fiscal['NAME'].astype(str).str.replace('INSTITUTE OF TECHNOLOGY', 'VOCATIONAL')\n",
    "# state_fiscal['NAME'] = state_fiscal['NAME'].astype(str).str.replace('SCHOOLS OF TECHNOLOGY', 'VOCATIONAL')\n",
    "# state_fiscal['NAME'] = state_fiscal['NAME'].astype(str).str.replace(r'\\sHIGH$', '')\n",
    "# state_fiscal['NAME'] = state_fiscal['NAME'].astype(str).str.replace(' REGIONAL', '')\n",
    "\n",
    "# state_fiscal['NAME'] = state_fiscal['NAME'].astype(str).str.strip()"
   ]
  },
  {
   "cell_type": "code",
   "execution_count": 18,
   "id": "hindu-queensland",
   "metadata": {},
   "outputs": [
    {
     "data": {
      "text/plain": [
       "46"
      ]
     },
     "execution_count": 18,
     "metadata": {},
     "output_type": "execute_result"
    }
   ],
   "source": [
    "matches = [name for name in list(state_grads['District Name']) if name in list(state_fiscal['NAME'])]\n",
    "matches.sort()\n",
    "len(matches)"
   ]
  },
  {
   "cell_type": "code",
   "execution_count": 19,
   "id": "herbal-montreal",
   "metadata": {},
   "outputs": [
    {
     "data": {
      "text/plain": [
       "['Blackstone Valley Prep, A RI Mayoral Academy']"
      ]
     },
     "execution_count": 19,
     "metadata": {},
     "output_type": "execute_result"
    }
   ],
   "source": [
    "A = [name for name in list(state_grads['District Name']) if name not in list(state_fiscal['NAME'])]\n",
    "A.sort()\n",
    "A"
   ]
  },
  {
   "cell_type": "code",
   "execution_count": 20,
   "id": "through-exception",
   "metadata": {},
   "outputs": [
    {
     "data": {
      "text/plain": [
       "['Blackstone Valley Prep  A RI Mayoral Academy']"
      ]
     },
     "execution_count": 20,
     "metadata": {},
     "output_type": "execute_result"
    }
   ],
   "source": [
    "B = [name for name in list(state_fiscal['NAME']) if name not in list(state_grads['District Name'])]\n",
    "B.sort()\n",
    "B"
   ]
  },
  {
   "cell_type": "markdown",
   "id": "earlier-environment",
   "metadata": {},
   "source": [
    "Make any additional matches I can find."
   ]
  },
  {
   "cell_type": "code",
   "execution_count": 21,
   "id": "identified-effects",
   "metadata": {},
   "outputs": [],
   "source": [
    "state_grads_rename = {\n",
    "    'Capital Area School for the Arts Charter' : 'Capital Area School for the Arts Charter School',\n",
    "    'Center for Student Learning CS at Pennsb' : 'Center for Student Learning CS at Pennsbury',\n",
    "    'Central PA Digital Learning Foundation C' : 'Central PA Digital Learning Foundation CS',\n",
    "    'Charter High School for Architecture and' : 'Charter High School for Architecture and Design',\n",
    "    'Connellsville Area Career & Technical Ce' : 'Connellsville Area Career & Technical Center',\n",
    "    'Eastern University Academy Charter Schoo' : 'Eastern University Academy Charter School',\n",
    "    'First Philadelphia Preparatory Charter S' : 'First Philadelphia Preparatory Charter School',\n",
    "    'Hill House Passport Academy Charter Scho' : 'Hill House Passport Academy Charter School',\n",
    "    'Lehigh Valley Charter High School for th' : 'Lehigh Valley Charter High School for the Arts',\n",
    "    'Lincoln Leadership Academy Charter Schoo' : 'Lincoln Leadership Academy Charter School',\n",
    "    'Preparatory CS of Mathematics Science Te' : 'Preparatory CS of Mathematics Science Tech and Careers'\n",
    "}"
   ]
  },
  {
   "cell_type": "code",
   "execution_count": 22,
   "id": "divided-access",
   "metadata": {},
   "outputs": [],
   "source": [
    "state_grads = state_grads.replace(state_grads_rename)"
   ]
  },
  {
   "cell_type": "markdown",
   "id": "sharing-evaluation",
   "metadata": {},
   "source": [
    "Merge federal and state data, keeping only matches between the two. "
   ]
  },
  {
   "cell_type": "code",
   "execution_count": 23,
   "id": "liberal-retirement",
   "metadata": {},
   "outputs": [],
   "source": [
    "state_grads_merged = pd.merge(state_fiscal, state_grads, how='inner', left_on='NAME', right_on='District Name')"
   ]
  },
  {
   "cell_type": "markdown",
   "id": "developmental-principal",
   "metadata": {},
   "source": [
    "Save cleaned data. "
   ]
  },
  {
   "cell_type": "code",
   "execution_count": 24,
   "id": "offshore-chambers",
   "metadata": {},
   "outputs": [],
   "source": [
    "state_grads_merged.to_csv('../../data/state_data_merged/' + abbr + '.csv', index=False)"
   ]
  }
 ],
 "metadata": {
  "kernelspec": {
   "display_name": "Python 3",
   "language": "python",
   "name": "python3"
  },
  "language_info": {
   "codemirror_mode": {
    "name": "ipython",
    "version": 3
   },
   "file_extension": ".py",
   "mimetype": "text/x-python",
   "name": "python",
   "nbconvert_exporter": "python",
   "pygments_lexer": "ipython3",
   "version": "3.7.9"
  }
 },
 "nbformat": 4,
 "nbformat_minor": 5
}
