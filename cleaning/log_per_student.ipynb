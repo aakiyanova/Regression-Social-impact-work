{
 "cells": [
  {
   "cell_type": "markdown",
   "id": "otherwise-weekend",
   "metadata": {},
   "source": [
    "#### Feature Transformation and Imputation"
   ]
  },
  {
   "cell_type": "code",
   "execution_count": 1,
   "id": "annoying-paris",
   "metadata": {},
   "outputs": [],
   "source": [
    "import pandas as pd\n",
    "import numpy as np\n",
    "\n",
    "from sklearn.impute import SimpleImputer"
   ]
  },
  {
   "cell_type": "markdown",
   "id": "english-taxation",
   "metadata": {},
   "source": [
    "Read in the initial dataset."
   ]
  },
  {
   "cell_type": "code",
   "execution_count": 2,
   "id": "armed-newton",
   "metadata": {},
   "outputs": [],
   "source": [
    "df = pd.read_csv('../data/dataset.csv')"
   ]
  },
  {
   "cell_type": "markdown",
   "id": "alpha-monitoring",
   "metadata": {},
   "source": [
    "Set column names to be lowercase."
   ]
  },
  {
   "cell_type": "code",
   "execution_count": 3,
   "id": "stuffed-logan",
   "metadata": {},
   "outputs": [],
   "source": [
    "df.columns = df.columns.str.lower()"
   ]
  },
  {
   "cell_type": "markdown",
   "id": "ecological-nature",
   "metadata": {},
   "source": [
    "Set index as district ID. "
   ]
  },
  {
   "cell_type": "code",
   "execution_count": 4,
   "id": "laden-planner",
   "metadata": {},
   "outputs": [],
   "source": [
    "df.set_index('leaid', inplace=True)"
   ]
  },
  {
   "cell_type": "markdown",
   "id": "persistent-square",
   "metadata": {},
   "source": [
    "Inspect. "
   ]
  },
  {
   "cell_type": "code",
   "execution_count": 5,
   "id": "fluid-temple",
   "metadata": {},
   "outputs": [
    {
     "data": {
      "text/html": [
       "<div>\n",
       "<style scoped>\n",
       "    .dataframe tbody tr th:only-of-type {\n",
       "        vertical-align: middle;\n",
       "    }\n",
       "\n",
       "    .dataframe tbody tr th {\n",
       "        vertical-align: top;\n",
       "    }\n",
       "\n",
       "    .dataframe thead th {\n",
       "        text-align: right;\n",
       "    }\n",
       "</style>\n",
       "<table border=\"1\" class=\"dataframe\">\n",
       "  <thead>\n",
       "    <tr style=\"text-align: right;\">\n",
       "      <th></th>\n",
       "      <th>name</th>\n",
       "      <th>stabbr</th>\n",
       "      <th>agchrt</th>\n",
       "      <th>v33</th>\n",
       "      <th>totalrev</th>\n",
       "      <th>tfedrev</th>\n",
       "      <th>c14</th>\n",
       "      <th>c15</th>\n",
       "      <th>c16</th>\n",
       "      <th>c17</th>\n",
       "      <th>...</th>\n",
       "      <th>w01</th>\n",
       "      <th>w31</th>\n",
       "      <th>w61</th>\n",
       "      <th>v95</th>\n",
       "      <th>v02</th>\n",
       "      <th>k14</th>\n",
       "      <th>ce1</th>\n",
       "      <th>ce2</th>\n",
       "      <th>ce3</th>\n",
       "      <th>graduation rate</th>\n",
       "    </tr>\n",
       "    <tr>\n",
       "      <th>leaid</th>\n",
       "      <th></th>\n",
       "      <th></th>\n",
       "      <th></th>\n",
       "      <th></th>\n",
       "      <th></th>\n",
       "      <th></th>\n",
       "      <th></th>\n",
       "      <th></th>\n",
       "      <th></th>\n",
       "      <th></th>\n",
       "      <th></th>\n",
       "      <th></th>\n",
       "      <th></th>\n",
       "      <th></th>\n",
       "      <th></th>\n",
       "      <th></th>\n",
       "      <th></th>\n",
       "      <th></th>\n",
       "      <th></th>\n",
       "      <th></th>\n",
       "      <th></th>\n",
       "    </tr>\n",
       "  </thead>\n",
       "  <tbody>\n",
       "    <tr>\n",
       "      <th>2700001</th>\n",
       "      <td>MOUNTAIN IRON-BUHL</td>\n",
       "      <td>MN</td>\n",
       "      <td>3</td>\n",
       "      <td>507.0</td>\n",
       "      <td>8146000.0</td>\n",
       "      <td>442000.0</td>\n",
       "      <td>175000.0</td>\n",
       "      <td>0.0</td>\n",
       "      <td>13000.0</td>\n",
       "      <td>0.0</td>\n",
       "      <td>...</td>\n",
       "      <td>214000.0</td>\n",
       "      <td>0.0</td>\n",
       "      <td>14622000.0</td>\n",
       "      <td>199000.0</td>\n",
       "      <td>47000.0</td>\n",
       "      <td>92000.0</td>\n",
       "      <td>-1.0</td>\n",
       "      <td>-1.0</td>\n",
       "      <td>0.0</td>\n",
       "      <td>0.9355</td>\n",
       "    </tr>\n",
       "    <tr>\n",
       "      <th>2700005</th>\n",
       "      <td>UNITED SOUTH CENTRAL</td>\n",
       "      <td>MN</td>\n",
       "      <td>3</td>\n",
       "      <td>707.0</td>\n",
       "      <td>12242000.0</td>\n",
       "      <td>554000.0</td>\n",
       "      <td>170000.0</td>\n",
       "      <td>0.0</td>\n",
       "      <td>29000.0</td>\n",
       "      <td>0.0</td>\n",
       "      <td>...</td>\n",
       "      <td>1114000.0</td>\n",
       "      <td>0.0</td>\n",
       "      <td>4264000.0</td>\n",
       "      <td>182000.0</td>\n",
       "      <td>126000.0</td>\n",
       "      <td>237000.0</td>\n",
       "      <td>-1.0</td>\n",
       "      <td>-1.0</td>\n",
       "      <td>0.0</td>\n",
       "      <td>0.8810</td>\n",
       "    </tr>\n",
       "    <tr>\n",
       "      <th>2700006</th>\n",
       "      <td>MAPLE RIVER</td>\n",
       "      <td>MN</td>\n",
       "      <td>3</td>\n",
       "      <td>927.0</td>\n",
       "      <td>13103000.0</td>\n",
       "      <td>489000.0</td>\n",
       "      <td>146000.0</td>\n",
       "      <td>0.0</td>\n",
       "      <td>31000.0</td>\n",
       "      <td>0.0</td>\n",
       "      <td>...</td>\n",
       "      <td>0.0</td>\n",
       "      <td>0.0</td>\n",
       "      <td>5541000.0</td>\n",
       "      <td>318000.0</td>\n",
       "      <td>195000.0</td>\n",
       "      <td>147000.0</td>\n",
       "      <td>-1.0</td>\n",
       "      <td>-1.0</td>\n",
       "      <td>0.0</td>\n",
       "      <td>0.9747</td>\n",
       "    </tr>\n",
       "    <tr>\n",
       "      <th>2700007</th>\n",
       "      <td>KINGSLAND</td>\n",
       "      <td>MN</td>\n",
       "      <td>3</td>\n",
       "      <td>557.0</td>\n",
       "      <td>8078000.0</td>\n",
       "      <td>374000.0</td>\n",
       "      <td>160000.0</td>\n",
       "      <td>0.0</td>\n",
       "      <td>52000.0</td>\n",
       "      <td>0.0</td>\n",
       "      <td>...</td>\n",
       "      <td>626000.0</td>\n",
       "      <td>0.0</td>\n",
       "      <td>2405000.0</td>\n",
       "      <td>235000.0</td>\n",
       "      <td>55000.0</td>\n",
       "      <td>66000.0</td>\n",
       "      <td>-1.0</td>\n",
       "      <td>-1.0</td>\n",
       "      <td>0.0</td>\n",
       "      <td>0.9677</td>\n",
       "    </tr>\n",
       "    <tr>\n",
       "      <th>2700008</th>\n",
       "      <td>ST LOUIS COUNTY</td>\n",
       "      <td>MN</td>\n",
       "      <td>3</td>\n",
       "      <td>2007.0</td>\n",
       "      <td>39951000.0</td>\n",
       "      <td>1860000.0</td>\n",
       "      <td>506000.0</td>\n",
       "      <td>0.0</td>\n",
       "      <td>10000.0</td>\n",
       "      <td>0.0</td>\n",
       "      <td>...</td>\n",
       "      <td>4616000.0</td>\n",
       "      <td>0.0</td>\n",
       "      <td>8073000.0</td>\n",
       "      <td>589000.0</td>\n",
       "      <td>705000.0</td>\n",
       "      <td>0.0</td>\n",
       "      <td>-1.0</td>\n",
       "      <td>-1.0</td>\n",
       "      <td>0.0</td>\n",
       "      <td>0.8607</td>\n",
       "    </tr>\n",
       "  </tbody>\n",
       "</table>\n",
       "<p>5 rows × 130 columns</p>\n",
       "</div>"
      ],
      "text/plain": [
       "                         name stabbr  agchrt     v33    totalrev    tfedrev  \\\n",
       "leaid                                                                         \n",
       "2700001    MOUNTAIN IRON-BUHL     MN       3   507.0   8146000.0   442000.0   \n",
       "2700005  UNITED SOUTH CENTRAL     MN       3   707.0  12242000.0   554000.0   \n",
       "2700006           MAPLE RIVER     MN       3   927.0  13103000.0   489000.0   \n",
       "2700007             KINGSLAND     MN       3   557.0   8078000.0   374000.0   \n",
       "2700008       ST LOUIS COUNTY     MN       3  2007.0  39951000.0  1860000.0   \n",
       "\n",
       "              c14  c15      c16  c17  ...        w01  w31         w61  \\\n",
       "leaid                                 ...                               \n",
       "2700001  175000.0  0.0  13000.0  0.0  ...   214000.0  0.0  14622000.0   \n",
       "2700005  170000.0  0.0  29000.0  0.0  ...  1114000.0  0.0   4264000.0   \n",
       "2700006  146000.0  0.0  31000.0  0.0  ...        0.0  0.0   5541000.0   \n",
       "2700007  160000.0  0.0  52000.0  0.0  ...   626000.0  0.0   2405000.0   \n",
       "2700008  506000.0  0.0  10000.0  0.0  ...  4616000.0  0.0   8073000.0   \n",
       "\n",
       "              v95       v02       k14  ce1  ce2  ce3  graduation rate  \n",
       "leaid                                                                  \n",
       "2700001  199000.0   47000.0   92000.0 -1.0 -1.0  0.0           0.9355  \n",
       "2700005  182000.0  126000.0  237000.0 -1.0 -1.0  0.0           0.8810  \n",
       "2700006  318000.0  195000.0  147000.0 -1.0 -1.0  0.0           0.9747  \n",
       "2700007  235000.0   55000.0   66000.0 -1.0 -1.0  0.0           0.9677  \n",
       "2700008  589000.0  705000.0       0.0 -1.0 -1.0  0.0           0.8607  \n",
       "\n",
       "[5 rows x 130 columns]"
      ]
     },
     "execution_count": 5,
     "metadata": {},
     "output_type": "execute_result"
    }
   ],
   "source": [
    "df.head()"
   ]
  },
  {
   "cell_type": "markdown",
   "id": "after-farmer",
   "metadata": {},
   "source": [
    "Grab the columns needing to be transformed:"
   ]
  },
  {
   "cell_type": "code",
   "execution_count": 6,
   "id": "guilty-pressure",
   "metadata": {},
   "outputs": [],
   "source": [
    "num_cols = df.drop(columns=['name', 'stabbr', 'agchrt', 'v33', 'graduation rate']).columns"
   ]
  },
  {
   "cell_type": "markdown",
   "id": "numeric-wright",
   "metadata": {},
   "source": [
    "Remove rows without proper student population values: "
   ]
  },
  {
   "cell_type": "code",
   "execution_count": 7,
   "id": "female-court",
   "metadata": {},
   "outputs": [],
   "source": [
    "no_pop = df[df['v33'] <= 0].index"
   ]
  },
  {
   "cell_type": "code",
   "execution_count": 8,
   "id": "moving-joining",
   "metadata": {},
   "outputs": [],
   "source": [
    "df.drop(no_pop, inplace=True)"
   ]
  },
  {
   "cell_type": "markdown",
   "id": "three-southeast",
   "metadata": {},
   "source": [
    "Divide by population for per capita values:"
   ]
  },
  {
   "cell_type": "code",
   "execution_count": 9,
   "id": "significant-terminology",
   "metadata": {},
   "outputs": [],
   "source": [
    "for col in num_cols:\n",
    "    df[col] = df[col] / df['v33']"
   ]
  },
  {
   "cell_type": "markdown",
   "id": "caroline-webmaster",
   "metadata": {},
   "source": [
    "Log-scale values other than the missing values represented by zeroes and negatives, which will be set as zero."
   ]
  },
  {
   "cell_type": "code",
   "execution_count": 10,
   "id": "waiting-norwegian",
   "metadata": {},
   "outputs": [],
   "source": [
    "df[num_cols] = np.where(df[num_cols] <= 0, 0, np.log(df[num_cols]))"
   ]
  },
  {
   "cell_type": "markdown",
   "id": "decent-score",
   "metadata": {},
   "source": [
    "Then we fill in those missing values with the feature means."
   ]
  },
  {
   "cell_type": "code",
   "execution_count": 11,
   "id": "satellite-trust",
   "metadata": {},
   "outputs": [],
   "source": [
    "df[num_cols] = df[num_cols].replace(0, np.nan)\n",
    "\n",
    "imputer = SimpleImputer(strategy='mean')\n",
    "df[num_cols] = imputer.fit_transform(df[num_cols])"
   ]
  },
  {
   "cell_type": "markdown",
   "id": "painted-greeting",
   "metadata": {},
   "source": [
    "Finally, the target values need to be set between 5 and 95 percent, as some of the states' graduation rate data only report whether the district's graduation rate is above 95 or below 5. "
   ]
  },
  {
   "cell_type": "code",
   "execution_count": 12,
   "id": "phantom-cancellation",
   "metadata": {},
   "outputs": [],
   "source": [
    "df['graduation rate'] = np.where(df['graduation rate'] >= .95, .95,\n",
    "                                np.where(df['graduation rate'] <= .05, .05, \n",
    "                                         df['graduation rate']))"
   ]
  },
  {
   "cell_type": "markdown",
   "id": "graduate-precipitation",
   "metadata": {},
   "source": [
    "Then save the new data:"
   ]
  },
  {
   "cell_type": "code",
   "execution_count": 13,
   "id": "secret-annotation",
   "metadata": {},
   "outputs": [],
   "source": [
    "df.to_csv('../data/log_per_student.csv', index=True)"
   ]
  }
 ],
 "metadata": {
  "kernelspec": {
   "display_name": "Python 3",
   "language": "python",
   "name": "python3"
  },
  "language_info": {
   "codemirror_mode": {
    "name": "ipython",
    "version": 3
   },
   "file_extension": ".py",
   "mimetype": "text/x-python",
   "name": "python",
   "nbconvert_exporter": "python",
   "pygments_lexer": "ipython3",
   "version": "3.7.9"
  }
 },
 "nbformat": 4,
 "nbformat_minor": 5
}
