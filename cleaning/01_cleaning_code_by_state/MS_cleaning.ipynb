{
 "cells": [
  {
   "cell_type": "code",
   "execution_count": 1,
   "id": "unable-virus",
   "metadata": {},
   "outputs": [],
   "source": [
    "import pandas as pd\n",
    "import numpy as np\n",
    "from tabula import read_pdf"
   ]
  },
  {
   "cell_type": "code",
   "execution_count": 2,
   "id": "fatty-former",
   "metadata": {},
   "outputs": [],
   "source": [
    "abbr = 'MS'"
   ]
  },
  {
   "cell_type": "code",
   "execution_count": 3,
   "id": "annoying-receptor",
   "metadata": {},
   "outputs": [],
   "source": [
    "file = 'mississippi2020.pdf'"
   ]
  },
  {
   "cell_type": "markdown",
   "id": "israeli-richmond",
   "metadata": {},
   "source": [
    "Read in federal level data"
   ]
  },
  {
   "cell_type": "code",
   "execution_count": 4,
   "id": "lonely-linux",
   "metadata": {},
   "outputs": [],
   "source": [
    "fiscal = pd.read_sas('../../data/fiscal2018', format = 'sas7bdat', encoding='iso-8859-1')"
   ]
  },
  {
   "cell_type": "markdown",
   "id": "constant-photography",
   "metadata": {},
   "source": [
    "Generate list of districts in the state in the federal data"
   ]
  },
  {
   "cell_type": "code",
   "execution_count": 5,
   "id": "assisted-capture",
   "metadata": {},
   "outputs": [],
   "source": [
    "state_fiscal = fiscal[(fiscal['STABBR'] == abbr) & (fiscal['GSHI'] == '12')]"
   ]
  },
  {
   "cell_type": "code",
   "execution_count": 6,
   "id": "fantastic-african",
   "metadata": {},
   "outputs": [
    {
     "data": {
      "text/plain": [
       "150"
      ]
     },
     "execution_count": 6,
     "metadata": {},
     "output_type": "execute_result"
    }
   ],
   "source": [
    "len(state_fiscal)"
   ]
  },
  {
   "cell_type": "code",
   "execution_count": 7,
   "id": "consolidated-printer",
   "metadata": {},
   "outputs": [
    {
     "data": {
      "text/html": [
       "<div>\n",
       "<style scoped>\n",
       "    .dataframe tbody tr th:only-of-type {\n",
       "        vertical-align: middle;\n",
       "    }\n",
       "\n",
       "    .dataframe tbody tr th {\n",
       "        vertical-align: top;\n",
       "    }\n",
       "\n",
       "    .dataframe thead th {\n",
       "        text-align: right;\n",
       "    }\n",
       "</style>\n",
       "<table border=\"1\" class=\"dataframe\">\n",
       "  <thead>\n",
       "    <tr style=\"text-align: right;\">\n",
       "      <th></th>\n",
       "      <th>LEAID</th>\n",
       "      <th>CENSUSID</th>\n",
       "      <th>FIPST</th>\n",
       "      <th>CONUM</th>\n",
       "      <th>CSA</th>\n",
       "      <th>CBSA</th>\n",
       "      <th>NAME</th>\n",
       "      <th>STNAME</th>\n",
       "      <th>STABBR</th>\n",
       "      <th>SCHLEV</th>\n",
       "      <th>...</th>\n",
       "      <th>FL_66V</th>\n",
       "      <th>FL_W01</th>\n",
       "      <th>FL_W31</th>\n",
       "      <th>FL_W61</th>\n",
       "      <th>FL_V95</th>\n",
       "      <th>FL_V02</th>\n",
       "      <th>FL_K14</th>\n",
       "      <th>FL_CE1</th>\n",
       "      <th>FL_CE2</th>\n",
       "      <th>FL_CE3</th>\n",
       "    </tr>\n",
       "  </thead>\n",
       "  <tbody>\n",
       "    <tr>\n",
       "      <th>8300</th>\n",
       "      <td>2800031</td>\n",
       "      <td>N</td>\n",
       "      <td>28</td>\n",
       "      <td>28085</td>\n",
       "      <td>298</td>\n",
       "      <td>15020</td>\n",
       "      <td>MS SCHOOL FOR THE ARTS</td>\n",
       "      <td>Mississippi</td>\n",
       "      <td>MS</td>\n",
       "      <td>02</td>\n",
       "      <td>...</td>\n",
       "      <td>M</td>\n",
       "      <td>R</td>\n",
       "      <td>R</td>\n",
       "      <td>R</td>\n",
       "      <td>M</td>\n",
       "      <td>M</td>\n",
       "      <td>M</td>\n",
       "      <td>M</td>\n",
       "      <td>M</td>\n",
       "      <td>M</td>\n",
       "    </tr>\n",
       "    <tr>\n",
       "      <th>8301</th>\n",
       "      <td>2800183</td>\n",
       "      <td>N</td>\n",
       "      <td>28</td>\n",
       "      <td>28047</td>\n",
       "      <td>N</td>\n",
       "      <td>25060</td>\n",
       "      <td>ROGER AMOS MCMURTRY ADM</td>\n",
       "      <td>Mississippi</td>\n",
       "      <td>MS</td>\n",
       "      <td>02</td>\n",
       "      <td>...</td>\n",
       "      <td>N</td>\n",
       "      <td>N</td>\n",
       "      <td>N</td>\n",
       "      <td>N</td>\n",
       "      <td>N</td>\n",
       "      <td>N</td>\n",
       "      <td>N</td>\n",
       "      <td>N</td>\n",
       "      <td>N</td>\n",
       "      <td>N</td>\n",
       "    </tr>\n",
       "    <tr>\n",
       "      <th>8302</th>\n",
       "      <td>2800185</td>\n",
       "      <td>25500610100000</td>\n",
       "      <td>28</td>\n",
       "      <td>28011</td>\n",
       "      <td>185</td>\n",
       "      <td>17380</td>\n",
       "      <td>WEST BOLIVAR CONS SCHOOL DIST</td>\n",
       "      <td>Mississippi</td>\n",
       "      <td>MS</td>\n",
       "      <td>03</td>\n",
       "      <td>...</td>\n",
       "      <td>R</td>\n",
       "      <td>R</td>\n",
       "      <td>R</td>\n",
       "      <td>R</td>\n",
       "      <td>M</td>\n",
       "      <td>M</td>\n",
       "      <td>M</td>\n",
       "      <td>M</td>\n",
       "      <td>M</td>\n",
       "      <td>M</td>\n",
       "    </tr>\n",
       "    <tr>\n",
       "      <th>8303</th>\n",
       "      <td>2800186</td>\n",
       "      <td>25500610200000</td>\n",
       "      <td>28</td>\n",
       "      <td>28011</td>\n",
       "      <td>185</td>\n",
       "      <td>17380</td>\n",
       "      <td>NORTH BOLIVAR CONS SCHOOL DIST</td>\n",
       "      <td>Mississippi</td>\n",
       "      <td>MS</td>\n",
       "      <td>03</td>\n",
       "      <td>...</td>\n",
       "      <td>M</td>\n",
       "      <td>R</td>\n",
       "      <td>R</td>\n",
       "      <td>R</td>\n",
       "      <td>M</td>\n",
       "      <td>M</td>\n",
       "      <td>M</td>\n",
       "      <td>M</td>\n",
       "      <td>M</td>\n",
       "      <td>M</td>\n",
       "    </tr>\n",
       "    <tr>\n",
       "      <th>8304</th>\n",
       "      <td>2800187</td>\n",
       "      <td>25506710100000</td>\n",
       "      <td>28</td>\n",
       "      <td>28133</td>\n",
       "      <td>185</td>\n",
       "      <td>26940</td>\n",
       "      <td>SUNFLOWER CONS SCHOOL DIST</td>\n",
       "      <td>Mississippi</td>\n",
       "      <td>MS</td>\n",
       "      <td>03</td>\n",
       "      <td>...</td>\n",
       "      <td>R</td>\n",
       "      <td>R</td>\n",
       "      <td>R</td>\n",
       "      <td>R</td>\n",
       "      <td>M</td>\n",
       "      <td>M</td>\n",
       "      <td>M</td>\n",
       "      <td>M</td>\n",
       "      <td>M</td>\n",
       "      <td>M</td>\n",
       "    </tr>\n",
       "  </tbody>\n",
       "</table>\n",
       "<p>5 rows × 262 columns</p>\n",
       "</div>"
      ],
      "text/plain": [
       "        LEAID        CENSUSID FIPST  CONUM  CSA   CBSA  \\\n",
       "8300  2800031               N    28  28085  298  15020   \n",
       "8301  2800183               N    28  28047    N  25060   \n",
       "8302  2800185  25500610100000    28  28011  185  17380   \n",
       "8303  2800186  25500610200000    28  28011  185  17380   \n",
       "8304  2800187  25506710100000    28  28133  185  26940   \n",
       "\n",
       "                                NAME       STNAME STABBR SCHLEV  ... FL_66V  \\\n",
       "8300          MS SCHOOL FOR THE ARTS  Mississippi     MS     02  ...      M   \n",
       "8301         ROGER AMOS MCMURTRY ADM  Mississippi     MS     02  ...      N   \n",
       "8302   WEST BOLIVAR CONS SCHOOL DIST  Mississippi     MS     03  ...      R   \n",
       "8303  NORTH BOLIVAR CONS SCHOOL DIST  Mississippi     MS     03  ...      M   \n",
       "8304      SUNFLOWER CONS SCHOOL DIST  Mississippi     MS     03  ...      R   \n",
       "\n",
       "     FL_W01 FL_W31 FL_W61 FL_V95 FL_V02  FL_K14  FL_CE1  FL_CE2  FL_CE3  \n",
       "8300      R      R      R      M      M       M       M       M       M  \n",
       "8301      N      N      N      N      N       N       N       N       N  \n",
       "8302      R      R      R      M      M       M       M       M       M  \n",
       "8303      R      R      R      M      M       M       M       M       M  \n",
       "8304      R      R      R      M      M       M       M       M       M  \n",
       "\n",
       "[5 rows x 262 columns]"
      ]
     },
     "execution_count": 7,
     "metadata": {},
     "output_type": "execute_result"
    }
   ],
   "source": [
    "state_fiscal.head()"
   ]
  },
  {
   "cell_type": "markdown",
   "id": "played-median",
   "metadata": {},
   "source": [
    "Read in state level data"
   ]
  },
  {
   "cell_type": "code",
   "execution_count": 8,
   "id": "interim-confirmation",
   "metadata": {},
   "outputs": [],
   "source": [
    "state_pdf = read_pdf('../../data/state_data_raw/' + file, pages=list(range(14, 19)))"
   ]
  },
  {
   "cell_type": "code",
   "execution_count": 9,
   "id": "impressive-spare",
   "metadata": {},
   "outputs": [],
   "source": [
    "state_grads = pd.concat(state_pdf)"
   ]
  },
  {
   "cell_type": "code",
   "execution_count": 10,
   "id": "military-forth",
   "metadata": {},
   "outputs": [
    {
     "data": {
      "text/html": [
       "<div>\n",
       "<style scoped>\n",
       "    .dataframe tbody tr th:only-of-type {\n",
       "        vertical-align: middle;\n",
       "    }\n",
       "\n",
       "    .dataframe tbody tr th {\n",
       "        vertical-align: top;\n",
       "    }\n",
       "\n",
       "    .dataframe thead th {\n",
       "        text-align: right;\n",
       "    }\n",
       "</style>\n",
       "<table border=\"1\" class=\"dataframe\">\n",
       "  <thead>\n",
       "    <tr style=\"text-align: right;\">\n",
       "      <th></th>\n",
       "      <th>District Name</th>\n",
       "      <th>N-Count</th>\n",
       "      <th>4-Year Graduation Rate</th>\n",
       "    </tr>\n",
       "  </thead>\n",
       "  <tbody>\n",
       "    <tr>\n",
       "      <th>0</th>\n",
       "      <td>Aberdeen School District</td>\n",
       "      <td>95</td>\n",
       "      <td>81.1%</td>\n",
       "    </tr>\n",
       "    <tr>\n",
       "      <th>1</th>\n",
       "      <td>Alcorn School District</td>\n",
       "      <td>226</td>\n",
       "      <td>94.7%</td>\n",
       "    </tr>\n",
       "    <tr>\n",
       "      <th>2</th>\n",
       "      <td>Amite County School District</td>\n",
       "      <td>60</td>\n",
       "      <td>73.3%</td>\n",
       "    </tr>\n",
       "    <tr>\n",
       "      <th>3</th>\n",
       "      <td>Amory School District</td>\n",
       "      <td>137</td>\n",
       "      <td>81.8%</td>\n",
       "    </tr>\n",
       "    <tr>\n",
       "      <th>4</th>\n",
       "      <td>Attala County School District</td>\n",
       "      <td>83</td>\n",
       "      <td>83.1%</td>\n",
       "    </tr>\n",
       "  </tbody>\n",
       "</table>\n",
       "</div>"
      ],
      "text/plain": [
       "                   District Name N-Count 4-Year Graduation Rate\n",
       "0       Aberdeen School District      95                  81.1%\n",
       "1         Alcorn School District     226                  94.7%\n",
       "2   Amite County School District      60                  73.3%\n",
       "3          Amory School District     137                  81.8%\n",
       "4  Attala County School District      83                  83.1%"
      ]
     },
     "execution_count": 10,
     "metadata": {},
     "output_type": "execute_result"
    }
   ],
   "source": [
    "state_grads.head()"
   ]
  },
  {
   "cell_type": "code",
   "execution_count": 11,
   "id": "processed-civilization",
   "metadata": {},
   "outputs": [
    {
     "name": "stdout",
     "output_type": "stream",
     "text": [
      "<class 'pandas.core.frame.DataFrame'>\n",
      "Int64Index: 155 entries, 0 to 14\n",
      "Data columns (total 3 columns):\n",
      " #   Column                  Non-Null Count  Dtype \n",
      "---  ------                  --------------  ----- \n",
      " 0   District Name           155 non-null    object\n",
      " 1   N-Count                 155 non-null    object\n",
      " 2   4-Year Graduation Rate  155 non-null    object\n",
      "dtypes: object(3)\n",
      "memory usage: 4.8+ KB\n"
     ]
    }
   ],
   "source": [
    "state_grads.info()"
   ]
  },
  {
   "cell_type": "markdown",
   "id": "according-sapphire",
   "metadata": {},
   "source": [
    "Select and rename columns."
   ]
  },
  {
   "cell_type": "code",
   "execution_count": 12,
   "id": "critical-lithuania",
   "metadata": {},
   "outputs": [],
   "source": [
    "state_grads.columns = ['District Name', 'Total', 'Graduation Rate']"
   ]
  },
  {
   "cell_type": "code",
   "execution_count": 13,
   "id": "laden-horse",
   "metadata": {},
   "outputs": [
    {
     "data": {
      "text/html": [
       "<div>\n",
       "<style scoped>\n",
       "    .dataframe tbody tr th:only-of-type {\n",
       "        vertical-align: middle;\n",
       "    }\n",
       "\n",
       "    .dataframe tbody tr th {\n",
       "        vertical-align: top;\n",
       "    }\n",
       "\n",
       "    .dataframe thead th {\n",
       "        text-align: right;\n",
       "    }\n",
       "</style>\n",
       "<table border=\"1\" class=\"dataframe\">\n",
       "  <thead>\n",
       "    <tr style=\"text-align: right;\">\n",
       "      <th></th>\n",
       "      <th>District Name</th>\n",
       "      <th>Total</th>\n",
       "      <th>Graduation Rate</th>\n",
       "    </tr>\n",
       "  </thead>\n",
       "  <tbody>\n",
       "    <tr>\n",
       "      <th>0</th>\n",
       "      <td>Aberdeen School District</td>\n",
       "      <td>95</td>\n",
       "      <td>81.1%</td>\n",
       "    </tr>\n",
       "    <tr>\n",
       "      <th>1</th>\n",
       "      <td>Alcorn School District</td>\n",
       "      <td>226</td>\n",
       "      <td>94.7%</td>\n",
       "    </tr>\n",
       "    <tr>\n",
       "      <th>2</th>\n",
       "      <td>Amite County School District</td>\n",
       "      <td>60</td>\n",
       "      <td>73.3%</td>\n",
       "    </tr>\n",
       "    <tr>\n",
       "      <th>3</th>\n",
       "      <td>Amory School District</td>\n",
       "      <td>137</td>\n",
       "      <td>81.8%</td>\n",
       "    </tr>\n",
       "    <tr>\n",
       "      <th>4</th>\n",
       "      <td>Attala County School District</td>\n",
       "      <td>83</td>\n",
       "      <td>83.1%</td>\n",
       "    </tr>\n",
       "    <tr>\n",
       "      <th>...</th>\n",
       "      <td>...</td>\n",
       "      <td>...</td>\n",
       "      <td>...</td>\n",
       "    </tr>\n",
       "    <tr>\n",
       "      <th>10</th>\n",
       "      <td>Wilkinson County School District</td>\n",
       "      <td>124</td>\n",
       "      <td>77.4%</td>\n",
       "    </tr>\n",
       "    <tr>\n",
       "      <th>11</th>\n",
       "      <td>Winona Separate School District</td>\n",
       "      <td>74</td>\n",
       "      <td>86.5%</td>\n",
       "    </tr>\n",
       "    <tr>\n",
       "      <th>12</th>\n",
       "      <td>Yazoo City Municipal School District</td>\n",
       "      <td>139</td>\n",
       "      <td>71.2%</td>\n",
       "    </tr>\n",
       "    <tr>\n",
       "      <th>13</th>\n",
       "      <td>Yazoo County School District</td>\n",
       "      <td>136</td>\n",
       "      <td>81.6%</td>\n",
       "    </tr>\n",
       "    <tr>\n",
       "      <th>14</th>\n",
       "      <td>State of Mississippi</td>\n",
       "      <td>33936</td>\n",
       "      <td>85.0%</td>\n",
       "    </tr>\n",
       "  </tbody>\n",
       "</table>\n",
       "<p>155 rows × 3 columns</p>\n",
       "</div>"
      ],
      "text/plain": [
       "                           District Name  Total Graduation Rate\n",
       "0               Aberdeen School District     95           81.1%\n",
       "1                 Alcorn School District    226           94.7%\n",
       "2           Amite County School District     60           73.3%\n",
       "3                  Amory School District    137           81.8%\n",
       "4          Attala County School District     83           83.1%\n",
       "..                                   ...    ...             ...\n",
       "10      Wilkinson County School District    124           77.4%\n",
       "11       Winona Separate School District     74           86.5%\n",
       "12  Yazoo City Municipal School District    139           71.2%\n",
       "13          Yazoo County School District    136           81.6%\n",
       "14                  State of Mississippi  33936           85.0%\n",
       "\n",
       "[155 rows x 3 columns]"
      ]
     },
     "execution_count": 13,
     "metadata": {},
     "output_type": "execute_result"
    }
   ],
   "source": [
    "state_grads"
   ]
  },
  {
   "cell_type": "markdown",
   "id": "proud-angle",
   "metadata": {},
   "source": [
    "Convert data types."
   ]
  },
  {
   "cell_type": "code",
   "execution_count": 14,
   "id": "incredible-worker",
   "metadata": {},
   "outputs": [],
   "source": [
    "state_grads['Graduation Rate'] = state_grads['Graduation Rate'].astype(str).str.replace('%', '')\n",
    "state_grads = state_grads.replace('**', '')"
   ]
  },
  {
   "cell_type": "code",
   "execution_count": 15,
   "id": "pleasant-elimination",
   "metadata": {},
   "outputs": [],
   "source": [
    "state_grads['Total'] = pd.to_numeric(state_grads['Total'])\n",
    "state_grads['Graduation Rate'] = pd.to_numeric(state_grads['Graduation Rate']) / 100"
   ]
  },
  {
   "cell_type": "markdown",
   "id": "average-algebra",
   "metadata": {},
   "source": [
    "Check for matches and non-matches in the two lists. \n",
    "Names all capitalized to catch as many matches as possible."
   ]
  },
  {
   "cell_type": "code",
   "execution_count": 16,
   "id": "varied-emission",
   "metadata": {},
   "outputs": [
    {
     "name": "stderr",
     "output_type": "stream",
     "text": [
      "/opt/anaconda3/envs/dsi/lib/python3.7/site-packages/ipykernel_launcher.py:2: SettingWithCopyWarning: \n",
      "A value is trying to be set on a copy of a slice from a DataFrame.\n",
      "Try using .loc[row_indexer,col_indexer] = value instead\n",
      "\n",
      "See the caveats in the documentation: https://pandas.pydata.org/pandas-docs/stable/user_guide/indexing.html#returning-a-view-versus-a-copy\n",
      "  \n"
     ]
    }
   ],
   "source": [
    "state_grads['District Name'] = state_grads['District Name'].astype(str).str.upper()\n",
    "state_fiscal['NAME'] = state_fiscal['NAME'].astype(str).str.upper()"
   ]
  },
  {
   "cell_type": "code",
   "execution_count": 17,
   "id": "automatic-character",
   "metadata": {},
   "outputs": [
    {
     "name": "stderr",
     "output_type": "stream",
     "text": [
      "/opt/anaconda3/envs/dsi/lib/python3.7/site-packages/ipykernel_launcher.py:1: FutureWarning: The default value of regex will change from True to False in a future version. In addition, single character regular expressions will*not* be treated as literal strings when regex=True.\n",
      "  \"\"\"Entry point for launching an IPython kernel.\n",
      "/opt/anaconda3/envs/dsi/lib/python3.7/site-packages/ipykernel_launcher.py:1: SettingWithCopyWarning: \n",
      "A value is trying to be set on a copy of a slice from a DataFrame.\n",
      "Try using .loc[row_indexer,col_indexer] = value instead\n",
      "\n",
      "See the caveats in the documentation: https://pandas.pydata.org/pandas-docs/stable/user_guide/indexing.html#returning-a-view-versus-a-copy\n",
      "  \"\"\"Entry point for launching an IPython kernel.\n",
      "/opt/anaconda3/envs/dsi/lib/python3.7/site-packages/ipykernel_launcher.py:2: SettingWithCopyWarning: \n",
      "A value is trying to be set on a copy of a slice from a DataFrame.\n",
      "Try using .loc[row_indexer,col_indexer] = value instead\n",
      "\n",
      "See the caveats in the documentation: https://pandas.pydata.org/pandas-docs/stable/user_guide/indexing.html#returning-a-view-versus-a-copy\n",
      "  \n",
      "/opt/anaconda3/envs/dsi/lib/python3.7/site-packages/ipykernel_launcher.py:3: SettingWithCopyWarning: \n",
      "A value is trying to be set on a copy of a slice from a DataFrame.\n",
      "Try using .loc[row_indexer,col_indexer] = value instead\n",
      "\n",
      "See the caveats in the documentation: https://pandas.pydata.org/pandas-docs/stable/user_guide/indexing.html#returning-a-view-versus-a-copy\n",
      "  This is separate from the ipykernel package so we can avoid doing imports until\n",
      "/opt/anaconda3/envs/dsi/lib/python3.7/site-packages/ipykernel_launcher.py:4: SettingWithCopyWarning: \n",
      "A value is trying to be set on a copy of a slice from a DataFrame.\n",
      "Try using .loc[row_indexer,col_indexer] = value instead\n",
      "\n",
      "See the caveats in the documentation: https://pandas.pydata.org/pandas-docs/stable/user_guide/indexing.html#returning-a-view-versus-a-copy\n",
      "  after removing the cwd from sys.path.\n",
      "/opt/anaconda3/envs/dsi/lib/python3.7/site-packages/ipykernel_launcher.py:5: SettingWithCopyWarning: \n",
      "A value is trying to be set on a copy of a slice from a DataFrame.\n",
      "Try using .loc[row_indexer,col_indexer] = value instead\n",
      "\n",
      "See the caveats in the documentation: https://pandas.pydata.org/pandas-docs/stable/user_guide/indexing.html#returning-a-view-versus-a-copy\n",
      "  \"\"\"\n",
      "/opt/anaconda3/envs/dsi/lib/python3.7/site-packages/ipykernel_launcher.py:6: SettingWithCopyWarning: \n",
      "A value is trying to be set on a copy of a slice from a DataFrame.\n",
      "Try using .loc[row_indexer,col_indexer] = value instead\n",
      "\n",
      "See the caveats in the documentation: https://pandas.pydata.org/pandas-docs/stable/user_guide/indexing.html#returning-a-view-versus-a-copy\n",
      "  \n",
      "/opt/anaconda3/envs/dsi/lib/python3.7/site-packages/ipykernel_launcher.py:7: SettingWithCopyWarning: \n",
      "A value is trying to be set on a copy of a slice from a DataFrame.\n",
      "Try using .loc[row_indexer,col_indexer] = value instead\n",
      "\n",
      "See the caveats in the documentation: https://pandas.pydata.org/pandas-docs/stable/user_guide/indexing.html#returning-a-view-versus-a-copy\n",
      "  import sys\n",
      "/opt/anaconda3/envs/dsi/lib/python3.7/site-packages/ipykernel_launcher.py:9: SettingWithCopyWarning: \n",
      "A value is trying to be set on a copy of a slice from a DataFrame.\n",
      "Try using .loc[row_indexer,col_indexer] = value instead\n",
      "\n",
      "See the caveats in the documentation: https://pandas.pydata.org/pandas-docs/stable/user_guide/indexing.html#returning-a-view-versus-a-copy\n",
      "  if __name__ == '__main__':\n",
      "/opt/anaconda3/envs/dsi/lib/python3.7/site-packages/ipykernel_launcher.py:10: FutureWarning: The default value of regex will change from True to False in a future version.\n",
      "  # Remove the CWD from sys.path while we load stuff.\n",
      "/opt/anaconda3/envs/dsi/lib/python3.7/site-packages/ipykernel_launcher.py:10: SettingWithCopyWarning: \n",
      "A value is trying to be set on a copy of a slice from a DataFrame.\n",
      "Try using .loc[row_indexer,col_indexer] = value instead\n",
      "\n",
      "See the caveats in the documentation: https://pandas.pydata.org/pandas-docs/stable/user_guide/indexing.html#returning-a-view-versus-a-copy\n",
      "  # Remove the CWD from sys.path while we load stuff.\n",
      "/opt/anaconda3/envs/dsi/lib/python3.7/site-packages/ipykernel_launcher.py:12: FutureWarning: The default value of regex will change from True to False in a future version. In addition, single character regular expressions will*not* be treated as literal strings when regex=True.\n",
      "  if sys.path[0] == '':\n"
     ]
    }
   ],
   "source": [
    "state_fiscal['NAME'] = state_fiscal['NAME'].astype(str).str.replace('.', '')\n",
    "state_fiscal['NAME'] = state_fiscal['NAME'].astype(str).str.replace(',', '')\n",
    "state_fiscal['NAME'] = state_fiscal['NAME'].astype(str).str.replace(' DISTRICT', '')\n",
    "state_fiscal['NAME'] = state_fiscal['NAME'].astype(str).str.replace(' DIST', '')\n",
    "state_fiscal['NAME'] = state_fiscal['NAME'].astype(str).str.replace(' PUBLIC', '')\n",
    "state_fiscal['NAME'] = state_fiscal['NAME'].astype(str).str.replace(' SCHOOLS', '')\n",
    "state_fiscal['NAME'] = state_fiscal['NAME'].astype(str).str.replace(' SCHOOL', '')\n",
    "\n",
    "state_fiscal['NAME'] = state_fiscal['NAME'].astype(str).str.replace('MS ', 'MISSISSIPPI ')\n",
    "state_fiscal['NAME'] = state_fiscal['NAME'].astype(str).str.replace(r'\\sCO$', ' COUNTY')\n",
    "\n",
    "state_grads['District Name'] = state_grads['District Name'].astype(str).str.replace('.', '')\n",
    "state_grads['District Name'] = state_grads['District Name'].astype(str).str.replace(',', '')\n",
    "state_grads['District Name'] = state_grads['District Name'].astype(str).str.replace(' DISTRICT', '')\n",
    "state_grads['District Name'] = state_grads['District Name'].astype(str).str.replace(' DIST', '')\n",
    "state_grads['District Name'] = state_grads['District Name'].astype(str).str.replace(' PUBLIC', '')\n",
    "state_grads['District Name'] = state_grads['District Name'].astype(str).str.replace(' SCHOOLS', '')\n",
    "state_grads['District Name'] = state_grads['District Name'].astype(str).str.replace(' SCHOOL', '')"
   ]
  },
  {
   "cell_type": "code",
   "execution_count": 18,
   "id": "collaborative-bhutan",
   "metadata": {},
   "outputs": [
    {
     "data": {
      "text/plain": [
       "136"
      ]
     },
     "execution_count": 18,
     "metadata": {},
     "output_type": "execute_result"
    }
   ],
   "source": [
    "matches = [name for name in list(state_grads['District Name']) if name in list(state_fiscal['NAME'])]\n",
    "matches.sort()\n",
    "len(matches)"
   ]
  },
  {
   "cell_type": "code",
   "execution_count": 19,
   "id": "abstract-cornell",
   "metadata": {},
   "outputs": [
    {
     "data": {
      "text/plain": [
       "['COAHOMA COUNTY AHS',\n",
       " 'EAST JASPER CONSOLIDATED',\n",
       " 'EAST TALLAHATCHIE CONSOLIDATED',\n",
       " 'ELLISVILLE STATE',\n",
       " 'FORREST COUNTY AHS',\n",
       " 'HOUSTON',\n",
       " 'HUDSPETH CENTER',\n",
       " 'MAGNOLIA GROVE',\n",
       " 'MISSISSIPPI FOR THE BLIND',\n",
       " 'MISSISSIPPI OF THE ARTS',\n",
       " 'MISSISSIPPI STATE HOSPITAL',\n",
       " 'NORTH BOLIVAR CONSOLIDATED',\n",
       " 'PASCAGOULA GAUTIER',\n",
       " 'ROGER AMOS MCMURTRY',\n",
       " 'STARKVILLE-OKTIBBEHA CONSOLIDATED',\n",
       " 'STATE OF MISSISSIPPI',\n",
       " 'SUNFLOWER COUNTY CONSOLIDATED',\n",
       " 'TISHOMINGO COUNTY',\n",
       " 'WEST BOLIVAR CONSOLIDATED']"
      ]
     },
     "execution_count": 19,
     "metadata": {},
     "output_type": "execute_result"
    }
   ],
   "source": [
    "A = [name for name in list(state_grads['District Name']) if name not in list(state_fiscal['NAME'])]\n",
    "A.sort()\n",
    "A"
   ]
  },
  {
   "cell_type": "code",
   "execution_count": 20,
   "id": "progressive-listing",
   "metadata": {},
   "outputs": [
    {
     "data": {
      "text/plain": [
       "['COAHOMA EARLY COLLEGE',\n",
       " 'EAST JASPER CONSOLIDATED SCH',\n",
       " 'EAST TALLAHATCHIE CONSOL SCH',\n",
       " 'FORREST COUNTY AG HIGH',\n",
       " 'HOUSTON ',\n",
       " 'MISSISSIPPI FOR THE ARTS',\n",
       " 'MISSISSIPPI SCH FOR THE BLIND',\n",
       " 'NORTH BOLIVAR CONS',\n",
       " 'PASCAGOULA-GAUTIER',\n",
       " 'ROGER AMOS MCMURTRY ADM',\n",
       " 'STARKVILLE- OKTIBBEHA CONS',\n",
       " 'SUNFLOWER CONS',\n",
       " 'TISHOMINGO CO SP MUN SCH',\n",
       " 'WEST BOLIVAR CONS']"
      ]
     },
     "execution_count": 20,
     "metadata": {},
     "output_type": "execute_result"
    }
   ],
   "source": [
    "B = [name for name in list(state_fiscal['NAME']) if name not in list(state_grads['District Name'])]\n",
    "B.sort()\n",
    "B"
   ]
  },
  {
   "cell_type": "markdown",
   "id": "unable-diving",
   "metadata": {},
   "source": [
    "Rename the remaining samples I can find matches for."
   ]
  },
  {
   "cell_type": "code",
   "execution_count": 21,
   "id": "peripheral-distance",
   "metadata": {},
   "outputs": [],
   "source": [
    "state_fiscal_rename = {\n",
    "    'EAST JASPER CONSOLIDATED SCH' : 'EAST JASPER CONSOLIDATED',\n",
    "    'EAST TALLAHATCHIE CONSOL SCH' : 'EAST TALLAHATCHIE CONSOLIDATED',\n",
    "    'FORREST COUNTY AG HIGH' : 'FORREST COUNTY AHS',\n",
    "    'HOUSTON ' : 'HOUSTON',\n",
    "    'MISSISSIPPI FOR THE ARTS' : 'MISSISSIPPI OF THE ARTS',\n",
    "    'MISSISSIPPI SCH FOR THE BLIND' : 'MISSISSIPPI FOR THE BLIND',\n",
    "    'NORTH BOLIVAR CONS' : 'NORTH BOLIVAR CONSOLIDATED',\n",
    "    'PASCAGOULA-GAUTIER' : 'PASCAGOULA GAUTIER',\n",
    "    'ROGER AMOS MCMURTRY ADM' : 'ROGER AMOS MCMURTRY',\n",
    "    'STARKVILLE- OKTIBBEHA CONS' : 'STARKVILLE-OKTIBBEHA CONSOLIDATED',\n",
    "    'SUNFLOWER CONS' : 'SUNFLOWER COUNTY CONSOLIDATED',\n",
    "    'TISHOMINGO CO SP MUN SCH' : 'TISHOMINGO COUNTY',\n",
    "    'WEST BOLIVAR CONS' : 'WEST BOLIVAR CONSOLIDATED'\n",
    "}"
   ]
  },
  {
   "cell_type": "code",
   "execution_count": 22,
   "id": "recorded-skating",
   "metadata": {},
   "outputs": [],
   "source": [
    "state_fiscal = state_fiscal.replace(state_fiscal_rename)"
   ]
  },
  {
   "cell_type": "markdown",
   "id": "editorial-pitch",
   "metadata": {},
   "source": [
    "Merge federal and state data, keeping only matches between the two. "
   ]
  },
  {
   "cell_type": "code",
   "execution_count": 23,
   "id": "satisfied-fantasy",
   "metadata": {},
   "outputs": [],
   "source": [
    "state_grads_merged = pd.merge(state_fiscal, state_grads, how='inner', left_on='NAME', right_on='District Name')"
   ]
  },
  {
   "cell_type": "markdown",
   "id": "binding-hampshire",
   "metadata": {},
   "source": [
    "Save cleaned data. "
   ]
  },
  {
   "cell_type": "code",
   "execution_count": 24,
   "id": "attempted-wisdom",
   "metadata": {},
   "outputs": [],
   "source": [
    "state_grads_merged.to_csv('../../data/state_data_merged/' + abbr + '.csv', index=False)"
   ]
  }
 ],
 "metadata": {
  "kernelspec": {
   "display_name": "Python 3",
   "language": "python",
   "name": "python3"
  },
  "language_info": {
   "codemirror_mode": {
    "name": "ipython",
    "version": 3
   },
   "file_extension": ".py",
   "mimetype": "text/x-python",
   "name": "python",
   "nbconvert_exporter": "python",
   "pygments_lexer": "ipython3",
   "version": "3.7.9"
  }
 },
 "nbformat": 4,
 "nbformat_minor": 5
}
