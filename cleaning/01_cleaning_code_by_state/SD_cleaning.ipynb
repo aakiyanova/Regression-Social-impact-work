{
 "cells": [
  {
   "cell_type": "code",
   "execution_count": 1,
   "id": "second-intelligence",
   "metadata": {},
   "outputs": [],
   "source": [
    "import warnings\n",
    "warnings.filterwarnings('ignore')"
   ]
  },
  {
   "cell_type": "code",
   "execution_count": 2,
   "id": "hispanic-justice",
   "metadata": {},
   "outputs": [],
   "source": [
    "import pandas as pd\n",
    "import numpy as np"
   ]
  },
  {
   "cell_type": "code",
   "execution_count": 3,
   "id": "initial-backup",
   "metadata": {},
   "outputs": [],
   "source": [
    "abbr = 'SD'"
   ]
  },
  {
   "cell_type": "code",
   "execution_count": 4,
   "id": "veterinary-afghanistan",
   "metadata": {},
   "outputs": [],
   "source": [
    "file = 'south_dakota2018.xlsx'"
   ]
  },
  {
   "cell_type": "markdown",
   "id": "abstract-theater",
   "metadata": {},
   "source": [
    "Read in federal level data"
   ]
  },
  {
   "cell_type": "code",
   "execution_count": 5,
   "id": "greek-collapse",
   "metadata": {},
   "outputs": [],
   "source": [
    "fiscal = pd.read_sas('../../data/fiscal2018', format = 'sas7bdat', encoding='iso-8859-1')"
   ]
  },
  {
   "cell_type": "markdown",
   "id": "equipped-tiger",
   "metadata": {},
   "source": [
    "Generate list of districts in the state in the federal data"
   ]
  },
  {
   "cell_type": "code",
   "execution_count": 6,
   "id": "handed-sigma",
   "metadata": {},
   "outputs": [],
   "source": [
    "state_fiscal = fiscal[(fiscal['STABBR'] == abbr) & (fiscal['GSHI'] == '12')]"
   ]
  },
  {
   "cell_type": "code",
   "execution_count": 7,
   "id": "color-presence",
   "metadata": {},
   "outputs": [
    {
     "data": {
      "text/plain": [
       "156"
      ]
     },
     "execution_count": 7,
     "metadata": {},
     "output_type": "execute_result"
    }
   ],
   "source": [
    "len(state_fiscal)"
   ]
  },
  {
   "cell_type": "markdown",
   "id": "graduate-partnership",
   "metadata": {},
   "source": [
    "Read in state level data"
   ]
  },
  {
   "cell_type": "code",
   "execution_count": 8,
   "id": "funded-gauge",
   "metadata": {},
   "outputs": [],
   "source": [
    "state_grads = pd.read_excel('../../data/state_data_raw/' + file, sheet_name='1718 HS Expanded')"
   ]
  },
  {
   "cell_type": "code",
   "execution_count": 9,
   "id": "assured-politics",
   "metadata": {},
   "outputs": [
    {
     "data": {
      "text/html": [
       "<div>\n",
       "<style scoped>\n",
       "    .dataframe tbody tr th:only-of-type {\n",
       "        vertical-align: middle;\n",
       "    }\n",
       "\n",
       "    .dataframe tbody tr th {\n",
       "        vertical-align: top;\n",
       "    }\n",
       "\n",
       "    .dataframe thead th {\n",
       "        text-align: right;\n",
       "    }\n",
       "</style>\n",
       "<table border=\"1\" class=\"dataframe\">\n",
       "  <thead>\n",
       "    <tr style=\"text-align: right;\">\n",
       "      <th></th>\n",
       "      <th>Unnamed: 0</th>\n",
       "      <th>Unnamed: 1</th>\n",
       "      <th>Unnamed: 2</th>\n",
       "      <th>Unnamed: 3</th>\n",
       "      <th>Unnamed: 4</th>\n",
       "      <th>Unnamed: 5</th>\n",
       "      <th>Unnamed: 6</th>\n",
       "      <th>School Performance Index</th>\n",
       "      <th>Unnamed: 8</th>\n",
       "      <th>Unnamed: 9</th>\n",
       "      <th>...</th>\n",
       "      <th>Unnamed: 21</th>\n",
       "      <th>High School Completion Indicator</th>\n",
       "      <th>Unnamed: 23</th>\n",
       "      <th>Unnamed: 24</th>\n",
       "      <th>Unnamed: 25</th>\n",
       "      <th>College and Career Readiness</th>\n",
       "      <th>Unnamed: 27</th>\n",
       "      <th>Unnamed: 28</th>\n",
       "      <th>English Language Learners Progress</th>\n",
       "      <th>Unnamed: 30</th>\n",
       "    </tr>\n",
       "  </thead>\n",
       "  <tbody>\n",
       "    <tr>\n",
       "      <th>0</th>\n",
       "      <td>District number</td>\n",
       "      <td>District name</td>\n",
       "      <td>School number</td>\n",
       "      <td>Entity ID</td>\n",
       "      <td>School name</td>\n",
       "      <td>School classification</td>\n",
       "      <td>Title I designation</td>\n",
       "      <td>Student Performance Total Points</td>\n",
       "      <td>High School Completion Indicator Total Points</td>\n",
       "      <td>College and Career Readiness Total Points</td>\n",
       "      <td>...</td>\n",
       "      <td>Math Percentage Level 3 and Level 4</td>\n",
       "      <td>High School Completion Student Count</td>\n",
       "      <td>High School Completion Rate Percentage</td>\n",
       "      <td>On-Time Graduation N-Size</td>\n",
       "      <td>On-Time Graduation Rate Percentage</td>\n",
       "      <td>Assessment Ready Percentage</td>\n",
       "      <td>Coursework Ready Percentage</td>\n",
       "      <td>Combined Ready Percentage</td>\n",
       "      <td>On Track Percentage of English Learners</td>\n",
       "      <td>Exited Percentage of English Learners</td>\n",
       "    </tr>\n",
       "    <tr>\n",
       "      <th>1</th>\n",
       "      <td>06001</td>\n",
       "      <td>Aberdeen 06-1</td>\n",
       "      <td>1</td>\n",
       "      <td>06001-01</td>\n",
       "      <td>Central High School - 01</td>\n",
       "      <td>Targeted Support</td>\n",
       "      <td>Non-Title I</td>\n",
       "      <td>31.40</td>\n",
       "      <td>22.57</td>\n",
       "      <td>13.18</td>\n",
       "      <td>...</td>\n",
       "      <td>0.3770</td>\n",
       "      <td>324</td>\n",
       "      <td>0.9198</td>\n",
       "      <td>324</td>\n",
       "      <td>0.8858</td>\n",
       "      <td>0.4678</td>\n",
       "      <td>0.5864</td>\n",
       "      <td>0.3627</td>\n",
       "      <td>6.78</td>\n",
       "      <td>0.0169</td>\n",
       "    </tr>\n",
       "    <tr>\n",
       "      <th>2</th>\n",
       "      <td>58003</td>\n",
       "      <td>Agar-Blunt-Onida 58-3</td>\n",
       "      <td>7</td>\n",
       "      <td>58003-07</td>\n",
       "      <td>Sully Buttes High School - 07</td>\n",
       "      <td>General Support</td>\n",
       "      <td>Non-Title I</td>\n",
       "      <td>39.35</td>\n",
       "      <td>27.27</td>\n",
       "      <td>25.97</td>\n",
       "      <td>...</td>\n",
       "      <td>0.3750</td>\n",
       "      <td>18</td>\n",
       "      <td>1</td>\n",
       "      <td>15</td>\n",
       "      <td>0.9333</td>\n",
       "      <td>0.9167</td>\n",
       "      <td>0.9167</td>\n",
       "      <td>0.8750</td>\n",
       "      <td>*</td>\n",
       "      <td>*</td>\n",
       "    </tr>\n",
       "    <tr>\n",
       "      <th>3</th>\n",
       "      <td>61001</td>\n",
       "      <td>Alcester-Hudson 61-1</td>\n",
       "      <td>1</td>\n",
       "      <td>61001-01</td>\n",
       "      <td>Alcester-Hudson High School - 01</td>\n",
       "      <td>General Support</td>\n",
       "      <td>Non-Title I</td>\n",
       "      <td>33.26</td>\n",
       "      <td>26.47</td>\n",
       "      <td>19.83</td>\n",
       "      <td>...</td>\n",
       "      <td>0.2917</td>\n",
       "      <td>23</td>\n",
       "      <td>0.9565</td>\n",
       "      <td>24</td>\n",
       "      <td>0.9167</td>\n",
       "      <td>0.5333</td>\n",
       "      <td>0.8667</td>\n",
       "      <td>0.5333</td>\n",
       "      <td>*</td>\n",
       "      <td>*</td>\n",
       "    </tr>\n",
       "    <tr>\n",
       "      <th>4</th>\n",
       "      <td>11001</td>\n",
       "      <td>Andes Central 11-1</td>\n",
       "      <td>1</td>\n",
       "      <td>11001-01</td>\n",
       "      <td>Andes Central High School - 01</td>\n",
       "      <td>Comprehensive Support</td>\n",
       "      <td>Title I</td>\n",
       "      <td>23</td>\n",
       "      <td>14.68</td>\n",
       "      <td>9.11</td>\n",
       "      <td>...</td>\n",
       "      <td>0.1538</td>\n",
       "      <td>20</td>\n",
       "      <td>0.6500</td>\n",
       "      <td>29</td>\n",
       "      <td>0.4138</td>\n",
       "      <td>0.2143</td>\n",
       "      <td>0.4286</td>\n",
       "      <td>0.1429</td>\n",
       "      <td>*</td>\n",
       "      <td>*</td>\n",
       "    </tr>\n",
       "  </tbody>\n",
       "</table>\n",
       "<p>5 rows × 31 columns</p>\n",
       "</div>"
      ],
      "text/plain": [
       "        Unnamed: 0             Unnamed: 1     Unnamed: 2 Unnamed: 3  \\\n",
       "0  District number          District name  School number  Entity ID   \n",
       "1            06001          Aberdeen 06-1              1   06001-01   \n",
       "2            58003  Agar-Blunt-Onida 58-3              7   58003-07   \n",
       "3            61001   Alcester-Hudson 61-1              1   61001-01   \n",
       "4            11001     Andes Central 11-1              1   11001-01   \n",
       "\n",
       "                         Unnamed: 4             Unnamed: 5  \\\n",
       "0                       School name  School classification   \n",
       "1          Central High School - 01       Targeted Support   \n",
       "2     Sully Buttes High School - 07        General Support   \n",
       "3  Alcester-Hudson High School - 01        General Support   \n",
       "4    Andes Central High School - 01  Comprehensive Support   \n",
       "\n",
       "            Unnamed: 6          School Performance Index  \\\n",
       "0  Title I designation  Student Performance Total Points   \n",
       "1          Non-Title I                             31.40   \n",
       "2          Non-Title I                             39.35   \n",
       "3          Non-Title I                             33.26   \n",
       "4              Title I                                23   \n",
       "\n",
       "                                      Unnamed: 8  \\\n",
       "0  High School Completion Indicator Total Points   \n",
       "1                                          22.57   \n",
       "2                                          27.27   \n",
       "3                                          26.47   \n",
       "4                                          14.68   \n",
       "\n",
       "                                  Unnamed: 9  ...  \\\n",
       "0  College and Career Readiness Total Points  ...   \n",
       "1                                      13.18  ...   \n",
       "2                                      25.97  ...   \n",
       "3                                      19.83  ...   \n",
       "4                                       9.11  ...   \n",
       "\n",
       "                           Unnamed: 21      High School Completion Indicator  \\\n",
       "0  Math Percentage Level 3 and Level 4  High School Completion Student Count   \n",
       "1                               0.3770                                   324   \n",
       "2                               0.3750                                    18   \n",
       "3                               0.2917                                    23   \n",
       "4                               0.1538                                    20   \n",
       "\n",
       "                              Unnamed: 23                Unnamed: 24  \\\n",
       "0  High School Completion Rate Percentage  On-Time Graduation N-Size   \n",
       "1                                  0.9198                        324   \n",
       "2                                       1                         15   \n",
       "3                                  0.9565                         24   \n",
       "4                                  0.6500                         29   \n",
       "\n",
       "                          Unnamed: 25 College and Career Readiness  \\\n",
       "0  On-Time Graduation Rate Percentage  Assessment Ready Percentage   \n",
       "1                              0.8858                       0.4678   \n",
       "2                              0.9333                       0.9167   \n",
       "3                              0.9167                       0.5333   \n",
       "4                              0.4138                       0.2143   \n",
       "\n",
       "                   Unnamed: 27                Unnamed: 28  \\\n",
       "0  Coursework Ready Percentage  Combined Ready Percentage   \n",
       "1                       0.5864                     0.3627   \n",
       "2                       0.9167                     0.8750   \n",
       "3                       0.8667                     0.5333   \n",
       "4                       0.4286                     0.1429   \n",
       "\n",
       "        English Language Learners Progress  \\\n",
       "0  On Track Percentage of English Learners   \n",
       "1                                     6.78   \n",
       "2                                        *   \n",
       "3                                        *   \n",
       "4                                        *   \n",
       "\n",
       "                             Unnamed: 30  \n",
       "0  Exited Percentage of English Learners  \n",
       "1                                 0.0169  \n",
       "2                                      *  \n",
       "3                                      *  \n",
       "4                                      *  \n",
       "\n",
       "[5 rows x 31 columns]"
      ]
     },
     "execution_count": 9,
     "metadata": {},
     "output_type": "execute_result"
    }
   ],
   "source": [
    "state_grads.head()"
   ]
  },
  {
   "cell_type": "markdown",
   "id": "suspended-gospel",
   "metadata": {},
   "source": [
    "Reset columns."
   ]
  },
  {
   "cell_type": "code",
   "execution_count": 10,
   "id": "colonial-thirty",
   "metadata": {},
   "outputs": [],
   "source": [
    "state_grads.columns = state_grads.loc[0]\n",
    "state_grads = state_grads.loc[1:]"
   ]
  },
  {
   "cell_type": "markdown",
   "id": "greater-alberta",
   "metadata": {},
   "source": [
    "Filter results."
   ]
  },
  {
   "cell_type": "code",
   "execution_count": 11,
   "id": "electric-company",
   "metadata": {},
   "outputs": [],
   "source": [
    "state_grads = state_grads.dropna(how='all')"
   ]
  },
  {
   "cell_type": "markdown",
   "id": "alert-lease",
   "metadata": {},
   "source": [
    "Select and rename columns."
   ]
  },
  {
   "cell_type": "code",
   "execution_count": 12,
   "id": "reverse-idaho",
   "metadata": {},
   "outputs": [],
   "source": [
    "state_grads = state_grads[['District name', \n",
    "                           'On-Time Graduation N-Size',\n",
    "                           'On-Time Graduation Rate Percentage']]"
   ]
  },
  {
   "cell_type": "code",
   "execution_count": 13,
   "id": "israeli-belarus",
   "metadata": {},
   "outputs": [],
   "source": [
    "state_grads.columns = ['District Name', 'Numerator', 'Graduation Rate']"
   ]
  },
  {
   "cell_type": "code",
   "execution_count": 14,
   "id": "anonymous-orbit",
   "metadata": {},
   "outputs": [
    {
     "name": "stdout",
     "output_type": "stream",
     "text": [
      "<class 'pandas.core.frame.DataFrame'>\n",
      "Int64Index: 154 entries, 1 to 154\n",
      "Data columns (total 3 columns):\n",
      " #   Column           Non-Null Count  Dtype \n",
      "---  ------           --------------  ----- \n",
      " 0   District Name    154 non-null    object\n",
      " 1   Numerator        154 non-null    object\n",
      " 2   Graduation Rate  154 non-null    object\n",
      "dtypes: object(3)\n",
      "memory usage: 4.8+ KB\n"
     ]
    }
   ],
   "source": [
    "state_grads.info()"
   ]
  },
  {
   "cell_type": "markdown",
   "id": "female-collective",
   "metadata": {},
   "source": [
    "Convert data types."
   ]
  },
  {
   "cell_type": "code",
   "execution_count": 15,
   "id": "cardiac-finance",
   "metadata": {},
   "outputs": [],
   "source": [
    "state_grads['Graduation Rate'] = state_grads['Graduation Rate'].astype(str).str.replace('%', '')\n",
    "state_grads['Graduation Rate'] = state_grads['Graduation Rate'].astype(str).str.replace('\\*', '')\n",
    "\n",
    "state_grads['Numerator'] = state_grads['Numerator'].astype(str).str.replace('\\*', '')"
   ]
  },
  {
   "cell_type": "code",
   "execution_count": 16,
   "id": "official-sacrifice",
   "metadata": {},
   "outputs": [],
   "source": [
    "state_grads['District Name'] = state_grads['District Name'].astype(str)\n",
    "state_grads['Numerator'] = pd.to_numeric(state_grads['Numerator'])\n",
    "state_grads['Graduation Rate'] = pd.to_numeric(state_grads['Graduation Rate'])"
   ]
  },
  {
   "cell_type": "markdown",
   "id": "functional-foundation",
   "metadata": {},
   "source": [
    "Calculate class size."
   ]
  },
  {
   "cell_type": "code",
   "execution_count": 17,
   "id": "presidential-chester",
   "metadata": {},
   "outputs": [],
   "source": [
    "state_grads['Total'] = np.round(state_grads['Numerator'] * (1 / state_grads['Graduation Rate']))"
   ]
  },
  {
   "cell_type": "code",
   "execution_count": 18,
   "id": "noble-booking",
   "metadata": {},
   "outputs": [],
   "source": [
    "state_grads = state_grads[['District Name', 'Total', 'Graduation Rate']]"
   ]
  },
  {
   "cell_type": "markdown",
   "id": "instructional-dietary",
   "metadata": {},
   "source": [
    "Check for matches and non-matches in the two lists. "
   ]
  },
  {
   "cell_type": "code",
   "execution_count": 19,
   "id": "outdoor-batman",
   "metadata": {},
   "outputs": [],
   "source": [
    "# state_fiscal['NAME'] = state_fiscal['NAME'].astype(str).str.upper().str.strip()\n",
    "# state_grads['District Name'] = state_grads['District Name'].astype(str).str.upper().str.strip()"
   ]
  },
  {
   "cell_type": "code",
   "execution_count": 21,
   "id": "retired-cricket",
   "metadata": {},
   "outputs": [],
   "source": [
    "state_fiscal['NAME'] = state_fiscal['NAME'].astype(str).str.replace(' School District', '')\n",
    "#state_fiscal['NAME'] = state_fiscal['NAME'].astype(str).str.replace(' ', ' ')\n",
    "\n",
    "# state_grads['District Name'] = state_grads['District Name'].astype(str).str.replace(r' 1$', '')"
   ]
  },
  {
   "cell_type": "code",
   "execution_count": 22,
   "id": "molecular-morgan",
   "metadata": {},
   "outputs": [
    {
     "data": {
      "text/plain": [
       "149"
      ]
     },
     "execution_count": 22,
     "metadata": {},
     "output_type": "execute_result"
    }
   ],
   "source": [
    "matches = [name for name in list(state_grads['District Name']) if name in list(state_fiscal['NAME'])]\n",
    "matches.sort()\n",
    "len(matches)"
   ]
  },
  {
   "cell_type": "code",
   "execution_count": 23,
   "id": "expanded-arizona",
   "metadata": {},
   "outputs": [
    {
     "data": {
      "text/plain": [
       "['Hitchcock-Tulare 56-6',\n",
       " 'Irene-Wakonda 13-3',\n",
       " 'Oldham-Ramona 39-5',\n",
       " 'Platte-Geddes 11-5',\n",
       " 'Wolsey-Wessington 02-6']"
      ]
     },
     "execution_count": 23,
     "metadata": {},
     "output_type": "execute_result"
    }
   ],
   "source": [
    "A = [name for name in list(state_grads['District Name']) if name not in list(state_fiscal['NAME'])]\n",
    "A.sort()\n",
    "A"
   ]
  },
  {
   "cell_type": "code",
   "execution_count": 24,
   "id": "valid-phenomenon",
   "metadata": {},
   "outputs": [
    {
     "data": {
      "text/plain": [
       "['Big Stone City 25-1',\n",
       " 'Black Hills Special Services Cooperative',\n",
       " 'CORE Educational Cooperative',\n",
       " 'East Dakota Educational Cooperative',\n",
       " 'Elk Mountain 16-2',\n",
       " 'Hitchcock Tulare 56-6',\n",
       " 'Irene - Wakonda 13-3',\n",
       " 'NORTHEAST TECHNICAL HIGH SCHOOL',\n",
       " 'Northwest Area Schools ED Cooperative',\n",
       " 'Oglala Lakota County 65-1',\n",
       " 'Oldham - Ramona 39-5',\n",
       " 'Platte - Geddes 11-5',\n",
       " 'SD SCH FOR THE BLIND & VISUALLY IMPAIRED',\n",
       " 'Southeast Area Cooperative',\n",
       " 'Wolsey Wessington 02-6']"
      ]
     },
     "execution_count": 24,
     "metadata": {},
     "output_type": "execute_result"
    }
   ],
   "source": [
    "B = [name for name in list(state_fiscal['NAME']) if name not in list(state_grads['District Name'])]\n",
    "B.sort()\n",
    "B"
   ]
  },
  {
   "cell_type": "markdown",
   "id": "brown-spray",
   "metadata": {},
   "source": [
    "Make any additional matches I can find."
   ]
  },
  {
   "cell_type": "code",
   "execution_count": 25,
   "id": "ignored-bridges",
   "metadata": {},
   "outputs": [],
   "source": [
    "state_fiscal_rename = {\n",
    "    'Hitchcock-Tulare 56-6' : 'Hitchcock Tulare 56-6',\n",
    "    'Irene-Wakonda 13-3' : 'Irene - Wakonda 13-3',\n",
    "    'Oldham-Ramona 39-5' : 'Oldham - Ramona 39-5',\n",
    "    'Platte-Geddes 11-5' : 'Platte - Geddes 11-5',\n",
    "    'Wolsey-Wessington 02-6' : 'Wolsey Wessington 02-6'\n",
    "}"
   ]
  },
  {
   "cell_type": "code",
   "execution_count": 26,
   "id": "whole-champion",
   "metadata": {},
   "outputs": [],
   "source": [
    "state_fiscal = state_fiscal.replace(state_fiscal_rename)"
   ]
  },
  {
   "cell_type": "markdown",
   "id": "processed-upset",
   "metadata": {},
   "source": [
    "Merge federal and state data, keeping only matches between the two. "
   ]
  },
  {
   "cell_type": "code",
   "execution_count": 27,
   "id": "preliminary-pressing",
   "metadata": {},
   "outputs": [],
   "source": [
    "state_grads_merged = pd.merge(state_fiscal, state_grads, how='inner', left_on='NAME', right_on='District Name')"
   ]
  },
  {
   "cell_type": "markdown",
   "id": "killing-florist",
   "metadata": {},
   "source": [
    "Save cleaned data. "
   ]
  },
  {
   "cell_type": "code",
   "execution_count": 28,
   "id": "devoted-shore",
   "metadata": {},
   "outputs": [],
   "source": [
    "state_grads_merged.to_csv('../../data/state_data_merged/' + abbr + '.csv', index=False)"
   ]
  }
 ],
 "metadata": {
  "kernelspec": {
   "display_name": "Python 3",
   "language": "python",
   "name": "python3"
  },
  "language_info": {
   "codemirror_mode": {
    "name": "ipython",
    "version": 3
   },
   "file_extension": ".py",
   "mimetype": "text/x-python",
   "name": "python",
   "nbconvert_exporter": "python",
   "pygments_lexer": "ipython3",
   "version": "3.7.9"
  }
 },
 "nbformat": 4,
 "nbformat_minor": 5
}
