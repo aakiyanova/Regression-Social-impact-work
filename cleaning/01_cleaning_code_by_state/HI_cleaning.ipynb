{
 "cells": [
  {
   "cell_type": "code",
   "execution_count": 1,
   "id": "dental-structure",
   "metadata": {},
   "outputs": [],
   "source": [
    "import pandas as pd\n",
    "import numpy as np"
   ]
  },
  {
   "cell_type": "code",
   "execution_count": 2,
   "id": "stuck-headline",
   "metadata": {},
   "outputs": [],
   "source": [
    "abbr = 'HI'"
   ]
  },
  {
   "cell_type": "markdown",
   "id": "wound-tackle",
   "metadata": {},
   "source": [
    "Read in federal level data"
   ]
  },
  {
   "cell_type": "code",
   "execution_count": 3,
   "id": "documented-opera",
   "metadata": {},
   "outputs": [],
   "source": [
    "fiscal = pd.read_sas('../../data/fiscal2018', format = 'sas7bdat', encoding='iso-8859-1')"
   ]
  },
  {
   "cell_type": "markdown",
   "id": "measured-carpet",
   "metadata": {},
   "source": [
    "Generate list of districts in the state in the federal data"
   ]
  },
  {
   "cell_type": "code",
   "execution_count": 4,
   "id": "visible-prospect",
   "metadata": {},
   "outputs": [],
   "source": [
    "state_fiscal = fiscal[(fiscal['STABBR'] == abbr)]"
   ]
  },
  {
   "cell_type": "code",
   "execution_count": 5,
   "id": "corporate-jefferson",
   "metadata": {},
   "outputs": [
    {
     "data": {
      "text/plain": [
       "1"
      ]
     },
     "execution_count": 5,
     "metadata": {},
     "output_type": "execute_result"
    }
   ],
   "source": [
    "len(state_fiscal)"
   ]
  },
  {
   "cell_type": "code",
   "execution_count": 6,
   "id": "hired-advocacy",
   "metadata": {},
   "outputs": [
    {
     "data": {
      "text/html": [
       "<div>\n",
       "<style scoped>\n",
       "    .dataframe tbody tr th:only-of-type {\n",
       "        vertical-align: middle;\n",
       "    }\n",
       "\n",
       "    .dataframe tbody tr th {\n",
       "        vertical-align: top;\n",
       "    }\n",
       "\n",
       "    .dataframe thead th {\n",
       "        text-align: right;\n",
       "    }\n",
       "</style>\n",
       "<table border=\"1\" class=\"dataframe\">\n",
       "  <thead>\n",
       "    <tr style=\"text-align: right;\">\n",
       "      <th></th>\n",
       "      <th>LEAID</th>\n",
       "      <th>CENSUSID</th>\n",
       "      <th>FIPST</th>\n",
       "      <th>CONUM</th>\n",
       "      <th>CSA</th>\n",
       "      <th>CBSA</th>\n",
       "      <th>NAME</th>\n",
       "      <th>STNAME</th>\n",
       "      <th>STABBR</th>\n",
       "      <th>SCHLEV</th>\n",
       "      <th>...</th>\n",
       "      <th>FL_66V</th>\n",
       "      <th>FL_W01</th>\n",
       "      <th>FL_W31</th>\n",
       "      <th>FL_W61</th>\n",
       "      <th>FL_V95</th>\n",
       "      <th>FL_V02</th>\n",
       "      <th>FL_K14</th>\n",
       "      <th>FL_CE1</th>\n",
       "      <th>FL_CE2</th>\n",
       "      <th>FL_CE3</th>\n",
       "    </tr>\n",
       "  </thead>\n",
       "  <tbody>\n",
       "    <tr>\n",
       "      <th>3326</th>\n",
       "      <td>1500030</td>\n",
       "      <td>12000000030000</td>\n",
       "      <td>15</td>\n",
       "      <td>15003</td>\n",
       "      <td>N</td>\n",
       "      <td>46520</td>\n",
       "      <td>Hawaii Department of Education</td>\n",
       "      <td>Hawaii</td>\n",
       "      <td>HI</td>\n",
       "      <td>03</td>\n",
       "      <td>...</td>\n",
       "      <td>R</td>\n",
       "      <td>R</td>\n",
       "      <td>R</td>\n",
       "      <td>R</td>\n",
       "      <td>R</td>\n",
       "      <td>R</td>\n",
       "      <td>I</td>\n",
       "      <td>R</td>\n",
       "      <td>R</td>\n",
       "      <td>R</td>\n",
       "    </tr>\n",
       "  </tbody>\n",
       "</table>\n",
       "<p>1 rows × 262 columns</p>\n",
       "</div>"
      ],
      "text/plain": [
       "        LEAID        CENSUSID FIPST  CONUM CSA   CBSA  \\\n",
       "3326  1500030  12000000030000    15  15003   N  46520   \n",
       "\n",
       "                                NAME  STNAME STABBR SCHLEV  ... FL_66V FL_W01  \\\n",
       "3326  Hawaii Department of Education  Hawaii     HI     03  ...      R      R   \n",
       "\n",
       "     FL_W31 FL_W61 FL_V95 FL_V02  FL_K14  FL_CE1  FL_CE2  FL_CE3  \n",
       "3326      R      R      R      R       I       R       R       R  \n",
       "\n",
       "[1 rows x 262 columns]"
      ]
     },
     "execution_count": 6,
     "metadata": {},
     "output_type": "execute_result"
    }
   ],
   "source": [
    "state_fiscal.head()"
   ]
  },
  {
   "cell_type": "markdown",
   "id": "contrary-warehouse",
   "metadata": {},
   "source": [
    "With only a single listed district in the state of Hawaii, instead of reading in the data file, we will just use the state graduation rate for 2017-2018.\n",
    "\n",
    "Source: https://www.hawaiipublicschools.org/VisionForSuccess/AdvancingEducation/StrategicPlan/Pages/SPDR-1grad.aspx"
   ]
  },
  {
   "cell_type": "code",
   "execution_count": 7,
   "id": "demonstrated-mixer",
   "metadata": {},
   "outputs": [],
   "source": [
    "state_grads = pd.DataFrame(\n",
    "    {\n",
    "        'District Name' : ['Hawaii Department of Education'],\n",
    "        'Total' : [''],\n",
    "        'Graduation Rate' : [.84]\n",
    "    }\n",
    ")"
   ]
  },
  {
   "cell_type": "code",
   "execution_count": 8,
   "id": "documentary-capture",
   "metadata": {},
   "outputs": [
    {
     "data": {
      "text/html": [
       "<div>\n",
       "<style scoped>\n",
       "    .dataframe tbody tr th:only-of-type {\n",
       "        vertical-align: middle;\n",
       "    }\n",
       "\n",
       "    .dataframe tbody tr th {\n",
       "        vertical-align: top;\n",
       "    }\n",
       "\n",
       "    .dataframe thead th {\n",
       "        text-align: right;\n",
       "    }\n",
       "</style>\n",
       "<table border=\"1\" class=\"dataframe\">\n",
       "  <thead>\n",
       "    <tr style=\"text-align: right;\">\n",
       "      <th></th>\n",
       "      <th>District Name</th>\n",
       "      <th>Total</th>\n",
       "      <th>Graduation Rate</th>\n",
       "    </tr>\n",
       "  </thead>\n",
       "  <tbody>\n",
       "    <tr>\n",
       "      <th>0</th>\n",
       "      <td>Hawaii Department of Education</td>\n",
       "      <td></td>\n",
       "      <td>0.84</td>\n",
       "    </tr>\n",
       "  </tbody>\n",
       "</table>\n",
       "</div>"
      ],
      "text/plain": [
       "                    District Name Total  Graduation Rate\n",
       "0  Hawaii Department of Education                   0.84"
      ]
     },
     "execution_count": 8,
     "metadata": {},
     "output_type": "execute_result"
    }
   ],
   "source": [
    "state_grads"
   ]
  },
  {
   "cell_type": "markdown",
   "id": "reflected-break",
   "metadata": {},
   "source": [
    "Merge federal and state data, keeping only matches between the two. "
   ]
  },
  {
   "cell_type": "code",
   "execution_count": 9,
   "id": "dense-torture",
   "metadata": {},
   "outputs": [],
   "source": [
    "state_grads_merged = pd.merge(state_fiscal, state_grads, how='inner', left_on='NAME', right_on='District Name')"
   ]
  },
  {
   "cell_type": "markdown",
   "id": "assumed-spray",
   "metadata": {},
   "source": [
    "Save cleaned data. "
   ]
  },
  {
   "cell_type": "code",
   "execution_count": 10,
   "id": "dense-training",
   "metadata": {},
   "outputs": [],
   "source": [
    "state_grads_merged.to_csv('../../data/state_data_merged/' + abbr + '.csv', index=False)"
   ]
  }
 ],
 "metadata": {
  "kernelspec": {
   "display_name": "Python 3",
   "language": "python",
   "name": "python3"
  },
  "language_info": {
   "codemirror_mode": {
    "name": "ipython",
    "version": 3
   },
   "file_extension": ".py",
   "mimetype": "text/x-python",
   "name": "python",
   "nbconvert_exporter": "python",
   "pygments_lexer": "ipython3",
   "version": "3.7.9"
  }
 },
 "nbformat": 4,
 "nbformat_minor": 5
}
