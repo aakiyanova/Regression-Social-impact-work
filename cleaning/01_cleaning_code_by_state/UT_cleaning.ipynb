{
 "cells": [
  {
   "cell_type": "code",
   "execution_count": 1,
   "id": "synthetic-miniature",
   "metadata": {},
   "outputs": [],
   "source": [
    "import warnings\n",
    "warnings.filterwarnings('ignore')"
   ]
  },
  {
   "cell_type": "code",
   "execution_count": 2,
   "id": "accepting-lindsay",
   "metadata": {},
   "outputs": [],
   "source": [
    "import pandas as pd\n",
    "import numpy as np"
   ]
  },
  {
   "cell_type": "code",
   "execution_count": 3,
   "id": "choice-sterling",
   "metadata": {},
   "outputs": [],
   "source": [
    "abbr = 'UT'"
   ]
  },
  {
   "cell_type": "code",
   "execution_count": 4,
   "id": "joined-choice",
   "metadata": {},
   "outputs": [],
   "source": [
    "file = 'utah2018.csv'"
   ]
  },
  {
   "cell_type": "markdown",
   "id": "blond-roller",
   "metadata": {},
   "source": [
    "Read in federal level data"
   ]
  },
  {
   "cell_type": "code",
   "execution_count": null,
   "id": "conscious-reception",
   "metadata": {},
   "outputs": [],
   "source": [
    "fiscal = pd.read_sas('../../data/fiscal2018', format = 'sas7bdat', encoding='iso-8859-1')"
   ]
  },
  {
   "cell_type": "markdown",
   "id": "medical-modern",
   "metadata": {},
   "source": [
    "Generate list of districts in the state in the federal data"
   ]
  },
  {
   "cell_type": "code",
   "execution_count": null,
   "id": "common-sympathy",
   "metadata": {},
   "outputs": [],
   "source": [
    "state_fiscal = fiscal[(fiscal['STABBR'] == abbr) & (fiscal['GSHI'] == '12')]"
   ]
  },
  {
   "cell_type": "code",
   "execution_count": null,
   "id": "elder-photography",
   "metadata": {},
   "outputs": [],
   "source": [
    "len(state_fiscal)"
   ]
  },
  {
   "cell_type": "markdown",
   "id": "demonstrated-shooting",
   "metadata": {},
   "source": [
    "Read in state level data"
   ]
  },
  {
   "cell_type": "code",
   "execution_count": null,
   "id": "smart-times",
   "metadata": {},
   "outputs": [],
   "source": [
    "state_grads = pd.read_csv('../../data/state_data_raw/' + file)"
   ]
  },
  {
   "cell_type": "code",
   "execution_count": null,
   "id": "blond-kitchen",
   "metadata": {},
   "outputs": [],
   "source": [
    "state_grads.head()"
   ]
  },
  {
   "cell_type": "markdown",
   "id": "recreational-necklace",
   "metadata": {},
   "source": [
    "Reset columns."
   ]
  },
  {
   "cell_type": "markdown",
   "id": "affecting-logging",
   "metadata": {},
   "source": [
    "Filter results."
   ]
  },
  {
   "cell_type": "code",
   "execution_count": null,
   "id": "listed-dayton",
   "metadata": {},
   "outputs": [],
   "source": [
    "#state_grads = state_grads[(state_grads['CALC_FOR_STATE_ACCT'] == 'No')]"
   ]
  },
  {
   "cell_type": "markdown",
   "id": "reverse-wales",
   "metadata": {},
   "source": [
    "Select and rename columns."
   ]
  },
  {
   "cell_type": "code",
   "execution_count": null,
   "id": "attempted-claim",
   "metadata": {},
   "outputs": [],
   "source": [
    "state_grads = state_grads[['LEA', \n",
    "                           '2018 Cohort Count',\n",
    "                           '2018 Graduation Rate']]"
   ]
  },
  {
   "cell_type": "code",
   "execution_count": null,
   "id": "laughing-pearl",
   "metadata": {},
   "outputs": [],
   "source": [
    "state_grads.columns = ['District Name', 'Total', 'Graduation Rate']"
   ]
  },
  {
   "cell_type": "code",
   "execution_count": null,
   "id": "unlimited-reputation",
   "metadata": {},
   "outputs": [],
   "source": [
    "state_grads.info()"
   ]
  },
  {
   "cell_type": "markdown",
   "id": "atlantic-infection",
   "metadata": {},
   "source": [
    "Convert data types."
   ]
  },
  {
   "cell_type": "code",
   "execution_count": null,
   "id": "quality-talent",
   "metadata": {},
   "outputs": [],
   "source": [
    "state_grads['Graduation Rate'] = state_grads['Graduation Rate'].astype(str).str.replace('%', '')\n",
    "state_grads['Graduation Rate'] = state_grads['Graduation Rate'].astype(str).str.replace('>=', '')\n",
    "state_grads['Graduation Rate'] = state_grads['Graduation Rate'].astype(str).str.replace('<', '')\n",
    "\n",
    "state_grads['Graduation Rate'] = state_grads['Graduation Rate'].astype(str).str.replace('40-49', '40')\n",
    "state_grads['Graduation Rate'] = state_grads['Graduation Rate'].astype(str).str.replace('70-79', '70')\n",
    "state_grads['Graduation Rate'] = state_grads['Graduation Rate'].astype(str).str.replace('80-89', '80')"
   ]
  },
  {
   "cell_type": "code",
   "execution_count": null,
   "id": "floral-oklahoma",
   "metadata": {},
   "outputs": [],
   "source": [
    "state_grads['Total'] = pd.to_numeric(state_grads['Total'])\n",
    "state_grads['Graduation Rate'] = pd.to_numeric(state_grads['Graduation Rate']) / 100"
   ]
  },
  {
   "cell_type": "markdown",
   "id": "several-winning",
   "metadata": {},
   "source": [
    "Check for matches and non-matches in the two lists. "
   ]
  },
  {
   "cell_type": "code",
   "execution_count": null,
   "id": "excited-collar",
   "metadata": {},
   "outputs": [],
   "source": [
    "# state_fiscal['NAME'] = state_fiscal['NAME'].astype(str).str.upper().str.strip()\n",
    "# state_grads['District Name'] = state_grads['District Name'].astype(str).str.upper().str.strip()"
   ]
  },
  {
   "cell_type": "code",
   "execution_count": null,
   "id": "empty-video",
   "metadata": {},
   "outputs": [],
   "source": [
    "# state_grads['District Name'] = state_grads['District Name'].astype(str).str.replace(' City', '')\n",
    "# state_grads['District Name'] = state_grads['District Name'].astype(str).str.replace(' Schools', '')\n",
    "# state_grads['District Name'] = state_grads['District Name'].astype(str).str.replace(' School District', '')\n",
    "# state_grads['District Name'] = state_grads['District Name'].astype(str).str.replace(' School System', '')\n",
    "# state_grads['District Name'] = state_grads['District Name'].astype(str).str.replace(' Municipal', '')\n",
    "# state_grads['District Name'] = state_grads['District Name'].astype(str).str.replace(' Special', '')\n",
    "\n",
    "# state_fiscal['NAME'] = state_fiscal['NAME'].astype(str).str.replace(' City', '')\n",
    "# state_fiscal['NAME'] = state_fiscal['NAME'].astype(str).str.replace(' Schools', '')\n",
    "# state_fiscal['NAME'] = state_fiscal['NAME'].astype(str).str.replace(' School District', '')\n",
    "# state_fiscal['NAME'] = state_fiscal['NAME'].astype(str).str.replace(' Municipal', '')"
   ]
  },
  {
   "cell_type": "code",
   "execution_count": null,
   "id": "applicable-engagement",
   "metadata": {},
   "outputs": [],
   "source": [
    "matches = [name for name in list(state_grads['District Name']) if name in list(state_fiscal['NAME'])]\n",
    "matches.sort()\n",
    "len(matches)"
   ]
  },
  {
   "cell_type": "code",
   "execution_count": null,
   "id": "compact-corner",
   "metadata": {},
   "outputs": [],
   "source": [
    "A = [name for name in list(state_grads['District Name']) if name not in list(state_fiscal['NAME'])]\n",
    "A.sort()\n",
    "A"
   ]
  },
  {
   "cell_type": "code",
   "execution_count": null,
   "id": "ongoing-insert",
   "metadata": {},
   "outputs": [],
   "source": [
    "B = [name for name in list(state_fiscal['NAME']) if name not in list(state_grads['District Name'])]\n",
    "B.sort()\n",
    "B"
   ]
  },
  {
   "cell_type": "markdown",
   "id": "indonesian-nicaragua",
   "metadata": {},
   "source": [
    "Make any additional matches I can find."
   ]
  },
  {
   "cell_type": "code",
   "execution_count": null,
   "id": "instrumental-medicare",
   "metadata": {},
   "outputs": [],
   "source": [
    "state_fiscal_rename = {\n",
    "    'American Preparatory Academy - LEA' : 'American Preparatory Academy',\n",
    "    'Davinci Academy' : 'DaVinci Academy'\n",
    "}"
   ]
  },
  {
   "cell_type": "code",
   "execution_count": null,
   "id": "healthy-baptist",
   "metadata": {},
   "outputs": [],
   "source": [
    "state_fiscal = state_fiscal.replace(state_fiscal_rename)"
   ]
  },
  {
   "cell_type": "markdown",
   "id": "coated-aerospace",
   "metadata": {},
   "source": [
    "Merge federal and state data, keeping only matches between the two. "
   ]
  },
  {
   "cell_type": "code",
   "execution_count": null,
   "id": "valuable-league",
   "metadata": {},
   "outputs": [],
   "source": [
    "state_grads_merged = pd.merge(state_fiscal, state_grads, how='inner', left_on='NAME', right_on='District Name')"
   ]
  },
  {
   "cell_type": "markdown",
   "id": "acute-webster",
   "metadata": {},
   "source": [
    "Save cleaned data. "
   ]
  },
  {
   "cell_type": "code",
   "execution_count": null,
   "id": "dependent-young",
   "metadata": {},
   "outputs": [],
   "source": [
    "state_grads_merged.to_csv('../../data/state_data_merged/' + abbr + '.csv', index=False)"
   ]
  }
 ],
 "metadata": {
  "kernelspec": {
   "display_name": "Python 3",
   "language": "python",
   "name": "python3"
  },
  "language_info": {
   "codemirror_mode": {
    "name": "ipython",
    "version": 3
   },
   "file_extension": ".py",
   "mimetype": "text/x-python",
   "name": "python",
   "nbconvert_exporter": "python",
   "pygments_lexer": "ipython3",
   "version": "3.7.9"
  }
 },
 "nbformat": 4,
 "nbformat_minor": 5
}
