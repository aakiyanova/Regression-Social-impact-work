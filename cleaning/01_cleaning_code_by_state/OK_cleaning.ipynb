{
 "cells": [
  {
   "cell_type": "code",
   "execution_count": 1,
   "id": "nominated-bicycle",
   "metadata": {},
   "outputs": [],
   "source": [
    "import warnings\n",
    "warnings.filterwarnings('ignore')"
   ]
  },
  {
   "cell_type": "code",
   "execution_count": 2,
   "id": "white-fairy",
   "metadata": {},
   "outputs": [],
   "source": [
    "import pandas as pd\n",
    "import numpy as np"
   ]
  },
  {
   "cell_type": "code",
   "execution_count": 3,
   "id": "hired-wealth",
   "metadata": {},
   "outputs": [],
   "source": [
    "abbr = 'OK'"
   ]
  },
  {
   "cell_type": "code",
   "execution_count": 4,
   "id": "fuzzy-counter",
   "metadata": {},
   "outputs": [],
   "source": [
    "file = 'oklahoma2017.xlsx'"
   ]
  },
  {
   "cell_type": "markdown",
   "id": "activated-leave",
   "metadata": {},
   "source": [
    "Read in federal level data"
   ]
  },
  {
   "cell_type": "code",
   "execution_count": 5,
   "id": "talented-sacrifice",
   "metadata": {},
   "outputs": [],
   "source": [
    "fiscal = pd.read_sas('../../data/fiscal2018', format = 'sas7bdat', encoding='iso-8859-1')"
   ]
  },
  {
   "cell_type": "markdown",
   "id": "spanish-extraction",
   "metadata": {},
   "source": [
    "Generate list of districts in the state in the federal data"
   ]
  },
  {
   "cell_type": "code",
   "execution_count": 6,
   "id": "seasonal-azerbaijan",
   "metadata": {},
   "outputs": [],
   "source": [
    "state_fiscal = fiscal[(fiscal['STABBR'] == abbr) & (fiscal['GSHI'] == '12')]"
   ]
  },
  {
   "cell_type": "code",
   "execution_count": 7,
   "id": "young-powell",
   "metadata": {},
   "outputs": [
    {
     "data": {
      "text/plain": [
       "434"
      ]
     },
     "execution_count": 7,
     "metadata": {},
     "output_type": "execute_result"
    }
   ],
   "source": [
    "len(state_fiscal)"
   ]
  },
  {
   "cell_type": "markdown",
   "id": "utility-polyester",
   "metadata": {},
   "source": [
    "Read in state level data"
   ]
  },
  {
   "cell_type": "code",
   "execution_count": 9,
   "id": "incoming-vintage",
   "metadata": {},
   "outputs": [],
   "source": [
    "state_grads = pd.read_excel('../../data/state_data_raw/' + file)"
   ]
  },
  {
   "cell_type": "code",
   "execution_count": 10,
   "id": "institutional-alexander",
   "metadata": {},
   "outputs": [
    {
     "data": {
      "text/html": [
       "<div>\n",
       "<style scoped>\n",
       "    .dataframe tbody tr th:only-of-type {\n",
       "        vertical-align: middle;\n",
       "    }\n",
       "\n",
       "    .dataframe tbody tr th {\n",
       "        vertical-align: top;\n",
       "    }\n",
       "\n",
       "    .dataframe thead th {\n",
       "        text-align: right;\n",
       "    }\n",
       "</style>\n",
       "<table border=\"1\" class=\"dataframe\">\n",
       "  <thead>\n",
       "    <tr style=\"text-align: right;\">\n",
       "      <th></th>\n",
       "      <th>CohortGraduationYear</th>\n",
       "      <th>EducationAgencyType</th>\n",
       "      <th>Countycode</th>\n",
       "      <th>Districtcode</th>\n",
       "      <th>SiteCode</th>\n",
       "      <th>FullCode</th>\n",
       "      <th>CountyName</th>\n",
       "      <th>DistrictName</th>\n",
       "      <th>SchoolName</th>\n",
       "      <th>GradeLevelLow</th>\n",
       "      <th>GradeLevelHigh</th>\n",
       "      <th>ReportSubgroup</th>\n",
       "      <th>FourYearGraduationRate</th>\n",
       "    </tr>\n",
       "  </thead>\n",
       "  <tbody>\n",
       "    <tr>\n",
       "      <th>0</th>\n",
       "      <td>2017</td>\n",
       "      <td>State</td>\n",
       "      <td>NaN</td>\n",
       "      <td>NaN</td>\n",
       "      <td>NaN</td>\n",
       "      <td>NaN</td>\n",
       "      <td>NaN</td>\n",
       "      <td>NaN</td>\n",
       "      <td>NaN</td>\n",
       "      <td>PK</td>\n",
       "      <td>12.0</td>\n",
       "      <td>All</td>\n",
       "      <td>83%</td>\n",
       "    </tr>\n",
       "    <tr>\n",
       "      <th>1</th>\n",
       "      <td>2017</td>\n",
       "      <td>State</td>\n",
       "      <td>NaN</td>\n",
       "      <td>NaN</td>\n",
       "      <td>NaN</td>\n",
       "      <td>NaN</td>\n",
       "      <td>NaN</td>\n",
       "      <td>NaN</td>\n",
       "      <td>NaN</td>\n",
       "      <td>PK</td>\n",
       "      <td>12.0</td>\n",
       "      <td>Economically Disadvantaged</td>\n",
       "      <td>77%</td>\n",
       "    </tr>\n",
       "    <tr>\n",
       "      <th>2</th>\n",
       "      <td>2017</td>\n",
       "      <td>State</td>\n",
       "      <td>NaN</td>\n",
       "      <td>NaN</td>\n",
       "      <td>NaN</td>\n",
       "      <td>NaN</td>\n",
       "      <td>NaN</td>\n",
       "      <td>NaN</td>\n",
       "      <td>NaN</td>\n",
       "      <td>PK</td>\n",
       "      <td>12.0</td>\n",
       "      <td>Individual Education Plan</td>\n",
       "      <td>77%</td>\n",
       "    </tr>\n",
       "    <tr>\n",
       "      <th>3</th>\n",
       "      <td>2017</td>\n",
       "      <td>State</td>\n",
       "      <td>NaN</td>\n",
       "      <td>NaN</td>\n",
       "      <td>NaN</td>\n",
       "      <td>NaN</td>\n",
       "      <td>NaN</td>\n",
       "      <td>NaN</td>\n",
       "      <td>NaN</td>\n",
       "      <td>PK</td>\n",
       "      <td>12.0</td>\n",
       "      <td>English Language Learner</td>\n",
       "      <td>67%</td>\n",
       "    </tr>\n",
       "    <tr>\n",
       "      <th>4</th>\n",
       "      <td>2017</td>\n",
       "      <td>State</td>\n",
       "      <td>NaN</td>\n",
       "      <td>NaN</td>\n",
       "      <td>NaN</td>\n",
       "      <td>NaN</td>\n",
       "      <td>NaN</td>\n",
       "      <td>NaN</td>\n",
       "      <td>NaN</td>\n",
       "      <td>PK</td>\n",
       "      <td>12.0</td>\n",
       "      <td>American Indian</td>\n",
       "      <td>83%</td>\n",
       "    </tr>\n",
       "    <tr>\n",
       "      <th>...</th>\n",
       "      <td>...</td>\n",
       "      <td>...</td>\n",
       "      <td>...</td>\n",
       "      <td>...</td>\n",
       "      <td>...</td>\n",
       "      <td>...</td>\n",
       "      <td>...</td>\n",
       "      <td>...</td>\n",
       "      <td>...</td>\n",
       "      <td>...</td>\n",
       "      <td>...</td>\n",
       "      <td>...</td>\n",
       "      <td>...</td>\n",
       "    </tr>\n",
       "    <tr>\n",
       "      <th>7659</th>\n",
       "      <td>2017</td>\n",
       "      <td>District</td>\n",
       "      <td>77.0</td>\n",
       "      <td>I005</td>\n",
       "      <td>NaN</td>\n",
       "      <td>NaN</td>\n",
       "      <td>WOODWARD</td>\n",
       "      <td>Fort Supply</td>\n",
       "      <td>NaN</td>\n",
       "      <td>PK</td>\n",
       "      <td>12.0</td>\n",
       "      <td>Individual Education Plan</td>\n",
       "      <td>***</td>\n",
       "    </tr>\n",
       "    <tr>\n",
       "      <th>7660</th>\n",
       "      <td>2017</td>\n",
       "      <td>District</td>\n",
       "      <td>77.0</td>\n",
       "      <td>I005</td>\n",
       "      <td>NaN</td>\n",
       "      <td>NaN</td>\n",
       "      <td>WOODWARD</td>\n",
       "      <td>Fort Supply</td>\n",
       "      <td>NaN</td>\n",
       "      <td>PK</td>\n",
       "      <td>12.0</td>\n",
       "      <td>American Indian</td>\n",
       "      <td>***</td>\n",
       "    </tr>\n",
       "    <tr>\n",
       "      <th>7661</th>\n",
       "      <td>2017</td>\n",
       "      <td>District</td>\n",
       "      <td>77.0</td>\n",
       "      <td>I005</td>\n",
       "      <td>NaN</td>\n",
       "      <td>NaN</td>\n",
       "      <td>WOODWARD</td>\n",
       "      <td>Fort Supply</td>\n",
       "      <td>NaN</td>\n",
       "      <td>PK</td>\n",
       "      <td>12.0</td>\n",
       "      <td>Multi-Race</td>\n",
       "      <td>***</td>\n",
       "    </tr>\n",
       "    <tr>\n",
       "      <th>7662</th>\n",
       "      <td>2017</td>\n",
       "      <td>District</td>\n",
       "      <td>77.0</td>\n",
       "      <td>I005</td>\n",
       "      <td>NaN</td>\n",
       "      <td>NaN</td>\n",
       "      <td>WOODWARD</td>\n",
       "      <td>Fort Supply</td>\n",
       "      <td>NaN</td>\n",
       "      <td>PK</td>\n",
       "      <td>12.0</td>\n",
       "      <td>White</td>\n",
       "      <td>***</td>\n",
       "    </tr>\n",
       "    <tr>\n",
       "      <th>7663</th>\n",
       "      <td>2017</td>\n",
       "      <td>District</td>\n",
       "      <td>77.0</td>\n",
       "      <td>I005</td>\n",
       "      <td>NaN</td>\n",
       "      <td>NaN</td>\n",
       "      <td>WOODWARD</td>\n",
       "      <td>Fort Supply</td>\n",
       "      <td>NaN</td>\n",
       "      <td>PK</td>\n",
       "      <td>12.0</td>\n",
       "      <td>Regular Education</td>\n",
       "      <td>***</td>\n",
       "    </tr>\n",
       "  </tbody>\n",
       "</table>\n",
       "<p>7664 rows × 13 columns</p>\n",
       "</div>"
      ],
      "text/plain": [
       "      CohortGraduationYear EducationAgencyType  Countycode Districtcode  \\\n",
       "0                     2017               State         NaN          NaN   \n",
       "1                     2017               State         NaN          NaN   \n",
       "2                     2017               State         NaN          NaN   \n",
       "3                     2017               State         NaN          NaN   \n",
       "4                     2017               State         NaN          NaN   \n",
       "...                    ...                 ...         ...          ...   \n",
       "7659                  2017            District        77.0         I005   \n",
       "7660                  2017            District        77.0         I005   \n",
       "7661                  2017            District        77.0         I005   \n",
       "7662                  2017            District        77.0         I005   \n",
       "7663                  2017            District        77.0         I005   \n",
       "\n",
       "      SiteCode FullCode    CountyName DistrictName SchoolName GradeLevelLow  \\\n",
       "0          NaN      NaN           NaN          NaN        NaN            PK   \n",
       "1          NaN      NaN           NaN          NaN        NaN            PK   \n",
       "2          NaN      NaN           NaN          NaN        NaN            PK   \n",
       "3          NaN      NaN           NaN          NaN        NaN            PK   \n",
       "4          NaN      NaN           NaN          NaN        NaN            PK   \n",
       "...        ...      ...           ...          ...        ...           ...   \n",
       "7659       NaN      NaN  WOODWARD      Fort Supply        NaN            PK   \n",
       "7660       NaN      NaN  WOODWARD      Fort Supply        NaN            PK   \n",
       "7661       NaN      NaN  WOODWARD      Fort Supply        NaN            PK   \n",
       "7662       NaN      NaN  WOODWARD      Fort Supply        NaN            PK   \n",
       "7663       NaN      NaN  WOODWARD      Fort Supply        NaN            PK   \n",
       "\n",
       "      GradeLevelHigh              ReportSubgroup FourYearGraduationRate  \n",
       "0               12.0                         All                    83%  \n",
       "1               12.0  Economically Disadvantaged                    77%  \n",
       "2               12.0   Individual Education Plan                    77%  \n",
       "3               12.0    English Language Learner                    67%  \n",
       "4               12.0             American Indian                    83%  \n",
       "...              ...                         ...                    ...  \n",
       "7659            12.0   Individual Education Plan                    ***  \n",
       "7660            12.0             American Indian                    ***  \n",
       "7661            12.0                  Multi-Race                    ***  \n",
       "7662            12.0                       White                    ***  \n",
       "7663            12.0           Regular Education                    ***  \n",
       "\n",
       "[7664 rows x 13 columns]"
      ]
     },
     "execution_count": 10,
     "metadata": {},
     "output_type": "execute_result"
    }
   ],
   "source": [
    "state_grads"
   ]
  },
  {
   "cell_type": "markdown",
   "id": "downtown-closing",
   "metadata": {},
   "source": [
    "Filter results."
   ]
  },
  {
   "cell_type": "code",
   "execution_count": 11,
   "id": "national-inspiration",
   "metadata": {},
   "outputs": [],
   "source": [
    "state_grads = state_grads[(state_grads['EducationAgencyType'] == 'District') &\n",
    "                         (state_grads['ReportSubgroup'] == 'All')]"
   ]
  },
  {
   "cell_type": "code",
   "execution_count": 12,
   "id": "technological-analysis",
   "metadata": {},
   "outputs": [
    {
     "data": {
      "text/html": [
       "<div>\n",
       "<style scoped>\n",
       "    .dataframe tbody tr th:only-of-type {\n",
       "        vertical-align: middle;\n",
       "    }\n",
       "\n",
       "    .dataframe tbody tr th {\n",
       "        vertical-align: top;\n",
       "    }\n",
       "\n",
       "    .dataframe thead th {\n",
       "        text-align: right;\n",
       "    }\n",
       "</style>\n",
       "<table border=\"1\" class=\"dataframe\">\n",
       "  <thead>\n",
       "    <tr style=\"text-align: right;\">\n",
       "      <th></th>\n",
       "      <th>CohortGraduationYear</th>\n",
       "      <th>EducationAgencyType</th>\n",
       "      <th>Countycode</th>\n",
       "      <th>Districtcode</th>\n",
       "      <th>SiteCode</th>\n",
       "      <th>FullCode</th>\n",
       "      <th>CountyName</th>\n",
       "      <th>DistrictName</th>\n",
       "      <th>SchoolName</th>\n",
       "      <th>GradeLevelLow</th>\n",
       "      <th>GradeLevelHigh</th>\n",
       "      <th>ReportSubgroup</th>\n",
       "      <th>FourYearGraduationRate</th>\n",
       "    </tr>\n",
       "  </thead>\n",
       "  <tbody>\n",
       "    <tr>\n",
       "      <th>3972</th>\n",
       "      <td>2017</td>\n",
       "      <td>District</td>\n",
       "      <td>1.0</td>\n",
       "      <td>I004</td>\n",
       "      <td>NaN</td>\n",
       "      <td>NaN</td>\n",
       "      <td>ADAIR</td>\n",
       "      <td>Watts</td>\n",
       "      <td>NaN</td>\n",
       "      <td>PK</td>\n",
       "      <td>12.0</td>\n",
       "      <td>All</td>\n",
       "      <td>&gt;= 80%</td>\n",
       "    </tr>\n",
       "    <tr>\n",
       "      <th>3982</th>\n",
       "      <td>2017</td>\n",
       "      <td>District</td>\n",
       "      <td>1.0</td>\n",
       "      <td>I011</td>\n",
       "      <td>NaN</td>\n",
       "      <td>NaN</td>\n",
       "      <td>ADAIR</td>\n",
       "      <td>Westville</td>\n",
       "      <td>NaN</td>\n",
       "      <td>PK</td>\n",
       "      <td>12.0</td>\n",
       "      <td>All</td>\n",
       "      <td>90%</td>\n",
       "    </tr>\n",
       "    <tr>\n",
       "      <th>3992</th>\n",
       "      <td>2017</td>\n",
       "      <td>District</td>\n",
       "      <td>1.0</td>\n",
       "      <td>I025</td>\n",
       "      <td>NaN</td>\n",
       "      <td>NaN</td>\n",
       "      <td>ADAIR</td>\n",
       "      <td>Stilwell</td>\n",
       "      <td>NaN</td>\n",
       "      <td>PK</td>\n",
       "      <td>12.0</td>\n",
       "      <td>All</td>\n",
       "      <td>79%</td>\n",
       "    </tr>\n",
       "    <tr>\n",
       "      <th>4001</th>\n",
       "      <td>2017</td>\n",
       "      <td>District</td>\n",
       "      <td>1.0</td>\n",
       "      <td>I030</td>\n",
       "      <td>NaN</td>\n",
       "      <td>NaN</td>\n",
       "      <td>ADAIR</td>\n",
       "      <td>Cave Springs</td>\n",
       "      <td>NaN</td>\n",
       "      <td>PK</td>\n",
       "      <td>12.0</td>\n",
       "      <td>All</td>\n",
       "      <td>77%</td>\n",
       "    </tr>\n",
       "    <tr>\n",
       "      <th>4008</th>\n",
       "      <td>2017</td>\n",
       "      <td>District</td>\n",
       "      <td>2.0</td>\n",
       "      <td>I001</td>\n",
       "      <td>NaN</td>\n",
       "      <td>NaN</td>\n",
       "      <td>ALFALFA</td>\n",
       "      <td>Burlington</td>\n",
       "      <td>NaN</td>\n",
       "      <td>PK</td>\n",
       "      <td>12.0</td>\n",
       "      <td>All</td>\n",
       "      <td>100%</td>\n",
       "    </tr>\n",
       "    <tr>\n",
       "      <th>...</th>\n",
       "      <td>...</td>\n",
       "      <td>...</td>\n",
       "      <td>...</td>\n",
       "      <td>...</td>\n",
       "      <td>...</td>\n",
       "      <td>...</td>\n",
       "      <td>...</td>\n",
       "      <td>...</td>\n",
       "      <td>...</td>\n",
       "      <td>...</td>\n",
       "      <td>...</td>\n",
       "      <td>...</td>\n",
       "      <td>...</td>\n",
       "    </tr>\n",
       "    <tr>\n",
       "      <th>7626</th>\n",
       "      <td>2017</td>\n",
       "      <td>District</td>\n",
       "      <td>76.0</td>\n",
       "      <td>I006</td>\n",
       "      <td>NaN</td>\n",
       "      <td>NaN</td>\n",
       "      <td>WOODS</td>\n",
       "      <td>Freedom</td>\n",
       "      <td>NaN</td>\n",
       "      <td>PK</td>\n",
       "      <td>12.0</td>\n",
       "      <td>All</td>\n",
       "      <td>***</td>\n",
       "    </tr>\n",
       "    <tr>\n",
       "      <th>7632</th>\n",
       "      <td>2017</td>\n",
       "      <td>District</td>\n",
       "      <td>77.0</td>\n",
       "      <td>I001</td>\n",
       "      <td>NaN</td>\n",
       "      <td>NaN</td>\n",
       "      <td>WOODWARD</td>\n",
       "      <td>Woodward</td>\n",
       "      <td>NaN</td>\n",
       "      <td>PK</td>\n",
       "      <td>12.0</td>\n",
       "      <td>All</td>\n",
       "      <td>87%</td>\n",
       "    </tr>\n",
       "    <tr>\n",
       "      <th>7643</th>\n",
       "      <td>2017</td>\n",
       "      <td>District</td>\n",
       "      <td>77.0</td>\n",
       "      <td>I002</td>\n",
       "      <td>NaN</td>\n",
       "      <td>NaN</td>\n",
       "      <td>WOODWARD</td>\n",
       "      <td>Mooreland</td>\n",
       "      <td>NaN</td>\n",
       "      <td>PK</td>\n",
       "      <td>12.0</td>\n",
       "      <td>All</td>\n",
       "      <td>84%</td>\n",
       "    </tr>\n",
       "    <tr>\n",
       "      <th>7651</th>\n",
       "      <td>2017</td>\n",
       "      <td>District</td>\n",
       "      <td>77.0</td>\n",
       "      <td>I003</td>\n",
       "      <td>NaN</td>\n",
       "      <td>NaN</td>\n",
       "      <td>WOODWARD</td>\n",
       "      <td>Sharon-Mutual</td>\n",
       "      <td>NaN</td>\n",
       "      <td>PK</td>\n",
       "      <td>12.0</td>\n",
       "      <td>All</td>\n",
       "      <td>&gt;= 80%</td>\n",
       "    </tr>\n",
       "    <tr>\n",
       "      <th>7657</th>\n",
       "      <td>2017</td>\n",
       "      <td>District</td>\n",
       "      <td>77.0</td>\n",
       "      <td>I005</td>\n",
       "      <td>NaN</td>\n",
       "      <td>NaN</td>\n",
       "      <td>WOODWARD</td>\n",
       "      <td>Fort Supply</td>\n",
       "      <td>NaN</td>\n",
       "      <td>PK</td>\n",
       "      <td>12.0</td>\n",
       "      <td>All</td>\n",
       "      <td>***</td>\n",
       "    </tr>\n",
       "  </tbody>\n",
       "</table>\n",
       "<p>435 rows × 13 columns</p>\n",
       "</div>"
      ],
      "text/plain": [
       "      CohortGraduationYear EducationAgencyType  Countycode Districtcode  \\\n",
       "3972                  2017            District         1.0         I004   \n",
       "3982                  2017            District         1.0         I011   \n",
       "3992                  2017            District         1.0         I025   \n",
       "4001                  2017            District         1.0         I030   \n",
       "4008                  2017            District         2.0         I001   \n",
       "...                    ...                 ...         ...          ...   \n",
       "7626                  2017            District        76.0         I006   \n",
       "7632                  2017            District        77.0         I001   \n",
       "7643                  2017            District        77.0         I002   \n",
       "7651                  2017            District        77.0         I003   \n",
       "7657                  2017            District        77.0         I005   \n",
       "\n",
       "      SiteCode FullCode    CountyName   DistrictName SchoolName GradeLevelLow  \\\n",
       "3972       NaN      NaN  ADAIR                 Watts        NaN            PK   \n",
       "3982       NaN      NaN  ADAIR             Westville        NaN            PK   \n",
       "3992       NaN      NaN  ADAIR              Stilwell        NaN            PK   \n",
       "4001       NaN      NaN  ADAIR          Cave Springs        NaN            PK   \n",
       "4008       NaN      NaN  ALFALFA          Burlington        NaN            PK   \n",
       "...        ...      ...           ...            ...        ...           ...   \n",
       "7626       NaN      NaN  WOODS               Freedom        NaN            PK   \n",
       "7632       NaN      NaN  WOODWARD           Woodward        NaN            PK   \n",
       "7643       NaN      NaN  WOODWARD          Mooreland        NaN            PK   \n",
       "7651       NaN      NaN  WOODWARD      Sharon-Mutual        NaN            PK   \n",
       "7657       NaN      NaN  WOODWARD        Fort Supply        NaN            PK   \n",
       "\n",
       "      GradeLevelHigh ReportSubgroup FourYearGraduationRate  \n",
       "3972            12.0            All                 >= 80%  \n",
       "3982            12.0            All                    90%  \n",
       "3992            12.0            All                    79%  \n",
       "4001            12.0            All                    77%  \n",
       "4008            12.0            All                   100%  \n",
       "...              ...            ...                    ...  \n",
       "7626            12.0            All                    ***  \n",
       "7632            12.0            All                    87%  \n",
       "7643            12.0            All                    84%  \n",
       "7651            12.0            All                 >= 80%  \n",
       "7657            12.0            All                    ***  \n",
       "\n",
       "[435 rows x 13 columns]"
      ]
     },
     "execution_count": 12,
     "metadata": {},
     "output_type": "execute_result"
    }
   ],
   "source": [
    "state_grads"
   ]
  },
  {
   "cell_type": "markdown",
   "id": "affiliated-walker",
   "metadata": {},
   "source": [
    "Select and rename columns."
   ]
  },
  {
   "cell_type": "code",
   "execution_count": 13,
   "id": "exposed-reward",
   "metadata": {},
   "outputs": [],
   "source": [
    "state_grads['Total'] = np.full_like(state_grads['FourYearGraduationRate'], '')"
   ]
  },
  {
   "cell_type": "code",
   "execution_count": 14,
   "id": "knowing-marshall",
   "metadata": {},
   "outputs": [],
   "source": [
    "state_grads = state_grads[['DistrictName', \n",
    "                           'Total', \n",
    "                           'FourYearGraduationRate']]"
   ]
  },
  {
   "cell_type": "code",
   "execution_count": 15,
   "id": "distributed-buddy",
   "metadata": {},
   "outputs": [],
   "source": [
    "state_grads.columns = ['District Name', 'Total', 'Graduation Rate']"
   ]
  },
  {
   "cell_type": "code",
   "execution_count": 16,
   "id": "institutional-karma",
   "metadata": {},
   "outputs": [
    {
     "name": "stdout",
     "output_type": "stream",
     "text": [
      "<class 'pandas.core.frame.DataFrame'>\n",
      "Int64Index: 435 entries, 3972 to 7657\n",
      "Data columns (total 3 columns):\n",
      " #   Column           Non-Null Count  Dtype \n",
      "---  ------           --------------  ----- \n",
      " 0   District Name    435 non-null    object\n",
      " 1   Total            435 non-null    object\n",
      " 2   Graduation Rate  435 non-null    object\n",
      "dtypes: object(3)\n",
      "memory usage: 13.6+ KB\n"
     ]
    }
   ],
   "source": [
    "state_grads.info()"
   ]
  },
  {
   "cell_type": "markdown",
   "id": "living-functionality",
   "metadata": {},
   "source": [
    "Convert data types."
   ]
  },
  {
   "cell_type": "code",
   "execution_count": 26,
   "id": "referenced-unemployment",
   "metadata": {},
   "outputs": [],
   "source": [
    "state_grads['Graduation Rate'] = state_grads['Graduation Rate'].astype(str).str.replace('>= ', '')\n",
    "state_grads['Graduation Rate'] = state_grads['Graduation Rate'].astype(str).str.replace('<= ', '')\n",
    "state_grads['Graduation Rate'] = state_grads['Graduation Rate'].astype(str).str.replace('%', '')\n",
    "state_grads['Graduation Rate'] = state_grads['Graduation Rate'].astype(str).str.replace('\\*\\*\\*', '')"
   ]
  },
  {
   "cell_type": "code",
   "execution_count": 27,
   "id": "biological-premiere",
   "metadata": {},
   "outputs": [],
   "source": [
    "state_grads['Total'] = pd.to_numeric(state_grads['Total'])\n",
    "state_grads['Graduation Rate'] = pd.to_numeric(state_grads['Graduation Rate']) / 100"
   ]
  },
  {
   "cell_type": "markdown",
   "id": "supreme-produce",
   "metadata": {},
   "source": [
    "Check for matches and non-matches in the two lists. "
   ]
  },
  {
   "cell_type": "code",
   "execution_count": 33,
   "id": "different-preserve",
   "metadata": {},
   "outputs": [],
   "source": [
    "state_fiscal['NAME'] = state_fiscal['NAME'].astype(str).str.upper().str.strip()\n",
    "state_grads['District Name'] = state_grads['District Name'].astype(str).str.upper().str.strip()"
   ]
  },
  {
   "cell_type": "code",
   "execution_count": 17,
   "id": "swedish-mexico",
   "metadata": {
    "jupyter": {
     "source_hidden": true
    }
   },
   "outputs": [],
   "source": [
    "# state_grads['District Name'] = state_grads['District Name'].astype(str).str.replace(' SCHOOL DISTRICT', '')\n",
    "# state_grads['District Name'] = state_grads['District Name'].astype(str).str.replace('SCH DIST', 'SCHOOL DISTRICT')\n",
    "# state_grads['District Name'] = state_grads['District Name'].astype(str).str.replace(' CS', ' CHARTER SCHOOL')\n",
    "# state_grads['District Name'] = state_grads['District Name'].astype(str).str.replace(r'\\sHIGH\\sSCHOOL$', '')\n",
    "# state_grads['District Name'] = state_grads['District Name'].astype(str).str.replace(r'\\sSCHOOL$', '')\n",
    "# state_grads['District Name'] = state_grads['District Name'].astype(str).str.replace(' PUBLIC SCHOOLS', '')\n",
    "# state_grads['District Name'] = state_grads['District Name'].astype(str).str.replace(' CO ', ' COUNTY ')\n",
    "# state_grads['District Name'] = state_grads['District Name'].astype(str).str.replace(' BORO', '')\n",
    "# state_grads['District Name'] = state_grads['District Name'].astype(str).str.replace(' CITY', '')\n",
    "# state_grads['District Name'] = state_grads['District Name'].astype(str).str.replace('TWP', 'TOWNSHIP')\n",
    "# state_grads['District Name'] = state_grads['District Name'].astype(str).str.replace(r'\\sREG(\\s|$)', ' REGIONAL ')\n",
    "# state_grads['District Name'] = state_grads['District Name'].astype(str).str.replace(r'\\sTOWN$', '')\n",
    "# state_grads['District Name'] = state_grads['District Name'].astype(str).str.replace(r'\\sTOWNSHIP$', '')\n",
    "# state_grads['District Name'] = state_grads['District Name'].astype(str).str.replace(r'\\sBORO$', '')\n",
    "# state_grads['District Name'] = state_grads['District Name'].astype(str).str.replace(r'\\sPUBLIC$', '')\n",
    "# state_grads['District Name'] = state_grads['District Name'].astype(str).str.replace('H.S DIST.', '')\n",
    "# state_grads['District Name'] = state_grads['District Name'].astype(str).str.replace(r'^N\\s', 'NORTH ')\n",
    "# state_grads['District Name'] = state_grads['District Name'].astype(str).str.replace(r'^W\\s', 'WEST ')\n",
    "# state_grads['District Name'] = state_grads['District Name'].astype(str).str.replace(\"’\", \"'\")\n",
    "# state_grads['District Name'] = state_grads['District Name'].astype(str).str.replace(' REGIONAL', '')\n",
    "\n",
    "# state_grads['District Name'] = state_grads['District Name'].astype(str).str.strip()\n",
    "\n",
    "# state_fiscal['NAME'] = state_fiscal['NAME'].astype(str).str.replace(' BOARD OF EDUCATION', '')\n",
    "# state_fiscal['NAME'] = state_fiscal['NAME'].astype(str).str.replace(' VOCATIONAL TECHNICAL', ' VOCATIONAL')\n",
    "# state_fiscal['NAME'] = state_fiscal['NAME'].astype(str).str.replace(' CITY', '')\n",
    "# state_fiscal['NAME'] = state_fiscal['NAME'].astype(str).str.replace(' PUBLIC SCHOOLS', '')\n",
    "# state_fiscal['NAME'] = state_fiscal['NAME'].astype(str).str.replace(' PUBLIC', '')\n",
    "# state_fiscal['NAME'] = state_fiscal['NAME'].astype(str).str.replace(' SCHOOL DISTRICT', '')\n",
    "# state_fiscal['NAME'] = state_fiscal['NAME'].astype(str).str.replace(r'\\sHIGH\\sSCHOOL$', '')\n",
    "# state_fiscal['NAME'] = state_fiscal['NAME'].astype(str).str.replace(r'\\sSCHOOL$', '')\n",
    "# state_fiscal['NAME'] = state_fiscal['NAME'].astype(str).str.replace(r'\\sTOWNSHIP$', '')\n",
    "# state_fiscal['NAME'] = state_fiscal['NAME'].astype(str).str.replace(r'\\sTOWN$', '')\n",
    "# state_fiscal['NAME'] = state_fiscal['NAME'].astype(str).str.replace(r'\\sBOROUGH$', '')\n",
    "# state_fiscal['NAME'] = state_fiscal['NAME'].astype(str).str.replace(r'\\sBORO$', '')\n",
    "# state_fiscal['NAME'] = state_fiscal['NAME'].astype(str).str.replace(r'\\sDISTRICT$', '')\n",
    "# state_fiscal['NAME'] = state_fiscal['NAME'].astype(str).str.replace('VOCATIONAL AND TECHNICAL', 'VOCATIONAL')\n",
    "# state_fiscal['NAME'] = state_fiscal['NAME'].astype(str).str.replace('VOCATIONAL-TECHNICAL', 'VOCATIONAL')\n",
    "# state_fiscal['NAME'] = state_fiscal['NAME'].astype(str).str.replace('TECHNICAL', 'VOCATIONAL')\n",
    "# state_fiscal['NAME'] = state_fiscal['NAME'].astype(str).str.replace('INSTITUTE OF TECHNOLOGY', 'VOCATIONAL')\n",
    "# state_fiscal['NAME'] = state_fiscal['NAME'].astype(str).str.replace('SCHOOLS OF TECHNOLOGY', 'VOCATIONAL')\n",
    "# state_fiscal['NAME'] = state_fiscal['NAME'].astype(str).str.replace(r'\\sHIGH$', '')\n",
    "# state_fiscal['NAME'] = state_fiscal['NAME'].astype(str).str.replace(' REGIONAL', '')\n",
    "\n",
    "# state_fiscal['NAME'] = state_fiscal['NAME'].astype(str).str.strip()"
   ]
  },
  {
   "cell_type": "code",
   "execution_count": 34,
   "id": "graphic-variance",
   "metadata": {},
   "outputs": [
    {
     "data": {
      "text/plain": [
       "421"
      ]
     },
     "execution_count": 34,
     "metadata": {},
     "output_type": "execute_result"
    }
   ],
   "source": [
    "matches = [name for name in list(state_grads['District Name']) if name in list(state_fiscal['NAME'])]\n",
    "matches.sort()\n",
    "len(matches)"
   ]
  },
  {
   "cell_type": "code",
   "execution_count": 35,
   "id": "derived-founder",
   "metadata": {},
   "outputs": [
    {
     "data": {
      "text/plain": [
       "['ABLE CHARTER ABLE LEARNING',\n",
       " 'DAVIDSON',\n",
       " 'DISCOVERY SCHOOLS OF TULSA',\n",
       " 'ELDORADO',\n",
       " 'GAGE',\n",
       " 'OKC CHARTER SANTA FE SOUTH',\n",
       " 'OKC CHARTER: DOVE SCIENCE ACAD',\n",
       " 'OKC CHARTER: HARDING CHARTER',\n",
       " 'OKC CHARTER: HARDING FINE ARTS',\n",
       " 'OKC CHARTER: HARPER ACADEMY',\n",
       " 'OKC CHARTER: SANTA FE SOUTH HS',\n",
       " 'OKC CHARTER: SEEWORTH ACADEMY',\n",
       " 'OLUSTEE',\n",
       " 'TULSA CHARTER: SCHL ARTS/SCI.']"
      ]
     },
     "execution_count": 35,
     "metadata": {},
     "output_type": "execute_result"
    }
   ],
   "source": [
    "A = [name for name in list(state_grads['District Name']) if name not in list(state_fiscal['NAME'])]\n",
    "A.sort()\n",
    "A"
   ]
  },
  {
   "cell_type": "code",
   "execution_count": 36,
   "id": "informed-punishment",
   "metadata": {},
   "outputs": [
    {
     "data": {
      "text/plain": [
       "['CARLTON LANDING ACADEMY',\n",
       " 'DOVE SCHOOLS OF TULSA',\n",
       " 'DOVE SCIENCE ACADEMY (CHARTER)',\n",
       " 'EPIC BLENDED LEARNING CHARTER',\n",
       " 'HARDING (CHARTER)',\n",
       " 'HARDING FINE ARTS (CHARTER)',\n",
       " 'LAKESIDE SCHOOL',\n",
       " 'OKLAHOMA SCHOOL FOR THE BLIND',\n",
       " 'OKLAHOMA SCHOOL FOR THE DEAF',\n",
       " 'OLUSTEE-ELDORADO',\n",
       " 'SANTA FE SOUTH (CHARTER)',\n",
       " 'SCHL ARTS/SCI (CHARTER)',\n",
       " 'SEEWORTH ACADEMY (CHARTER)']"
      ]
     },
     "execution_count": 36,
     "metadata": {},
     "output_type": "execute_result"
    }
   ],
   "source": [
    "B = [name for name in list(state_fiscal['NAME']) if name not in list(state_grads['District Name'])]\n",
    "B.sort()\n",
    "B"
   ]
  },
  {
   "cell_type": "markdown",
   "id": "altered-bhutan",
   "metadata": {},
   "source": [
    "Make any additional matches I can find."
   ]
  },
  {
   "cell_type": "code",
   "execution_count": 21,
   "id": "small-priority",
   "metadata": {},
   "outputs": [],
   "source": [
    "state_fiscal_rename = {\n",
    "    'DOVE SCIENCE ACADEMY (CHARTER)' : 'OKC CHARTER: DOVE SCIENCE ACAD',\n",
    "    'HARDING (CHARTER)' : 'OKC CHARTER: HARDING CHARTER',\n",
    "    'HARDING FINE ARTS (CHARTER)' : 'OKC CHARTER: HARDING FINE ARTS',\n",
    "    \n",
    "}"
   ]
  },
  {
   "cell_type": "code",
   "execution_count": 22,
   "id": "closed-marsh",
   "metadata": {},
   "outputs": [],
   "source": [
    "state_fiscal = state_fiscal.replace(state_fiscal_rename)"
   ]
  },
  {
   "cell_type": "markdown",
   "id": "recognized-display",
   "metadata": {},
   "source": [
    "Merge federal and state data, keeping only matches between the two. "
   ]
  },
  {
   "cell_type": "code",
   "execution_count": 23,
   "id": "apart-pointer",
   "metadata": {},
   "outputs": [],
   "source": [
    "state_grads_merged = pd.merge(state_fiscal, state_grads, how='inner', left_on='NAME', right_on='District Name')"
   ]
  },
  {
   "cell_type": "markdown",
   "id": "multiple-cache",
   "metadata": {},
   "source": [
    "Save cleaned data. "
   ]
  },
  {
   "cell_type": "code",
   "execution_count": 24,
   "id": "expanded-reality",
   "metadata": {},
   "outputs": [],
   "source": [
    "state_grads_merged.to_csv('../../data/state_data_merged/' + abbr + '.csv', index=False)"
   ]
  }
 ],
 "metadata": {
  "kernelspec": {
   "display_name": "Python 3",
   "language": "python",
   "name": "python3"
  },
  "language_info": {
   "codemirror_mode": {
    "name": "ipython",
    "version": 3
   },
   "file_extension": ".py",
   "mimetype": "text/x-python",
   "name": "python",
   "nbconvert_exporter": "python",
   "pygments_lexer": "ipython3",
   "version": "3.7.9"
  }
 },
 "nbformat": 4,
 "nbformat_minor": 5
}
