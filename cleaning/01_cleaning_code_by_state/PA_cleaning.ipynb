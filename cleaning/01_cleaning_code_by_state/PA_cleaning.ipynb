{
 "cells": [
  {
   "cell_type": "code",
   "execution_count": null,
   "id": "dying-battery",
   "metadata": {},
   "outputs": [],
   "source": [
    "import warnings\n",
    "warnings.filterwarnings('ignore')"
   ]
  },
  {
   "cell_type": "code",
   "execution_count": 2,
   "id": "mineral-rating",
   "metadata": {},
   "outputs": [],
   "source": [
    "import pandas as pd\n",
    "import numpy as np"
   ]
  },
  {
   "cell_type": "code",
   "execution_count": 3,
   "id": "diagnostic-volume",
   "metadata": {},
   "outputs": [],
   "source": [
    "abbr = 'PA'"
   ]
  },
  {
   "cell_type": "code",
   "execution_count": 4,
   "id": "attended-client",
   "metadata": {},
   "outputs": [],
   "source": [
    "file = 'pennsylvania2018.xlsx'"
   ]
  },
  {
   "cell_type": "markdown",
   "id": "democratic-lending",
   "metadata": {},
   "source": [
    "Read in federal level data"
   ]
  },
  {
   "cell_type": "code",
   "execution_count": 5,
   "id": "intermediate-warrior",
   "metadata": {},
   "outputs": [],
   "source": [
    "fiscal = pd.read_sas('../../data/fiscal2018', format = 'sas7bdat', encoding='iso-8859-1')"
   ]
  },
  {
   "cell_type": "markdown",
   "id": "steady-composite",
   "metadata": {},
   "source": [
    "Generate list of districts in the state in the federal data"
   ]
  },
  {
   "cell_type": "code",
   "execution_count": 6,
   "id": "fallen-victorian",
   "metadata": {},
   "outputs": [],
   "source": [
    "state_fiscal = fiscal[(fiscal['STABBR'] == abbr) & (fiscal['GSHI'] == '12')]"
   ]
  },
  {
   "cell_type": "code",
   "execution_count": 7,
   "id": "economic-jones",
   "metadata": {},
   "outputs": [
    {
     "data": {
      "text/plain": [
       "683"
      ]
     },
     "execution_count": 7,
     "metadata": {},
     "output_type": "execute_result"
    }
   ],
   "source": [
    "len(state_fiscal)"
   ]
  },
  {
   "cell_type": "markdown",
   "id": "literary-colombia",
   "metadata": {},
   "source": [
    "Read in state level data"
   ]
  },
  {
   "cell_type": "code",
   "execution_count": 8,
   "id": "tough-heavy",
   "metadata": {},
   "outputs": [],
   "source": [
    "state_grads = pd.read_excel('../../data/state_data_raw/' + file, sheet_name='Grad Rate by LEA')"
   ]
  },
  {
   "cell_type": "markdown",
   "id": "pediatric-origin",
   "metadata": {},
   "source": [
    "Reset columns."
   ]
  },
  {
   "cell_type": "code",
   "execution_count": 9,
   "id": "parallel-alert",
   "metadata": {},
   "outputs": [],
   "source": [
    "state_grads.columns = state_grads.loc[1]\n",
    "state_grads = state_grads.loc[2:]"
   ]
  },
  {
   "cell_type": "code",
   "execution_count": 10,
   "id": "administrative-sector",
   "metadata": {},
   "outputs": [
    {
     "data": {
      "text/html": [
       "<div>\n",
       "<style scoped>\n",
       "    .dataframe tbody tr th:only-of-type {\n",
       "        vertical-align: middle;\n",
       "    }\n",
       "\n",
       "    .dataframe tbody tr th {\n",
       "        vertical-align: top;\n",
       "    }\n",
       "\n",
       "    .dataframe thead th {\n",
       "        text-align: right;\n",
       "    }\n",
       "</style>\n",
       "<table border=\"1\" class=\"dataframe\">\n",
       "  <thead>\n",
       "    <tr style=\"text-align: right;\">\n",
       "      <th>1</th>\n",
       "      <th>NaN</th>\n",
       "      <th>LEA Type</th>\n",
       "      <th>AUN</th>\n",
       "      <th>LEA</th>\n",
       "      <th>Grads</th>\n",
       "      <th>Cohort</th>\n",
       "      <th>Cohort Grad Rate</th>\n",
       "      <th>Male Grad Rate</th>\n",
       "      <th>Female Grad Rate</th>\n",
       "      <th>AIAN Grad Rate</th>\n",
       "      <th>Native Hawaiian or Pacific Islander Grad Rate</th>\n",
       "      <th>Asian Grad Rate</th>\n",
       "      <th>Black Grad Rate</th>\n",
       "      <th>Hispanic Grad Rate</th>\n",
       "      <th>White Grad Rate</th>\n",
       "      <th>Multi-Racial Grad Rate</th>\n",
       "      <th>Special Ed Grad Rate</th>\n",
       "      <th>EL\\nGrad Rate</th>\n",
       "      <th>Econ Disadv Grad Rate</th>\n",
       "      <th>Migrant Grad Rate</th>\n",
       "    </tr>\n",
       "  </thead>\n",
       "  <tbody>\n",
       "    <tr>\n",
       "      <th>2</th>\n",
       "      <td>NaN</td>\n",
       "      <td>CS</td>\n",
       "      <td>124150002</td>\n",
       "      <td>21st Century Cyber CS</td>\n",
       "      <td>141</td>\n",
       "      <td>260</td>\n",
       "      <td>0.542308</td>\n",
       "      <td>0.466667</td>\n",
       "      <td>0.582353</td>\n",
       "      <td>NaN</td>\n",
       "      <td>NaN</td>\n",
       "      <td>1</td>\n",
       "      <td>0.416667</td>\n",
       "      <td>0.400000</td>\n",
       "      <td>0.558376</td>\n",
       "      <td>0.625000</td>\n",
       "      <td>0.416667</td>\n",
       "      <td>NaN</td>\n",
       "      <td>0.340909</td>\n",
       "      <td>NaN</td>\n",
       "    </tr>\n",
       "    <tr>\n",
       "      <th>3</th>\n",
       "      <td>NaN</td>\n",
       "      <td>CS</td>\n",
       "      <td>126514368</td>\n",
       "      <td>ACT Academy Cyber CS</td>\n",
       "      <td>7</td>\n",
       "      <td>37</td>\n",
       "      <td>0.189189</td>\n",
       "      <td>0.125000</td>\n",
       "      <td>0.238095</td>\n",
       "      <td>NaN</td>\n",
       "      <td>NaN</td>\n",
       "      <td>NaN</td>\n",
       "      <td>0.166667</td>\n",
       "      <td>0.333333</td>\n",
       "      <td>0.250000</td>\n",
       "      <td>NaN</td>\n",
       "      <td>0.300000</td>\n",
       "      <td>NaN</td>\n",
       "      <td>0.117647</td>\n",
       "      <td>NaN</td>\n",
       "    </tr>\n",
       "    <tr>\n",
       "      <th>4</th>\n",
       "      <td>NaN</td>\n",
       "      <td>CS</td>\n",
       "      <td>181519176</td>\n",
       "      <td>ASPIRA Bilingual Cyber Charter School</td>\n",
       "      <td>35</td>\n",
       "      <td>58</td>\n",
       "      <td>0.603448</td>\n",
       "      <td>0.520000</td>\n",
       "      <td>0.666667</td>\n",
       "      <td>NaN</td>\n",
       "      <td>NaN</td>\n",
       "      <td>1</td>\n",
       "      <td>0.777778</td>\n",
       "      <td>0.562500</td>\n",
       "      <td>NaN</td>\n",
       "      <td>NaN</td>\n",
       "      <td>0.650000</td>\n",
       "      <td>0.550000</td>\n",
       "      <td>0.600000</td>\n",
       "      <td>NaN</td>\n",
       "    </tr>\n",
       "    <tr>\n",
       "      <th>5</th>\n",
       "      <td>NaN</td>\n",
       "      <td>CS</td>\n",
       "      <td>125230001</td>\n",
       "      <td>Achievement House CS</td>\n",
       "      <td>76</td>\n",
       "      <td>144</td>\n",
       "      <td>0.527778</td>\n",
       "      <td>0.544118</td>\n",
       "      <td>0.513158</td>\n",
       "      <td>NaN</td>\n",
       "      <td>NaN</td>\n",
       "      <td>NaN</td>\n",
       "      <td>0.533333</td>\n",
       "      <td>0.259259</td>\n",
       "      <td>0.597561</td>\n",
       "      <td>0.800000</td>\n",
       "      <td>0.731707</td>\n",
       "      <td>0.285714</td>\n",
       "      <td>0.450549</td>\n",
       "      <td>NaN</td>\n",
       "    </tr>\n",
       "    <tr>\n",
       "      <th>6</th>\n",
       "      <td>NaN</td>\n",
       "      <td>CS</td>\n",
       "      <td>126510020</td>\n",
       "      <td>Agora Cyber CS</td>\n",
       "      <td>608</td>\n",
       "      <td>1249</td>\n",
       "      <td>0.486789</td>\n",
       "      <td>0.396040</td>\n",
       "      <td>0.572317</td>\n",
       "      <td>0.8</td>\n",
       "      <td>0.666667</td>\n",
       "      <td>0.8</td>\n",
       "      <td>0.432258</td>\n",
       "      <td>0.423077</td>\n",
       "      <td>0.510025</td>\n",
       "      <td>0.357143</td>\n",
       "      <td>0.425249</td>\n",
       "      <td>0.500000</td>\n",
       "      <td>0.495913</td>\n",
       "      <td>NaN</td>\n",
       "    </tr>\n",
       "  </tbody>\n",
       "</table>\n",
       "</div>"
      ],
      "text/plain": [
       "1  NaN LEA Type        AUN                                    LEA Grads  \\\n",
       "2  NaN       CS  124150002                  21st Century Cyber CS   141   \n",
       "3  NaN       CS  126514368                   ACT Academy Cyber CS     7   \n",
       "4  NaN       CS  181519176  ASPIRA Bilingual Cyber Charter School    35   \n",
       "5  NaN       CS  125230001                   Achievement House CS    76   \n",
       "6  NaN       CS  126510020                         Agora Cyber CS   608   \n",
       "\n",
       "1 Cohort Cohort Grad Rate Male Grad Rate Female Grad Rate AIAN Grad Rate  \\\n",
       "2    260         0.542308       0.466667         0.582353            NaN   \n",
       "3     37         0.189189       0.125000         0.238095            NaN   \n",
       "4     58         0.603448       0.520000         0.666667            NaN   \n",
       "5    144         0.527778       0.544118         0.513158            NaN   \n",
       "6   1249         0.486789       0.396040         0.572317            0.8   \n",
       "\n",
       "1 Native Hawaiian or Pacific Islander Grad Rate Asian Grad Rate  \\\n",
       "2                                           NaN               1   \n",
       "3                                           NaN             NaN   \n",
       "4                                           NaN               1   \n",
       "5                                           NaN             NaN   \n",
       "6                                      0.666667             0.8   \n",
       "\n",
       "1 Black Grad Rate Hispanic Grad Rate White Grad Rate Multi-Racial Grad Rate  \\\n",
       "2        0.416667           0.400000        0.558376               0.625000   \n",
       "3        0.166667           0.333333        0.250000                    NaN   \n",
       "4        0.777778           0.562500             NaN                    NaN   \n",
       "5        0.533333           0.259259        0.597561               0.800000   \n",
       "6        0.432258           0.423077        0.510025               0.357143   \n",
       "\n",
       "1 Special Ed Grad Rate EL\\nGrad Rate Econ Disadv Grad Rate Migrant Grad Rate  \n",
       "2             0.416667           NaN              0.340909               NaN  \n",
       "3             0.300000           NaN              0.117647               NaN  \n",
       "4             0.650000      0.550000              0.600000               NaN  \n",
       "5             0.731707      0.285714              0.450549               NaN  \n",
       "6             0.425249      0.500000              0.495913               NaN  "
      ]
     },
     "execution_count": 10,
     "metadata": {},
     "output_type": "execute_result"
    }
   ],
   "source": [
    "state_grads.head()"
   ]
  },
  {
   "cell_type": "markdown",
   "id": "choice-border",
   "metadata": {},
   "source": [
    "Filter results."
   ]
  },
  {
   "cell_type": "code",
   "execution_count": 11,
   "id": "subtle-regular",
   "metadata": {},
   "outputs": [],
   "source": [
    "# state_grads = state_grads[(state_grads['Institution Level'] == 'District') &\n",
    "#                          (state_grads['Student Group'] == 'All Students')]"
   ]
  },
  {
   "cell_type": "markdown",
   "id": "centered-seven",
   "metadata": {},
   "source": [
    "Select and rename columns."
   ]
  },
  {
   "cell_type": "code",
   "execution_count": 12,
   "id": "reasonable-criminal",
   "metadata": {},
   "outputs": [],
   "source": [
    "state_grads = state_grads[['LEA', \n",
    "                           'Cohort', \n",
    "                           'Cohort Grad Rate']]"
   ]
  },
  {
   "cell_type": "code",
   "execution_count": 13,
   "id": "small-sacrifice",
   "metadata": {},
   "outputs": [],
   "source": [
    "state_grads.columns = ['District Name', 'Total', 'Graduation Rate']"
   ]
  },
  {
   "cell_type": "code",
   "execution_count": 14,
   "id": "interracial-pattern",
   "metadata": {},
   "outputs": [
    {
     "name": "stdout",
     "output_type": "stream",
     "text": [
      "<class 'pandas.core.frame.DataFrame'>\n",
      "RangeIndex: 586 entries, 2 to 587\n",
      "Data columns (total 3 columns):\n",
      " #   Column           Non-Null Count  Dtype \n",
      "---  ------           --------------  ----- \n",
      " 0   District Name    583 non-null    object\n",
      " 1   Total            584 non-null    object\n",
      " 2   Graduation Rate  584 non-null    object\n",
      "dtypes: object(3)\n",
      "memory usage: 13.9+ KB\n"
     ]
    }
   ],
   "source": [
    "state_grads.info()"
   ]
  },
  {
   "cell_type": "markdown",
   "id": "alone-diving",
   "metadata": {},
   "source": [
    "Convert data types."
   ]
  },
  {
   "cell_type": "code",
   "execution_count": 15,
   "id": "automatic-steal",
   "metadata": {},
   "outputs": [],
   "source": [
    "# state_grads['Graduation Rate'] = state_grads['Graduation Rate'].astype(str).str.replace('--', '')"
   ]
  },
  {
   "cell_type": "code",
   "execution_count": 16,
   "id": "comprehensive-jordan",
   "metadata": {},
   "outputs": [],
   "source": [
    "state_grads['District Name'] = state_grads['District Name'].astype(str)\n",
    "state_grads['Total'] = pd.to_numeric(state_grads['Total'])\n",
    "state_grads['Graduation Rate'] = pd.to_numeric(state_grads['Graduation Rate'])"
   ]
  },
  {
   "cell_type": "markdown",
   "id": "fixed-daily",
   "metadata": {},
   "source": [
    "Check for matches and non-matches in the two lists. "
   ]
  },
  {
   "cell_type": "code",
   "execution_count": 17,
   "id": "equipped-financing",
   "metadata": {},
   "outputs": [],
   "source": [
    "# state_fiscal['NAME'] = state_fiscal['NAME'].astype(str).str.upper().str.strip()\n",
    "# state_grads['District Name'] = state_grads['District Name'].astype(str).str.upper().str.strip()"
   ]
  },
  {
   "cell_type": "code",
   "execution_count": 18,
   "id": "through-radius",
   "metadata": {},
   "outputs": [],
   "source": [
    "# state_grads['District Name'] = state_grads['District Name'].astype(str).str.replace(' SCHOOL DISTRICT', '')\n",
    "# state_grads['District Name'] = state_grads['District Name'].astype(str).str.replace('SCH DIST', 'SCHOOL DISTRICT')\n",
    "# state_grads['District Name'] = state_grads['District Name'].astype(str).str.replace(' CS', ' CHARTER SCHOOL')\n",
    "# state_grads['District Name'] = state_grads['District Name'].astype(str).str.replace(r'\\sHIGH\\sSCHOOL$', '')\n",
    "# state_grads['District Name'] = state_grads['District Name'].astype(str).str.replace(r'\\sSCHOOL$', '')\n",
    "# state_grads['District Name'] = state_grads['District Name'].astype(str).str.replace(' PUBLIC SCHOOLS', '')\n",
    "# state_grads['District Name'] = state_grads['District Name'].astype(str).str.replace(' CO ', ' COUNTY ')\n",
    "# state_grads['District Name'] = state_grads['District Name'].astype(str).str.replace(' BORO', '')\n",
    "# state_grads['District Name'] = state_grads['District Name'].astype(str).str.replace(' CITY', '')\n",
    "# state_grads['District Name'] = state_grads['District Name'].astype(str).str.replace('TWP', 'TOWNSHIP')\n",
    "# state_grads['District Name'] = state_grads['District Name'].astype(str).str.replace(r'\\sREG(\\s|$)', ' REGIONAL ')\n",
    "# state_grads['District Name'] = state_grads['District Name'].astype(str).str.replace(r'\\sTOWN$', '')\n",
    "# state_grads['District Name'] = state_grads['District Name'].astype(str).str.replace(r'\\sTOWNSHIP$', '')\n",
    "# state_grads['District Name'] = state_grads['District Name'].astype(str).str.replace(r'\\sBORO$', '')\n",
    "# state_grads['District Name'] = state_grads['District Name'].astype(str).str.replace(r'\\sPUBLIC$', '')\n",
    "# state_grads['District Name'] = state_grads['District Name'].astype(str).str.replace('H.S DIST.', '')\n",
    "# state_grads['District Name'] = state_grads['District Name'].astype(str).str.replace(r'^N\\s', 'NORTH ')\n",
    "# state_grads['District Name'] = state_grads['District Name'].astype(str).str.replace(r'^W\\s', 'WEST ')\n",
    "# state_grads['District Name'] = state_grads['District Name'].astype(str).str.replace(\"’\", \"'\")\n",
    "# state_grads['District Name'] = state_grads['District Name'].astype(str).str.replace(' REGIONAL', '')\n",
    "\n",
    "# state_grads['District Name'] = state_grads['District Name'].astype(str).str.strip()\n",
    "\n",
    "# state_fiscal['NAME'] = state_fiscal['NAME'].astype(str).str.replace(' BOARD OF EDUCATION', '')\n",
    "# state_fiscal['NAME'] = state_fiscal['NAME'].astype(str).str.replace(' VOCATIONAL TECHNICAL', ' VOCATIONAL')\n",
    "# state_fiscal['NAME'] = state_fiscal['NAME'].astype(str).str.replace(' CITY', '')\n",
    "# state_fiscal['NAME'] = state_fiscal['NAME'].astype(str).str.replace(' PUBLIC SCHOOLS', '')\n",
    "# state_fiscal['NAME'] = state_fiscal['NAME'].astype(str).str.replace(' PUBLIC', '')\n",
    "# state_fiscal['NAME'] = state_fiscal['NAME'].astype(str).str.replace(' SCHOOL DISTRICT', '')\n",
    "# state_fiscal['NAME'] = state_fiscal['NAME'].astype(str).str.replace(r'\\sHIGH\\sSCHOOL$', '')\n",
    "# state_fiscal['NAME'] = state_fiscal['NAME'].astype(str).str.replace(r'\\sSCHOOL$', '')\n",
    "# state_fiscal['NAME'] = state_fiscal['NAME'].astype(str).str.replace(r'\\sTOWNSHIP$', '')\n",
    "# state_fiscal['NAME'] = state_fiscal['NAME'].astype(str).str.replace(r'\\sTOWN$', '')\n",
    "# state_fiscal['NAME'] = state_fiscal['NAME'].astype(str).str.replace(r'\\sBOROUGH$', '')\n",
    "# state_fiscal['NAME'] = state_fiscal['NAME'].astype(str).str.replace(r'\\sBORO$', '')\n",
    "# state_fiscal['NAME'] = state_fiscal['NAME'].astype(str).str.replace(r'\\sDISTRICT$', '')\n",
    "# state_fiscal['NAME'] = state_fiscal['NAME'].astype(str).str.replace('VOCATIONAL AND TECHNICAL', 'VOCATIONAL')\n",
    "# state_fiscal['NAME'] = state_fiscal['NAME'].astype(str).str.replace('VOCATIONAL-TECHNICAL', 'VOCATIONAL')\n",
    "# state_fiscal['NAME'] = state_fiscal['NAME'].astype(str).str.replace('TECHNICAL', 'VOCATIONAL')\n",
    "# state_fiscal['NAME'] = state_fiscal['NAME'].astype(str).str.replace('INSTITUTE OF TECHNOLOGY', 'VOCATIONAL')\n",
    "# state_fiscal['NAME'] = state_fiscal['NAME'].astype(str).str.replace('SCHOOLS OF TECHNOLOGY', 'VOCATIONAL')\n",
    "# state_fiscal['NAME'] = state_fiscal['NAME'].astype(str).str.replace(r'\\sHIGH$', '')\n",
    "# state_fiscal['NAME'] = state_fiscal['NAME'].astype(str).str.replace(' REGIONAL', '')\n",
    "\n",
    "# state_fiscal['NAME'] = state_fiscal['NAME'].astype(str).str.strip()"
   ]
  },
  {
   "cell_type": "code",
   "execution_count": 19,
   "id": "combined-tunnel",
   "metadata": {},
   "outputs": [
    {
     "data": {
      "text/plain": [
       "571"
      ]
     },
     "execution_count": 19,
     "metadata": {},
     "output_type": "execute_result"
    }
   ],
   "source": [
    "matches = [name for name in list(state_grads['District Name']) if name in list(state_fiscal['NAME'])]\n",
    "matches.sort()\n",
    "len(matches)"
   ]
  },
  {
   "cell_type": "code",
   "execution_count": 20,
   "id": "formed-istanbul",
   "metadata": {},
   "outputs": [
    {
     "data": {
      "text/plain": [
       "['Capital Area School for the Arts Charter',\n",
       " 'Center for Student Learning CS at Pennsb',\n",
       " 'Central PA Digital Learning Foundation C',\n",
       " 'Charter High School for Architecture and',\n",
       " 'Connellsville Area Career & Technical Ce',\n",
       " 'Eastern University Academy Charter Schoo',\n",
       " 'First Philadelphia Preparatory Charter S',\n",
       " 'Hill House Passport Academy Charter Scho',\n",
       " 'Lehigh Valley Charter High School for th',\n",
       " 'Lincoln Leadership Academy Charter Schoo',\n",
       " 'Preparatory CS of Mathematics Science Te',\n",
       " 'The New Academy CS',\n",
       " 'nan',\n",
       " 'nan',\n",
       " 'nan']"
      ]
     },
     "execution_count": 20,
     "metadata": {},
     "output_type": "execute_result"
    }
   ],
   "source": [
    "A = [name for name in list(state_grads['District Name']) if name not in list(state_fiscal['NAME'])]\n",
    "A.sort()\n",
    "A"
   ]
  },
  {
   "cell_type": "code",
   "execution_count": 21,
   "id": "working-legislature",
   "metadata": {},
   "outputs": [
    {
     "data": {
      "text/plain": [
       "['A W Beattie Career Center',\n",
       " 'ARIN IU 28',\n",
       " 'Academy CS',\n",
       " 'Admiral Peary AVTS',\n",
       " 'Allegheny IU 3',\n",
       " 'Appalachia IU 8',\n",
       " 'BLaST IU 17',\n",
       " 'Beaver County CTC',\n",
       " 'Beaver Valley IU 27',\n",
       " 'Bedford County Technical Center',\n",
       " 'Berks CTC',\n",
       " 'Berks County IU 14',\n",
       " 'Bethlehem AVTS',\n",
       " 'Bryn Athyn SD',\n",
       " 'Bucks County IU 22',\n",
       " 'Butler County AVTS',\n",
       " 'CTC of Lackawanna County',\n",
       " 'Capital Area IU 15',\n",
       " 'Capital Area School for the Arts Charter School',\n",
       " 'Carbon-Lehigh IU 21',\n",
       " 'Career Institute of Technology',\n",
       " 'Center for Student Learning CS at Pennsbury',\n",
       " 'Central IU 10',\n",
       " 'Central Montco Technical High School',\n",
       " 'Central PA Digital Learning Foundation CS',\n",
       " 'Central PA Institute of Science & Technology',\n",
       " 'Central Susquehanna IU 16',\n",
       " 'Central Westmoreland CTC',\n",
       " 'Charter High School for Architecture and Design',\n",
       " 'Chester County IU 24',\n",
       " 'Chester County Technical College High School',\n",
       " 'Clarion County Career Center',\n",
       " 'Clearfield County CTC',\n",
       " 'Colonial IU 20',\n",
       " 'Connellsville Area Career & Technical Center',\n",
       " 'Crawford County CTC',\n",
       " 'Cumberland Perry AVTS',\n",
       " 'Danville Ctr Adolescent Female',\n",
       " 'Delaware County IU 25',\n",
       " 'Delaware County Technical High School',\n",
       " 'Eastern Center for Arts & Technology',\n",
       " 'Eastern University Academy Charter School',\n",
       " 'Eastern Westmoreland CTC',\n",
       " 'Erie County Technical School',\n",
       " 'Fayette County Career & Technical Institute',\n",
       " 'First Philadelphia Preparatory Charter School',\n",
       " 'Forbes Road CTC',\n",
       " 'Franklin County CTC',\n",
       " 'Fulton County AVTS',\n",
       " 'Greater Altoona CTC',\n",
       " 'Greater Johnstown CTC',\n",
       " 'Greene County CTC',\n",
       " 'Hazleton Area Career Center',\n",
       " 'Hill House Passport Academy Charter School',\n",
       " 'Huntingdon County CTC',\n",
       " 'Indiana County Technology Center',\n",
       " 'Intermediate Unit 1',\n",
       " 'Keystone Central CTC',\n",
       " 'Lancaster County CTC',\n",
       " 'Lancaster-Lebanon IU 13',\n",
       " 'Lebanon County CTC',\n",
       " 'Lehigh Career & Technical Institute',\n",
       " 'Lehigh Valley Charter High School for the Arts',\n",
       " 'Lincoln IU 12',\n",
       " 'Lincoln Leadership Academy Charter School',\n",
       " 'Loysville Youth Dev Ctr',\n",
       " 'Luzerne IU 18',\n",
       " 'Lycoming CTC',\n",
       " 'McKeesport Area Tech Ctr',\n",
       " 'Mercer County Career Center',\n",
       " 'Middle Bucks Institute of Technology',\n",
       " 'Midland Borough SD',\n",
       " 'Midwestern IU 4',\n",
       " 'Mifflin County Academy of Science and Technology',\n",
       " 'Mon Valley CTC',\n",
       " 'Monroe Career & Tech Inst',\n",
       " 'Montgomery County IU 23',\n",
       " 'North Central Secure Trmnt Unt',\n",
       " 'North Montco Tech Career Center',\n",
       " 'Northeastern Educational IU 19',\n",
       " 'Northern Tier Career Center',\n",
       " 'Northern Westmoreland CTC',\n",
       " 'Northumberland County CTC',\n",
       " 'Northwest Tri-County IU 5',\n",
       " 'Parkway West CTC',\n",
       " 'People for People CS',\n",
       " 'Philadelphia IU 26',\n",
       " 'Pittsburgh-Mt Oliver IU 2',\n",
       " 'Preparatory CS of Mathematics Science Tech and Careers',\n",
       " 'Reading Muhlenberg CTC',\n",
       " 'Riverview IU 6',\n",
       " 'Robert Benjamin Wiley Community CS',\n",
       " 'SUN Area Technical Institute',\n",
       " 'Schuylkill IU 29',\n",
       " 'Schuylkill Technology Centers',\n",
       " 'Seneca Highlands Career and Technical Center',\n",
       " 'Seneca Highlands IU 9',\n",
       " 'Somerset County Technology Center',\n",
       " 'South Mountain Secure Trmnt Unit',\n",
       " 'Steel Center for Career and Technical Education',\n",
       " 'Susquehanna County CTC',\n",
       " 'Tuscarora IU 11',\n",
       " 'Upper Bucks County Technical School',\n",
       " 'Venango Technology Center',\n",
       " 'Warren County AVTS',\n",
       " 'Western Area CTC',\n",
       " 'Western Montgomery CTC',\n",
       " 'Westmoreland IU 7',\n",
       " 'Wilkes-Barre Area CTC',\n",
       " 'Wilkinsburg Borough SD',\n",
       " 'Youth Forestry Camp #2',\n",
       " 'Youth Forestry Camp #3']"
      ]
     },
     "execution_count": 21,
     "metadata": {},
     "output_type": "execute_result"
    }
   ],
   "source": [
    "B = [name for name in list(state_fiscal['NAME']) if name not in list(state_grads['District Name'])]\n",
    "B.sort()\n",
    "B"
   ]
  },
  {
   "cell_type": "markdown",
   "id": "laughing-plaza",
   "metadata": {},
   "source": [
    "Make any additional matches I can find."
   ]
  },
  {
   "cell_type": "code",
   "execution_count": 22,
   "id": "appreciated-malawi",
   "metadata": {},
   "outputs": [],
   "source": [
    "state_grads_rename = {\n",
    "    'Capital Area School for the Arts Charter' : 'Capital Area School for the Arts Charter School',\n",
    "    'Center for Student Learning CS at Pennsb' : 'Center for Student Learning CS at Pennsbury',\n",
    "    'Central PA Digital Learning Foundation C' : 'Central PA Digital Learning Foundation CS',\n",
    "    'Charter High School for Architecture and' : 'Charter High School for Architecture and Design',\n",
    "    'Connellsville Area Career & Technical Ce' : 'Connellsville Area Career & Technical Center',\n",
    "    'Eastern University Academy Charter Schoo' : 'Eastern University Academy Charter School',\n",
    "    'First Philadelphia Preparatory Charter S' : 'First Philadelphia Preparatory Charter School',\n",
    "    'Hill House Passport Academy Charter Scho' : 'Hill House Passport Academy Charter School',\n",
    "    'Lehigh Valley Charter High School for th' : 'Lehigh Valley Charter High School for the Arts',\n",
    "    'Lincoln Leadership Academy Charter Schoo' : 'Lincoln Leadership Academy Charter School',\n",
    "    'Preparatory CS of Mathematics Science Te' : 'Preparatory CS of Mathematics Science Tech and Careers'\n",
    "}"
   ]
  },
  {
   "cell_type": "code",
   "execution_count": 23,
   "id": "super-process",
   "metadata": {},
   "outputs": [],
   "source": [
    "state_grads = state_grads.replace(state_grads_rename)"
   ]
  },
  {
   "cell_type": "markdown",
   "id": "charged-thursday",
   "metadata": {},
   "source": [
    "Merge federal and state data, keeping only matches between the two. "
   ]
  },
  {
   "cell_type": "code",
   "execution_count": 24,
   "id": "heated-tamil",
   "metadata": {},
   "outputs": [],
   "source": [
    "state_grads_merged = pd.merge(state_fiscal, state_grads, how='inner', left_on='NAME', right_on='District Name')"
   ]
  },
  {
   "cell_type": "markdown",
   "id": "numeric-physics",
   "metadata": {},
   "source": [
    "Save cleaned data. "
   ]
  },
  {
   "cell_type": "code",
   "execution_count": 25,
   "id": "academic-filling",
   "metadata": {},
   "outputs": [],
   "source": [
    "state_grads_merged.to_csv('../../data/state_data_merged/' + abbr + '.csv', index=False)"
   ]
  }
 ],
 "metadata": {
  "kernelspec": {
   "display_name": "Python 3",
   "language": "python",
   "name": "python3"
  },
  "language_info": {
   "codemirror_mode": {
    "name": "ipython",
    "version": 3
   },
   "file_extension": ".py",
   "mimetype": "text/x-python",
   "name": "python",
   "nbconvert_exporter": "python",
   "pygments_lexer": "ipython3",
   "version": "3.7.9"
  }
 },
 "nbformat": 4,
 "nbformat_minor": 5
}
