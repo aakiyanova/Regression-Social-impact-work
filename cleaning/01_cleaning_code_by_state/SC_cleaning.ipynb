{
 "cells": [
  {
   "cell_type": "code",
   "execution_count": 1,
   "id": "sexual-forge",
   "metadata": {},
   "outputs": [],
   "source": [
    "import warnings\n",
    "warnings.filterwarnings('ignore')"
   ]
  },
  {
   "cell_type": "code",
   "execution_count": 2,
   "id": "happy-gregory",
   "metadata": {},
   "outputs": [],
   "source": [
    "import pandas as pd\n",
    "import numpy as np"
   ]
  },
  {
   "cell_type": "code",
   "execution_count": 3,
   "id": "tough-communications",
   "metadata": {},
   "outputs": [],
   "source": [
    "abbr = 'SC'"
   ]
  },
  {
   "cell_type": "code",
   "execution_count": 4,
   "id": "saving-health",
   "metadata": {},
   "outputs": [],
   "source": [
    "file = 'south_carolina2018.xlsx'"
   ]
  },
  {
   "cell_type": "markdown",
   "id": "pediatric-worthy",
   "metadata": {},
   "source": [
    "Read in federal level data"
   ]
  },
  {
   "cell_type": "code",
   "execution_count": 5,
   "id": "opposite-ethnic",
   "metadata": {},
   "outputs": [],
   "source": [
    "fiscal = pd.read_sas('../../data/fiscal2018', format = 'sas7bdat', encoding='iso-8859-1')"
   ]
  },
  {
   "cell_type": "markdown",
   "id": "unnecessary-anchor",
   "metadata": {},
   "source": [
    "Generate list of districts in the state in the federal data"
   ]
  },
  {
   "cell_type": "code",
   "execution_count": 6,
   "id": "going-monthly",
   "metadata": {},
   "outputs": [],
   "source": [
    "state_fiscal = fiscal[(fiscal['STABBR'] == abbr) & (fiscal['GSHI'] == '12')]"
   ]
  },
  {
   "cell_type": "code",
   "execution_count": 7,
   "id": "valuable-algebra",
   "metadata": {},
   "outputs": [
    {
     "data": {
      "text/plain": [
       "97"
      ]
     },
     "execution_count": 7,
     "metadata": {},
     "output_type": "execute_result"
    }
   ],
   "source": [
    "len(state_fiscal)"
   ]
  },
  {
   "cell_type": "markdown",
   "id": "hindu-france",
   "metadata": {},
   "source": [
    "Read in state level data"
   ]
  },
  {
   "cell_type": "code",
   "execution_count": 8,
   "id": "photographic-reviewer",
   "metadata": {},
   "outputs": [],
   "source": [
    "state_grads = pd.read_excel('../../data/state_data_raw/' + file)"
   ]
  },
  {
   "cell_type": "code",
   "execution_count": 9,
   "id": "rapid-button",
   "metadata": {},
   "outputs": [
    {
     "data": {
      "text/html": [
       "<div>\n",
       "<style scoped>\n",
       "    .dataframe tbody tr th:only-of-type {\n",
       "        vertical-align: middle;\n",
       "    }\n",
       "\n",
       "    .dataframe tbody tr th {\n",
       "        vertical-align: top;\n",
       "    }\n",
       "\n",
       "    .dataframe thead th {\n",
       "        text-align: right;\n",
       "    }\n",
       "</style>\n",
       "<table border=\"1\" class=\"dataframe\">\n",
       "  <thead>\n",
       "    <tr style=\"text-align: right;\">\n",
       "      <th></th>\n",
       "      <th>DISTRICT</th>\n",
       "      <th>SCHOOL</th>\n",
       "      <th>BEDSCODE</th>\n",
       "      <th>GNUMERATOR_OVERALL</th>\n",
       "      <th>GDENOM_OVERALL</th>\n",
       "      <th>GPERCENT_OVERALL</th>\n",
       "      <th>GNUMERATOR_GENDER_M</th>\n",
       "      <th>GDENOM_GENDER_M</th>\n",
       "      <th>GPERCENT_GENDER_M</th>\n",
       "      <th>GNUMERATOR_GENDER_F</th>\n",
       "      <th>...</th>\n",
       "      <th>GPERCENT_HOMELESS_YES</th>\n",
       "      <th>GNUMERATOR_HOMELESS_NO</th>\n",
       "      <th>GDENOM_HOMELESS_NO</th>\n",
       "      <th>GPERCENT_HOMELESS_NO</th>\n",
       "      <th>GNUMERATOR_FOSTER_YES</th>\n",
       "      <th>GDENOM_FOSTER_YES</th>\n",
       "      <th>GPERCENT_FOSTER_YES</th>\n",
       "      <th>GNUMERATOR_FOSTER_NO</th>\n",
       "      <th>GDENOM_FOSTER_NO</th>\n",
       "      <th>GPERCENT_FOSTER_NO</th>\n",
       "    </tr>\n",
       "  </thead>\n",
       "  <tbody>\n",
       "    <tr>\n",
       "      <th>0</th>\n",
       "      <td>Abbeville</td>\n",
       "      <td>ABBEVILLE HIGH</td>\n",
       "      <td>160001</td>\n",
       "      <td>117.0</td>\n",
       "      <td>134.0</td>\n",
       "      <td>87.313433</td>\n",
       "      <td>70.0</td>\n",
       "      <td>81.0</td>\n",
       "      <td>86.419753</td>\n",
       "      <td>47.0</td>\n",
       "      <td>...</td>\n",
       "      <td>-1.0</td>\n",
       "      <td>115.0</td>\n",
       "      <td>131.0</td>\n",
       "      <td>87.786260</td>\n",
       "      <td>-1.0</td>\n",
       "      <td>-1.0</td>\n",
       "      <td>-1.0</td>\n",
       "      <td>115.0</td>\n",
       "      <td>132.0</td>\n",
       "      <td>87.121212</td>\n",
       "    </tr>\n",
       "    <tr>\n",
       "      <th>1</th>\n",
       "      <td>Abbeville</td>\n",
       "      <td>DIXIE HIGH</td>\n",
       "      <td>160003</td>\n",
       "      <td>65.0</td>\n",
       "      <td>83.0</td>\n",
       "      <td>78.313253</td>\n",
       "      <td>26.0</td>\n",
       "      <td>35.0</td>\n",
       "      <td>74.285714</td>\n",
       "      <td>39.0</td>\n",
       "      <td>...</td>\n",
       "      <td>-1.0</td>\n",
       "      <td>64.0</td>\n",
       "      <td>79.0</td>\n",
       "      <td>81.012658</td>\n",
       "      <td>NaN</td>\n",
       "      <td>NaN</td>\n",
       "      <td>NaN</td>\n",
       "      <td>65.0</td>\n",
       "      <td>83.0</td>\n",
       "      <td>78.313253</td>\n",
       "    </tr>\n",
       "    <tr>\n",
       "      <th>2</th>\n",
       "      <td>Abbeville</td>\n",
       "      <td>DISTRICT NO CHARTER</td>\n",
       "      <td>160888</td>\n",
       "      <td>182.0</td>\n",
       "      <td>217.0</td>\n",
       "      <td>83.870968</td>\n",
       "      <td>96.0</td>\n",
       "      <td>116.0</td>\n",
       "      <td>82.758621</td>\n",
       "      <td>86.0</td>\n",
       "      <td>...</td>\n",
       "      <td>-1.0</td>\n",
       "      <td>179.0</td>\n",
       "      <td>210.0</td>\n",
       "      <td>85.238095</td>\n",
       "      <td>-1.0</td>\n",
       "      <td>-1.0</td>\n",
       "      <td>-1.0</td>\n",
       "      <td>180.0</td>\n",
       "      <td>215.0</td>\n",
       "      <td>83.720930</td>\n",
       "    </tr>\n",
       "    <tr>\n",
       "      <th>3</th>\n",
       "      <td>Abbeville</td>\n",
       "      <td>DISTRICT WITH CHARTER</td>\n",
       "      <td>160999</td>\n",
       "      <td>182.0</td>\n",
       "      <td>217.0</td>\n",
       "      <td>83.870968</td>\n",
       "      <td>96.0</td>\n",
       "      <td>116.0</td>\n",
       "      <td>82.758621</td>\n",
       "      <td>86.0</td>\n",
       "      <td>...</td>\n",
       "      <td>-1.0</td>\n",
       "      <td>179.0</td>\n",
       "      <td>210.0</td>\n",
       "      <td>85.238095</td>\n",
       "      <td>-1.0</td>\n",
       "      <td>-1.0</td>\n",
       "      <td>-1.0</td>\n",
       "      <td>180.0</td>\n",
       "      <td>215.0</td>\n",
       "      <td>83.720930</td>\n",
       "    </tr>\n",
       "    <tr>\n",
       "      <th>4</th>\n",
       "      <td>Aiken</td>\n",
       "      <td>SILVER BLUFF HIGH</td>\n",
       "      <td>201001</td>\n",
       "      <td>133.0</td>\n",
       "      <td>152.0</td>\n",
       "      <td>87.500000</td>\n",
       "      <td>73.0</td>\n",
       "      <td>86.0</td>\n",
       "      <td>84.883721</td>\n",
       "      <td>60.0</td>\n",
       "      <td>...</td>\n",
       "      <td>-1.0</td>\n",
       "      <td>129.0</td>\n",
       "      <td>145.0</td>\n",
       "      <td>88.965517</td>\n",
       "      <td>NaN</td>\n",
       "      <td>NaN</td>\n",
       "      <td>NaN</td>\n",
       "      <td>133.0</td>\n",
       "      <td>152.0</td>\n",
       "      <td>87.500000</td>\n",
       "    </tr>\n",
       "  </tbody>\n",
       "</table>\n",
       "<p>5 rows × 63 columns</p>\n",
       "</div>"
      ],
      "text/plain": [
       "    DISTRICT                 SCHOOL  BEDSCODE  GNUMERATOR_OVERALL  \\\n",
       "0  Abbeville         ABBEVILLE HIGH    160001               117.0   \n",
       "1  Abbeville             DIXIE HIGH    160003                65.0   \n",
       "2  Abbeville    DISTRICT NO CHARTER    160888               182.0   \n",
       "3  Abbeville  DISTRICT WITH CHARTER    160999               182.0   \n",
       "4      Aiken      SILVER BLUFF HIGH    201001               133.0   \n",
       "\n",
       "   GDENOM_OVERALL  GPERCENT_OVERALL  GNUMERATOR_GENDER_M  GDENOM_GENDER_M  \\\n",
       "0           134.0         87.313433                 70.0             81.0   \n",
       "1            83.0         78.313253                 26.0             35.0   \n",
       "2           217.0         83.870968                 96.0            116.0   \n",
       "3           217.0         83.870968                 96.0            116.0   \n",
       "4           152.0         87.500000                 73.0             86.0   \n",
       "\n",
       "   GPERCENT_GENDER_M  GNUMERATOR_GENDER_F  ...  GPERCENT_HOMELESS_YES  \\\n",
       "0          86.419753                 47.0  ...                   -1.0   \n",
       "1          74.285714                 39.0  ...                   -1.0   \n",
       "2          82.758621                 86.0  ...                   -1.0   \n",
       "3          82.758621                 86.0  ...                   -1.0   \n",
       "4          84.883721                 60.0  ...                   -1.0   \n",
       "\n",
       "   GNUMERATOR_HOMELESS_NO  GDENOM_HOMELESS_NO  GPERCENT_HOMELESS_NO  \\\n",
       "0                   115.0               131.0             87.786260   \n",
       "1                    64.0                79.0             81.012658   \n",
       "2                   179.0               210.0             85.238095   \n",
       "3                   179.0               210.0             85.238095   \n",
       "4                   129.0               145.0             88.965517   \n",
       "\n",
       "   GNUMERATOR_FOSTER_YES  GDENOM_FOSTER_YES  GPERCENT_FOSTER_YES  \\\n",
       "0                   -1.0               -1.0                 -1.0   \n",
       "1                    NaN                NaN                  NaN   \n",
       "2                   -1.0               -1.0                 -1.0   \n",
       "3                   -1.0               -1.0                 -1.0   \n",
       "4                    NaN                NaN                  NaN   \n",
       "\n",
       "   GNUMERATOR_FOSTER_NO  GDENOM_FOSTER_NO  GPERCENT_FOSTER_NO  \n",
       "0                 115.0             132.0           87.121212  \n",
       "1                  65.0              83.0           78.313253  \n",
       "2                 180.0             215.0           83.720930  \n",
       "3                 180.0             215.0           83.720930  \n",
       "4                 133.0             152.0           87.500000  \n",
       "\n",
       "[5 rows x 63 columns]"
      ]
     },
     "execution_count": 9,
     "metadata": {},
     "output_type": "execute_result"
    }
   ],
   "source": [
    "state_grads.head()"
   ]
  },
  {
   "cell_type": "markdown",
   "id": "skilled-perry",
   "metadata": {},
   "source": [
    "Filter results."
   ]
  },
  {
   "cell_type": "code",
   "execution_count": 10,
   "id": "demonstrated-prague",
   "metadata": {},
   "outputs": [],
   "source": [
    "state_grads = state_grads[(state_grads['SCHOOL'] == 'DISTRICT WITH CHARTER')]"
   ]
  },
  {
   "cell_type": "markdown",
   "id": "anticipated-iraqi",
   "metadata": {},
   "source": [
    "Select and rename columns."
   ]
  },
  {
   "cell_type": "code",
   "execution_count": 11,
   "id": "formed-adult",
   "metadata": {},
   "outputs": [],
   "source": [
    "state_grads = state_grads[['DISTRICT', \n",
    "                           'GDENOM_OVERALL', \n",
    "                           'GPERCENT_OVERALL']]"
   ]
  },
  {
   "cell_type": "code",
   "execution_count": 12,
   "id": "bored-greeting",
   "metadata": {},
   "outputs": [],
   "source": [
    "state_grads.columns = ['District Name', 'Total', 'Graduation Rate']"
   ]
  },
  {
   "cell_type": "code",
   "execution_count": 13,
   "id": "bright-frontier",
   "metadata": {},
   "outputs": [
    {
     "name": "stdout",
     "output_type": "stream",
     "text": [
      "<class 'pandas.core.frame.DataFrame'>\n",
      "Int64Index: 88 entries, 3 to 418\n",
      "Data columns (total 3 columns):\n",
      " #   Column           Non-Null Count  Dtype  \n",
      "---  ------           --------------  -----  \n",
      " 0   District Name    88 non-null     object \n",
      " 1   Total            88 non-null     float64\n",
      " 2   Graduation Rate  88 non-null     float64\n",
      "dtypes: float64(2), object(1)\n",
      "memory usage: 2.8+ KB\n"
     ]
    }
   ],
   "source": [
    "state_grads.info()"
   ]
  },
  {
   "cell_type": "markdown",
   "id": "quantitative-orlando",
   "metadata": {},
   "source": [
    "Convert data types."
   ]
  },
  {
   "cell_type": "code",
   "execution_count": 14,
   "id": "cleared-current",
   "metadata": {},
   "outputs": [],
   "source": [
    "# state_grads['Graduation Rate'] = state_grads['Graduation Rate'].astype(str).str.replace('\\*', '')"
   ]
  },
  {
   "cell_type": "code",
   "execution_count": 14,
   "id": "destroyed-reunion",
   "metadata": {},
   "outputs": [],
   "source": [
    "state_grads['District Name'] = state_grads['District Name'].astype(str)\n",
    "state_grads['Total'] = pd.to_numeric(state_grads['Total'])\n",
    "state_grads['Graduation Rate'] = pd.to_numeric(state_grads['Graduation Rate']) / 100"
   ]
  },
  {
   "cell_type": "markdown",
   "id": "reliable-retailer",
   "metadata": {},
   "source": [
    "Check for matches and non-matches in the two lists. "
   ]
  },
  {
   "cell_type": "code",
   "execution_count": 16,
   "id": "proper-turkish",
   "metadata": {},
   "outputs": [],
   "source": [
    "# state_fiscal['NAME'] = state_fiscal['NAME'].astype(str).str.upper().str.strip()\n",
    "# state_grads['District Name'] = state_grads['District Name'].astype(str).str.upper().str.strip()"
   ]
  },
  {
   "cell_type": "code",
   "execution_count": 37,
   "id": "intelligent-footage",
   "metadata": {},
   "outputs": [],
   "source": [
    "state_fiscal['NAME'] = state_fiscal['NAME'].astype(str).str.replace(' 0', ' ')\n",
    "state_fiscal['NAME'] = state_fiscal['NAME'].astype(str).str.replace(r' 1$', '')\n",
    "\n",
    "state_grads['District Name'] = state_grads['District Name'].astype(str).str.replace(r' 1$', '')"
   ]
  },
  {
   "cell_type": "code",
   "execution_count": 38,
   "id": "lovely-balance",
   "metadata": {},
   "outputs": [
    {
     "data": {
      "text/plain": [
       "75"
      ]
     },
     "execution_count": 38,
     "metadata": {},
     "output_type": "execute_result"
    }
   ],
   "source": [
    "matches = [name for name in list(state_grads['District Name']) if name in list(state_fiscal['NAME'])]\n",
    "matches.sort()\n",
    "len(matches)"
   ]
  },
  {
   "cell_type": "code",
   "execution_count": 39,
   "id": "corresponding-northern",
   "metadata": {},
   "outputs": [
    {
     "data": {
      "text/plain": [
       "['Abbeville',\n",
       " \"Governor's Schools\",\n",
       " \"Governor's Schools\",\n",
       " 'Lexington/Richland  5',\n",
       " 'SC Department of Corrections',\n",
       " 'SC Department of Juvenile Justice',\n",
       " 'SC Public Charter District',\n",
       " 'SC School for the Deaf and the Blind',\n",
       " 'STATEWIDE',\n",
       " 'York 1 (York)',\n",
       " 'York 2 (Clover)',\n",
       " 'York 3 (Rock Hill)',\n",
       " 'York 4 (Fort Mill)']"
      ]
     },
     "execution_count": 39,
     "metadata": {},
     "output_type": "execute_result"
    }
   ],
   "source": [
    "A = [name for name in list(state_grads['District Name']) if name not in list(state_fiscal['NAME'])]\n",
    "A.sort()\n",
    "A"
   ]
  },
  {
   "cell_type": "code",
   "execution_count": 40,
   "id": "dental-tooth",
   "metadata": {},
   "outputs": [
    {
     "data": {
      "text/plain": [
       "['Abbeville 60',\n",
       " 'Anderson 80',\n",
       " 'Barnwell 80',\n",
       " 'Beaufort 80',\n",
       " 'Clarendon 80',\n",
       " 'Deaf & Blind School',\n",
       " 'Dept of Juvenile Justice',\n",
       " 'Dillon 80',\n",
       " 'Dorchester 80',\n",
       " \"Governor' School for Science and Mathematics\",\n",
       " \"Governor's School for the Arts and Humanities\",\n",
       " 'Greenwood 80',\n",
       " 'Lexington 5',\n",
       " 'Orangeburg 80',\n",
       " 'SC Public Charter School District',\n",
       " 'Spartanburg 80',\n",
       " 'Spartanburg 81',\n",
       " 'Spartanburg 82',\n",
       " 'York',\n",
       " 'York 2',\n",
       " 'York 3',\n",
       " 'York 4']"
      ]
     },
     "execution_count": 40,
     "metadata": {},
     "output_type": "execute_result"
    }
   ],
   "source": [
    "B = [name for name in list(state_fiscal['NAME']) if name not in list(state_grads['District Name'])]\n",
    "B.sort()\n",
    "B"
   ]
  },
  {
   "cell_type": "markdown",
   "id": "hollow-establishment",
   "metadata": {},
   "source": [
    "Make any additional matches I can find."
   ]
  },
  {
   "cell_type": "code",
   "execution_count": 43,
   "id": "tested-proof",
   "metadata": {},
   "outputs": [],
   "source": [
    "state_fiscal_rename = {\n",
    "    'Abbeville 60' : 'Abbeville',\n",
    "    'Deaf & Blind School' : 'SC School for the Deaf and the Blind',\n",
    "    'Lexington 5' : 'Lexington/Richland  5',\n",
    "    'SC Public Charter School District' : 'SC Public Charter District',\n",
    "    'York' : 'York 1 (York)',\n",
    "    'York 2' : 'York 2 (Clover)',\n",
    "    'York 3' : 'York 3 (Rock Hill)',\n",
    "    'York 4' : 'York 4 (Fort Mill)'\n",
    "}"
   ]
  },
  {
   "cell_type": "code",
   "execution_count": 44,
   "id": "mounted-honolulu",
   "metadata": {},
   "outputs": [],
   "source": [
    "state_fiscal = state_fiscal.replace(state_fiscal_rename)"
   ]
  },
  {
   "cell_type": "markdown",
   "id": "subjective-notebook",
   "metadata": {},
   "source": [
    "Merge federal and state data, keeping only matches between the two. "
   ]
  },
  {
   "cell_type": "code",
   "execution_count": 23,
   "id": "billion-shareware",
   "metadata": {},
   "outputs": [],
   "source": [
    "state_grads_merged = pd.merge(state_fiscal, state_grads, how='inner', left_on='NAME', right_on='District Name')"
   ]
  },
  {
   "cell_type": "markdown",
   "id": "traditional-clarity",
   "metadata": {},
   "source": [
    "Save cleaned data. "
   ]
  },
  {
   "cell_type": "code",
   "execution_count": 24,
   "id": "charitable-floor",
   "metadata": {},
   "outputs": [],
   "source": [
    "state_grads_merged.to_csv('../../data/state_data_merged/' + abbr + '.csv', index=False)"
   ]
  }
 ],
 "metadata": {
  "kernelspec": {
   "display_name": "Python 3",
   "language": "python",
   "name": "python3"
  },
  "language_info": {
   "codemirror_mode": {
    "name": "ipython",
    "version": 3
   },
   "file_extension": ".py",
   "mimetype": "text/x-python",
   "name": "python",
   "nbconvert_exporter": "python",
   "pygments_lexer": "ipython3",
   "version": "3.7.9"
  }
 },
 "nbformat": 4,
 "nbformat_minor": 5
}
