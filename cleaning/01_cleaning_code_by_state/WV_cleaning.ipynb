{
 "cells": [
  {
   "cell_type": "code",
   "execution_count": 1,
   "id": "satellite-essence",
   "metadata": {},
   "outputs": [],
   "source": [
    "import warnings\n",
    "warnings.filterwarnings('ignore')"
   ]
  },
  {
   "cell_type": "code",
   "execution_count": 2,
   "id": "neither-connectivity",
   "metadata": {},
   "outputs": [],
   "source": [
    "import pandas as pd\n",
    "import numpy as np"
   ]
  },
  {
   "cell_type": "code",
   "execution_count": 3,
   "id": "breeding-immunology",
   "metadata": {},
   "outputs": [],
   "source": [
    "abbr = 'WV'"
   ]
  },
  {
   "cell_type": "code",
   "execution_count": 4,
   "id": "referenced-fleet",
   "metadata": {},
   "outputs": [],
   "source": [
    "file = 'west_virginia2018.csv'"
   ]
  },
  {
   "cell_type": "markdown",
   "id": "identical-award",
   "metadata": {},
   "source": [
    "Read in federal level data"
   ]
  },
  {
   "cell_type": "code",
   "execution_count": 5,
   "id": "controlling-correction",
   "metadata": {},
   "outputs": [],
   "source": [
    "fiscal = pd.read_sas('../../data/fiscal2018', format = 'sas7bdat', encoding='iso-8859-1')"
   ]
  },
  {
   "cell_type": "markdown",
   "id": "geographic-noise",
   "metadata": {},
   "source": [
    "Generate list of districts in the state in the federal data"
   ]
  },
  {
   "cell_type": "code",
   "execution_count": 6,
   "id": "overall-wilson",
   "metadata": {},
   "outputs": [],
   "source": [
    "state_fiscal = fiscal[(fiscal['STABBR'] == abbr) & (fiscal['GSHI'] == '12')]"
   ]
  },
  {
   "cell_type": "code",
   "execution_count": 7,
   "id": "distributed-refrigerator",
   "metadata": {},
   "outputs": [
    {
     "data": {
      "text/plain": [
       "57"
      ]
     },
     "execution_count": 7,
     "metadata": {},
     "output_type": "execute_result"
    }
   ],
   "source": [
    "len(state_fiscal)"
   ]
  },
  {
   "cell_type": "code",
   "execution_count": 8,
   "id": "challenging-medicaid",
   "metadata": {},
   "outputs": [
    {
     "data": {
      "text/html": [
       "<div>\n",
       "<style scoped>\n",
       "    .dataframe tbody tr th:only-of-type {\n",
       "        vertical-align: middle;\n",
       "    }\n",
       "\n",
       "    .dataframe tbody tr th {\n",
       "        vertical-align: top;\n",
       "    }\n",
       "\n",
       "    .dataframe thead th {\n",
       "        text-align: right;\n",
       "    }\n",
       "</style>\n",
       "<table border=\"1\" class=\"dataframe\">\n",
       "  <thead>\n",
       "    <tr style=\"text-align: right;\">\n",
       "      <th></th>\n",
       "      <th>LEAID</th>\n",
       "      <th>CENSUSID</th>\n",
       "      <th>FIPST</th>\n",
       "      <th>CONUM</th>\n",
       "      <th>CSA</th>\n",
       "      <th>CBSA</th>\n",
       "      <th>NAME</th>\n",
       "      <th>STNAME</th>\n",
       "      <th>STABBR</th>\n",
       "      <th>SCHLEV</th>\n",
       "      <th>...</th>\n",
       "      <th>FL_66V</th>\n",
       "      <th>FL_W01</th>\n",
       "      <th>FL_W31</th>\n",
       "      <th>FL_W61</th>\n",
       "      <th>FL_V95</th>\n",
       "      <th>FL_V02</th>\n",
       "      <th>FL_K14</th>\n",
       "      <th>FL_CE1</th>\n",
       "      <th>FL_CE2</th>\n",
       "      <th>FL_CE3</th>\n",
       "    </tr>\n",
       "  </thead>\n",
       "  <tbody>\n",
       "    <tr>\n",
       "      <th>18121</th>\n",
       "      <td>5400030</td>\n",
       "      <td>49500100100000</td>\n",
       "      <td>54</td>\n",
       "      <td>54001</td>\n",
       "      <td>N</td>\n",
       "      <td>N</td>\n",
       "      <td>BARBOUR COUNTY SCHOOLS</td>\n",
       "      <td>West Virginia</td>\n",
       "      <td>WV</td>\n",
       "      <td>03</td>\n",
       "      <td>...</td>\n",
       "      <td>R</td>\n",
       "      <td>R</td>\n",
       "      <td>R</td>\n",
       "      <td>R</td>\n",
       "      <td>R</td>\n",
       "      <td>R</td>\n",
       "      <td>R</td>\n",
       "      <td>R</td>\n",
       "      <td>R</td>\n",
       "      <td>R</td>\n",
       "    </tr>\n",
       "    <tr>\n",
       "      <th>18122</th>\n",
       "      <td>5400060</td>\n",
       "      <td>49500200100000</td>\n",
       "      <td>54</td>\n",
       "      <td>54003</td>\n",
       "      <td>548</td>\n",
       "      <td>25180</td>\n",
       "      <td>BERKELEY COUNTY SCHOOLS</td>\n",
       "      <td>West Virginia</td>\n",
       "      <td>WV</td>\n",
       "      <td>03</td>\n",
       "      <td>...</td>\n",
       "      <td>R</td>\n",
       "      <td>R</td>\n",
       "      <td>R</td>\n",
       "      <td>R</td>\n",
       "      <td>R</td>\n",
       "      <td>R</td>\n",
       "      <td>R</td>\n",
       "      <td>R</td>\n",
       "      <td>R</td>\n",
       "      <td>R</td>\n",
       "    </tr>\n",
       "    <tr>\n",
       "      <th>18123</th>\n",
       "      <td>5400090</td>\n",
       "      <td>49500300100000</td>\n",
       "      <td>54</td>\n",
       "      <td>54005</td>\n",
       "      <td>170</td>\n",
       "      <td>16620</td>\n",
       "      <td>BOONE COUNTY  SCHOOLS</td>\n",
       "      <td>West Virginia</td>\n",
       "      <td>WV</td>\n",
       "      <td>03</td>\n",
       "      <td>...</td>\n",
       "      <td>R</td>\n",
       "      <td>R</td>\n",
       "      <td>R</td>\n",
       "      <td>R</td>\n",
       "      <td>R</td>\n",
       "      <td>R</td>\n",
       "      <td>R</td>\n",
       "      <td>R</td>\n",
       "      <td>R</td>\n",
       "      <td>R</td>\n",
       "    </tr>\n",
       "    <tr>\n",
       "      <th>18124</th>\n",
       "      <td>5400120</td>\n",
       "      <td>49500400100000</td>\n",
       "      <td>54</td>\n",
       "      <td>54007</td>\n",
       "      <td>N</td>\n",
       "      <td>N</td>\n",
       "      <td>BRAXTON COUNTY SCHOOLS</td>\n",
       "      <td>West Virginia</td>\n",
       "      <td>WV</td>\n",
       "      <td>03</td>\n",
       "      <td>...</td>\n",
       "      <td>R</td>\n",
       "      <td>R</td>\n",
       "      <td>R</td>\n",
       "      <td>R</td>\n",
       "      <td>R</td>\n",
       "      <td>R</td>\n",
       "      <td>R</td>\n",
       "      <td>R</td>\n",
       "      <td>R</td>\n",
       "      <td>R</td>\n",
       "    </tr>\n",
       "    <tr>\n",
       "      <th>18125</th>\n",
       "      <td>5400150</td>\n",
       "      <td>49500500100000</td>\n",
       "      <td>54</td>\n",
       "      <td>54009</td>\n",
       "      <td>430</td>\n",
       "      <td>48260</td>\n",
       "      <td>BROOKE COUNTY SCHOOLS</td>\n",
       "      <td>West Virginia</td>\n",
       "      <td>WV</td>\n",
       "      <td>03</td>\n",
       "      <td>...</td>\n",
       "      <td>R</td>\n",
       "      <td>R</td>\n",
       "      <td>R</td>\n",
       "      <td>R</td>\n",
       "      <td>R</td>\n",
       "      <td>R</td>\n",
       "      <td>R</td>\n",
       "      <td>R</td>\n",
       "      <td>R</td>\n",
       "      <td>R</td>\n",
       "    </tr>\n",
       "  </tbody>\n",
       "</table>\n",
       "<p>5 rows × 262 columns</p>\n",
       "</div>"
      ],
      "text/plain": [
       "         LEAID        CENSUSID FIPST  CONUM  CSA   CBSA  \\\n",
       "18121  5400030  49500100100000    54  54001    N      N   \n",
       "18122  5400060  49500200100000    54  54003  548  25180   \n",
       "18123  5400090  49500300100000    54  54005  170  16620   \n",
       "18124  5400120  49500400100000    54  54007    N      N   \n",
       "18125  5400150  49500500100000    54  54009  430  48260   \n",
       "\n",
       "                          NAME         STNAME STABBR SCHLEV  ... FL_66V  \\\n",
       "18121   BARBOUR COUNTY SCHOOLS  West Virginia     WV     03  ...      R   \n",
       "18122  BERKELEY COUNTY SCHOOLS  West Virginia     WV     03  ...      R   \n",
       "18123    BOONE COUNTY  SCHOOLS  West Virginia     WV     03  ...      R   \n",
       "18124   BRAXTON COUNTY SCHOOLS  West Virginia     WV     03  ...      R   \n",
       "18125    BROOKE COUNTY SCHOOLS  West Virginia     WV     03  ...      R   \n",
       "\n",
       "      FL_W01 FL_W31 FL_W61 FL_V95 FL_V02  FL_K14  FL_CE1  FL_CE2  FL_CE3  \n",
       "18121      R      R      R      R      R       R       R       R       R  \n",
       "18122      R      R      R      R      R       R       R       R       R  \n",
       "18123      R      R      R      R      R       R       R       R       R  \n",
       "18124      R      R      R      R      R       R       R       R       R  \n",
       "18125      R      R      R      R      R       R       R       R       R  \n",
       "\n",
       "[5 rows x 262 columns]"
      ]
     },
     "execution_count": 8,
     "metadata": {},
     "output_type": "execute_result"
    }
   ],
   "source": [
    "state_fiscal.head()"
   ]
  },
  {
   "cell_type": "markdown",
   "id": "diverse-following",
   "metadata": {},
   "source": [
    "Read in state level data"
   ]
  },
  {
   "cell_type": "code",
   "execution_count": 21,
   "id": "attached-dimension",
   "metadata": {},
   "outputs": [],
   "source": [
    "state_grads = pd.read_csv('../../data/state_data_raw/' + file)"
   ]
  },
  {
   "cell_type": "code",
   "execution_count": 22,
   "id": "incorporate-visit",
   "metadata": {},
   "outputs": [
    {
     "data": {
      "text/html": [
       "<div>\n",
       "<style scoped>\n",
       "    .dataframe tbody tr th:only-of-type {\n",
       "        vertical-align: middle;\n",
       "    }\n",
       "\n",
       "    .dataframe tbody tr th {\n",
       "        vertical-align: top;\n",
       "    }\n",
       "\n",
       "    .dataframe thead th {\n",
       "        text-align: right;\n",
       "    }\n",
       "</style>\n",
       "<table border=\"1\" class=\"dataframe\">\n",
       "  <thead>\n",
       "    <tr style=\"text-align: right;\">\n",
       "      <th></th>\n",
       "      <th>County Number</th>\n",
       "      <th>County Name</th>\n",
       "      <th>All</th>\n",
       "      <th>White</th>\n",
       "      <th>Black</th>\n",
       "      <th>Hispanic</th>\n",
       "      <th>Asian</th>\n",
       "      <th>Indian</th>\n",
       "      <th>Multi-Racial</th>\n",
       "      <th>Pacific Islander</th>\n",
       "      <th>Male</th>\n",
       "      <th>Female</th>\n",
       "      <th>ELL</th>\n",
       "      <th>Low SES</th>\n",
       "      <th>Spec Ed</th>\n",
       "    </tr>\n",
       "  </thead>\n",
       "  <tbody>\n",
       "    <tr>\n",
       "      <th>0</th>\n",
       "      <td>2</td>\n",
       "      <td>Barbour                                       ...</td>\n",
       "      <td>0.9023</td>\n",
       "      <td>0.9113</td>\n",
       "      <td>NaN</td>\n",
       "      <td>NaN</td>\n",
       "      <td>NaN</td>\n",
       "      <td>NaN</td>\n",
       "      <td>0.7778</td>\n",
       "      <td>NaN</td>\n",
       "      <td>0.8875</td>\n",
       "      <td>0.9245</td>\n",
       "      <td>NaN</td>\n",
       "      <td>0.9023</td>\n",
       "      <td>0.8571</td>\n",
       "    </tr>\n",
       "    <tr>\n",
       "      <th>1</th>\n",
       "      <td>4</td>\n",
       "      <td>Berkeley                                      ...</td>\n",
       "      <td>0.9410</td>\n",
       "      <td>0.9428</td>\n",
       "      <td>0.9286</td>\n",
       "      <td>0.9697</td>\n",
       "      <td>1.0</td>\n",
       "      <td>0.75</td>\n",
       "      <td>0.9057</td>\n",
       "      <td>NaN</td>\n",
       "      <td>0.9302</td>\n",
       "      <td>0.9512</td>\n",
       "      <td>0.9333</td>\n",
       "      <td>0.9144</td>\n",
       "      <td>0.8246</td>\n",
       "    </tr>\n",
       "    <tr>\n",
       "      <th>2</th>\n",
       "      <td>6</td>\n",
       "      <td>Boone                                         ...</td>\n",
       "      <td>0.8796</td>\n",
       "      <td>0.8771</td>\n",
       "      <td>1.0000</td>\n",
       "      <td>1.0000</td>\n",
       "      <td>1.0</td>\n",
       "      <td>NaN</td>\n",
       "      <td>1.0000</td>\n",
       "      <td>NaN</td>\n",
       "      <td>0.8492</td>\n",
       "      <td>0.9250</td>\n",
       "      <td>1.0000</td>\n",
       "      <td>0.8822</td>\n",
       "      <td>0.7907</td>\n",
       "    </tr>\n",
       "    <tr>\n",
       "      <th>3</th>\n",
       "      <td>8</td>\n",
       "      <td>Braxton                                       ...</td>\n",
       "      <td>0.8652</td>\n",
       "      <td>0.8623</td>\n",
       "      <td>NaN</td>\n",
       "      <td>NaN</td>\n",
       "      <td>1.0</td>\n",
       "      <td>NaN</td>\n",
       "      <td>1.0000</td>\n",
       "      <td>NaN</td>\n",
       "      <td>0.8228</td>\n",
       "      <td>0.9194</td>\n",
       "      <td>NaN</td>\n",
       "      <td>0.8652</td>\n",
       "      <td>0.8000</td>\n",
       "    </tr>\n",
       "    <tr>\n",
       "      <th>4</th>\n",
       "      <td>10</td>\n",
       "      <td>Brooke                                        ...</td>\n",
       "      <td>0.9389</td>\n",
       "      <td>0.9378</td>\n",
       "      <td>NaN</td>\n",
       "      <td>1.0000</td>\n",
       "      <td>NaN</td>\n",
       "      <td>NaN</td>\n",
       "      <td>1.0000</td>\n",
       "      <td>NaN</td>\n",
       "      <td>0.9310</td>\n",
       "      <td>0.9469</td>\n",
       "      <td>NaN</td>\n",
       "      <td>0.9430</td>\n",
       "      <td>0.8205</td>\n",
       "    </tr>\n",
       "  </tbody>\n",
       "</table>\n",
       "</div>"
      ],
      "text/plain": [
       "   County Number                                        County Name     All  \\\n",
       "0              2  Barbour                                       ...  0.9023   \n",
       "1              4  Berkeley                                      ...  0.9410   \n",
       "2              6  Boone                                         ...  0.8796   \n",
       "3              8  Braxton                                       ...  0.8652   \n",
       "4             10  Brooke                                        ...  0.9389   \n",
       "\n",
       "    White   Black  Hispanic  Asian  Indian  Multi-Racial  Pacific Islander  \\\n",
       "0  0.9113     NaN       NaN    NaN     NaN        0.7778               NaN   \n",
       "1  0.9428  0.9286    0.9697    1.0    0.75        0.9057               NaN   \n",
       "2  0.8771  1.0000    1.0000    1.0     NaN        1.0000               NaN   \n",
       "3  0.8623     NaN       NaN    1.0     NaN        1.0000               NaN   \n",
       "4  0.9378     NaN    1.0000    NaN     NaN        1.0000               NaN   \n",
       "\n",
       "     Male  Female     ELL  Low SES  Spec Ed  \n",
       "0  0.8875  0.9245     NaN   0.9023   0.8571  \n",
       "1  0.9302  0.9512  0.9333   0.9144   0.8246  \n",
       "2  0.8492  0.9250  1.0000   0.8822   0.7907  \n",
       "3  0.8228  0.9194     NaN   0.8652   0.8000  \n",
       "4  0.9310  0.9469     NaN   0.9430   0.8205  "
      ]
     },
     "execution_count": 22,
     "metadata": {},
     "output_type": "execute_result"
    }
   ],
   "source": [
    "state_grads.head()"
   ]
  },
  {
   "cell_type": "markdown",
   "id": "fleet-beads",
   "metadata": {},
   "source": [
    "Reset columns."
   ]
  },
  {
   "cell_type": "markdown",
   "id": "premier-creator",
   "metadata": {},
   "source": [
    "Filter results."
   ]
  },
  {
   "cell_type": "code",
   "execution_count": 11,
   "id": "smoking-jesus",
   "metadata": {},
   "outputs": [],
   "source": [
    "# state_grads = state_grads[(state_grads['OrganizationLevel'] == 'District') &\n",
    "#                          (state_grads['StudentGroup'] == 'All Students') &\n",
    "#                          (state_grads['Cohort'] == 'Four Year')]"
   ]
  },
  {
   "cell_type": "markdown",
   "id": "blank-reservoir",
   "metadata": {},
   "source": [
    "Select and rename columns."
   ]
  },
  {
   "cell_type": "code",
   "execution_count": 24,
   "id": "african-disclosure",
   "metadata": {},
   "outputs": [],
   "source": [
    "state_grads['Total'] = np.full_like(state_grads['All'], np.nan)"
   ]
  },
  {
   "cell_type": "code",
   "execution_count": 25,
   "id": "bigger-collins",
   "metadata": {},
   "outputs": [],
   "source": [
    "state_grads = state_grads[['County Name', \n",
    "                           'Total',\n",
    "                           'All']]"
   ]
  },
  {
   "cell_type": "code",
   "execution_count": 26,
   "id": "vulnerable-spyware",
   "metadata": {},
   "outputs": [],
   "source": [
    "state_grads.columns = ['District Name', 'Total', 'Graduation Rate']"
   ]
  },
  {
   "cell_type": "code",
   "execution_count": 27,
   "id": "positive-headline",
   "metadata": {},
   "outputs": [
    {
     "name": "stdout",
     "output_type": "stream",
     "text": [
      "<class 'pandas.core.frame.DataFrame'>\n",
      "RangeIndex: 56 entries, 0 to 55\n",
      "Data columns (total 3 columns):\n",
      " #   Column           Non-Null Count  Dtype  \n",
      "---  ------           --------------  -----  \n",
      " 0   District Name    56 non-null     object \n",
      " 1   Total            0 non-null      float64\n",
      " 2   Graduation Rate  56 non-null     float64\n",
      "dtypes: float64(2), object(1)\n",
      "memory usage: 1.4+ KB\n"
     ]
    }
   ],
   "source": [
    "state_grads.info()"
   ]
  },
  {
   "cell_type": "markdown",
   "id": "loose-progressive",
   "metadata": {},
   "source": [
    "Convert data types."
   ]
  },
  {
   "cell_type": "code",
   "execution_count": 14,
   "id": "psychological-paris",
   "metadata": {},
   "outputs": [],
   "source": [
    "# state_grads['Total'] = state_grads['Total'].astype(str).str.replace('<', '')\n",
    "# state_grads['Graduation Rate'] = state_grads['Graduation Rate'].astype(str).str.replace('%', '')"
   ]
  },
  {
   "cell_type": "code",
   "execution_count": 15,
   "id": "distributed-economics",
   "metadata": {},
   "outputs": [],
   "source": [
    "# state_grads['Total'] = pd.to_numeric(state_grads['Total'])\n",
    "# state_grads['Graduation Rate'] = pd.to_numeric(state_grads['Graduation Rate']) / 100"
   ]
  },
  {
   "cell_type": "markdown",
   "id": "fuzzy-particular",
   "metadata": {},
   "source": [
    "Check for matches and non-matches in the two lists. "
   ]
  },
  {
   "cell_type": "code",
   "execution_count": 31,
   "id": "corporate-sterling",
   "metadata": {},
   "outputs": [],
   "source": [
    "state_fiscal['NAME'] = state_fiscal['NAME'].astype(str).str.upper().str.strip()\n",
    "state_grads['District Name'] = state_grads['District Name'].astype(str).str.upper().str.strip()"
   ]
  },
  {
   "cell_type": "code",
   "execution_count": 32,
   "id": "charming-movement",
   "metadata": {},
   "outputs": [],
   "source": [
    "# state_grads['District Name'] = state_grads['District Name'].astype(str).str.replace(r'\\sSu$', '')\n",
    "# state_grads['District Name'] = state_grads['District Name'].astype(str).str.replace(r'\\sSd$', '')\n",
    "\n",
    "state_fiscal['NAME'] = state_fiscal['NAME'].astype(str).str.replace(' COUNTY SCHOOLS', '')"
   ]
  },
  {
   "cell_type": "code",
   "execution_count": 33,
   "id": "prescription-developer",
   "metadata": {},
   "outputs": [
    {
     "data": {
      "text/plain": [
       "54"
      ]
     },
     "execution_count": 33,
     "metadata": {},
     "output_type": "execute_result"
    }
   ],
   "source": [
    "matches = [name for name in list(state_grads['District Name']) if name in list(state_fiscal['NAME'])]\n",
    "matches.sort()\n",
    "len(matches)"
   ]
  },
  {
   "cell_type": "code",
   "execution_count": 34,
   "id": "approximate-computer",
   "metadata": {},
   "outputs": [
    {
     "data": {
      "text/plain": [
       "['BOONE', 'STATE TOTAL']"
      ]
     },
     "execution_count": 34,
     "metadata": {},
     "output_type": "execute_result"
    }
   ],
   "source": [
    "A = [name for name in list(state_grads['District Name']) if name not in list(state_fiscal['NAME'])]\n",
    "A.sort()\n",
    "A"
   ]
  },
  {
   "cell_type": "code",
   "execution_count": 35,
   "id": "armed-needle",
   "metadata": {},
   "outputs": [
    {
     "data": {
      "text/plain": [
       "['BOONE COUNTY  SCHOOLS',\n",
       " 'INSTITUTIONAL EDUCATIONAL PROGRAMS',\n",
       " 'WV SCHOOLS FOR THE DEAF AND THE BLIND']"
      ]
     },
     "execution_count": 35,
     "metadata": {},
     "output_type": "execute_result"
    }
   ],
   "source": [
    "B = [name for name in list(state_fiscal['NAME']) if name not in list(state_grads['District Name'])]\n",
    "B.sort()\n",
    "B"
   ]
  },
  {
   "cell_type": "markdown",
   "id": "stylish-resolution",
   "metadata": {},
   "source": [
    "Make any additional matches I can find."
   ]
  },
  {
   "cell_type": "code",
   "execution_count": 22,
   "id": "scientific-brighton",
   "metadata": {},
   "outputs": [],
   "source": [
    "state_fiscal_rename = {\n",
    "    'BOONE COUNTY  SCHOOLS' : 'BOONE'\n",
    "}"
   ]
  },
  {
   "cell_type": "code",
   "execution_count": 23,
   "id": "greatest-surgeon",
   "metadata": {},
   "outputs": [],
   "source": [
    "state_fiscal = state_fiscal.replace(state_fiscal_rename)"
   ]
  },
  {
   "cell_type": "markdown",
   "id": "upper-secretariat",
   "metadata": {},
   "source": [
    "Merge federal and state data, keeping only matches between the two. "
   ]
  },
  {
   "cell_type": "code",
   "execution_count": 24,
   "id": "protected-vietnam",
   "metadata": {},
   "outputs": [],
   "source": [
    "state_grads_merged = pd.merge(state_fiscal, state_grads, how='inner', left_on='NAME', right_on='District Name')"
   ]
  },
  {
   "cell_type": "markdown",
   "id": "systematic-corps",
   "metadata": {},
   "source": [
    "Save cleaned data. "
   ]
  },
  {
   "cell_type": "code",
   "execution_count": 25,
   "id": "neutral-induction",
   "metadata": {},
   "outputs": [],
   "source": [
    "state_grads_merged.to_csv('../../data/state_data_merged/' + abbr + '.csv', index=False)"
   ]
  }
 ],
 "metadata": {
  "kernelspec": {
   "display_name": "Python 3",
   "language": "python",
   "name": "python3"
  },
  "language_info": {
   "codemirror_mode": {
    "name": "ipython",
    "version": 3
   },
   "file_extension": ".py",
   "mimetype": "text/x-python",
   "name": "python",
   "nbconvert_exporter": "python",
   "pygments_lexer": "ipython3",
   "version": "3.7.9"
  }
 },
 "nbformat": 4,
 "nbformat_minor": 5
}
