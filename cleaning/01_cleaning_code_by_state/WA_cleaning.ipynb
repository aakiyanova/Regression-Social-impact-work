{
 "cells": [
  {
   "cell_type": "code",
   "execution_count": 1,
   "id": "another-prior",
   "metadata": {},
   "outputs": [],
   "source": [
    "import warnings\n",
    "warnings.filterwarnings('ignore')"
   ]
  },
  {
   "cell_type": "code",
   "execution_count": 2,
   "id": "limiting-deputy",
   "metadata": {},
   "outputs": [],
   "source": [
    "import pandas as pd\n",
    "import numpy as np"
   ]
  },
  {
   "cell_type": "code",
   "execution_count": 3,
   "id": "occasional-rating",
   "metadata": {},
   "outputs": [],
   "source": [
    "abbr = 'WA'"
   ]
  },
  {
   "cell_type": "code",
   "execution_count": 4,
   "id": "precise-illinois",
   "metadata": {},
   "outputs": [],
   "source": [
    "file = 'washington2018.csv'"
   ]
  },
  {
   "cell_type": "markdown",
   "id": "played-casino",
   "metadata": {},
   "source": [
    "Read in federal level data"
   ]
  },
  {
   "cell_type": "code",
   "execution_count": 5,
   "id": "automotive-editing",
   "metadata": {},
   "outputs": [],
   "source": [
    "fiscal = pd.read_sas('../../data/fiscal2018', format = 'sas7bdat', encoding='iso-8859-1')"
   ]
  },
  {
   "cell_type": "markdown",
   "id": "compound-teacher",
   "metadata": {},
   "source": [
    "Generate list of districts in the state in the federal data"
   ]
  },
  {
   "cell_type": "code",
   "execution_count": 6,
   "id": "clean-smooth",
   "metadata": {},
   "outputs": [],
   "source": [
    "state_fiscal = fiscal[(fiscal['STABBR'] == abbr) & (fiscal['GSHI'] == '12')]"
   ]
  },
  {
   "cell_type": "code",
   "execution_count": 7,
   "id": "monetary-blackjack",
   "metadata": {},
   "outputs": [
    {
     "data": {
      "text/plain": [
       "257"
      ]
     },
     "execution_count": 7,
     "metadata": {},
     "output_type": "execute_result"
    }
   ],
   "source": [
    "len(state_fiscal)"
   ]
  },
  {
   "cell_type": "code",
   "execution_count": 9,
   "id": "choice-motorcycle",
   "metadata": {},
   "outputs": [
    {
     "data": {
      "text/html": [
       "<div>\n",
       "<style scoped>\n",
       "    .dataframe tbody tr th:only-of-type {\n",
       "        vertical-align: middle;\n",
       "    }\n",
       "\n",
       "    .dataframe tbody tr th {\n",
       "        vertical-align: top;\n",
       "    }\n",
       "\n",
       "    .dataframe thead th {\n",
       "        text-align: right;\n",
       "    }\n",
       "</style>\n",
       "<table border=\"1\" class=\"dataframe\">\n",
       "  <thead>\n",
       "    <tr style=\"text-align: right;\">\n",
       "      <th></th>\n",
       "      <th>LEAID</th>\n",
       "      <th>CENSUSID</th>\n",
       "      <th>FIPST</th>\n",
       "      <th>CONUM</th>\n",
       "      <th>CSA</th>\n",
       "      <th>CBSA</th>\n",
       "      <th>NAME</th>\n",
       "      <th>STNAME</th>\n",
       "      <th>STABBR</th>\n",
       "      <th>SCHLEV</th>\n",
       "      <th>...</th>\n",
       "      <th>FL_66V</th>\n",
       "      <th>FL_W01</th>\n",
       "      <th>FL_W31</th>\n",
       "      <th>FL_W61</th>\n",
       "      <th>FL_V95</th>\n",
       "      <th>FL_V02</th>\n",
       "      <th>FL_K14</th>\n",
       "      <th>FL_CE1</th>\n",
       "      <th>FL_CE2</th>\n",
       "      <th>FL_CE3</th>\n",
       "    </tr>\n",
       "  </thead>\n",
       "  <tbody>\n",
       "    <tr>\n",
       "      <th>17787</th>\n",
       "      <td>5300001</td>\n",
       "      <td>48501700600000</td>\n",
       "      <td>53</td>\n",
       "      <td>53033</td>\n",
       "      <td>500</td>\n",
       "      <td>42660</td>\n",
       "      <td>Enumclaw School District</td>\n",
       "      <td>Washington</td>\n",
       "      <td>WA</td>\n",
       "      <td>03</td>\n",
       "      <td>...</td>\n",
       "      <td>R</td>\n",
       "      <td>R</td>\n",
       "      <td>R</td>\n",
       "      <td>R</td>\n",
       "      <td>M</td>\n",
       "      <td>M</td>\n",
       "      <td>M</td>\n",
       "      <td>R</td>\n",
       "      <td>R</td>\n",
       "      <td>M</td>\n",
       "    </tr>\n",
       "    <tr>\n",
       "      <th>17788</th>\n",
       "      <td>5300002</td>\n",
       "      <td>48501000300000</td>\n",
       "      <td>53</td>\n",
       "      <td>53019</td>\n",
       "      <td>N</td>\n",
       "      <td>N</td>\n",
       "      <td>Inchelium School District</td>\n",
       "      <td>Washington</td>\n",
       "      <td>WA</td>\n",
       "      <td>03</td>\n",
       "      <td>...</td>\n",
       "      <td>R</td>\n",
       "      <td>R</td>\n",
       "      <td>R</td>\n",
       "      <td>R</td>\n",
       "      <td>M</td>\n",
       "      <td>M</td>\n",
       "      <td>M</td>\n",
       "      <td>R</td>\n",
       "      <td>R</td>\n",
       "      <td>M</td>\n",
       "    </tr>\n",
       "    <tr>\n",
       "      <th>17789</th>\n",
       "      <td>5300003</td>\n",
       "      <td>48500800500000</td>\n",
       "      <td>53</td>\n",
       "      <td>53015</td>\n",
       "      <td>440</td>\n",
       "      <td>31020</td>\n",
       "      <td>Kelso School District</td>\n",
       "      <td>Washington</td>\n",
       "      <td>WA</td>\n",
       "      <td>03</td>\n",
       "      <td>...</td>\n",
       "      <td>R</td>\n",
       "      <td>R</td>\n",
       "      <td>R</td>\n",
       "      <td>R</td>\n",
       "      <td>M</td>\n",
       "      <td>M</td>\n",
       "      <td>M</td>\n",
       "      <td>R</td>\n",
       "      <td>R</td>\n",
       "      <td>M</td>\n",
       "    </tr>\n",
       "    <tr>\n",
       "      <th>17791</th>\n",
       "      <td>5300005</td>\n",
       "      <td>48500620100000</td>\n",
       "      <td>53</td>\n",
       "      <td>53011</td>\n",
       "      <td>440</td>\n",
       "      <td>38900</td>\n",
       "      <td>Educational Service District 112</td>\n",
       "      <td>Washington</td>\n",
       "      <td>WA</td>\n",
       "      <td>07</td>\n",
       "      <td>...</td>\n",
       "      <td>R</td>\n",
       "      <td>R</td>\n",
       "      <td>R</td>\n",
       "      <td>R</td>\n",
       "      <td>M</td>\n",
       "      <td>M</td>\n",
       "      <td>M</td>\n",
       "      <td>R</td>\n",
       "      <td>R</td>\n",
       "      <td>M</td>\n",
       "    </tr>\n",
       "    <tr>\n",
       "      <th>17793</th>\n",
       "      <td>5300007</td>\n",
       "      <td>48501820100000</td>\n",
       "      <td>53</td>\n",
       "      <td>53035</td>\n",
       "      <td>500</td>\n",
       "      <td>14740</td>\n",
       "      <td>Olympic Educational Service District 114</td>\n",
       "      <td>Washington</td>\n",
       "      <td>WA</td>\n",
       "      <td>07</td>\n",
       "      <td>...</td>\n",
       "      <td>R</td>\n",
       "      <td>R</td>\n",
       "      <td>R</td>\n",
       "      <td>R</td>\n",
       "      <td>M</td>\n",
       "      <td>M</td>\n",
       "      <td>M</td>\n",
       "      <td>R</td>\n",
       "      <td>R</td>\n",
       "      <td>M</td>\n",
       "    </tr>\n",
       "  </tbody>\n",
       "</table>\n",
       "<p>5 rows × 262 columns</p>\n",
       "</div>"
      ],
      "text/plain": [
       "         LEAID        CENSUSID FIPST  CONUM  CSA   CBSA  \\\n",
       "17787  5300001  48501700600000    53  53033  500  42660   \n",
       "17788  5300002  48501000300000    53  53019    N      N   \n",
       "17789  5300003  48500800500000    53  53015  440  31020   \n",
       "17791  5300005  48500620100000    53  53011  440  38900   \n",
       "17793  5300007  48501820100000    53  53035  500  14740   \n",
       "\n",
       "                                           NAME      STNAME STABBR SCHLEV  \\\n",
       "17787                  Enumclaw School District  Washington     WA     03   \n",
       "17788                 Inchelium School District  Washington     WA     03   \n",
       "17789                     Kelso School District  Washington     WA     03   \n",
       "17791          Educational Service District 112  Washington     WA     07   \n",
       "17793  Olympic Educational Service District 114  Washington     WA     07   \n",
       "\n",
       "       ... FL_66V FL_W01 FL_W31 FL_W61 FL_V95 FL_V02  FL_K14  FL_CE1  FL_CE2  \\\n",
       "17787  ...      R      R      R      R      M      M       M       R       R   \n",
       "17788  ...      R      R      R      R      M      M       M       R       R   \n",
       "17789  ...      R      R      R      R      M      M       M       R       R   \n",
       "17791  ...      R      R      R      R      M      M       M       R       R   \n",
       "17793  ...      R      R      R      R      M      M       M       R       R   \n",
       "\n",
       "       FL_CE3  \n",
       "17787       M  \n",
       "17788       M  \n",
       "17789       M  \n",
       "17791       M  \n",
       "17793       M  \n",
       "\n",
       "[5 rows x 262 columns]"
      ]
     },
     "execution_count": 9,
     "metadata": {},
     "output_type": "execute_result"
    }
   ],
   "source": [
    "state_fiscal.head()"
   ]
  },
  {
   "cell_type": "markdown",
   "id": "comparable-roommate",
   "metadata": {},
   "source": [
    "Read in state level data"
   ]
  },
  {
   "cell_type": "code",
   "execution_count": 10,
   "id": "italian-telephone",
   "metadata": {},
   "outputs": [],
   "source": [
    "state_grads = pd.read_csv('../../data/state_data_raw/' + file)"
   ]
  },
  {
   "cell_type": "code",
   "execution_count": 11,
   "id": "young-stretch",
   "metadata": {},
   "outputs": [
    {
     "data": {
      "text/html": [
       "<div>\n",
       "<style scoped>\n",
       "    .dataframe tbody tr th:only-of-type {\n",
       "        vertical-align: middle;\n",
       "    }\n",
       "\n",
       "    .dataframe tbody tr th {\n",
       "        vertical-align: top;\n",
       "    }\n",
       "\n",
       "    .dataframe thead th {\n",
       "        text-align: right;\n",
       "    }\n",
       "</style>\n",
       "<table border=\"1\" class=\"dataframe\">\n",
       "  <thead>\n",
       "    <tr style=\"text-align: right;\">\n",
       "      <th></th>\n",
       "      <th>SchoolYear</th>\n",
       "      <th>OrganizationLevel</th>\n",
       "      <th>County</th>\n",
       "      <th>ESDName</th>\n",
       "      <th>ESDOrganizationId</th>\n",
       "      <th>DistrictCode</th>\n",
       "      <th>DistrictName</th>\n",
       "      <th>DistrictOrganizationId</th>\n",
       "      <th>SchoolCode</th>\n",
       "      <th>SchoolName</th>\n",
       "      <th>...</th>\n",
       "      <th>Year5Dropout</th>\n",
       "      <th>Year6Dropout</th>\n",
       "      <th>Year7Dropout</th>\n",
       "      <th>TransferOut</th>\n",
       "      <th>FinalCohort</th>\n",
       "      <th>Graduate</th>\n",
       "      <th>Continuing</th>\n",
       "      <th>Dropout</th>\n",
       "      <th>GraduationRate</th>\n",
       "      <th>DataAsOf</th>\n",
       "    </tr>\n",
       "  </thead>\n",
       "  <tbody>\n",
       "    <tr>\n",
       "      <th>0</th>\n",
       "      <td>2018</td>\n",
       "      <td>County</td>\n",
       "      <td>Stevens</td>\n",
       "      <td>NaN</td>\n",
       "      <td>0.0</td>\n",
       "      <td>NaN</td>\n",
       "      <td>NaN</td>\n",
       "      <td>0.0</td>\n",
       "      <td>NaN</td>\n",
       "      <td>NaN</td>\n",
       "      <td>...</td>\n",
       "      <td>NaN</td>\n",
       "      <td>NaN</td>\n",
       "      <td>NaN</td>\n",
       "      <td>NaN</td>\n",
       "      <td>NaN</td>\n",
       "      <td>NaN</td>\n",
       "      <td>NaN</td>\n",
       "      <td>NaN</td>\n",
       "      <td>NaN</td>\n",
       "      <td>12/14/2020 12:00:00 AM</td>\n",
       "    </tr>\n",
       "    <tr>\n",
       "      <th>1</th>\n",
       "      <td>2018</td>\n",
       "      <td>County</td>\n",
       "      <td>Wahkiakum</td>\n",
       "      <td>NaN</td>\n",
       "      <td>0.0</td>\n",
       "      <td>NaN</td>\n",
       "      <td>NaN</td>\n",
       "      <td>0.0</td>\n",
       "      <td>NaN</td>\n",
       "      <td>NaN</td>\n",
       "      <td>...</td>\n",
       "      <td>NaN</td>\n",
       "      <td>NaN</td>\n",
       "      <td>NaN</td>\n",
       "      <td>NaN</td>\n",
       "      <td>NaN</td>\n",
       "      <td>NaN</td>\n",
       "      <td>NaN</td>\n",
       "      <td>NaN</td>\n",
       "      <td>NaN</td>\n",
       "      <td>12/14/2020 12:00:00 AM</td>\n",
       "    </tr>\n",
       "    <tr>\n",
       "      <th>2</th>\n",
       "      <td>2018</td>\n",
       "      <td>County</td>\n",
       "      <td>Walla Walla</td>\n",
       "      <td>NaN</td>\n",
       "      <td>0.0</td>\n",
       "      <td>NaN</td>\n",
       "      <td>NaN</td>\n",
       "      <td>0.0</td>\n",
       "      <td>NaN</td>\n",
       "      <td>NaN</td>\n",
       "      <td>...</td>\n",
       "      <td>NaN</td>\n",
       "      <td>NaN</td>\n",
       "      <td>NaN</td>\n",
       "      <td>NaN</td>\n",
       "      <td>NaN</td>\n",
       "      <td>NaN</td>\n",
       "      <td>NaN</td>\n",
       "      <td>NaN</td>\n",
       "      <td>NaN</td>\n",
       "      <td>12/14/2020 12:00:00 AM</td>\n",
       "    </tr>\n",
       "    <tr>\n",
       "      <th>3</th>\n",
       "      <td>2018</td>\n",
       "      <td>County</td>\n",
       "      <td>Whitman</td>\n",
       "      <td>NaN</td>\n",
       "      <td>0.0</td>\n",
       "      <td>NaN</td>\n",
       "      <td>NaN</td>\n",
       "      <td>0.0</td>\n",
       "      <td>NaN</td>\n",
       "      <td>NaN</td>\n",
       "      <td>...</td>\n",
       "      <td>NaN</td>\n",
       "      <td>NaN</td>\n",
       "      <td>NaN</td>\n",
       "      <td>NaN</td>\n",
       "      <td>NaN</td>\n",
       "      <td>NaN</td>\n",
       "      <td>NaN</td>\n",
       "      <td>NaN</td>\n",
       "      <td>NaN</td>\n",
       "      <td>12/14/2020 12:00:00 AM</td>\n",
       "    </tr>\n",
       "    <tr>\n",
       "      <th>4</th>\n",
       "      <td>2018</td>\n",
       "      <td>County</td>\n",
       "      <td>Columbia</td>\n",
       "      <td>NaN</td>\n",
       "      <td>0.0</td>\n",
       "      <td>NaN</td>\n",
       "      <td>NaN</td>\n",
       "      <td>0.0</td>\n",
       "      <td>NaN</td>\n",
       "      <td>NaN</td>\n",
       "      <td>...</td>\n",
       "      <td>NaN</td>\n",
       "      <td>NaN</td>\n",
       "      <td>NaN</td>\n",
       "      <td>3.0</td>\n",
       "      <td>0.0</td>\n",
       "      <td>0.0</td>\n",
       "      <td>0.0</td>\n",
       "      <td>0.0</td>\n",
       "      <td>NaN</td>\n",
       "      <td>12/14/2020 12:00:00 AM</td>\n",
       "    </tr>\n",
       "  </tbody>\n",
       "</table>\n",
       "<p>5 rows × 31 columns</p>\n",
       "</div>"
      ],
      "text/plain": [
       "   SchoolYear OrganizationLevel       County ESDName  ESDOrganizationId  \\\n",
       "0        2018            County      Stevens     NaN                0.0   \n",
       "1        2018            County    Wahkiakum     NaN                0.0   \n",
       "2        2018            County  Walla Walla     NaN                0.0   \n",
       "3        2018            County      Whitman     NaN                0.0   \n",
       "4        2018            County     Columbia     NaN                0.0   \n",
       "\n",
       "   DistrictCode DistrictName  DistrictOrganizationId  SchoolCode SchoolName  \\\n",
       "0           NaN          NaN                     0.0         NaN        NaN   \n",
       "1           NaN          NaN                     0.0         NaN        NaN   \n",
       "2           NaN          NaN                     0.0         NaN        NaN   \n",
       "3           NaN          NaN                     0.0         NaN        NaN   \n",
       "4           NaN          NaN                     0.0         NaN        NaN   \n",
       "\n",
       "   ...  Year5Dropout Year6Dropout Year7Dropout TransferOut FinalCohort  \\\n",
       "0  ...           NaN          NaN          NaN         NaN         NaN   \n",
       "1  ...           NaN          NaN          NaN         NaN         NaN   \n",
       "2  ...           NaN          NaN          NaN         NaN         NaN   \n",
       "3  ...           NaN          NaN          NaN         NaN         NaN   \n",
       "4  ...           NaN          NaN          NaN         3.0         0.0   \n",
       "\n",
       "   Graduate  Continuing  Dropout  GraduationRate                DataAsOf  \n",
       "0       NaN         NaN      NaN             NaN  12/14/2020 12:00:00 AM  \n",
       "1       NaN         NaN      NaN             NaN  12/14/2020 12:00:00 AM  \n",
       "2       NaN         NaN      NaN             NaN  12/14/2020 12:00:00 AM  \n",
       "3       NaN         NaN      NaN             NaN  12/14/2020 12:00:00 AM  \n",
       "4       0.0         0.0      0.0             NaN  12/14/2020 12:00:00 AM  \n",
       "\n",
       "[5 rows x 31 columns]"
      ]
     },
     "execution_count": 11,
     "metadata": {},
     "output_type": "execute_result"
    }
   ],
   "source": [
    "state_grads.head()"
   ]
  },
  {
   "cell_type": "markdown",
   "id": "italian-attachment",
   "metadata": {},
   "source": [
    "Reset columns."
   ]
  },
  {
   "cell_type": "markdown",
   "id": "focal-stomach",
   "metadata": {},
   "source": [
    "Filter results."
   ]
  },
  {
   "cell_type": "code",
   "execution_count": 12,
   "id": "behind-postage",
   "metadata": {},
   "outputs": [],
   "source": [
    "state_grads = state_grads[(state_grads['OrganizationLevel'] == 'District') &\n",
    "                         (state_grads['StudentGroup'] == 'All Students') &\n",
    "                         (state_grads['Cohort'] == 'Four Year')]"
   ]
  },
  {
   "cell_type": "markdown",
   "id": "three-glass",
   "metadata": {},
   "source": [
    "Select and rename columns."
   ]
  },
  {
   "cell_type": "code",
   "execution_count": 15,
   "id": "meaningful-completion",
   "metadata": {},
   "outputs": [],
   "source": [
    "state_grads = state_grads[['DistrictName', \n",
    "                           'FinalCohort',\n",
    "                           'GraduationRate']]"
   ]
  },
  {
   "cell_type": "code",
   "execution_count": 16,
   "id": "helpful-restoration",
   "metadata": {},
   "outputs": [],
   "source": [
    "state_grads.columns = ['District Name', 'Total', 'Graduation Rate']"
   ]
  },
  {
   "cell_type": "code",
   "execution_count": 17,
   "id": "antique-orlando",
   "metadata": {},
   "outputs": [
    {
     "name": "stdout",
     "output_type": "stream",
     "text": [
      "<class 'pandas.core.frame.DataFrame'>\n",
      "Int64Index: 254 entries, 45827 to 77766\n",
      "Data columns (total 3 columns):\n",
      " #   Column           Non-Null Count  Dtype  \n",
      "---  ------           --------------  -----  \n",
      " 0   District Name    254 non-null    object \n",
      " 1   Total            201 non-null    float64\n",
      " 2   Graduation Rate  200 non-null    float64\n",
      "dtypes: float64(2), object(1)\n",
      "memory usage: 7.9+ KB\n"
     ]
    }
   ],
   "source": [
    "state_grads.info()"
   ]
  },
  {
   "cell_type": "markdown",
   "id": "potential-curtis",
   "metadata": {},
   "source": [
    "Convert data types."
   ]
  },
  {
   "cell_type": "code",
   "execution_count": 17,
   "id": "based-mission",
   "metadata": {},
   "outputs": [],
   "source": [
    "# state_grads['Total'] = state_grads['Total'].astype(str).str.replace('<', '')\n",
    "# state_grads['Graduation Rate'] = state_grads['Graduation Rate'].astype(str).str.replace('<', '')"
   ]
  },
  {
   "cell_type": "code",
   "execution_count": 18,
   "id": "august-drinking",
   "metadata": {},
   "outputs": [],
   "source": [
    "# state_grads['Total'] = pd.to_numeric(state_grads['Total'])\n",
    "# state_grads['Graduation Rate'] = pd.to_numeric(state_grads['Graduation Rate']) / 100"
   ]
  },
  {
   "cell_type": "markdown",
   "id": "brave-creek",
   "metadata": {},
   "source": [
    "Check for matches and non-matches in the two lists. "
   ]
  },
  {
   "cell_type": "code",
   "execution_count": 19,
   "id": "compressed-nursery",
   "metadata": {},
   "outputs": [],
   "source": [
    "state_fiscal['NAME'] = state_fiscal['NAME'].astype(str).str.upper().str.strip()\n",
    "state_grads['District Name'] = state_grads['District Name'].astype(str).str.upper().str.strip()"
   ]
  },
  {
   "cell_type": "code",
   "execution_count": 20,
   "id": "juvenile-chile",
   "metadata": {},
   "outputs": [],
   "source": [
    "# state_grads['District Name'] = state_grads['District Name'].astype(str).str.replace(r'\\sSu$', '')\n",
    "# state_grads['District Name'] = state_grads['District Name'].astype(str).str.replace(r'\\sSd$', '')\n",
    "\n",
    "state_fiscal['NAME'] = state_fiscal['NAME'].astype(str).str.replace(' CO PBLC SCHS', ' COUNTY')\n",
    "state_fiscal['NAME'] = state_fiscal['NAME'].astype(str).str.replace(' CITY PBLC SCHS', ' CITY')\n",
    "state_fiscal['NAME'] = state_fiscal['NAME'].astype(str).str.replace(' CTY PBLC SCHS', ' CITY')\n",
    "state_fiscal['NAME'] = state_fiscal['NAME'].astype(str).str.replace(' PBLC SCHS', ' CITY')"
   ]
  },
  {
   "cell_type": "code",
   "execution_count": 22,
   "id": "instrumental-romantic",
   "metadata": {},
   "outputs": [
    {
     "data": {
      "text/plain": [
       "240"
      ]
     },
     "execution_count": 22,
     "metadata": {},
     "output_type": "execute_result"
    }
   ],
   "source": [
    "matches = [name for name in list(state_grads['District Name']) if name in list(state_fiscal['NAME'])]\n",
    "matches.sort()\n",
    "len(matches)"
   ]
  },
  {
   "cell_type": "code",
   "execution_count": 20,
   "id": "pending-powder",
   "metadata": {},
   "outputs": [
    {
     "data": {
      "text/plain": [
       "['Bellevue School District',\n",
       " 'Central Valley School District',\n",
       " 'Clarkston School District',\n",
       " 'ESD 101 acting as a school district',\n",
       " 'Highline School District',\n",
       " 'Lummi Tribal Agency',\n",
       " 'Marysville School District',\n",
       " 'Moses Lake School District',\n",
       " 'Muckleshoot Indian Tribe',\n",
       " 'North Beach School District No. 64',\n",
       " 'Orchard Prairie School District',\n",
       " 'Quileute Tribal School District',\n",
       " 'Seattle School District No. 1',\n",
       " 'Wellpinit School District #49']"
      ]
     },
     "execution_count": 20,
     "metadata": {},
     "output_type": "execute_result"
    }
   ],
   "source": [
    "A = [name for name in list(state_grads['District Name']) if name not in list(state_fiscal['NAME'])]\n",
    "A.sort()\n",
    "A"
   ]
  },
  {
   "cell_type": "code",
   "execution_count": 21,
   "id": "hispanic-alcohol",
   "metadata": {},
   "outputs": [
    {
     "data": {
      "text/plain": [
       "['Centralia College',\n",
       " 'Clover Park Technical College',\n",
       " 'ESA 112',\n",
       " 'Educational Service District 101',\n",
       " 'Educational Service District 112',\n",
       " 'Educational Service District 123',\n",
       " 'Lake Washington Institute of Technology',\n",
       " 'North Beach School District',\n",
       " 'Northwest Educational Service District 189',\n",
       " 'Olympic Educational Service District 114',\n",
       " 'PRIDE Prep Charter School District',\n",
       " 'Seattle Public Schools',\n",
       " 'Valley School District',\n",
       " 'WA State Center for Childhood Deafness and Hearing Loss',\n",
       " 'Washington Military Department',\n",
       " 'Wellpinit School District',\n",
       " 'Wilson Creek School District']"
      ]
     },
     "execution_count": 21,
     "metadata": {},
     "output_type": "execute_result"
    }
   ],
   "source": [
    "B = [name for name in list(state_fiscal['NAME']) if name not in list(state_grads['District Name'])]\n",
    "B.sort()\n",
    "B"
   ]
  },
  {
   "cell_type": "markdown",
   "id": "greek-champagne",
   "metadata": {},
   "source": [
    "Make any additional matches I can find."
   ]
  },
  {
   "cell_type": "code",
   "execution_count": 23,
   "id": "addressed-evanescence",
   "metadata": {},
   "outputs": [],
   "source": [
    "state_fiscal_rename = {\n",
    "    'Educational Service District 101' : 'ESD 101 acting as a school district',\n",
    "    'North Beach School District' : 'North Beach School District No. 64',\n",
    "    'Seattle Public Schools' : 'Seattle School District No. 1',\n",
    "    'Wellpinit School District' : 'Wellpinit School District #49'\n",
    "}"
   ]
  },
  {
   "cell_type": "code",
   "execution_count": 24,
   "id": "planned-morgan",
   "metadata": {},
   "outputs": [],
   "source": [
    "state_fiscal = state_fiscal.replace(state_fiscal_rename)"
   ]
  },
  {
   "cell_type": "markdown",
   "id": "suburban-moscow",
   "metadata": {},
   "source": [
    "Merge federal and state data, keeping only matches between the two. "
   ]
  },
  {
   "cell_type": "code",
   "execution_count": 25,
   "id": "surprised-niagara",
   "metadata": {},
   "outputs": [],
   "source": [
    "state_grads_merged = pd.merge(state_fiscal, state_grads, how='inner', left_on='NAME', right_on='District Name')"
   ]
  },
  {
   "cell_type": "code",
   "execution_count": null,
   "id": "parliamentary-fortune",
   "metadata": {},
   "outputs": [],
   "source": [
    "state_grads_merged"
   ]
  },
  {
   "cell_type": "markdown",
   "id": "blond-lighting",
   "metadata": {},
   "source": [
    "Save cleaned data. "
   ]
  },
  {
   "cell_type": "code",
   "execution_count": 27,
   "id": "designing-rates",
   "metadata": {},
   "outputs": [],
   "source": [
    "state_grads_merged.to_csv('../../data/state_data_merged/' + abbr + '.csv', index=False)"
   ]
  }
 ],
 "metadata": {
  "kernelspec": {
   "display_name": "Python 3",
   "language": "python",
   "name": "python3"
  },
  "language_info": {
   "codemirror_mode": {
    "name": "ipython",
    "version": 3
   },
   "file_extension": ".py",
   "mimetype": "text/x-python",
   "name": "python",
   "nbconvert_exporter": "python",
   "pygments_lexer": "ipython3",
   "version": "3.7.9"
  }
 },
 "nbformat": 4,
 "nbformat_minor": 5
}
