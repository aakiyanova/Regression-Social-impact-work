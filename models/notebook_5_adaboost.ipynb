{
 "cells": [
  {
   "cell_type": "markdown",
   "id": "failing-convergence",
   "metadata": {},
   "source": [
    "## Model and Feature Selection"
   ]
  },
  {
   "cell_type": "markdown",
   "id": "quality-integral",
   "metadata": {},
   "source": [
    "### Notebook Contents:\n",
    "\n",
    "- [Reading in the Data](#reading5)\n",
    "- [Defining X and y](#features5)\n",
    "- [AdaBoost Regressor](#ada)"
   ]
  },
  {
   "cell_type": "code",
   "execution_count": 3,
   "id": "demanding-transsexual",
   "metadata": {},
   "outputs": [],
   "source": [
    "# imports\n",
    "import pandas as pd\n",
    "import numpy as np\n",
    "import seaborn as sns\n",
    "import matplotlib.pyplot as plt\n",
    "\n",
    "from sklearn.pipeline import make_pipeline\n",
    "from sklearn.feature_selection import RFE\n",
    "from sklearn.preprocessing import StandardScaler\n",
    "from sklearn.model_selection import train_test_split, cross_val_score, GridSearchCV\n",
    "from sklearn.svm import SVR\n",
    "from sklearn.ensemble import RandomForestRegressor, GradientBoostingRegressor, AdaBoostRegressor, BaggingRegressor\n",
    "\n",
    "from sklearn.metrics import mean_squared_error, r2_score"
   ]
  },
  {
   "cell_type": "markdown",
   "id": "protected-genome",
   "metadata": {},
   "source": [
    "<a class=\"anchor\" id=\"reading5\"></a>"
   ]
  },
  {
   "cell_type": "markdown",
   "id": "immune-bishop",
   "metadata": {},
   "source": [
    "### Reading in the Data"
   ]
  },
  {
   "cell_type": "code",
   "execution_count": null,
   "id": "generous-maple",
   "metadata": {},
   "outputs": [],
   "source": [
    "# read the csv file with log scaled data\n",
    "df = pd.read_csv('data/log_per_student.csv')"
   ]
  },
  {
   "cell_type": "code",
   "execution_count": 32,
   "id": "found-sharing",
   "metadata": {},
   "outputs": [
    {
     "data": {
      "text/html": [
       "<div>\n",
       "<style scoped>\n",
       "    .dataframe tbody tr th:only-of-type {\n",
       "        vertical-align: middle;\n",
       "    }\n",
       "\n",
       "    .dataframe tbody tr th {\n",
       "        vertical-align: top;\n",
       "    }\n",
       "\n",
       "    .dataframe thead th {\n",
       "        text-align: right;\n",
       "    }\n",
       "</style>\n",
       "<table border=\"1\" class=\"dataframe\">\n",
       "  <thead>\n",
       "    <tr style=\"text-align: right;\">\n",
       "      <th></th>\n",
       "      <th>leaid</th>\n",
       "      <th>name</th>\n",
       "      <th>stabbr</th>\n",
       "      <th>agchrt</th>\n",
       "      <th>v33</th>\n",
       "      <th>totalrev</th>\n",
       "      <th>tfedrev</th>\n",
       "      <th>c14</th>\n",
       "      <th>c15</th>\n",
       "      <th>c16</th>\n",
       "      <th>...</th>\n",
       "      <th>w01</th>\n",
       "      <th>w31</th>\n",
       "      <th>w61</th>\n",
       "      <th>v95</th>\n",
       "      <th>v02</th>\n",
       "      <th>k14</th>\n",
       "      <th>ce1</th>\n",
       "      <th>ce2</th>\n",
       "      <th>ce3</th>\n",
       "      <th>graduation rate</th>\n",
       "    </tr>\n",
       "  </thead>\n",
       "  <tbody>\n",
       "    <tr>\n",
       "      <th>0</th>\n",
       "      <td>&lt;&lt;&lt;&lt;&lt;&lt;&lt; HEAD</td>\n",
       "      <td>NaN</td>\n",
       "      <td>NaN</td>\n",
       "      <td>NaN</td>\n",
       "      <td>NaN</td>\n",
       "      <td>NaN</td>\n",
       "      <td>NaN</td>\n",
       "      <td>NaN</td>\n",
       "      <td>NaN</td>\n",
       "      <td>NaN</td>\n",
       "      <td>...</td>\n",
       "      <td>NaN</td>\n",
       "      <td>NaN</td>\n",
       "      <td>NaN</td>\n",
       "      <td>NaN</td>\n",
       "      <td>NaN</td>\n",
       "      <td>NaN</td>\n",
       "      <td>NaN</td>\n",
       "      <td>NaN</td>\n",
       "      <td>NaN</td>\n",
       "      <td>NaN</td>\n",
       "    </tr>\n",
       "    <tr>\n",
       "      <th>1</th>\n",
       "      <td>2700001</td>\n",
       "      <td>MOUNTAIN IRON-BUHL</td>\n",
       "      <td>MN</td>\n",
       "      <td>3.0</td>\n",
       "      <td>507.0</td>\n",
       "      <td>9.684527</td>\n",
       "      <td>6.770554</td>\n",
       "      <td>5.84403</td>\n",
       "      <td>0.0</td>\n",
       "      <td>3.244194</td>\n",
       "      <td>...</td>\n",
       "      <td>6.04522</td>\n",
       "      <td>0.0</td>\n",
       "      <td>10.269527</td>\n",
       "      <td>5.972549</td>\n",
       "      <td>4.529392</td>\n",
       "      <td>5.201033</td>\n",
       "      <td>0.0</td>\n",
       "      <td>0.0</td>\n",
       "      <td>0.0</td>\n",
       "      <td>0.9355</td>\n",
       "    </tr>\n",
       "  </tbody>\n",
       "</table>\n",
       "<p>2 rows × 131 columns</p>\n",
       "</div>"
      ],
      "text/plain": [
       "          leaid                name stabbr  agchrt    v33  totalrev   tfedrev  \\\n",
       "0  <<<<<<< HEAD                 NaN    NaN     NaN    NaN       NaN       NaN   \n",
       "1       2700001  MOUNTAIN IRON-BUHL     MN     3.0  507.0  9.684527  6.770554   \n",
       "\n",
       "       c14  c15       c16  ...      w01  w31        w61       v95       v02  \\\n",
       "0      NaN  NaN       NaN  ...      NaN  NaN        NaN       NaN       NaN   \n",
       "1  5.84403  0.0  3.244194  ...  6.04522  0.0  10.269527  5.972549  4.529392   \n",
       "\n",
       "        k14  ce1  ce2  ce3  graduation rate  \n",
       "0       NaN  NaN  NaN  NaN              NaN  \n",
       "1  5.201033  0.0  0.0  0.0           0.9355  \n",
       "\n",
       "[2 rows x 131 columns]"
      ]
     },
     "execution_count": 32,
     "metadata": {},
     "output_type": "execute_result"
    }
   ],
   "source": [
    "df.head(2)"
   ]
  },
  {
   "cell_type": "code",
   "execution_count": 33,
   "id": "promising-workplace",
   "metadata": {},
   "outputs": [],
   "source": [
    "df.columns = df.columns.str.lower() #make column names lower-case"
   ]
  },
  {
   "cell_type": "code",
   "execution_count": 34,
   "id": "pending-plain",
   "metadata": {},
   "outputs": [],
   "source": [
    "df.set_index(df['leaid'], inplace = True) #set leaid column as index"
   ]
  },
  {
   "cell_type": "code",
   "execution_count": 35,
   "id": "minute-collapse",
   "metadata": {},
   "outputs": [],
   "source": [
    "dummies = pd.get_dummies(df['agchrt'], drop_first = True).astype('float64') # dummify agchrt column"
   ]
  },
  {
   "cell_type": "code",
   "execution_count": 36,
   "id": "expressed-austria",
   "metadata": {},
   "outputs": [],
   "source": [
    "df = pd.concat([df, dummies], axis = 1) # add to the dataframe"
   ]
  },
  {
   "cell_type": "code",
   "execution_count": 37,
   "id": "choice-advocacy",
   "metadata": {},
   "outputs": [
    {
     "data": {
      "text/plain": [
       "leaid              0\n",
       "name               3\n",
       "stabbr             3\n",
       "agchrt             3\n",
       "v33                3\n",
       "                  ..\n",
       "ce2                3\n",
       "ce3                3\n",
       "graduation rate    3\n",
       "2.0                0\n",
       "3.0                0\n",
       "Length: 133, dtype: int64"
      ]
     },
     "execution_count": 37,
     "metadata": {},
     "output_type": "execute_result"
    }
   ],
   "source": [
    "df.isnull().sum() # check for null values"
   ]
  },
  {
   "cell_type": "code",
   "execution_count": 38,
   "id": "romantic-retention",
   "metadata": {},
   "outputs": [],
   "source": [
    "df.dropna(axis = 0, inplace = True) #drop null values"
   ]
  },
  {
   "cell_type": "markdown",
   "id": "challenging-thermal",
   "metadata": {},
   "source": [
    "<a class=\"anchor\" id=\"features5\"></a>"
   ]
  },
  {
   "cell_type": "markdown",
   "id": "generous-english",
   "metadata": {},
   "source": [
    "### Define X and y"
   ]
  },
  {
   "cell_type": "code",
   "execution_count": 40,
   "id": "suspended-elizabeth",
   "metadata": {},
   "outputs": [],
   "source": [
    "# numeric X Features (excl stabbr)\n",
    "X = df[[2, 3,'tfedrev', 'tstrev', 'a13', 't06', 'a11', 'u30', 'totalexp', 't40', \n",
    "        'v93', 'z33', 'z35', 'z36', 'z38', 'z37', 'v11', 'v13', 'v17', 'v37', 'v10', 'v12', 'v14', \n",
    "        'v18', 'v24', 'v38', 'w01', 'w31', 'w61', '_19h', '_21f', '_41f', '_61v']]\n",
    "\n",
    "y = df['graduation rate']"
   ]
  },
  {
   "cell_type": "code",
   "execution_count": 41,
   "id": "short-brooks",
   "metadata": {},
   "outputs": [],
   "source": [
    "X_train, X_test, y_train, y_test = train_test_split(X, y) #train test split the variables"
   ]
  },
  {
   "cell_type": "code",
   "execution_count": 42,
   "id": "wrapped-shoulder",
   "metadata": {},
   "outputs": [
    {
     "name": "stdout",
     "output_type": "stream",
     "text": [
      "<class 'pandas.core.frame.DataFrame'>\n",
      "Index: 16848 entries, 4819650 to 3407800\n",
      "Data columns (total 33 columns):\n",
      " #   Column    Non-Null Count  Dtype  \n",
      "---  ------    --------------  -----  \n",
      " 0   2.0       16848 non-null  float64\n",
      " 1   3.0       16848 non-null  float64\n",
      " 2   tfedrev   16848 non-null  float64\n",
      " 3   tstrev    16848 non-null  float64\n",
      " 4   a13       16848 non-null  float64\n",
      " 5   t06       16848 non-null  float64\n",
      " 6   a11       16848 non-null  float64\n",
      " 7   u30       16848 non-null  float64\n",
      " 8   totalexp  16848 non-null  float64\n",
      " 9   t40       16848 non-null  float64\n",
      " 10  v93       16848 non-null  float64\n",
      " 11  z33       16848 non-null  float64\n",
      " 12  z35       16848 non-null  float64\n",
      " 13  z36       16848 non-null  float64\n",
      " 14  z38       16848 non-null  float64\n",
      " 15  z37       16848 non-null  float64\n",
      " 16  v11       16848 non-null  float64\n",
      " 17  v13       16848 non-null  float64\n",
      " 18  v17       16848 non-null  float64\n",
      " 19  v37       16848 non-null  float64\n",
      " 20  v10       16848 non-null  float64\n",
      " 21  v12       16848 non-null  float64\n",
      " 22  v14       16848 non-null  float64\n",
      " 23  v18       16848 non-null  float64\n",
      " 24  v24       16848 non-null  float64\n",
      " 25  v38       16848 non-null  float64\n",
      " 26  w01       16848 non-null  float64\n",
      " 27  w31       16848 non-null  float64\n",
      " 28  w61       16848 non-null  float64\n",
      " 29  _19h      16848 non-null  float64\n",
      " 30  _21f      16848 non-null  float64\n",
      " 31  _41f      16848 non-null  float64\n",
      " 32  _61v      16848 non-null  float64\n",
      "dtypes: float64(33)\n",
      "memory usage: 4.4+ MB\n"
     ]
    }
   ],
   "source": [
    "# data types (the only object is district name column)\n",
    "X_train.info()"
   ]
  },
  {
   "cell_type": "markdown",
   "id": "convinced-trail",
   "metadata": {},
   "source": [
    "<a class=\"anchor\" id=\"ada\"></a>"
   ]
  },
  {
   "cell_type": "markdown",
   "id": "rotary-crazy",
   "metadata": {},
   "source": [
    "### Pipe: StandardScaler / AdaBoostRegressor"
   ]
  },
  {
   "cell_type": "code",
   "execution_count": 45,
   "id": "entire-orchestra",
   "metadata": {},
   "outputs": [],
   "source": [
    "pipe_ada = make_pipeline(StandardScaler(), AdaBoostRegressor())"
   ]
  },
  {
   "cell_type": "code",
   "execution_count": 46,
   "id": "armed-vocabulary",
   "metadata": {},
   "outputs": [
    {
     "data": {
      "text/plain": [
       "Pipeline(steps=[('standardscaler', StandardScaler()),\n",
       "                ('adaboostregressor', AdaBoostRegressor())])"
      ]
     },
     "execution_count": 46,
     "metadata": {},
     "output_type": "execute_result"
    }
   ],
   "source": [
    "pipe_ada.fit(X_train, y_train)"
   ]
  },
  {
   "cell_type": "code",
   "execution_count": 47,
   "id": "american-amino",
   "metadata": {},
   "outputs": [
    {
     "data": {
      "text/plain": [
       "0.2628814706662713"
      ]
     },
     "execution_count": 47,
     "metadata": {},
     "output_type": "execute_result"
    }
   ],
   "source": [
    "pipe_ada.score(X_train, y_train)"
   ]
  },
  {
   "cell_type": "code",
   "execution_count": 48,
   "id": "starting-enough",
   "metadata": {},
   "outputs": [
    {
     "data": {
      "text/plain": [
       "0.11629100290150918"
      ]
     },
     "execution_count": 48,
     "metadata": {},
     "output_type": "execute_result"
    }
   ],
   "source": [
    "pipe_ada.score(X_test, y_test)"
   ]
  },
  {
   "cell_type": "code",
   "execution_count": 49,
   "id": "functional-horse",
   "metadata": {},
   "outputs": [
    {
     "data": {
      "text/plain": [
       "0.11"
      ]
     },
     "execution_count": 49,
     "metadata": {},
     "output_type": "execute_result"
    }
   ],
   "source": [
    "# RMSE\n",
    "round(mean_squared_error(y_test, pipe_ada.predict(X_test), squared = False), 2)"
   ]
  }
 ],
 "metadata": {
  "kernelspec": {
   "display_name": "Python 3",
   "language": "python",
   "name": "python3"
  },
  "language_info": {
   "codemirror_mode": {
    "name": "ipython",
    "version": 3
   },
   "file_extension": ".py",
   "mimetype": "text/x-python",
   "name": "python",
   "nbconvert_exporter": "python",
   "pygments_lexer": "ipython3",
   "version": "3.8.5"
  }
 },
 "nbformat": 4,
 "nbformat_minor": 5
}
